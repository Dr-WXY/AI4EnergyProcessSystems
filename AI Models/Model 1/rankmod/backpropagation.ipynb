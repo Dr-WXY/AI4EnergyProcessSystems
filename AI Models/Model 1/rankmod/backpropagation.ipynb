{
  "nbformat": 4,
  "nbformat_minor": 0,
  "metadata": {
    "colab": {
      "name": "StudentAdmissions.ipynb",
      "version": "0.3.2",
      "provenance": [],
      "include_colab_link": true
    },
    "kernelspec": {
      "display_name": "Python [default]",
      "language": "python",
      "name": "python3"
    }
  },
  "cells": [
    {
      "cell_type": "markdown",
      "metadata": {
        "id": "view-in-github",
        "colab_type": "text"
      },
      "source": [
        "<a href=\"https://colab.research.google.com/github/engrsmukhtar/AI4EnergyProcessSystems/blob/AI4EPS-1/AI%20Models/Model%201/rankmod/backpropagation.ipynb\" target=\"_parent\"><img src=\"https://colab.research.google.com/assets/colab-badge.svg\" alt=\"Open In Colab\"/></a>"
      ]
    },
    {
      "metadata": {
        "id": "ifF0gWwxQxrX",
        "colab_type": "text"
      },
      "cell_type": "markdown",
      "source": [
        "# Predicting Student Admissions with Neural Networks\n",
        "In this notebook, we predict student admissions to graduate school at UCLA based on three pieces of data:\n",
        "- GRE Scores (Test)\n",
        "- GPA Scores (Grades)\n",
        "- Class rank (1-4)\n",
        "\n",
        "The dataset originally came from here: http://www.ats.ucla.edu/\n",
        "\n",
        "## Loading the data\n",
        "To load the data and format it nicely, we will use two very useful packages called Pandas and Numpy. You can read on the documentation here:\n",
        "- https://pandas.pydata.org/pandas-docs/stable/\n",
        "- https://docs.scipy.org/"
      ]
    },
    {
      "metadata": {
        "id": "MsQ9Um9wQxrb",
        "colab_type": "code",
        "outputId": "5cb2744a-0aec-40c1-bd2a-a5f0dc423d03",
        "colab": {
          "base_uri": "https://localhost:8080/",
          "height": 359
        }
      },
      "cell_type": "code",
      "source": [
        "# Importing pandas and numpy\n",
        "import pandas as pd\n",
        "import numpy as np\n",
        "\n",
        "# Reading the csv file into a pandas DataFrame\n",
        "url = \"https://raw.githubusercontent.com/engrsmukhtar/AI4EnergyProcessSystems/AI4EPS-1/AI%20Models/Model%201/student-admissions/Calciner%20-%20Duration-Temperature-CO2-CC.csv\"\n",
        "data = pd.read_csv(url)\n",
        "\n",
        "# Printing out the first 10 rows of our data\n",
        "data[:10]"
      ],
      "execution_count": 0,
      "outputs": [
        {
          "output_type": "execute_result",
          "data": {
            "text/html": [
              "<div>\n",
              "<style scoped>\n",
              "    .dataframe tbody tr th:only-of-type {\n",
              "        vertical-align: middle;\n",
              "    }\n",
              "\n",
              "    .dataframe tbody tr th {\n",
              "        vertical-align: top;\n",
              "    }\n",
              "\n",
              "    .dataframe thead th {\n",
              "        text-align: right;\n",
              "    }\n",
              "</style>\n",
              "<table border=\"1\" class=\"dataframe\">\n",
              "  <thead>\n",
              "    <tr style=\"text-align: right;\">\n",
              "      <th></th>\n",
              "      <th>duration</th>\n",
              "      <th>temperature</th>\n",
              "      <th>co2</th>\n",
              "    </tr>\n",
              "  </thead>\n",
              "  <tbody>\n",
              "    <tr>\n",
              "      <th>0</th>\n",
              "      <td>0.00</td>\n",
              "      <td>630.36</td>\n",
              "      <td>0.398463</td>\n",
              "    </tr>\n",
              "    <tr>\n",
              "      <th>1</th>\n",
              "      <td>1.00</td>\n",
              "      <td>632.75</td>\n",
              "      <td>0.406479</td>\n",
              "    </tr>\n",
              "    <tr>\n",
              "      <th>2</th>\n",
              "      <td>2.00</td>\n",
              "      <td>634.72</td>\n",
              "      <td>0.372648</td>\n",
              "    </tr>\n",
              "    <tr>\n",
              "      <th>3</th>\n",
              "      <td>3.00</td>\n",
              "      <td>636.50</td>\n",
              "      <td>0.358011</td>\n",
              "    </tr>\n",
              "    <tr>\n",
              "      <th>4</th>\n",
              "      <td>4.00</td>\n",
              "      <td>638.22</td>\n",
              "      <td>0.368520</td>\n",
              "    </tr>\n",
              "    <tr>\n",
              "      <th>5</th>\n",
              "      <td>5.00</td>\n",
              "      <td>640.87</td>\n",
              "      <td>0.390545</td>\n",
              "    </tr>\n",
              "    <tr>\n",
              "      <th>6</th>\n",
              "      <td>6.00</td>\n",
              "      <td>646.25</td>\n",
              "      <td>0.461572</td>\n",
              "    </tr>\n",
              "    <tr>\n",
              "      <th>7</th>\n",
              "      <td>7.00</td>\n",
              "      <td>661.58</td>\n",
              "      <td>0.842583</td>\n",
              "    </tr>\n",
              "    <tr>\n",
              "      <th>8</th>\n",
              "      <td>8.01</td>\n",
              "      <td>688.88</td>\n",
              "      <td>2.714227</td>\n",
              "    </tr>\n",
              "    <tr>\n",
              "      <th>9</th>\n",
              "      <td>9.01</td>\n",
              "      <td>711.10</td>\n",
              "      <td>4.844138</td>\n",
              "    </tr>\n",
              "  </tbody>\n",
              "</table>\n",
              "</div>"
            ],
            "text/plain": [
              "   duration  temperature       co2\n",
              "0      0.00       630.36  0.398463\n",
              "1      1.00       632.75  0.406479\n",
              "2      2.00       634.72  0.372648\n",
              "3      3.00       636.50  0.358011\n",
              "4      4.00       638.22  0.368520\n",
              "5      5.00       640.87  0.390545\n",
              "6      6.00       646.25  0.461572\n",
              "7      7.00       661.58  0.842583\n",
              "8      8.01       688.88  2.714227\n",
              "9      9.01       711.10  4.844138"
            ]
          },
          "metadata": {
            "tags": []
          },
          "execution_count": 17
        }
      ]
    },
    {
      "metadata": {
        "id": "IID-Zy_TQxrp",
        "colab_type": "text"
      },
      "cell_type": "markdown",
      "source": [
        "## Plotting the data\n",
        "\n",
        "First let's make a plot of our data to see how it looks. In order to have a 2D plot, let's ingore the rank."
      ]
    },
    {
      "metadata": {
        "id": "CaQ4xHM-Qxrs",
        "colab_type": "code",
        "outputId": "ae6d6171-7eaf-4a9b-c965-6459729d2bec",
        "colab": {
          "base_uri": "https://localhost:8080/",
          "height": 284
        }
      },
      "cell_type": "code",
      "source": [
        "# Importing matplotlib\n",
        "import matplotlib.pyplot as plt\n",
        "%matplotlib inline\n",
        "\n",
        "# Function to help us plot\n",
        "def plot_points(data):\n",
        "    X = np.array(data[[\"duration\",\"temperature\"]])\n",
        "    y = np.array(data[\"co2\"])\n",
        "    admitted = X[np.argwhere(y<=1.0)]\n",
        "    rejected = X[np.argwhere(y>1.0)]\n",
        "    plt.scatter([s[0][0] for s in rejected], [s[0][1] for s in rejected], s = 25, color = 'red', edgecolor = 'k')\n",
        "    plt.scatter([s[0][0] for s in admitted], [s[0][1] for s in admitted], s = 25, color = 'cyan', edgecolor = 'k')\n",
        "    plt.xlabel('Test (duration)')\n",
        "    plt.ylabel('Grades (temperature)')\n",
        "    \n",
        "# Plotting the points\n",
        "plot_points(data)\n",
        "plt.show()"
      ],
      "execution_count": 0,
      "outputs": [
        {
          "output_type": "display_data",
          "data": {
            "image/png": "[encoded data removed]",
            "text/plain": [
              "<Figure size 432x288 with 1 Axes>"
            ]
          },
          "metadata": {
            "tags": []
          }
        }
      ]
    },
    {
      "metadata": {
        "id": "xaayfoliQxr7",
        "colab_type": "text"
      },
      "cell_type": "markdown",
      "source": [
        "Roughly, it looks like the students with high scores in the grades and test passed, while the ones with low scores didn't, but the data is not as nicely separable as we hoped it would. Maybe it would help to take the rank into account? Let's make 4 plots, each one for each rank."
      ]
    },
    {
      "metadata": {
        "id": "bycw82VkQxsF",
        "colab_type": "code",
        "colab": {}
      },
      "cell_type": "code",
      "source": [
        "# Separating the ranks\n",
        "data_rank1 = data[data[\"rank\"]==1]\n",
        "data_rank2 = data[data[\"rank\"]==2]\n",
        "data_rank3 = data[data[\"rank\"]==3]\n",
        "data_rank4 = data[data[\"rank\"]==4]\n",
        "\n",
        "# Plotting the graphs\n",
        "plot_points(data_rank1)\n",
        "plt.title(\"Rank 1\")\n",
        "plt.show()\n",
        "plot_points(data_rank2)\n",
        "plt.title(\"Rank 2\")\n",
        "plt.show()\n",
        "plot_points(data_rank3)\n",
        "plt.title(\"Rank 3\")\n",
        "plt.show()\n",
        "plot_points(data_rank4)\n",
        "plt.title(\"Rank 4\")\n",
        "plt.show()"
      ],
      "execution_count": 0,
      "outputs": []
    },
    {
      "metadata": {
        "id": "qCn8eeEjQxsJ",
        "colab_type": "text"
      },
      "cell_type": "markdown",
      "source": [
        "This looks more promising, as it seems that the lower the rank, the higher the acceptance rate. Let's use the rank as one of our inputs. In order to do this, we should one-hot encode it.\n",
        "\n",
        "## TODO: One-hot encoding the rank\n",
        "Use the `get_dummies` function in pandas in order to one-hot encode the data.\n",
        "\n",
        "Hint: To drop a column, it's suggested that you use `one_hot_data`[.drop( )](https://pandas.pydata.org/pandas-docs/stable/generated/pandas.DataFrame.drop.html)."
      ]
    },
    {
      "metadata": {
        "id": "AmJfRKOWQxsK",
        "colab_type": "code",
        "colab": {}
      },
      "cell_type": "code",
      "source": [
        "## One solution\n",
        "# TODO:  Make dummy variables for rank and concat existing columns\n",
        "one_hot_data = pd.concat([data, pd.get_dummies(data['rank'], prefix='rank')], axis=1)\n",
        "\n",
        "# Drop the previous rank column\n",
        "one_hot_data = one_hot_data.drop('rank', axis=1)\n",
        "\n",
        "# Print the first 10 rows of our data\n",
        "one_hot_data[:10]"
      ],
      "execution_count": 0,
      "outputs": []
    },
    {
      "metadata": {
        "id": "NujWYs8fQxsN",
        "colab_type": "text"
      },
      "cell_type": "markdown",
      "source": [
        "## TODO: Scaling the data\n",
        "The next step is to scale the data. We notice that the range for grades is 1.0-4.0, whereas the range for test scores is roughly 200-800, which is much larger. This means our data is skewed, and that makes it hard for a neural network to handle. Let's fit our two features into a range of 0-1, by dividing the grades by 4.0, and the test score by 800."
      ]
    },
    {
      "metadata": {
        "id": "7U0jU_DyQxsO",
        "colab_type": "code",
        "outputId": "fedc55da-15d3-4070-871b-57d185fdb29b",
        "colab": {
          "base_uri": "https://localhost:8080/",
          "height": 359
        }
      },
      "cell_type": "code",
      "source": [
        "# Making a copy of our data\n",
        "# processed_data = one_hot_data[:]\n",
        "processed_data = pd.concat([data])\n",
        "\n",
        "# TODO: Scale the columns\n",
        "processed_data['duration'] = data['duration']/122.15 #processed_data['duration']/800\n",
        "processed_data['temperature'] = data['temperature']/886.54\n",
        "processed_data['co2'] = data['co2']/37.046161\n",
        "processed_data[:10]\n",
        "\n",
        "# Printing the first 10 rows of our procesed data\n",
        "processed_data[:10]"
      ],
      "execution_count": 0,
      "outputs": [
        {
          "output_type": "execute_result",
          "data": {
            "text/html": [
              "<div>\n",
              "<style scoped>\n",
              "    .dataframe tbody tr th:only-of-type {\n",
              "        vertical-align: middle;\n",
              "    }\n",
              "\n",
              "    .dataframe tbody tr th {\n",
              "        vertical-align: top;\n",
              "    }\n",
              "\n",
              "    .dataframe thead th {\n",
              "        text-align: right;\n",
              "    }\n",
              "</style>\n",
              "<table border=\"1\" class=\"dataframe\">\n",
              "  <thead>\n",
              "    <tr style=\"text-align: right;\">\n",
              "      <th></th>\n",
              "      <th>duration</th>\n",
              "      <th>temperature</th>\n",
              "      <th>co2</th>\n",
              "    </tr>\n",
              "  </thead>\n",
              "  <tbody>\n",
              "    <tr>\n",
              "      <th>0</th>\n",
              "      <td>0.000000</td>\n",
              "      <td>0.711034</td>\n",
              "      <td>0.010756</td>\n",
              "    </tr>\n",
              "    <tr>\n",
              "      <th>1</th>\n",
              "      <td>0.008187</td>\n",
              "      <td>0.713730</td>\n",
              "      <td>0.010972</td>\n",
              "    </tr>\n",
              "    <tr>\n",
              "      <th>2</th>\n",
              "      <td>0.016373</td>\n",
              "      <td>0.715952</td>\n",
              "      <td>0.010059</td>\n",
              "    </tr>\n",
              "    <tr>\n",
              "      <th>3</th>\n",
              "      <td>0.024560</td>\n",
              "      <td>0.717960</td>\n",
              "      <td>0.009664</td>\n",
              "    </tr>\n",
              "    <tr>\n",
              "      <th>4</th>\n",
              "      <td>0.032747</td>\n",
              "      <td>0.719900</td>\n",
              "      <td>0.009948</td>\n",
              "    </tr>\n",
              "    <tr>\n",
              "      <th>5</th>\n",
              "      <td>0.040933</td>\n",
              "      <td>0.722889</td>\n",
              "      <td>0.010542</td>\n",
              "    </tr>\n",
              "    <tr>\n",
              "      <th>6</th>\n",
              "      <td>0.049120</td>\n",
              "      <td>0.728958</td>\n",
              "      <td>0.012459</td>\n",
              "    </tr>\n",
              "    <tr>\n",
              "      <th>7</th>\n",
              "      <td>0.057307</td>\n",
              "      <td>0.746249</td>\n",
              "      <td>0.022744</td>\n",
              "    </tr>\n",
              "    <tr>\n",
              "      <th>8</th>\n",
              "      <td>0.065575</td>\n",
              "      <td>0.777043</td>\n",
              "      <td>0.073266</td>\n",
              "    </tr>\n",
              "    <tr>\n",
              "      <th>9</th>\n",
              "      <td>0.073762</td>\n",
              "      <td>0.802107</td>\n",
              "      <td>0.130760</td>\n",
              "    </tr>\n",
              "  </tbody>\n",
              "</table>\n",
              "</div>"
            ],
            "text/plain": [
              "   duration  temperature       co2\n",
              "0  0.000000     0.711034  0.010756\n",
              "1  0.008187     0.713730  0.010972\n",
              "2  0.016373     0.715952  0.010059\n",
              "3  0.024560     0.717960  0.009664\n",
              "4  0.032747     0.719900  0.009948\n",
              "5  0.040933     0.722889  0.010542\n",
              "6  0.049120     0.728958  0.012459\n",
              "7  0.057307     0.746249  0.022744\n",
              "8  0.065575     0.777043  0.073266\n",
              "9  0.073762     0.802107  0.130760"
            ]
          },
          "metadata": {
            "tags": []
          },
          "execution_count": 24
        }
      ]
    },
    {
      "metadata": {
        "id": "_AdtR66zQxsS",
        "colab_type": "text"
      },
      "cell_type": "markdown",
      "source": [
        "## Splitting the data into Training and Testing"
      ]
    },
    {
      "metadata": {
        "id": "Kw7Lr4V5QxsT",
        "colab_type": "text"
      },
      "cell_type": "markdown",
      "source": [
        "In order to test our algorithm, we'll split the data into a Training and a Testing set. The size of the testing set will be 10% of the total data."
      ]
    },
    {
      "metadata": {
        "id": "GAtJqgOxQxsV",
        "colab_type": "code",
        "outputId": "02c9a29b-6cce-4ac6-9fa8-269b15ead569",
        "colab": {
          "base_uri": "https://localhost:8080/",
          "height": 425
        }
      },
      "cell_type": "code",
      "source": [
        "sample = np.random.choice(processed_data.index, size=int(len(processed_data)*0.9), replace=False)\n",
        "train_data, test_data = processed_data.iloc[sample], processed_data.drop(sample)\n",
        "\n",
        "print(\"Number of training samples is\", len(train_data))\n",
        "print(\"Number of testing samples is\", len(test_data))\n",
        "print(train_data[:10])\n",
        "print(test_data[:10])"
      ],
      "execution_count": 0,
      "outputs": [
        {
          "output_type": "stream",
          "text": [
            "Number of training samples is 110\n",
            "Number of testing samples is 13\n",
            "    duration  temperature       co2\n",
            "15  0.122964     0.845489  0.211695\n",
            "79  0.647564     0.870711  0.228901\n",
            "67  0.549161     0.801284  0.049922\n",
            "95  0.778715     0.974530  0.949445\n",
            "53  0.434466     0.789835  0.034284\n",
            "33  0.270487     0.783507  0.026709\n",
            "43  0.352436     0.775272  0.024187\n",
            "99  0.811461     0.978817  0.990285\n",
            "39  0.319689     0.773005  0.018846\n",
            "97  0.795088     0.976786  0.970191\n",
            "    duration  temperature       co2\n",
            "3   0.024560     0.717960  0.009664\n",
            "23  0.188539     0.876464  0.201693\n",
            "28  0.229472     0.789801  0.185091\n",
            "36  0.295047     0.773614  0.018387\n",
            "45  0.368809     0.778803  0.027170\n",
            "57  0.467212     0.794019  0.036959\n",
            "71  0.581989     0.864394  0.340414\n",
            "90  0.737700     0.958614  0.601136\n",
            "92  0.754155     0.968811  0.820275\n",
            "93  0.762341     0.971406  0.888242\n"
          ],
          "name": "stdout"
        }
      ]
    },
    {
      "metadata": {
        "id": "PT4POZ0DQxsb",
        "colab_type": "text"
      },
      "cell_type": "markdown",
      "source": [
        "## Splitting the data into features and targets (labels)\n",
        "Now, as a final step before the training, we'll split the data into features (X) and targets (y)."
      ]
    },
    {
      "metadata": {
        "id": "lhV_vfgEQxsd",
        "colab_type": "code",
        "outputId": "af24db9a-77fb-400d-d4be-ff45b079f182",
        "colab": {
          "base_uri": "https://localhost:8080/",
          "height": 391
        }
      },
      "cell_type": "code",
      "source": [
        "features = train_data.drop('co2', axis=1)\n",
        "targets = train_data['co2']\n",
        "features_test = test_data.drop('co2', axis=1)\n",
        "targets_test = test_data['co2']\n",
        "\n",
        "print(features[:10])\n",
        "print(targets[:10])"
      ],
      "execution_count": 0,
      "outputs": [
        {
          "output_type": "stream",
          "text": [
            "    duration  temperature\n",
            "15  0.122964     0.845489\n",
            "79  0.647564     0.870711\n",
            "67  0.549161     0.801284\n",
            "95  0.778715     0.974530\n",
            "53  0.434466     0.789835\n",
            "33  0.270487     0.783507\n",
            "43  0.352436     0.775272\n",
            "99  0.811461     0.978817\n",
            "39  0.319689     0.773005\n",
            "97  0.795088     0.976786\n",
            "15    0.211695\n",
            "79    0.228901\n",
            "67    0.049922\n",
            "95    0.949445\n",
            "53    0.034284\n",
            "33    0.026709\n",
            "43    0.024187\n",
            "99    0.990285\n",
            "39    0.018846\n",
            "97    0.970191\n",
            "Name: co2, dtype: float64\n"
          ],
          "name": "stdout"
        }
      ]
    },
    {
      "metadata": {
        "id": "w5kKgRj0Qxsk",
        "colab_type": "text"
      },
      "cell_type": "markdown",
      "source": [
        "## Training the 2-layer Neural Network\n",
        "The following function trains the 2-layer neural network. First, we'll write some helper functions."
      ]
    },
    {
      "metadata": {
        "id": "_npQlt3gQxsm",
        "colab_type": "code",
        "colab": {}
      },
      "cell_type": "code",
      "source": [
        "# Activation (sigmoid) function\n",
        "def sigmoid(x):\n",
        "    return 1 / (1 + np.exp(-x))\n",
        "def sigmoid_prime(x):\n",
        "    return sigmoid(x) * (1-sigmoid(x))\n",
        "def error_formula(y, output):\n",
        "    return - y*np.log(output) - (1 - y) * np.log(1-output)"
      ],
      "execution_count": 0,
      "outputs": []
    },
    {
      "metadata": {
        "id": "Mp7nxljqQxsp",
        "colab_type": "text"
      },
      "cell_type": "markdown",
      "source": [
        "# TODO: Backpropagate the error\n",
        "Now it's your turn to shine. Write the error term. Remember that this is given by the equation $$ (y-\\hat{y}) \\sigma'(x) $$"
      ]
    },
    {
      "metadata": {
        "id": "Ky6XQ3h_Qxsp",
        "colab_type": "code",
        "colab": {}
      },
      "cell_type": "code",
      "source": [
        "# TODO: Write the error term formula\n",
        "def error_term_formula(x, y, output):\n",
        "  \n",
        "    return (y - output)*sigmoid_prime(x)"
      ],
      "execution_count": 0,
      "outputs": []
    },
    {
      "metadata": {
        "id": "bbwcBVKJQxss",
        "colab_type": "code",
        "outputId": "63b6f444-900f-44a6-9a0f-f400a44bfe7f",
        "colab": {
          "base_uri": "https://localhost:8080/",
          "height": 289
        }
      },
      "cell_type": "code",
      "source": [
        "# Neural Network hyperparameters\n",
        "epochs = 10005\n",
        "learnrate = 0.02\n",
        "\n",
        "# Training function\n",
        "def train_nn(features, targets, epochs, learnrate):\n",
        "    \n",
        "    # Use to same seed to make debugging easier\n",
        "    np.random.seed(42)\n",
        "\n",
        "    n_records, n_features = features.shape\n",
        "    last_loss = None\n",
        "\n",
        "    # Initialize weights\n",
        "    weights = np.random.normal(scale=1 / n_features**.5, size=n_features)\n",
        "\n",
        "    for e in range(epochs):\n",
        "        del_w = np.zeros(weights.shape)\n",
        "        for x, y in zip(features.values, targets):\n",
        "            # Loop through all records, x is the input, y is the target\n",
        "\n",
        "            # Activation of the output unit\n",
        "            #   Notice we multiply the inputs and the weights here \n",
        "            #   rather than storing h as a separate variable \n",
        "            output = sigmoid(np.dot(x, weights))\n",
        "\n",
        "            # The error, the target minus the network output\n",
        "            error = error_formula(y, output)\n",
        "\n",
        "            # The error term\n",
        "            error_term = error_term_formula(x, y, output)\n",
        "\n",
        "            # The gradient descent step, the error times the gradient times the inputs\n",
        "            del_w += error_term * x\n",
        "\n",
        "        # Update the weights here. The learning rate times the \n",
        "        # change in weights, divided by the number of records to average\n",
        "        weights += learnrate * del_w / n_records\n",
        "\n",
        "        # Printing out the mean square error on the training set\n",
        "        if e % (epochs / 10) == 0:\n",
        "            out = sigmoid(np.dot(features, weights))\n",
        "            loss = np.mean((out - targets) ** 2)\n",
        "            print(\"Epoch:\", e)\n",
        "            if last_loss and last_loss < loss:\n",
        "                print(\"Train loss: \", loss, \"  WARNING - Loss Increasing\")\n",
        "            else:\n",
        "                print(\"Train loss: \", loss)\n",
        "            last_loss = loss\n",
        "            print(\"=========\")\n",
        "    print(\"Finished training!\")\n",
        "    return weights\n",
        "    \n",
        "weights = train_nn(features, targets, epochs, learnrate)"
      ],
      "execution_count": 0,
      "outputs": [
        {
          "output_type": "stream",
          "text": [
            "Epoch: 0\n",
            "Train loss:  0.15105682358210995\n",
            "=========\n",
            "Epoch: 2001\n",
            "Train loss:  0.1221528235046718\n",
            "=========\n",
            "Epoch: 4002\n",
            "Train loss:  0.11328533354635922\n",
            "=========\n",
            "Epoch: 6003\n",
            "Train loss:  0.10577754979918183\n",
            "=========\n",
            "Epoch: 8004\n",
            "Train loss:  0.09942292279166798\n",
            "=========\n",
            "Finished training!\n"
          ],
          "name": "stdout"
        }
      ]
    },
    {
      "metadata": {
        "id": "MrOw_DKEQxsv",
        "colab_type": "text"
      },
      "cell_type": "markdown",
      "source": [
        "## Calculating the Accuracy on the Test Data"
      ]
    },
    {
      "metadata": {
        "id": "FkC3b9PYQxsw",
        "colab_type": "code",
        "outputId": "cf9b4ff7-4512-419e-868a-c4721a0e0f0a",
        "colab": {
          "base_uri": "https://localhost:8080/",
          "height": 34
        }
      },
      "cell_type": "code",
      "source": [
        "# Calculate accuracy on test data\n",
        "test_out = sigmoid(np.dot(features_test, weights))\n",
        "predictions = test_out > 0.5\n",
        "accuracy = np.mean(predictions == targets_test)\n",
        "print(\"Prediction accuracy: {:.3f}\".format(accuracy))"
      ],
      "execution_count": 0,
      "outputs": [
        {
          "output_type": "stream",
          "text": [
            "Prediction accuracy: 0.000\n"
          ],
          "name": "stdout"
        }
      ]
    }
  ]
}