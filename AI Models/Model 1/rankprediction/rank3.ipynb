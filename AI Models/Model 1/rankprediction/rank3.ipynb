{
  "nbformat": 4,
  "nbformat_minor": 0,
  "metadata": {
    "colab": {
      "name": "StudentAdmissions.ipynb",
      "version": "0.3.2",
      "provenance": [],
      "include_colab_link": true
    },
    "kernelspec": {
      "display_name": "Python [default]",
      "language": "python",
      "name": "python3"
    }
  },
  "cells": [
    {
      "cell_type": "markdown",
      "metadata": {
        "id": "view-in-github",
        "colab_type": "text"
      },
      "source": [
        "<a href=\"https://colab.research.google.com/github/engrsmukhtar/AI4EnergyProcessSystems/blob/AI4EPS-1/AI%20Models/Model%201/rankprediction/rank3.ipynb\" target=\"_parent\"><img src=\"https://colab.research.google.com/assets/colab-badge.svg\" alt=\"Open In Colab\"/></a>"
      ]
    },
    {
      "metadata": {
        "id": "ifF0gWwxQxrX",
        "colab_type": "text"
      },
      "cell_type": "markdown",
      "source": [
        "# Predicting Carbon Capture and Release with Neural Networks\n",
        "In this notebook, we predict carbon capture and release through the conversion of CO2"
      ]
    },
    {
      "metadata": {
        "id": "MsQ9Um9wQxrb",
        "colab_type": "code",
        "outputId": "4e47ecbf-65b2-4bc8-aff7-bb4086f81304",
        "colab": {
          "base_uri": "https://localhost:8080/",
          "height": 242
        }
      },
      "cell_type": "code",
      "source": [
        "# Importing pandas and numpy\n",
        "import pandas as pd\n",
        "import numpy as np\n",
        "\n",
        "# Reading the csv file into a pandas DataFrame\n",
        "\n",
        "url=\"https://raw.githubusercontent.com/engrsmukhtar/AI4EnergyProcessSystems/AI4EPS-1/AI%20Models/Model%201/rankprediction/tot%20mass%20w%20H2O%20-hbrcacabo3%20-%20duration.csv\"\n",
        "data = pd.read_csv(url)\n",
        "\n",
        "# Printing out some rows from our data\n",
        "data[:3]"
      ],
      "execution_count": 9,
      "outputs": [
        {
          "output_type": "execute_result",
          "data": {
            "text/html": [
              "<div>\n",
              "<style scoped>\n",
              "    .dataframe tbody tr th:only-of-type {\n",
              "        vertical-align: middle;\n",
              "    }\n",
              "\n",
              "    .dataframe tbody tr th {\n",
              "        vertical-align: top;\n",
              "    }\n",
              "\n",
              "    .dataframe thead th {\n",
              "        text-align: right;\n",
              "    }\n",
              "</style>\n",
              "<table border=\"1\" class=\"dataframe\">\n",
              "  <thead>\n",
              "    <tr style=\"text-align: right;\">\n",
              "      <th></th>\n",
              "      <th>Duration</th>\n",
              "      <th>HBr_CaC03_mass_(g)</th>\n",
              "      <th>Calciner temp [C]</th>\n",
              "      <th>Calciner Heater kW</th>\n",
              "      <th>Calciner Pressure ( Pa )</th>\n",
              "      <th>Calciner  velocity (m/s)</th>\n",
              "      <th>Calciner O2 in(perc-vol)</th>\n",
              "      <th>Calciner N2 in(perc-vol)</th>\n",
              "      <th>Calciner top temp ( C )</th>\n",
              "      <th>Calciner CO2 out(perc)</th>\n",
              "      <th>...</th>\n",
              "      <th>Run status</th>\n",
              "      <th>Carbonator bottom temp (C)</th>\n",
              "      <th>Carbonator mid temp (C)</th>\n",
              "      <th>Carbonator press (pa)</th>\n",
              "      <th>Carbonator velocity (m/s)</th>\n",
              "      <th>Carbonator inlet CO2 (vol)</th>\n",
              "      <th>Carbonator inlet N2 (vol)</th>\n",
              "      <th>Carbonator outlet CO2 (vol)</th>\n",
              "      <th>Carbonator top temp (C)</th>\n",
              "      <th>Rank</th>\n",
              "    </tr>\n",
              "  </thead>\n",
              "  <tbody>\n",
              "    <tr>\n",
              "      <th>0</th>\n",
              "      <td>1.0</td>\n",
              "      <td>4200</td>\n",
              "      <td>632.75</td>\n",
              "      <td>7.8</td>\n",
              "      <td>3216.0</td>\n",
              "      <td>0.32</td>\n",
              "      <td>40</td>\n",
              "      <td>60</td>\n",
              "      <td>450.680</td>\n",
              "      <td>0.406479</td>\n",
              "      <td>...</td>\n",
              "      <td>0</td>\n",
              "      <td>446.905</td>\n",
              "      <td>560.105</td>\n",
              "      <td>2680.0</td>\n",
              "      <td>2.5</td>\n",
              "      <td>0</td>\n",
              "      <td>100</td>\n",
              "      <td>0.0714</td>\n",
              "      <td>529.81</td>\n",
              "      <td>1</td>\n",
              "    </tr>\n",
              "    <tr>\n",
              "      <th>1</th>\n",
              "      <td>2.0</td>\n",
              "      <td>4200</td>\n",
              "      <td>634.72</td>\n",
              "      <td>7.8</td>\n",
              "      <td>3190.5</td>\n",
              "      <td>0.32</td>\n",
              "      <td>40</td>\n",
              "      <td>60</td>\n",
              "      <td>451.165</td>\n",
              "      <td>0.372648</td>\n",
              "      <td>...</td>\n",
              "      <td>0</td>\n",
              "      <td>446.200</td>\n",
              "      <td>558.915</td>\n",
              "      <td>2905.5</td>\n",
              "      <td>2.5</td>\n",
              "      <td>0</td>\n",
              "      <td>100</td>\n",
              "      <td>-0.1666</td>\n",
              "      <td>529.27</td>\n",
              "      <td>1</td>\n",
              "    </tr>\n",
              "    <tr>\n",
              "      <th>2</th>\n",
              "      <td>3.0</td>\n",
              "      <td>4200</td>\n",
              "      <td>636.50</td>\n",
              "      <td>7.8</td>\n",
              "      <td>3191.5</td>\n",
              "      <td>0.32</td>\n",
              "      <td>40</td>\n",
              "      <td>60</td>\n",
              "      <td>451.365</td>\n",
              "      <td>0.358011</td>\n",
              "      <td>...</td>\n",
              "      <td>0</td>\n",
              "      <td>445.035</td>\n",
              "      <td>558.565</td>\n",
              "      <td>2912.5</td>\n",
              "      <td>2.5</td>\n",
              "      <td>0</td>\n",
              "      <td>100</td>\n",
              "      <td>-0.2023</td>\n",
              "      <td>529.06</td>\n",
              "      <td>1</td>\n",
              "    </tr>\n",
              "  </tbody>\n",
              "</table>\n",
              "<p>3 rows × 24 columns</p>\n",
              "</div>"
            ],
            "text/plain": [
              "   Duration  HBr_CaC03_mass_(g)   Calciner temp [C]  Calciner Heater kW  \\\n",
              "0       1.0                 4200             632.75                 7.8   \n",
              "1       2.0                 4200             634.72                 7.8   \n",
              "2       3.0                 4200             636.50                 7.8   \n",
              "\n",
              "   Calciner Pressure ( Pa )  Calciner  velocity (m/s)  \\\n",
              "0                    3216.0                      0.32   \n",
              "1                    3190.5                      0.32   \n",
              "2                    3191.5                      0.32   \n",
              "\n",
              "   Calciner O2 in(perc-vol)  Calciner N2 in(perc-vol)  \\\n",
              "0                        40                        60   \n",
              "1                        40                        60   \n",
              "2                        40                        60   \n",
              "\n",
              "   Calciner top temp ( C )  Calciner CO2 out(perc)  ...   Run status  \\\n",
              "0                  450.680                0.406479  ...            0   \n",
              "1                  451.165                0.372648  ...            0   \n",
              "2                  451.365                0.358011  ...            0   \n",
              "\n",
              "   Carbonator bottom temp (C)  Carbonator mid temp (C)  Carbonator press (pa)  \\\n",
              "0                     446.905                  560.105                 2680.0   \n",
              "1                     446.200                  558.915                 2905.5   \n",
              "2                     445.035                  558.565                 2912.5   \n",
              "\n",
              "   Carbonator velocity (m/s)  Carbonator inlet CO2 (vol)  \\\n",
              "0                        2.5                           0   \n",
              "1                        2.5                           0   \n",
              "2                        2.5                           0   \n",
              "\n",
              "   Carbonator inlet N2 (vol)  Carbonator outlet CO2 (vol)  \\\n",
              "0                        100                       0.0714   \n",
              "1                        100                      -0.1666   \n",
              "2                        100                      -0.2023   \n",
              "\n",
              "   Carbonator top temp (C)  Rank  \n",
              "0                   529.81     1  \n",
              "1                   529.27     1  \n",
              "2                   529.06     1  \n",
              "\n",
              "[3 rows x 24 columns]"
            ]
          },
          "metadata": {
            "tags": []
          },
          "execution_count": 9
        }
      ]
    },
    {
      "metadata": {
        "id": "IID-Zy_TQxrp",
        "colab_type": "text"
      },
      "cell_type": "markdown",
      "source": [
        "## Plotting the data\n",
        "\n",
        "a plot of our data to see how it looks."
      ]
    },
    {
      "metadata": {
        "id": "CaQ4xHM-Qxrs",
        "colab_type": "code",
        "outputId": "ddc4028e-d51b-4f41-b09d-70146950f0d4",
        "colab": {
          "base_uri": "https://localhost:8080/",
          "height": 283
        }
      },
      "cell_type": "code",
      "source": [
        "# Importing matplotlib\n",
        "import matplotlib.pyplot as plt\n",
        "%matplotlib inline\n",
        "\n",
        "# Function to help us plot\n",
        "def plot_points(data):\n",
        "    X = np.array(data[[\"Calciner temp [C]\",\"HBr_CaC03_mass_(g) \"]])\n",
        "    y = np.array(data[\"Rank\"])\n",
        "    cal = X[np.argwhere(y<=3)]\n",
        "    cc = X[np.argwhere(y>3)]\n",
        "    plt.scatter([s[0][0] for s in cc], [s[0][1] for s in cc], s = 25, color = 'red', edgecolor = 'k')\n",
        "    plt.scatter([s[0][0] for s in cal], [s[0][1] for s in cal], s = 25, color = 'cyan', edgecolor = 'k')\n",
        "    plt.xlabel('(Calciner temp [C])')\n",
        "    plt.ylabel('(HBr_CaC03_mass_(g) )')\n",
        "    \n",
        "# Plotting the points\n",
        "plot_points(data)\n",
        "plt.show()"
      ],
      "execution_count": 10,
      "outputs": [
        {
          "output_type": "display_data",
          "data": {
            "image/png": "[encoded data removed]",
            "text/plain": [
              "<Figure size 432x288 with 1 Axes>"
            ]
          },
          "metadata": {
            "tags": []
          }
        }
      ]
    },
    {
      "metadata": {
        "colab_type": "code",
        "outputId": "b7ae88de-e4ca-4480-a317-ae9124b0bb6d",
        "id": "Bimh3h3-AMTN",
        "colab": {
          "base_uri": "https://localhost:8080/",
          "height": 283
        }
      },
      "cell_type": "code",
      "source": [
        "# Importing matplotlib\n",
        "import matplotlib.pyplot as plt\n",
        "%matplotlib inline\n",
        "\n",
        "# Function to help us plot\n",
        "def plot_points(data):\n",
        "    X = np.array(data[[\"Calciner temp [C]\",\"Calciner Pressure ( Pa )\"]])\n",
        "    y = np.array(data[\"Rank\"])\n",
        "    cal = X[np.argwhere(y<=3)]\n",
        "    cc = X[np.argwhere(y>3)]\n",
        "    plt.scatter([s[0][0] for s in cc], [s[0][1] for s in cc], s = 25, color = 'red', edgecolor = 'k')\n",
        "    plt.scatter([s[0][0] for s in cal], [s[0][1] for s in cal], s = 25, color = 'cyan', edgecolor = 'k')\n",
        "    plt.xlabel('(Calciner temp [C])')\n",
        "    plt.ylabel('(Calciner Pressure ( Pa ))')\n",
        "    \n",
        "# Plotting the points\n",
        "plot_points(data)\n",
        "plt.show()"
      ],
      "execution_count": 11,
      "outputs": [
        {
          "output_type": "display_data",
          "data": {
            "image/png": "[encoded data removed]",
            "text/plain": [
              "<Figure size 432x288 with 1 Axes>"
            ]
          },
          "metadata": {
            "tags": []
          }
        }
      ]
    },
    {
      "metadata": {
        "id": "bycw82VkQxsF",
        "colab_type": "code",
        "outputId": "1c253562-8458-458e-97d4-64b743788595",
        "colab": {
          "base_uri": "https://localhost:8080/",
          "height": 1685
        }
      },
      "cell_type": "code",
      "source": [
        "# Separating the ranks\n",
        "data_rank1 = data[data[\"Rank\"]==1]\n",
        "data_rank2 = data[data[\"Rank\"]==2]\n",
        "data_rank3 = data[data[\"Rank\"]==3]\n",
        "data_rank4 = data[data[\"Rank\"]==4]\n",
        "data_rank5 = data[data[\"Rank\"]==5]\n",
        "data_rank6 = data[data[\"Rank\"]==6]\n",
        "\n",
        "# Plotting the graphs\n",
        "plot_points(data_rank1)\n",
        "plt.title(\"Rank 1\")\n",
        "plt.show()\n",
        "plot_points(data_rank2)\n",
        "plt.title(\"Rank 2\")\n",
        "plt.show()\n",
        "plot_points(data_rank3)\n",
        "plt.title(\"Rank 3\")\n",
        "plt.show()\n",
        "plot_points(data_rank4)\n",
        "plt.title(\"Rank 4\")\n",
        "plt.show()\n",
        "plot_points(data_rank5)\n",
        "plt.title(\"Rank 5\")\n",
        "plt.show()\n",
        "plot_points(data_rank6)\n",
        "plt.title(\"Rank 6\")\n",
        "plt.show()"
      ],
      "execution_count": 13,
      "outputs": [
        {
          "output_type": "display_data",
          "data": {
            "image/png": "[encoded data removed]",
            "text/plain": [
              "<Figure size 432x288 with 1 Axes>"
            ]
          },
          "metadata": {
            "tags": []
          }
        },
        {
          "output_type": "display_data",
          "data": {
            "image/png": "[encoded data removed]",
            "text/plain": [
              "<Figure size 432x288 with 1 Axes>"
            ]
          },
          "metadata": {
            "tags": []
          }
        },
        {
          "output_type": "display_data",
          "data": {
            "image/png": "[encoded data removed]",
            "text/plain": [
              "<Figure size 432x288 with 1 Axes>"
            ]
          },
          "metadata": {
            "tags": []
          }
        },
        {
          "output_type": "display_data",
          "data": {
            "image/png": "[encoded data removed]",
            "text/plain": [
              "<Figure size 432x288 with 1 Axes>"
            ]
          },
          "metadata": {
            "tags": []
          }
        },
        {
          "output_type": "display_data",
          "data": {
            "image/png": "[encoded data removed]",
            "text/plain": [
              "<Figure size 432x288 with 1 Axes>"
            ]
          },
          "metadata": {
            "tags": []
          }
        },
        {
          "output_type": "display_data",
          "data": {
            "image/png": "[encoded data removed]",
            "text/plain": [
              "<Figure size 432x288 with 1 Axes>"
            ]
          },
          "metadata": {
            "tags": []
          }
        }
      ]
    },
    {
      "metadata": {
        "id": "qCn8eeEjQxsJ",
        "colab_type": "text"
      },
      "cell_type": "markdown",
      "source": [
        "\n",
        "\n",
        "## One-hot encoding the rank\n",
        "processing the rank data"
      ]
    },
    {
      "metadata": {
        "id": "AmJfRKOWQxsK",
        "colab_type": "code",
        "outputId": "ba0eba36-4366-47fc-aac7-d192e0beac5c",
        "colab": {
          "base_uri": "https://localhost:8080/",
          "height": 211
        }
      },
      "cell_type": "code",
      "source": [
        "# Dummy variables for rank and concat existing columns\n",
        "one_hot_data = pd.concat([data, pd.get_dummies(data['Rank'], prefix='Rank')], axis=1)\n",
        "\n",
        "# Drop the previous rank column\n",
        "one_hot_data = one_hot_data.drop('Rank', axis=1)\n",
        "# one_hot_data = one_hot_data.drop('Calciner_CO2_in', axis=1)\n",
        "\n",
        "# Print the first 10 rows of our data\n",
        "one_hot_data[:2]"
      ],
      "execution_count": 16,
      "outputs": [
        {
          "output_type": "execute_result",
          "data": {
            "text/html": [
              "<div>\n",
              "<style scoped>\n",
              "    .dataframe tbody tr th:only-of-type {\n",
              "        vertical-align: middle;\n",
              "    }\n",
              "\n",
              "    .dataframe tbody tr th {\n",
              "        vertical-align: top;\n",
              "    }\n",
              "\n",
              "    .dataframe thead th {\n",
              "        text-align: right;\n",
              "    }\n",
              "</style>\n",
              "<table border=\"1\" class=\"dataframe\">\n",
              "  <thead>\n",
              "    <tr style=\"text-align: right;\">\n",
              "      <th></th>\n",
              "      <th>Duration</th>\n",
              "      <th>HBr_CaC03_mass_(g)</th>\n",
              "      <th>Calciner temp [C]</th>\n",
              "      <th>Calciner Heater kW</th>\n",
              "      <th>Calciner Pressure ( Pa )</th>\n",
              "      <th>Calciner  velocity (m/s)</th>\n",
              "      <th>Calciner O2 in(perc-vol)</th>\n",
              "      <th>Calciner N2 in(perc-vol)</th>\n",
              "      <th>Calciner top temp ( C )</th>\n",
              "      <th>Calciner CO2 out(perc)</th>\n",
              "      <th>...</th>\n",
              "      <th>Carbonator inlet CO2 (vol)</th>\n",
              "      <th>Carbonator inlet N2 (vol)</th>\n",
              "      <th>Carbonator outlet CO2 (vol)</th>\n",
              "      <th>Carbonator top temp (C)</th>\n",
              "      <th>Rank_1</th>\n",
              "      <th>Rank_2</th>\n",
              "      <th>Rank_3</th>\n",
              "      <th>Rank_4</th>\n",
              "      <th>Rank_5</th>\n",
              "      <th>Rank_6</th>\n",
              "    </tr>\n",
              "  </thead>\n",
              "  <tbody>\n",
              "    <tr>\n",
              "      <th>0</th>\n",
              "      <td>1.0</td>\n",
              "      <td>4200</td>\n",
              "      <td>632.75</td>\n",
              "      <td>7.8</td>\n",
              "      <td>3216.0</td>\n",
              "      <td>0.32</td>\n",
              "      <td>40</td>\n",
              "      <td>60</td>\n",
              "      <td>450.680</td>\n",
              "      <td>0.406479</td>\n",
              "      <td>...</td>\n",
              "      <td>0</td>\n",
              "      <td>100</td>\n",
              "      <td>0.0714</td>\n",
              "      <td>529.81</td>\n",
              "      <td>1</td>\n",
              "      <td>0</td>\n",
              "      <td>0</td>\n",
              "      <td>0</td>\n",
              "      <td>0</td>\n",
              "      <td>0</td>\n",
              "    </tr>\n",
              "    <tr>\n",
              "      <th>1</th>\n",
              "      <td>2.0</td>\n",
              "      <td>4200</td>\n",
              "      <td>634.72</td>\n",
              "      <td>7.8</td>\n",
              "      <td>3190.5</td>\n",
              "      <td>0.32</td>\n",
              "      <td>40</td>\n",
              "      <td>60</td>\n",
              "      <td>451.165</td>\n",
              "      <td>0.372648</td>\n",
              "      <td>...</td>\n",
              "      <td>0</td>\n",
              "      <td>100</td>\n",
              "      <td>-0.1666</td>\n",
              "      <td>529.27</td>\n",
              "      <td>1</td>\n",
              "      <td>0</td>\n",
              "      <td>0</td>\n",
              "      <td>0</td>\n",
              "      <td>0</td>\n",
              "      <td>0</td>\n",
              "    </tr>\n",
              "  </tbody>\n",
              "</table>\n",
              "<p>2 rows × 29 columns</p>\n",
              "</div>"
            ],
            "text/plain": [
              "   Duration  HBr_CaC03_mass_(g)   Calciner temp [C]  Calciner Heater kW  \\\n",
              "0       1.0                 4200             632.75                 7.8   \n",
              "1       2.0                 4200             634.72                 7.8   \n",
              "\n",
              "   Calciner Pressure ( Pa )  Calciner  velocity (m/s)  \\\n",
              "0                    3216.0                      0.32   \n",
              "1                    3190.5                      0.32   \n",
              "\n",
              "   Calciner O2 in(perc-vol)  Calciner N2 in(perc-vol)  \\\n",
              "0                        40                        60   \n",
              "1                        40                        60   \n",
              "\n",
              "   Calciner top temp ( C )  Calciner CO2 out(perc)   ...    \\\n",
              "0                  450.680                0.406479   ...     \n",
              "1                  451.165                0.372648   ...     \n",
              "\n",
              "   Carbonator inlet CO2 (vol)  Carbonator inlet N2 (vol)  \\\n",
              "0                           0                        100   \n",
              "1                           0                        100   \n",
              "\n",
              "   Carbonator outlet CO2 (vol)  Carbonator top temp (C)  Rank_1  Rank_2  \\\n",
              "0                       0.0714                   529.81       1       0   \n",
              "1                      -0.1666                   529.27       1       0   \n",
              "\n",
              "   Rank_3  Rank_4  Rank_5  Rank_6  \n",
              "0       0       0       0       0  \n",
              "1       0       0       0       0  \n",
              "\n",
              "[2 rows x 29 columns]"
            ]
          },
          "metadata": {
            "tags": []
          },
          "execution_count": 16
        }
      ]
    },
    {
      "metadata": {
        "id": "NujWYs8fQxsN",
        "colab_type": "text"
      },
      "cell_type": "markdown",
      "source": [
        "## Scaling the data\n",
        "By dividing Each Column with it's max value"
      ]
    },
    {
      "metadata": {
        "id": "7U0jU_DyQxsO",
        "colab_type": "code",
        "outputId": "76e34fc8-0018-4d3f-f736-e9c4534139c2",
        "colab": {
          "base_uri": "https://localhost:8080/",
          "height": 228
        }
      },
      "cell_type": "code",
      "source": [
        "# Making a copy of our data\n",
        "processed_data = one_hot_data[:]\n",
        "\n",
        "# Scale the columns\n",
        "\n",
        "col = processed_data.head()\n",
        "clmn = list(col) \n",
        "\n",
        "for c in clmn: \n",
        "    # element of column \n",
        "    processed_data[c]  = processed_data[c]/processed_data[c].max()\n",
        "print(clmn) # just to see if the list of columns are currect\n",
        "\n",
        "# Printing the first 10 rows of our procesed data\n",
        "processed_data[:2]"
      ],
      "execution_count": 18,
      "outputs": [
        {
          "output_type": "stream",
          "text": [
            "['Duration', 'HBr_CaC03_mass_(g) ', 'Calciner temp [C]', 'Calciner Heater kW', 'Calciner Pressure ( Pa )', 'Calciner  velocity (m/s)', 'Calciner O2 in(perc-vol)', 'Calciner N2 in(perc-vol)', 'Calciner top temp ( C )', 'Calciner CO2 out(perc)', 'Calciner O2 out(perc)', 'Calciner H2O out(perc)', 'Calciner CO out(ppm)', 'Calciner CH4 out(ppm)', 'Run status', 'Carbonator bottom temp (C)', 'Carbonator mid temp (C)', 'Carbonator press (pa)', 'Carbonator velocity (m/s)', 'Carbonator inlet CO2 (vol)', 'Carbonator inlet N2 (vol)', 'Carbonator outlet CO2 (vol)', 'Carbonator top temp (C)', 'Rank_1', 'Rank_2', 'Rank_3', 'Rank_4', 'Rank_5', 'Rank_6']\n"
          ],
          "name": "stdout"
        },
        {
          "output_type": "execute_result",
          "data": {
            "text/html": [
              "<div>\n",
              "<style scoped>\n",
              "    .dataframe tbody tr th:only-of-type {\n",
              "        vertical-align: middle;\n",
              "    }\n",
              "\n",
              "    .dataframe tbody tr th {\n",
              "        vertical-align: top;\n",
              "    }\n",
              "\n",
              "    .dataframe thead th {\n",
              "        text-align: right;\n",
              "    }\n",
              "</style>\n",
              "<table border=\"1\" class=\"dataframe\">\n",
              "  <thead>\n",
              "    <tr style=\"text-align: right;\">\n",
              "      <th></th>\n",
              "      <th>Duration</th>\n",
              "      <th>HBr_CaC03_mass_(g)</th>\n",
              "      <th>Calciner temp [C]</th>\n",
              "      <th>Calciner Heater kW</th>\n",
              "      <th>Calciner Pressure ( Pa )</th>\n",
              "      <th>Calciner  velocity (m/s)</th>\n",
              "      <th>Calciner O2 in(perc-vol)</th>\n",
              "      <th>Calciner N2 in(perc-vol)</th>\n",
              "      <th>Calciner top temp ( C )</th>\n",
              "      <th>Calciner CO2 out(perc)</th>\n",
              "      <th>...</th>\n",
              "      <th>Carbonator inlet CO2 (vol)</th>\n",
              "      <th>Carbonator inlet N2 (vol)</th>\n",
              "      <th>Carbonator outlet CO2 (vol)</th>\n",
              "      <th>Carbonator top temp (C)</th>\n",
              "      <th>Rank_1</th>\n",
              "      <th>Rank_2</th>\n",
              "      <th>Rank_3</th>\n",
              "      <th>Rank_4</th>\n",
              "      <th>Rank_5</th>\n",
              "      <th>Rank_6</th>\n",
              "    </tr>\n",
              "  </thead>\n",
              "  <tbody>\n",
              "    <tr>\n",
              "      <th>0</th>\n",
              "      <td>0.002955</td>\n",
              "      <td>0.315008</td>\n",
              "      <td>0.651514</td>\n",
              "      <td>0.371429</td>\n",
              "      <td>0.800498</td>\n",
              "      <td>0.8</td>\n",
              "      <td>0.4</td>\n",
              "      <td>1.0</td>\n",
              "      <td>0.508467</td>\n",
              "      <td>0.010167</td>\n",
              "      <td>...</td>\n",
              "      <td>0.0</td>\n",
              "      <td>1.0</td>\n",
              "      <td>0.003597</td>\n",
              "      <td>0.768052</td>\n",
              "      <td>1.0</td>\n",
              "      <td>0.0</td>\n",
              "      <td>0.0</td>\n",
              "      <td>0.0</td>\n",
              "      <td>0.0</td>\n",
              "      <td>0.0</td>\n",
              "    </tr>\n",
              "    <tr>\n",
              "      <th>1</th>\n",
              "      <td>0.005909</td>\n",
              "      <td>0.315008</td>\n",
              "      <td>0.653542</td>\n",
              "      <td>0.371429</td>\n",
              "      <td>0.794151</td>\n",
              "      <td>0.8</td>\n",
              "      <td>0.4</td>\n",
              "      <td>1.0</td>\n",
              "      <td>0.509014</td>\n",
              "      <td>0.009321</td>\n",
              "      <td>...</td>\n",
              "      <td>0.0</td>\n",
              "      <td>1.0</td>\n",
              "      <td>-0.008393</td>\n",
              "      <td>0.767269</td>\n",
              "      <td>1.0</td>\n",
              "      <td>0.0</td>\n",
              "      <td>0.0</td>\n",
              "      <td>0.0</td>\n",
              "      <td>0.0</td>\n",
              "      <td>0.0</td>\n",
              "    </tr>\n",
              "  </tbody>\n",
              "</table>\n",
              "<p>2 rows × 29 columns</p>\n",
              "</div>"
            ],
            "text/plain": [
              "   Duration  HBr_CaC03_mass_(g)   Calciner temp [C]  Calciner Heater kW  \\\n",
              "0  0.002955             0.315008           0.651514            0.371429   \n",
              "1  0.005909             0.315008           0.653542            0.371429   \n",
              "\n",
              "   Calciner Pressure ( Pa )  Calciner  velocity (m/s)  \\\n",
              "0                  0.800498                       0.8   \n",
              "1                  0.794151                       0.8   \n",
              "\n",
              "   Calciner O2 in(perc-vol)  Calciner N2 in(perc-vol)  \\\n",
              "0                       0.4                       1.0   \n",
              "1                       0.4                       1.0   \n",
              "\n",
              "   Calciner top temp ( C )  Calciner CO2 out(perc)   ...    \\\n",
              "0                 0.508467                0.010167   ...     \n",
              "1                 0.509014                0.009321   ...     \n",
              "\n",
              "   Carbonator inlet CO2 (vol)  Carbonator inlet N2 (vol)  \\\n",
              "0                         0.0                        1.0   \n",
              "1                         0.0                        1.0   \n",
              "\n",
              "   Carbonator outlet CO2 (vol)  Carbonator top temp (C)  Rank_1  Rank_2  \\\n",
              "0                     0.003597                 0.768052     1.0     0.0   \n",
              "1                    -0.008393                 0.767269     1.0     0.0   \n",
              "\n",
              "   Rank_3  Rank_4  Rank_5  Rank_6  \n",
              "0     0.0     0.0     0.0     0.0  \n",
              "1     0.0     0.0     0.0     0.0  \n",
              "\n",
              "[2 rows x 29 columns]"
            ]
          },
          "metadata": {
            "tags": []
          },
          "execution_count": 18
        }
      ]
    },
    {
      "metadata": {
        "id": "_AdtR66zQxsS",
        "colab_type": "text"
      },
      "cell_type": "markdown",
      "source": [
        "## Splitting the data into Training and Testing"
      ]
    },
    {
      "metadata": {
        "id": "Kw7Lr4V5QxsT",
        "colab_type": "text"
      },
      "cell_type": "markdown",
      "source": [
        "In order to test our algorithm, we'll split the data into a Training and a Testing set. The size of the testing set will be 10% of the total data."
      ]
    },
    {
      "metadata": {
        "id": "GAtJqgOxQxsV",
        "colab_type": "code",
        "outputId": "bb98a64d-07b5-4c45-d455-e393635c19eb",
        "colab": {
          "base_uri": "https://localhost:8080/",
          "height": 1037
        }
      },
      "cell_type": "code",
      "source": [
        "sample = np.random.choice(processed_data.index, size=int(len(processed_data)*0.9), replace=False)\n",
        "train_data, test_data = processed_data.iloc[sample], processed_data.drop(sample)\n",
        "\n",
        "print(\"Number of training samples is\", len(train_data))\n",
        "print(\"Number of testing samples is\", len(test_data))\n",
        "print(train_data[:2])\n",
        "print(test_data[:2])"
      ],
      "execution_count": 19,
      "outputs": [
        {
          "output_type": "stream",
          "text": [
            "Number of training samples is 301\n",
            "Number of testing samples is 34\n",
            "     Duration  HBr_CaC03_mass_(g)   Calciner temp [C]  Calciner Heater kW  \\\n",
            "307  0.920106             1.000000           0.924773            0.761905   \n",
            "55   0.165667             0.527563           0.723929            0.000000   \n",
            "\n",
            "     Calciner Pressure ( Pa )  Calciner  velocity (m/s)  \\\n",
            "307                  0.725327                       0.8   \n",
            "55                   0.776353                       0.0   \n",
            "\n",
            "     Calciner O2 in(perc-vol)  Calciner N2 in(perc-vol)  \\\n",
            "307                       1.0                       0.0   \n",
            "55                        0.0                       0.0   \n",
            "\n",
            "     Calciner top temp ( C )  Calciner CO2 out(perc)   ...    \\\n",
            "307                 0.987319                0.784248   ...     \n",
            "55                  0.535990                0.033725   ...     \n",
            "\n",
            "     Carbonator inlet CO2 (vol)  Carbonator inlet N2 (vol)  \\\n",
            "307                         0.5                       0.85   \n",
            "55                          0.0                       1.00   \n",
            "\n",
            "     Carbonator outlet CO2 (vol)  Carbonator top temp (C)  Rank_1  Rank_2  \\\n",
            "307                     0.256757                 0.971884     0.0     0.0   \n",
            "55                      0.025180                 0.810441     1.0     0.0   \n",
            "\n",
            "     Rank_3  Rank_4  Rank_5  Rank_6  \n",
            "307     0.0     0.0     1.0     0.0  \n",
            "55      0.0     0.0     0.0     0.0  \n",
            "\n",
            "[2 rows x 29 columns]\n",
            "    Duration  HBr_CaC03_mass_(g)   Calciner temp [C]  Calciner Heater kW  \\\n",
            "10  0.032531             0.367809           0.766938            0.371429   \n",
            "12  0.038440             0.367809           0.790939            0.371429   \n",
            "\n",
            "    Calciner Pressure ( Pa )  Calciner  velocity (m/s)  \\\n",
            "10                  0.794897                       0.8   \n",
            "12                  0.784319                       0.8   \n",
            "\n",
            "    Calciner O2 in(perc-vol)  Calciner N2 in(perc-vol)  \\\n",
            "10                       0.4                       1.0   \n",
            "12                       0.4                       1.0   \n",
            "\n",
            "    Calciner top temp ( C )  Calciner CO2 out(perc)   ...    \\\n",
            "10                 0.606126                0.164560   ...     \n",
            "12                 0.615417                0.189295   ...     \n",
            "\n",
            "    Carbonator inlet CO2 (vol)  Carbonator inlet N2 (vol)  \\\n",
            "10                         0.0                        1.0   \n",
            "12                         0.0                        1.0   \n",
            "\n",
            "    Carbonator outlet CO2 (vol)  Carbonator top temp (C)  Rank_1  Rank_2  \\\n",
            "10                    -0.002998                 0.764537     1.0     0.0   \n",
            "12                     0.002398                 0.763167     0.0     1.0   \n",
            "\n",
            "    Rank_3  Rank_4  Rank_5  Rank_6  \n",
            "10     0.0     0.0     0.0     0.0  \n",
            "12     0.0     0.0     0.0     0.0  \n",
            "\n",
            "[2 rows x 29 columns]\n"
          ],
          "name": "stdout"
        }
      ]
    },
    {
      "metadata": {
        "id": "PT4POZ0DQxsb",
        "colab_type": "text"
      },
      "cell_type": "markdown",
      "source": [
        "## Splitting the data into features and targets (labels)\n",
        " split the data into features (X) and targets (y)."
      ]
    },
    {
      "metadata": {
        "id": "lhV_vfgEQxsd",
        "colab_type": "code",
        "outputId": "3307f710-3c1a-4676-e37e-e0071786b9e6",
        "colab": {
          "base_uri": "https://localhost:8080/",
          "height": 697
        }
      },
      "cell_type": "code",
      "source": [
        "features = train_data.drop(['Rank_1', 'Rank_2', 'Rank_3', 'Rank_4', 'Rank_5', 'Rank_6'], axis=1)\n",
        "targets = train_data['Rank_1']\n",
        "features_test = test_data.drop(['Rank_1', 'Rank_2', 'Rank_3', 'Rank_4', 'Rank_5', 'Rank_6'], axis=1)\n",
        "targets_test = test_data['Rank_1']\n",
        "\n",
        "print(features[:2])\n",
        "print(targets[:2])"
      ],
      "execution_count": 21,
      "outputs": [
        {
          "output_type": "stream",
          "text": [
            "     Duration  HBr_CaC03_mass_(g)   Calciner temp [C]  Calciner Heater kW  \\\n",
            "307  0.920106             1.000000           0.924773            0.761905   \n",
            "55   0.165667             0.527563           0.723929            0.000000   \n",
            "\n",
            "     Calciner Pressure ( Pa )  Calciner  velocity (m/s)  \\\n",
            "307                  0.725327                       0.8   \n",
            "55                   0.776353                       0.0   \n",
            "\n",
            "     Calciner O2 in(perc-vol)  Calciner N2 in(perc-vol)  \\\n",
            "307                       1.0                       0.0   \n",
            "55                        0.0                       0.0   \n",
            "\n",
            "     Calciner top temp ( C )  Calciner CO2 out(perc)           ...             \\\n",
            "307                 0.987319                0.784248           ...              \n",
            "55                  0.535990                0.033725           ...              \n",
            "\n",
            "     Calciner CH4 out(ppm)  Run status  Carbonator bottom temp (C)  \\\n",
            "307               0.455197         1.0                     0.95844   \n",
            "55                0.001773         0.0                     0.69043   \n",
            "\n",
            "     Carbonator mid temp (C)  Carbonator press (pa)  \\\n",
            "307                 0.976201               0.711242   \n",
            "55                  0.848256               0.181777   \n",
            "\n",
            "     Carbonator velocity (m/s)  Carbonator inlet CO2 (vol)  \\\n",
            "307                        1.0                         0.5   \n",
            "55                         1.0                         0.0   \n",
            "\n",
            "     Carbonator inlet N2 (vol)  Carbonator outlet CO2 (vol)  \\\n",
            "307                       0.85                     0.256757   \n",
            "55                        1.00                     0.025180   \n",
            "\n",
            "     Carbonator top temp (C)  \n",
            "307                 0.971884  \n",
            "55                  0.810441  \n",
            "\n",
            "[2 rows x 23 columns]\n",
            "307    0.0\n",
            "55     1.0\n",
            "Name: Rank_1, dtype: float64\n"
          ],
          "name": "stdout"
        }
      ]
    },
    {
      "metadata": {
        "id": "w5kKgRj0Qxsk",
        "colab_type": "text"
      },
      "cell_type": "markdown",
      "source": [
        "## Training the 2-layer Neural Network\n",
        "The following function trains the 2-layer neural network. First, we'll write some helper functions."
      ]
    },
    {
      "metadata": {
        "id": "_npQlt3gQxsm",
        "colab_type": "code",
        "colab": {}
      },
      "cell_type": "code",
      "source": [
        "# Activation (sigmoid) function\n",
        "def sigmoid(x):\n",
        "    return 1 / (1 + np.exp(-x))\n",
        "def sigmoid_prime(x):\n",
        "    return sigmoid(x) * (1-sigmoid(x))\n",
        "def error_formula(y, output):\n",
        "    return - y*np.log(output) - (1 - y) * np.log(1-output)"
      ],
      "execution_count": 0,
      "outputs": []
    },
    {
      "metadata": {
        "id": "Mp7nxljqQxsp",
        "colab_type": "text"
      },
      "cell_type": "markdown",
      "source": [
        "# Backpropagating the error\n",
        "The error term is given by the equation:\n",
        "\n",
        "$$ (y-\\hat{y}) \\sigma'(x) $$"
      ]
    },
    {
      "metadata": {
        "id": "Ky6XQ3h_Qxsp",
        "colab_type": "code",
        "colab": {}
      },
      "cell_type": "code",
      "source": [
        "# TODO: Write the error term formula\n",
        "def error_term_formula(x, y, output):\n",
        "  \n",
        "    return (y - output)*sigmoid_prime(x)"
      ],
      "execution_count": 0,
      "outputs": []
    },
    {
      "metadata": {
        "id": "bbwcBVKJQxss",
        "colab_type": "code",
        "outputId": "eeadf9ae-5c0d-43b8-8210-10c929c9d7bb",
        "colab": {
          "base_uri": "https://localhost:8080/",
          "height": 544
        }
      },
      "cell_type": "code",
      "source": [
        "# Neural Network hyperparameters\n",
        "epochs = 500\n",
        "learnrate = 0.5\n",
        "\n",
        "# Training function\n",
        "def train_nn(features, targets, epochs, learnrate):\n",
        "    \n",
        "    # Use to same seed to make debugging easier\n",
        "    np.random.seed(42)\n",
        "\n",
        "    n_records, n_features = features.shape\n",
        "    last_loss = None\n",
        "\n",
        "    # Initialize weights\n",
        "    weights = np.random.normal(scale=1 / n_features**.5, size=n_features)\n",
        "\n",
        "    for e in range(epochs):\n",
        "        del_w = np.zeros(weights.shape)\n",
        "        for x, y in zip(features.values, targets):\n",
        "            # Loop through all records, x is the input, y is the target\n",
        "\n",
        "            # Activation of the output unit\n",
        "            #   Notice we multiply the inputs and the weights here \n",
        "            #   rather than storing h as a separate variable \n",
        "            output = sigmoid(np.dot(x, weights))\n",
        "\n",
        "            # The error, the target minus the network output\n",
        "            error = error_formula(y, output)\n",
        "\n",
        "            # The error term\n",
        "            error_term = error_term_formula(x, y, output)\n",
        "\n",
        "            # The gradient descent step, the error times the gradient times the inputs\n",
        "            del_w += error_term * x\n",
        "\n",
        "        # Update the weights here. The learning rate times the \n",
        "        # change in weights, divided by the number of records to average\n",
        "        weights += learnrate * del_w / n_records\n",
        "\n",
        "        # Printing out the mean square error on the training set\n",
        "        if e % (epochs / 10) == 0:\n",
        "            out = sigmoid(np.dot(features, weights))\n",
        "            loss = np.mean((out - targets) ** 2)\n",
        "            print(\"Epoch:\", e)\n",
        "            if last_loss and last_loss < loss:\n",
        "                print(\"Train loss: \", loss, \"  WARNING - Loss Increasing\")\n",
        "            else:\n",
        "                print(\"Train loss: \", loss)\n",
        "            last_loss = loss\n",
        "            print(\"=========\")\n",
        "    print(\"Finished training!\")\n",
        "    return weights\n",
        "    \n",
        "weights = train_nn(features, targets, epochs, learnrate)"
      ],
      "execution_count": 0,
      "outputs": [
        {
          "output_type": "stream",
          "text": [
            "Epoch: 0\n",
            "Train loss:  0.3066451933941521\n",
            "=========\n",
            "Epoch: 50\n",
            "Train loss:  0.12156151922981288\n",
            "=========\n",
            "Epoch: 100\n",
            "Train loss:  0.07898658113314212\n",
            "=========\n",
            "Epoch: 150\n",
            "Train loss:  0.06135564219144924\n",
            "=========\n",
            "Epoch: 200\n",
            "Train loss:  0.05131163332370204\n",
            "=========\n",
            "Epoch: 250\n",
            "Train loss:  0.04439274133893136\n",
            "=========\n",
            "Epoch: 300\n",
            "Train loss:  0.03913743372141962\n",
            "=========\n",
            "Epoch: 350\n",
            "Train loss:  0.03493350199777742\n",
            "=========\n",
            "Epoch: 400\n",
            "Train loss:  0.0314667486761254\n",
            "=========\n",
            "Epoch: 450\n",
            "Train loss:  0.028549948574998395\n",
            "=========\n",
            "Finished training!\n"
          ],
          "name": "stdout"
        }
      ]
    },
    {
      "metadata": {
        "id": "MrOw_DKEQxsv",
        "colab_type": "text"
      },
      "cell_type": "markdown",
      "source": [
        "## Calculating the Accuracy on the Test Data"
      ]
    },
    {
      "metadata": {
        "id": "FkC3b9PYQxsw",
        "colab_type": "code",
        "outputId": "9888d2b5-482a-4765-eb31-f9e7f8e853f2",
        "colab": {
          "base_uri": "https://localhost:8080/",
          "height": 34
        }
      },
      "cell_type": "code",
      "source": [
        "# Calculate accuracy on test data\n",
        "test_out = sigmoid(np.dot(features_test, weights))\n",
        "predictions = test_out > 0.5\n",
        "accuracy = np.mean(predictions == targets_test)\n",
        "print(\"Prediction accuracy: {:.3f}\".format(accuracy))"
      ],
      "execution_count": 0,
      "outputs": [
        {
          "output_type": "stream",
          "text": [
            "Prediction accuracy: 0.912\n"
          ],
          "name": "stdout"
        }
      ]
    }
  ]
}