{
  "nbformat": 4,
  "nbformat_minor": 0,
  "metadata": {
    "colab": {
      "name": "Part 3 - Training Neural Networks (Solution).ipynb",
      "version": "0.3.2",
      "provenance": []
    },
    "language_info": {
      "codemirror_mode": {
        "name": "ipython",
        "version": 3
      },
      "file_extension": ".py",
      "mimetype": "text/x-python",
      "name": "python",
      "nbconvert_exporter": "python",
      "pygments_lexer": "ipython3",
      "version": "3.6.7"
    },
    "kernelspec": {
      "display_name": "Python 3",
      "language": "python",
      "name": "python3"
    }
  },
  "cells": [
    {
      "metadata": {
        "id": "Ejj7aC6KLAG9",
        "colab_type": "text"
      },
      "cell_type": "markdown",
      "source": [
        "# Training Neural Networks\n",
        "\n",
        "The network we built in the previous part isn't so smart, it doesn't know anything about our handwritten digits. Neural networks with non-linear activations work like universal function approximators. There is some function that maps your input to the output. For example, images of handwritten digits to class probabilities. The power of neural networks is that we can train them to approximate this function, and basically any function given enough data and compute time.\n",
        "\n",
        "<img src=\"https://github.com/engrsmukhtar/deep-learning-v2-pytorch/blob/master/intro-to-pytorch/assets/function_approx.png?raw=1\" width=500px>\n",
        "\n",
        "At first the network is naive, it doesn't know the function mapping the inputs to the outputs. We train the network by showing it examples of real data, then adjusting the network parameters such that it approximates this function.\n",
        "\n",
        "To find these parameters, we need to know how poorly the network is predicting the real outputs. For this we calculate a **loss function** (also called the cost), a measure of our prediction error. For example, the mean squared loss is often used in regression and binary classification problems\n",
        "\n",
        "$$\n",
        "\\large \\ell = \\frac{1}{2n}\\sum_i^n{\\left(y_i - \\hat{y}_i\\right)^2}\n",
        "$$\n",
        "\n",
        "where $n$ is the number of training examples, $y_i$ are the true labels, and $\\hat{y}_i$ are the predicted labels.\n",
        "\n",
        "By minimizing this loss with respect to the network parameters, we can find configurations where the loss is at a minimum and the network is able to predict the correct labels with high accuracy. We find this minimum using a process called **gradient descent**. The gradient is the slope of the loss function and points in the direction of fastest change. To get to the minimum in the least amount of time, we then want to follow the gradient (downwards). You can think of this like descending a mountain by following the steepest slope to the base.\n",
        "\n",
        "<img src='https://github.com/engrsmukhtar/deep-learning-v2-pytorch/blob/master/intro-to-pytorch/assets/gradient_descent.png?raw=1' width=350px>"
      ]
    },
    {
      "metadata": {
        "id": "O066D5RdLAG_",
        "colab_type": "text"
      },
      "cell_type": "markdown",
      "source": [
        "## Backpropagation\n",
        "\n",
        "For single layer networks, gradient descent is straightforward to implement. However, it's more complicated for deeper, multilayer neural networks like the one we've built. Complicated enough that it took about 30 years before researchers figured out how to train multilayer networks.\n",
        "\n",
        "Training multilayer networks is done through **backpropagation** which is really just an application of the chain rule from calculus. It's easiest to understand if we convert a two layer network into a graph representation.\n",
        "\n",
        "<img src='https://github.com/engrsmukhtar/deep-learning-v2-pytorch/blob/master/intro-to-pytorch/assets/backprop_diagram.png?raw=1' width=550px>\n",
        "\n",
        "In the forward pass through the network, our data and operations go from bottom to top here. We pass the input $x$ through a linear transformation $L_1$ with weights $W_1$ and biases $b_1$. The output then goes through the sigmoid operation $S$ and another linear transformation $L_2$. Finally we calculate the loss $\\ell$. We use the loss as a measure of how bad the network's predictions are. The goal then is to adjust the weights and biases to minimize the loss.\n",
        "\n",
        "To train the weights with gradient descent, we propagate the gradient of the loss backwards through the network. Each operation has some gradient between the inputs and outputs. As we send the gradients backwards, we multiply the incoming gradient with the gradient for the operation. Mathematically, this is really just calculating the gradient of the loss with respect to the weights using the chain rule.\n",
        "\n",
        "$$\n",
        "\\large \\frac{\\partial \\ell}{\\partial W_1} = \\frac{\\partial L_1}{\\partial W_1} \\frac{\\partial S}{\\partial L_1} \\frac{\\partial L_2}{\\partial S} \\frac{\\partial \\ell}{\\partial L_2}\n",
        "$$\n",
        "\n",
        "**Note:** I'm glossing over a few details here that require some knowledge of vector calculus, but they aren't necessary to understand what's going on.\n",
        "\n",
        "We update our weights using this gradient with some learning rate $\\alpha$. \n",
        "\n",
        "$$\n",
        "\\large W^\\prime_1 = W_1 - \\alpha \\frac{\\partial \\ell}{\\partial W_1}\n",
        "$$\n",
        "\n",
        "The learning rate $\\alpha$ is set such that the weight update steps are small enough that the iterative method settles in a minimum."
      ]
    },
    {
      "metadata": {
        "id": "Rz0NAQ6RLAHA",
        "colab_type": "text"
      },
      "cell_type": "markdown",
      "source": [
        "## Losses in PyTorch\n",
        "\n",
        "Let's start by seeing how we calculate the loss with PyTorch. Through the `nn` module, PyTorch provides losses such as the cross-entropy loss (`nn.CrossEntropyLoss`). You'll usually see the loss assigned to `criterion`. As noted in the last part, with a classification problem such as MNIST, we're using the softmax function to predict class probabilities. With a softmax output, you want to use cross-entropy as the loss. To actually calculate the loss, you first define the criterion then pass in the output of your network and the correct labels.\n",
        "\n",
        "Something really important to note here. Looking at [the documentation for `nn.CrossEntropyLoss`](https://pytorch.org/docs/stable/nn.html#torch.nn.CrossEntropyLoss),\n",
        "\n",
        "> This criterion combines `nn.LogSoftmax()` and `nn.NLLLoss()` in one single class.\n",
        ">\n",
        "> The input is expected to contain scores for each class.\n",
        "\n",
        "This means we need to pass in the raw output of our network into the loss, not the output of the softmax function. This raw output is usually called the *logits* or *scores*. We use the logits because softmax gives you probabilities which will often be very close to zero or one but floating-point numbers can't accurately represent values near zero or one ([read more here](https://docs.python.org/3/tutorial/floatingpoint.html)). It's usually best to avoid doing calculations with probabilities, typically we use log-probabilities."
      ]
    },
    {
      "metadata": {
        "id": "1qr4EOFJLAHB",
        "colab_type": "code",
        "colab": {}
      },
      "cell_type": "code",
      "source": [
        "import torch\n",
        "from torch import nn\n",
        "import torch.nn.functional as F\n",
        "from torchvision import datasets, transforms\n",
        "from torch import optim\n",
        "import matplotlib.pyplot as plt\n",
        "import numpy as np\n",
        "from torch import nn, optim\n",
        "from torch.autograd import Variable\n",
        "\n",
        "\n",
        "%matplotlib inline\n",
        "# Define a transform to normalize the data\n",
        "transform = transforms.Compose([transforms.ToTensor(),\n",
        "                                transforms.Normalize((0.5,), (0.5,)),\n",
        "                              ])\n",
        "# Download and load the training data\n",
        "trainset = datasets.MNIST('~/.pytorch/MNIST_data/', download=True, train=True, transform=transform)\n",
        "trainloader = torch.utils.data.DataLoader(trainset, batch_size=64, shuffle=True)"
      ],
      "execution_count": 0,
      "outputs": []
    },
    {
      "metadata": {
        "id": "qdLhtZCxLAHF",
        "colab_type": "code",
        "outputId": "44962fc1-aa4e-43fa-e521-f48198d48314",
        "colab": {
          "base_uri": "https://localhost:8080/",
          "height": 34
        }
      },
      "cell_type": "code",
      "source": [
        "# Build a feed-forward network\n",
        "model = nn.Sequential(nn.Linear(784, 128),\n",
        "                      nn.ReLU(),\n",
        "                      nn.Linear(128, 64),\n",
        "                      nn.ReLU(),\n",
        "                      nn.Linear(64, 10))\n",
        "\n",
        "# Define the loss\n",
        "criterion = nn.CrossEntropyLoss()\n",
        "\n",
        "# Get our data\n",
        "images, labels = next(iter(trainloader))\n",
        "# Flatten images\n",
        "images = images.view(images.shape[0], -1)\n",
        "\n",
        "# Forward pass, get our logits\n",
        "logits = model(images)\n",
        "# Calculate the loss with the logits and the labels\n",
        "loss = criterion(logits, labels)\n",
        "\n",
        "print(loss)"
      ],
      "execution_count": 44,
      "outputs": [
        {
          "output_type": "stream",
          "text": [
            "tensor(2.3051, grad_fn=<NllLossBackward>)\n"
          ],
          "name": "stdout"
        }
      ]
    },
    {
      "metadata": {
        "id": "l_YdO91gLAHO",
        "colab_type": "text"
      },
      "cell_type": "markdown",
      "source": [
        "In my experience it's more convenient to build the model with a log-softmax output using `nn.LogSoftmax` or `F.log_softmax` ([documentation](https://pytorch.org/docs/stable/nn.html#torch.nn.LogSoftmax)). Then you can get the actual probabilites by taking the exponential `torch.exp(output)`. With a log-softmax output, you want to use the negative log likelihood loss, `nn.NLLLoss` ([documentation](https://pytorch.org/docs/stable/nn.html#torch.nn.NLLLoss)).\n",
        "\n",
        ">**Exercise:** Build a model that returns the log-softmax as the output and calculate the loss using the negative log likelihood loss."
      ]
    },
    {
      "metadata": {
        "id": "qNTfyLUzLAHP",
        "colab_type": "code",
        "outputId": "0fbe85ae-070b-4e71-8041-2a74b34aebad",
        "colab": {
          "base_uri": "https://localhost:8080/",
          "height": 34
        }
      },
      "cell_type": "code",
      "source": [
        "## Solution\n",
        "\n",
        "# Build a feed-forward network\n",
        "model = nn.Sequential(nn.Linear(784, 128),\n",
        "                      nn.ReLU(),\n",
        "                      nn.Linear(128, 64),\n",
        "                      nn.ReLU(),\n",
        "                      nn.Linear(64, 10),\n",
        "                      nn.LogSoftmax(dim=1))\n",
        "\n",
        "# Define the loss\n",
        "criterion = nn.NLLLoss()\n",
        "\n",
        "# Get our data\n",
        "images, labels = next(iter(trainloader))\n",
        "# Flatten images\n",
        "images = images.view(images.shape[0], -1)\n",
        "\n",
        "# Forward pass, get our log-probabilities\n",
        "logps = model(images)\n",
        "# Calculate the loss with the logps and the labels\n",
        "loss = criterion(logps, labels)\n",
        "\n",
        "print(loss)"
      ],
      "execution_count": 45,
      "outputs": [
        {
          "output_type": "stream",
          "text": [
            "tensor(2.3259, grad_fn=<NllLossBackward>)\n"
          ],
          "name": "stdout"
        }
      ]
    },
    {
      "metadata": {
        "id": "9sIAni8TLAHS",
        "colab_type": "text"
      },
      "cell_type": "markdown",
      "source": [
        "## Autograd\n",
        "\n",
        "Now that we know how to calculate a loss, how do we use it to perform backpropagation? Torch provides a module, `autograd`, for automatically calculating the gradients of tensors. We can use it to calculate the gradients of all our parameters with respect to the loss. Autograd works by keeping track of operations performed on tensors, then going backwards through those operations, calculating gradients along the way. To make sure PyTorch keeps track of operations on a tensor and calculates the gradients, you need to set `requires_grad = True` on a tensor. You can do this at creation with the `requires_grad` keyword, or at any time with `x.requires_grad_(True)`.\n",
        "\n",
        "You can turn off gradients for a block of code with the `torch.no_grad()` content:\n",
        "```python\n",
        "x = torch.zeros(1, requires_grad=True)\n",
        ">>> with torch.no_grad():\n",
        "...     y = x * 2\n",
        ">>> y.requires_grad\n",
        "False\n",
        "```\n",
        "\n",
        "Also, you can turn on or off gradients altogether with `torch.set_grad_enabled(True|False)`.\n",
        "\n",
        "The gradients are computed with respect to some variable `z` with `z.backward()`. This does a backward pass through the operations that created `z`."
      ]
    },
    {
      "metadata": {
        "id": "30iCuknTLAHT",
        "colab_type": "code",
        "outputId": "a7afb313-277a-47c7-b8ec-48685f2c6eb4",
        "colab": {
          "base_uri": "https://localhost:8080/",
          "height": 51
        }
      },
      "cell_type": "code",
      "source": [
        "x = torch.randn(2,2, requires_grad=True)\n",
        "print(x)"
      ],
      "execution_count": 46,
      "outputs": [
        {
          "output_type": "stream",
          "text": [
            "tensor([[ 0.1738, -2.6574],\n",
            "        [-0.0418,  0.2405]], requires_grad=True)\n"
          ],
          "name": "stdout"
        }
      ]
    },
    {
      "metadata": {
        "id": "0KKyEHE3LAHW",
        "colab_type": "code",
        "outputId": "bdbfaaaa-e47f-4bba-a92b-54e4bdc6c85a",
        "colab": {
          "base_uri": "https://localhost:8080/",
          "height": 51
        }
      },
      "cell_type": "code",
      "source": [
        "y = x**2\n",
        "print(y)"
      ],
      "execution_count": 47,
      "outputs": [
        {
          "output_type": "stream",
          "text": [
            "tensor([[3.0198e-02, 7.0620e+00],\n",
            "        [1.7513e-03, 5.7852e-02]], grad_fn=<PowBackward0>)\n"
          ],
          "name": "stdout"
        }
      ]
    },
    {
      "metadata": {
        "id": "X_rC0601LAHc",
        "colab_type": "text"
      },
      "cell_type": "markdown",
      "source": [
        "Below we can see the operation that created `y`, a power operation `PowBackward0`."
      ]
    },
    {
      "metadata": {
        "id": "zGnq3BNJLAHd",
        "colab_type": "code",
        "outputId": "fdab9206-6bfd-4207-ce87-e43dbfe82538",
        "colab": {
          "base_uri": "https://localhost:8080/",
          "height": 34
        }
      },
      "cell_type": "code",
      "source": [
        "## grad_fn shows the function that generated this variable\n",
        "print(y.grad_fn)"
      ],
      "execution_count": 48,
      "outputs": [
        {
          "output_type": "stream",
          "text": [
            "<PowBackward0 object at 0x7fc8be61fac8>\n"
          ],
          "name": "stdout"
        }
      ]
    },
    {
      "metadata": {
        "id": "4ZhDxiVFLAHg",
        "colab_type": "text"
      },
      "cell_type": "markdown",
      "source": [
        "The autograd module keeps track of these operations and knows how to calculate the gradient for each one. In this way, it's able to calculate the gradients for a chain of operations, with respect to any one tensor. Let's reduce the tensor `y` to a scalar value, the mean."
      ]
    },
    {
      "metadata": {
        "id": "HLSnUknBLAHh",
        "colab_type": "code",
        "outputId": "99738e06-bdb3-445f-afd4-7410bf365cc3",
        "colab": {
          "base_uri": "https://localhost:8080/",
          "height": 34
        }
      },
      "cell_type": "code",
      "source": [
        "z = y.mean()\n",
        "print(z)"
      ],
      "execution_count": 49,
      "outputs": [
        {
          "output_type": "stream",
          "text": [
            "tensor(1.7879, grad_fn=<MeanBackward1>)\n"
          ],
          "name": "stdout"
        }
      ]
    },
    {
      "metadata": {
        "id": "10b7dHkELAHl",
        "colab_type": "text"
      },
      "cell_type": "markdown",
      "source": [
        "You can check the gradients for `x` and `y` but they are empty currently."
      ]
    },
    {
      "metadata": {
        "id": "xltmGeYILAHl",
        "colab_type": "code",
        "outputId": "64e75841-3bbd-422b-80c6-1605a303e69b",
        "colab": {
          "base_uri": "https://localhost:8080/",
          "height": 34
        }
      },
      "cell_type": "code",
      "source": [
        "print(x.grad)"
      ],
      "execution_count": 50,
      "outputs": [
        {
          "output_type": "stream",
          "text": [
            "None\n"
          ],
          "name": "stdout"
        }
      ]
    },
    {
      "metadata": {
        "id": "WDAvACAmLAHr",
        "colab_type": "text"
      },
      "cell_type": "markdown",
      "source": [
        "To calculate the gradients, you need to run the `.backward` method on a Variable, `z` for example. This will calculate the gradient for `z` with respect to `x`\n",
        "\n",
        "$$\n",
        "\\frac{\\partial z}{\\partial x} = \\frac{\\partial}{\\partial x}\\left[\\frac{1}{n}\\sum_i^n x_i^2\\right] = \\frac{x}{2}\n",
        "$$"
      ]
    },
    {
      "metadata": {
        "id": "RgskY6q-LAHs",
        "colab_type": "code",
        "outputId": "84646e34-a455-4a79-84f8-bf33b132d12b",
        "colab": {
          "base_uri": "https://localhost:8080/",
          "height": 85
        }
      },
      "cell_type": "code",
      "source": [
        "z.backward()\n",
        "print(x.grad)\n",
        "print(x/2)"
      ],
      "execution_count": 51,
      "outputs": [
        {
          "output_type": "stream",
          "text": [
            "tensor([[ 0.0869, -1.3287],\n",
            "        [-0.0209,  0.1203]])\n",
            "tensor([[ 0.0869, -1.3287],\n",
            "        [-0.0209,  0.1203]], grad_fn=<DivBackward0>)\n"
          ],
          "name": "stdout"
        }
      ]
    },
    {
      "metadata": {
        "id": "gzQ62QqzLAHw",
        "colab_type": "text"
      },
      "cell_type": "markdown",
      "source": [
        "These gradients calculations are particularly useful for neural networks. For training we need the gradients of the weights with respect to the cost. With PyTorch, we run data forward through the network to calculate the loss, then, go backwards to calculate the gradients with respect to the loss. Once we have the gradients we can make a gradient descent step. "
      ]
    },
    {
      "metadata": {
        "id": "JrQK7-j6LAHw",
        "colab_type": "text"
      },
      "cell_type": "markdown",
      "source": [
        "## Loss and Autograd together\n",
        "\n",
        "When we create a network with PyTorch, all of the parameters are initialized with `requires_grad = True`. This means that when we calculate the loss and call `loss.backward()`, the gradients for the parameters are calculated. These gradients are used to update the weights with gradient descent. Below you can see an example of calculating the gradients using a backwards pass."
      ]
    },
    {
      "metadata": {
        "id": "TrwbKOeFLAHx",
        "colab_type": "code",
        "colab": {}
      },
      "cell_type": "code",
      "source": [
        "# Build a feed-forward network\n",
        "model = nn.Sequential(nn.Linear(784, 128),\n",
        "                      nn.ReLU(),\n",
        "                      nn.Linear(128, 64),\n",
        "                      nn.ReLU(),\n",
        "                      nn.Linear(64, 10),\n",
        "                      nn.LogSoftmax(dim=1))\n",
        "\n",
        "criterion = nn.NLLLoss()\n",
        "images, labels = next(iter(trainloader))\n",
        "images = images.view(images.shape[0], -1)\n",
        "\n",
        "logps = model(images)\n",
        "loss = criterion(logps, labels)"
      ],
      "execution_count": 0,
      "outputs": []
    },
    {
      "metadata": {
        "id": "TOCJV7flLAH3",
        "colab_type": "code",
        "outputId": "a79d42c9-4a5b-4857-8c7a-964468db3110",
        "colab": {
          "base_uri": "https://localhost:8080/",
          "height": 289
        }
      },
      "cell_type": "code",
      "source": [
        "print('Before backward pass: \\n', model[0].weight.grad)\n",
        "\n",
        "loss.backward()\n",
        "\n",
        "print('After backward pass: \\n', model[0].weight.grad)"
      ],
      "execution_count": 53,
      "outputs": [
        {
          "output_type": "stream",
          "text": [
            "Before backward pass: \n",
            " None\n",
            "After backward pass: \n",
            " tensor([[ 0.0000e+00,  0.0000e+00,  0.0000e+00,  ...,  0.0000e+00,\n",
            "          0.0000e+00,  0.0000e+00],\n",
            "        [ 1.5929e-04,  1.5929e-04,  1.5929e-04,  ...,  1.5929e-04,\n",
            "          1.5929e-04,  1.5929e-04],\n",
            "        [-5.6046e-04, -5.6046e-04, -5.6046e-04,  ..., -5.6046e-04,\n",
            "         -5.6046e-04, -5.6046e-04],\n",
            "        ...,\n",
            "        [ 7.9965e-04,  7.9965e-04,  7.9965e-04,  ...,  7.9965e-04,\n",
            "          7.9965e-04,  7.9965e-04],\n",
            "        [-7.1819e-04, -7.1819e-04, -7.1819e-04,  ..., -7.1819e-04,\n",
            "         -7.1819e-04, -7.1819e-04],\n",
            "        [ 4.1898e-05,  4.1898e-05,  4.1898e-05,  ...,  4.1898e-05,\n",
            "          4.1898e-05,  4.1898e-05]])\n"
          ],
          "name": "stdout"
        }
      ]
    },
    {
      "metadata": {
        "id": "bNkm5ZP-LAH-",
        "colab_type": "text"
      },
      "cell_type": "markdown",
      "source": [
        "## Training the network!\n",
        "\n",
        "There's one last piece we need to start training, an optimizer that we'll use to update the weights with the gradients. We get these from PyTorch's [`optim` package](https://pytorch.org/docs/stable/optim.html). For example we can use stochastic gradient descent with `optim.SGD`. You can see how to define an optimizer below."
      ]
    },
    {
      "metadata": {
        "id": "VRAwA64MLAH_",
        "colab_type": "code",
        "colab": {}
      },
      "cell_type": "code",
      "source": [
        "from torch import optim\n",
        "\n",
        "# Optimizers require the parameters to optimize and a learning rate\n",
        "optimizer = optim.SGD(model.parameters(), lr=0.01)"
      ],
      "execution_count": 0,
      "outputs": []
    },
    {
      "metadata": {
        "id": "xYRKNMGlLAID",
        "colab_type": "text"
      },
      "cell_type": "markdown",
      "source": [
        "Now we know how to use all the individual parts so it's time to see how they work together. Let's consider just one learning step before looping through all the data. The general process with PyTorch:\n",
        "\n",
        "* Make a forward pass through the network \n",
        "* Use the network output to calculate the loss\n",
        "* Perform a backward pass through the network with `loss.backward()` to calculate the gradients\n",
        "* Take a step with the optimizer to update the weights\n",
        "\n",
        "Below I'll go through one training step and print out the weights and gradients so you can see how it changes. Note that I have a line of code `optimizer.zero_grad()`. When you do multiple backwards passes with the same parameters, the gradients are accumulated. This means that you need to zero the gradients on each training pass or you'll retain gradients from previous training batches."
      ]
    },
    {
      "metadata": {
        "id": "0ChjYu9SLAIE",
        "colab_type": "code",
        "outputId": "360477b4-a1f0-4da2-ee24-2805eb835246",
        "colab": {
          "base_uri": "https://localhost:8080/",
          "height": 391
        }
      },
      "cell_type": "code",
      "source": [
        "print('Initial weights - ', model[0].weight)\n",
        "\n",
        "images, labels = next(iter(trainloader))\n",
        "images.resize_(64, 784)\n",
        "\n",
        "# Clear the gradients, do this because gradients are accumulated\n",
        "optimizer.zero_grad()\n",
        "\n",
        "# Forward pass, then backward pass, then update weights\n",
        "output = model(images)\n",
        "loss = criterion(output, labels)\n",
        "loss.backward()\n",
        "print('Gradient -', model[0].weight.grad)"
      ],
      "execution_count": 55,
      "outputs": [
        {
          "output_type": "stream",
          "text": [
            "Initial weights -  Parameter containing:\n",
            "tensor([[ 0.0180, -0.0105,  0.0350,  ..., -0.0006, -0.0187,  0.0125],\n",
            "        [ 0.0172, -0.0344, -0.0139,  ...,  0.0234, -0.0153,  0.0328],\n",
            "        [-0.0047, -0.0213, -0.0096,  ..., -0.0087,  0.0180, -0.0225],\n",
            "        ...,\n",
            "        [ 0.0007,  0.0062,  0.0223,  ..., -0.0200, -0.0083,  0.0135],\n",
            "        [ 0.0073,  0.0134,  0.0191,  ..., -0.0280, -0.0092,  0.0204],\n",
            "        [ 0.0312, -0.0037,  0.0263,  ..., -0.0211, -0.0356, -0.0173]],\n",
            "       requires_grad=True)\n",
            "Gradient - tensor([[ 0.0000e+00,  0.0000e+00,  0.0000e+00,  ...,  0.0000e+00,\n",
            "          0.0000e+00,  0.0000e+00],\n",
            "        [ 4.3972e-04,  4.3972e-04,  4.3972e-04,  ...,  4.3972e-04,\n",
            "          4.3972e-04,  4.3972e-04],\n",
            "        [-7.8829e-05, -7.8829e-05, -7.8829e-05,  ..., -7.8829e-05,\n",
            "         -7.8829e-05, -7.8829e-05],\n",
            "        ...,\n",
            "        [ 3.7893e-03,  3.7893e-03,  3.7893e-03,  ...,  3.7893e-03,\n",
            "          3.7893e-03,  3.7893e-03],\n",
            "        [-4.2489e-04, -4.2489e-04, -4.2489e-04,  ..., -4.2489e-04,\n",
            "         -4.2489e-04, -4.2489e-04],\n",
            "        [-3.4436e-04, -3.4436e-04, -3.4436e-04,  ..., -3.4436e-04,\n",
            "         -3.4436e-04, -3.4436e-04]])\n"
          ],
          "name": "stdout"
        }
      ]
    },
    {
      "metadata": {
        "id": "8gULJmzzLAIJ",
        "colab_type": "code",
        "outputId": "6fdbe1c3-dc28-4ac0-fbbf-f4a6209855dd",
        "colab": {
          "base_uri": "https://localhost:8080/",
          "height": 170
        }
      },
      "cell_type": "code",
      "source": [
        "# Take an update step and few the new weights\n",
        "optimizer.step()\n",
        "print('Updated weights - ', model[0].weight)"
      ],
      "execution_count": 56,
      "outputs": [
        {
          "output_type": "stream",
          "text": [
            "Updated weights -  Parameter containing:\n",
            "tensor([[ 0.0180, -0.0105,  0.0350,  ..., -0.0006, -0.0187,  0.0125],\n",
            "        [ 0.0172, -0.0344, -0.0139,  ...,  0.0234, -0.0153,  0.0328],\n",
            "        [-0.0047, -0.0213, -0.0096,  ..., -0.0087,  0.0180, -0.0225],\n",
            "        ...,\n",
            "        [ 0.0006,  0.0062,  0.0223,  ..., -0.0201, -0.0083,  0.0135],\n",
            "        [ 0.0073,  0.0134,  0.0191,  ..., -0.0280, -0.0091,  0.0204],\n",
            "        [ 0.0312, -0.0037,  0.0263,  ..., -0.0211, -0.0356, -0.0173]],\n",
            "       requires_grad=True)\n"
          ],
          "name": "stdout"
        }
      ]
    },
    {
      "metadata": {
        "id": "UqwUMM9MLAIU",
        "colab_type": "text"
      },
      "cell_type": "markdown",
      "source": [
        "### Training for real\n",
        "\n",
        "Now we'll put this algorithm into a loop so we can go through all the images. Some nomenclature, one pass through the entire dataset is called an *epoch*. So here we're going to loop through `trainloader` to get our training batches. For each batch, we'll doing a training pass where we calculate the loss, do a backwards pass, and update the weights.\n",
        "\n",
        "> **Exercise: ** Implement the training pass for our network. If you implemented it correctly, you should see the training loss drop with each epoch."
      ]
    },
    {
      "metadata": {
        "id": "NfZJgezRLAIV",
        "colab_type": "code",
        "outputId": "8b5921df-6f71-4317-83f9-42fbcd711f0f",
        "colab": {
          "base_uri": "https://localhost:8080/",
          "height": 102
        }
      },
      "cell_type": "code",
      "source": [
        "model = nn.Sequential(nn.Linear(784, 128),\n",
        "                      nn.ReLU(),\n",
        "                      nn.Linear(128, 64),\n",
        "                      nn.ReLU(),\n",
        "                      nn.Linear(64, 10),\n",
        "                      nn.LogSoftmax(dim=1))\n",
        "\n",
        "criterion = nn.NLLLoss()\n",
        "optimizer = optim.SGD(model.parameters(), lr=0.003)\n",
        "\n",
        "epochs = 5\n",
        "for e in range(epochs):\n",
        "    running_loss = 0\n",
        "    for images, labels in trainloader:\n",
        "        # Flatten MNIST images into a 784 long vector\n",
        "        images = images.view(images.shape[0], -1)\n",
        "    \n",
        "        # TODO: Training pass\n",
        "        optimizer.zero_grad()\n",
        "        \n",
        "        output = model(images)\n",
        "        loss = criterion(output, labels)\n",
        "        loss.backward()\n",
        "        optimizer.step()\n",
        "        \n",
        "        running_loss += loss.item()\n",
        "    else:\n",
        "        print(f\"Training loss: {running_loss/len(trainloader)}\")"
      ],
      "execution_count": 57,
      "outputs": [
        {
          "output_type": "stream",
          "text": [
            "Training loss: 1.9404134344952955\n",
            "Training loss: 0.9019382017126469\n",
            "Training loss: 0.5381828232932446\n",
            "Training loss: 0.4354229074741986\n",
            "Training loss: 0.3889941358839525\n"
          ],
          "name": "stdout"
        }
      ]
    },
    {
      "metadata": {
        "id": "BCJ35QjuLAIa",
        "colab_type": "text"
      },
      "cell_type": "markdown",
      "source": [
        "With the network trained, we can check out it's predictions."
      ]
    },
    {
      "metadata": {
        "id": "kiJEP58mLar8",
        "colab_type": "code",
        "colab": {}
      },
      "cell_type": "code",
      "source": [
        "import matplotlib.pyplot as plt\n",
        "import numpy as np\n",
        "from torch import nn, optim\n",
        "from torch.autograd import Variable\n",
        "\n",
        "def view_classify(img, ps, version=\"MNIST\"):\n",
        "    ''' Function for viewing an image and it's predicted classes.\n",
        "    '''\n",
        "    ps = ps.data.numpy().squeeze()\n",
        "\n",
        "    fig, (ax1, ax2) = plt.subplots(figsize=(6,9), ncols=2)\n",
        "    ax1.imshow(img.resize_(1, 28, 28).numpy().squeeze())\n",
        "    ax1.axis('off')\n",
        "    ax2.barh(np.arange(10), ps)\n",
        "    ax2.set_aspect(0.1)\n",
        "    ax2.set_yticks(np.arange(10))\n",
        "    if version == \"MNIST\":\n",
        "        ax2.set_yticklabels(np.arange(10))\n",
        "    elif version == \"Fashion\":\n",
        "        ax2.set_yticklabels(['T-shirt/top',\n",
        "                            'Trouser',\n",
        "                            'Pullover',\n",
        "                            'Dress',\n",
        "                            'Coat',\n",
        "                            'Sandal',\n",
        "                            'Shirt',\n",
        "                            'Sneaker',\n",
        "                            'Bag',\n",
        "                            'Ankle Boot'], size='small');\n",
        "    ax2.set_title('Class Probability')\n",
        "    ax2.set_xlim(0, 1.1)\n",
        "\n",
        "    plt.tight_layout()"
      ],
      "execution_count": 0,
      "outputs": []
    },
    {
      "metadata": {
        "id": "XVgt9vWbLAIb",
        "colab_type": "code",
        "outputId": "d703386f-865e-4933-b822-8dfbc1898358",
        "colab": {
          "base_uri": "https://localhost:8080/",
          "height": 244
        }
      },
      "cell_type": "code",
      "source": [
        "%matplotlib inline\n",
        "import helper\n",
        "\n",
        "images, labels = next(iter(trainloader))\n",
        "\n",
        "img = images[0].view(1, 784)\n",
        "# Turn off gradients to speed up this part\n",
        "with torch.no_grad():\n",
        "    logps = model(img)\n",
        "\n",
        "# Output of the network are log-probabilities, need to take exponential for probabilities\n",
        "ps = torch.exp(logps)\n",
        "view_classify(img.view(1, 28, 28), ps)"
      ],
      "execution_count": 59,
      "outputs": [
        {
          "output_type": "display_data",
          "data": {
            "image/png": "[encoded data removed]",
            "text/plain": [
              "<Figure size 432x648 with 2 Axes>"
            ]
          },
          "metadata": {
            "tags": []
          }
        }
      ]
    },
    {
      "metadata": {
        "id": "RH9q991lJIXP",
        "colab_type": "code",
        "colab": {
          "base_uri": "https://localhost:8080/",
          "height": 225
        },
        "outputId": "126c4502-4548-4958-9260-798ffa9519e8"
      },
      "cell_type": "code",
      "source": [
        "import pandas as pd\n",
        "import numpy as np\n",
        "\n",
        "\n",
        "# Reading the csv file into a pandas DataFrame\n",
        "\n",
        "url = 'https://raw.githubusercontent.com/engrsmukhtar/AI4EnergyProcessSystems/AI4EPS-1/AI%20Models/model2/10.%20tot%20mass%20w%20H2O-hbrcacabo3-duration-c-zero-based-targets.csv'\n",
        "data = pd.read_csv(url)\n",
        "\n",
        "# Printing out some rows from our data\n",
        "data[:3]"
      ],
      "execution_count": 153,
      "outputs": [
        {
          "output_type": "execute_result",
          "data": {
            "text/html": [
              "<div>\n",
              "<style scoped>\n",
              "    .dataframe tbody tr th:only-of-type {\n",
              "        vertical-align: middle;\n",
              "    }\n",
              "\n",
              "    .dataframe tbody tr th {\n",
              "        vertical-align: top;\n",
              "    }\n",
              "\n",
              "    .dataframe thead th {\n",
              "        text-align: right;\n",
              "    }\n",
              "</style>\n",
              "<table border=\"1\" class=\"dataframe\">\n",
              "  <thead>\n",
              "    <tr style=\"text-align: right;\">\n",
              "      <th></th>\n",
              "      <th>Duration</th>\n",
              "      <th>HBr_CaC03_mass_(g)</th>\n",
              "      <th>Calciner temp [C]</th>\n",
              "      <th>Calciner Heater kW</th>\n",
              "      <th>Calciner Pressure ( Pa )</th>\n",
              "      <th>Calciner  velocity (m/s)</th>\n",
              "      <th>Calciner O2 in(vol)</th>\n",
              "      <th>Calciner N2 in(vol)</th>\n",
              "      <th>Calciner top temp (C )</th>\n",
              "      <th>Calciner CO2 out(perc)</th>\n",
              "      <th>...</th>\n",
              "      <th>Calciner CO out(ppm)</th>\n",
              "      <th>Calciner CH4 out(ppm)</th>\n",
              "      <th>Carbonator bottom temp (C)</th>\n",
              "      <th>Carbonator mid temp ( C)</th>\n",
              "      <th>Carbonator press (pa)</th>\n",
              "      <th>Carbonator velocity (m/s)</th>\n",
              "      <th>Carbonator inlet N2 (vol)</th>\n",
              "      <th>Carbonator outlet CO2 (vol)</th>\n",
              "      <th>Carbonator top temp ( C)</th>\n",
              "      <th>Rank</th>\n",
              "    </tr>\n",
              "  </thead>\n",
              "  <tbody>\n",
              "    <tr>\n",
              "      <th>0</th>\n",
              "      <td>1.0</td>\n",
              "      <td>4200</td>\n",
              "      <td>632.75</td>\n",
              "      <td>7.8</td>\n",
              "      <td>3216.0</td>\n",
              "      <td>0.32</td>\n",
              "      <td>40</td>\n",
              "      <td>60</td>\n",
              "      <td>450.680</td>\n",
              "      <td>0.406479</td>\n",
              "      <td>...</td>\n",
              "      <td>38.097718</td>\n",
              "      <td>0.237199</td>\n",
              "      <td>446.905</td>\n",
              "      <td>560.105</td>\n",
              "      <td>2680.0</td>\n",
              "      <td>2.5</td>\n",
              "      <td>100</td>\n",
              "      <td>0.0714</td>\n",
              "      <td>529.81</td>\n",
              "      <td>0</td>\n",
              "    </tr>\n",
              "    <tr>\n",
              "      <th>1</th>\n",
              "      <td>2.0</td>\n",
              "      <td>4200</td>\n",
              "      <td>634.72</td>\n",
              "      <td>7.8</td>\n",
              "      <td>3190.5</td>\n",
              "      <td>0.32</td>\n",
              "      <td>40</td>\n",
              "      <td>60</td>\n",
              "      <td>451.165</td>\n",
              "      <td>0.372648</td>\n",
              "      <td>...</td>\n",
              "      <td>27.277778</td>\n",
              "      <td>0.089655</td>\n",
              "      <td>446.200</td>\n",
              "      <td>558.915</td>\n",
              "      <td>2905.5</td>\n",
              "      <td>2.5</td>\n",
              "      <td>100</td>\n",
              "      <td>-0.1666</td>\n",
              "      <td>529.27</td>\n",
              "      <td>0</td>\n",
              "    </tr>\n",
              "    <tr>\n",
              "      <th>2</th>\n",
              "      <td>3.0</td>\n",
              "      <td>4200</td>\n",
              "      <td>636.50</td>\n",
              "      <td>7.8</td>\n",
              "      <td>3191.5</td>\n",
              "      <td>0.32</td>\n",
              "      <td>40</td>\n",
              "      <td>60</td>\n",
              "      <td>451.365</td>\n",
              "      <td>0.358011</td>\n",
              "      <td>...</td>\n",
              "      <td>5.568223</td>\n",
              "      <td>0.000348</td>\n",
              "      <td>445.035</td>\n",
              "      <td>558.565</td>\n",
              "      <td>2912.5</td>\n",
              "      <td>2.5</td>\n",
              "      <td>100</td>\n",
              "      <td>-0.2023</td>\n",
              "      <td>529.06</td>\n",
              "      <td>0</td>\n",
              "    </tr>\n",
              "  </tbody>\n",
              "</table>\n",
              "<p>3 rows × 22 columns</p>\n",
              "</div>"
            ],
            "text/plain": [
              "   Duration  HBr_CaC03_mass_(g)   Calciner temp [C]  Calciner Heater kW  \\\n",
              "0       1.0                 4200             632.75                 7.8   \n",
              "1       2.0                 4200             634.72                 7.8   \n",
              "2       3.0                 4200             636.50                 7.8   \n",
              "\n",
              "   Calciner Pressure ( Pa )  Calciner  velocity (m/s)  Calciner O2 in(vol)  \\\n",
              "0                    3216.0                      0.32                   40   \n",
              "1                    3190.5                      0.32                   40   \n",
              "2                    3191.5                      0.32                   40   \n",
              "\n",
              "   Calciner N2 in(vol)  Calciner top temp (C )  Calciner CO2 out(perc)  ...   \\\n",
              "0                   60                 450.680                0.406479  ...    \n",
              "1                   60                 451.165                0.372648  ...    \n",
              "2                   60                 451.365                0.358011  ...    \n",
              "\n",
              "   Calciner CO out(ppm)  Calciner CH4 out(ppm)  Carbonator bottom temp (C)  \\\n",
              "0             38.097718               0.237199                     446.905   \n",
              "1             27.277778               0.089655                     446.200   \n",
              "2              5.568223               0.000348                     445.035   \n",
              "\n",
              "   Carbonator mid temp ( C)  Carbonator press (pa)  Carbonator velocity (m/s)  \\\n",
              "0                   560.105                 2680.0                        2.5   \n",
              "1                   558.915                 2905.5                        2.5   \n",
              "2                   558.565                 2912.5                        2.5   \n",
              "\n",
              "   Carbonator inlet N2 (vol)  Carbonator outlet CO2 (vol)  \\\n",
              "0                        100                       0.0714   \n",
              "1                        100                      -0.1666   \n",
              "2                        100                      -0.2023   \n",
              "\n",
              "   Carbonator top temp ( C)  Rank  \n",
              "0                    529.81     0  \n",
              "1                    529.27     0  \n",
              "2                    529.06     0  \n",
              "\n",
              "[3 rows x 22 columns]"
            ]
          },
          "metadata": {
            "tags": []
          },
          "execution_count": 153
        }
      ]
    },
    {
      "metadata": {
        "id": "3NZFM7lKJm6U",
        "colab_type": "code",
        "colab": {
          "base_uri": "https://localhost:8080/",
          "height": 211
        },
        "outputId": "b5eedf54-675b-4df2-92b6-49e1e46043b8"
      },
      "cell_type": "code",
      "source": [
        "# Making a copy of our data\n",
        "processed_data = data[:]\n",
        "\n",
        "\n",
        "col = processed_data.head()\n",
        "clmn = list(col) \n",
        "print(clmn) # just to see if the list of columns are correct\n",
        "\n",
        "# Scale the columns\n",
        "\n",
        "for c in clmn: \n",
        "    # element of column \n",
        "    processed_data[c]  = processed_data[c]/processed_data[c].max()\n",
        "    \n",
        "processed_data[:2]\n"
      ],
      "execution_count": 154,
      "outputs": [
        {
          "output_type": "stream",
          "text": [
            "['Duration', 'HBr_CaC03_mass_(g) ', 'Calciner temp [C]', 'Calciner Heater kW', 'Calciner Pressure ( Pa )', 'Calciner  velocity (m/s)', 'Calciner O2 in(vol)', 'Calciner N2 in(vol)', 'Calciner top temp (C )', 'Calciner CO2 out(perc)', 'Calciner O2 out(perc)', 'Calciner H2O out(perc)', 'Calciner CO out(ppm)', 'Calciner CH4 out(ppm)', 'Carbonator bottom temp (C)', 'Carbonator mid temp ( C)', 'Carbonator press (pa)', 'Carbonator velocity (m/s)', 'Carbonator inlet N2 (vol)', 'Carbonator outlet CO2 (vol)', 'Carbonator top temp ( C)', 'Rank']\n"
          ],
          "name": "stdout"
        },
        {
          "output_type": "execute_result",
          "data": {
            "text/html": [
              "<div>\n",
              "<style scoped>\n",
              "    .dataframe tbody tr th:only-of-type {\n",
              "        vertical-align: middle;\n",
              "    }\n",
              "\n",
              "    .dataframe tbody tr th {\n",
              "        vertical-align: top;\n",
              "    }\n",
              "\n",
              "    .dataframe thead th {\n",
              "        text-align: right;\n",
              "    }\n",
              "</style>\n",
              "<table border=\"1\" class=\"dataframe\">\n",
              "  <thead>\n",
              "    <tr style=\"text-align: right;\">\n",
              "      <th></th>\n",
              "      <th>Duration</th>\n",
              "      <th>HBr_CaC03_mass_(g)</th>\n",
              "      <th>Calciner temp [C]</th>\n",
              "      <th>Calciner Heater kW</th>\n",
              "      <th>Calciner Pressure ( Pa )</th>\n",
              "      <th>Calciner  velocity (m/s)</th>\n",
              "      <th>Calciner O2 in(vol)</th>\n",
              "      <th>Calciner N2 in(vol)</th>\n",
              "      <th>Calciner top temp (C )</th>\n",
              "      <th>Calciner CO2 out(perc)</th>\n",
              "      <th>...</th>\n",
              "      <th>Calciner CO out(ppm)</th>\n",
              "      <th>Calciner CH4 out(ppm)</th>\n",
              "      <th>Carbonator bottom temp (C)</th>\n",
              "      <th>Carbonator mid temp ( C)</th>\n",
              "      <th>Carbonator press (pa)</th>\n",
              "      <th>Carbonator velocity (m/s)</th>\n",
              "      <th>Carbonator inlet N2 (vol)</th>\n",
              "      <th>Carbonator outlet CO2 (vol)</th>\n",
              "      <th>Carbonator top temp ( C)</th>\n",
              "      <th>Rank</th>\n",
              "    </tr>\n",
              "  </thead>\n",
              "  <tbody>\n",
              "    <tr>\n",
              "      <th>0</th>\n",
              "      <td>0.008187</td>\n",
              "      <td>0.429711</td>\n",
              "      <td>0.713730</td>\n",
              "      <td>0.4875</td>\n",
              "      <td>0.800498</td>\n",
              "      <td>1.0</td>\n",
              "      <td>0.4</td>\n",
              "      <td>1.0</td>\n",
              "      <td>0.536802</td>\n",
              "      <td>0.010972</td>\n",
              "      <td>...</td>\n",
              "      <td>0.004986</td>\n",
              "      <td>0.000062</td>\n",
              "      <td>0.708013</td>\n",
              "      <td>0.902253</td>\n",
              "      <td>0.419504</td>\n",
              "      <td>1.0</td>\n",
              "      <td>1.0</td>\n",
              "      <td>0.051282</td>\n",
              "      <td>0.864051</td>\n",
              "      <td>0.0</td>\n",
              "    </tr>\n",
              "    <tr>\n",
              "      <th>1</th>\n",
              "      <td>0.016373</td>\n",
              "      <td>0.429711</td>\n",
              "      <td>0.715952</td>\n",
              "      <td>0.4875</td>\n",
              "      <td>0.794151</td>\n",
              "      <td>1.0</td>\n",
              "      <td>0.4</td>\n",
              "      <td>1.0</td>\n",
              "      <td>0.537379</td>\n",
              "      <td>0.010059</td>\n",
              "      <td>...</td>\n",
              "      <td>0.003570</td>\n",
              "      <td>0.000024</td>\n",
              "      <td>0.706896</td>\n",
              "      <td>0.900336</td>\n",
              "      <td>0.454802</td>\n",
              "      <td>1.0</td>\n",
              "      <td>1.0</td>\n",
              "      <td>-0.119658</td>\n",
              "      <td>0.863170</td>\n",
              "      <td>0.0</td>\n",
              "    </tr>\n",
              "  </tbody>\n",
              "</table>\n",
              "<p>2 rows × 22 columns</p>\n",
              "</div>"
            ],
            "text/plain": [
              "   Duration  HBr_CaC03_mass_(g)   Calciner temp [C]  Calciner Heater kW  \\\n",
              "0  0.008187             0.429711           0.713730              0.4875   \n",
              "1  0.016373             0.429711           0.715952              0.4875   \n",
              "\n",
              "   Calciner Pressure ( Pa )  Calciner  velocity (m/s)  Calciner O2 in(vol)  \\\n",
              "0                  0.800498                       1.0                  0.4   \n",
              "1                  0.794151                       1.0                  0.4   \n",
              "\n",
              "   Calciner N2 in(vol)  Calciner top temp (C )  Calciner CO2 out(perc)  ...   \\\n",
              "0                  1.0                0.536802                0.010972  ...    \n",
              "1                  1.0                0.537379                0.010059  ...    \n",
              "\n",
              "   Calciner CO out(ppm)  Calciner CH4 out(ppm)  Carbonator bottom temp (C)  \\\n",
              "0              0.004986               0.000062                    0.708013   \n",
              "1              0.003570               0.000024                    0.706896   \n",
              "\n",
              "   Carbonator mid temp ( C)  Carbonator press (pa)  Carbonator velocity (m/s)  \\\n",
              "0                  0.902253               0.419504                        1.0   \n",
              "1                  0.900336               0.454802                        1.0   \n",
              "\n",
              "   Carbonator inlet N2 (vol)  Carbonator outlet CO2 (vol)  \\\n",
              "0                        1.0                     0.051282   \n",
              "1                        1.0                    -0.119658   \n",
              "\n",
              "   Carbonator top temp ( C)  Rank  \n",
              "0                  0.864051   0.0  \n",
              "1                  0.863170   0.0  \n",
              "\n",
              "[2 rows x 22 columns]"
            ]
          },
          "metadata": {
            "tags": []
          },
          "execution_count": 154
        }
      ]
    },
    {
      "metadata": {
        "id": "wEpKBTbNLjye",
        "colab_type": "code",
        "colab": {
          "base_uri": "https://localhost:8080/",
          "height": 1037
        },
        "outputId": "4ab1649b-e05c-4e1a-ded8-5ef8aba6e5eb"
      },
      "cell_type": "code",
      "source": [
        "##Splitting the data into Training and Testing\n",
        "\n",
        "\n",
        "sample = np.random.choice(processed_data.index, size=int(len(processed_data)*0.9), replace=False)\n",
        "train_data, test_data = processed_data.iloc[sample], processed_data.drop(sample)\n",
        "\n",
        "print(\"Number of training samples is\", len(train_data))\n",
        "print(\"Number of testing samples is\", len(test_data))\n",
        "print(train_data[:2])\n",
        "print(test_data[:2])"
      ],
      "execution_count": 155,
      "outputs": [
        {
          "output_type": "stream",
          "text": [
            "Number of training samples is 109\n",
            "Number of testing samples is 13\n",
            "    Duration  HBr_CaC03_mass_(g)   Calciner temp [C]  Calciner Heater kW  \\\n",
            "54  0.450839             0.719664           0.791967              0.0000   \n",
            "5   0.049120             0.429711           0.728958              0.4875   \n",
            "\n",
            "    Calciner Pressure ( Pa )  Calciner  velocity (m/s)  Calciner O2 in(vol)  \\\n",
            "54                  0.776851                       0.0                  0.0   \n",
            "5                   0.803983                       1.0                  0.4   \n",
            "\n",
            "    Calciner N2 in(vol)  Calciner top temp (C )  Calciner CO2 out(perc)  ...   \\\n",
            "54                  0.0                0.569682                0.036111  ...    \n",
            "5                   1.0                0.571480                0.012459  ...    \n",
            "\n",
            "    Calciner CO out(ppm)  Calciner CH4 out(ppm)  Carbonator bottom temp (C)  \\\n",
            "54              0.000157               0.001481                    0.749750   \n",
            "5               0.183110               0.684015                    0.700575   \n",
            "\n",
            "    Carbonator mid temp ( C)  Carbonator press (pa)  \\\n",
            "54                  0.941212               0.253659   \n",
            "5                   0.898177               0.464741   \n",
            "\n",
            "    Carbonator velocity (m/s)  Carbonator inlet N2 (vol)  \\\n",
            "54                        1.0                        1.0   \n",
            "5                         1.0                        1.0   \n",
            "\n",
            "    Carbonator outlet CO2 (vol)  Carbonator top temp ( C)  Rank  \n",
            "54                     0.205128                  0.911982   0.0  \n",
            "5                     -0.153846                  0.861759   0.0  \n",
            "\n",
            "[2 rows x 22 columns]\n",
            "    Duration  HBr_CaC03_mass_(g)   Calciner temp [C]  Calciner Heater kW  \\\n",
            "11  0.098322             0.501739           0.854231              0.4875   \n",
            "25  0.213099             0.719664           0.891973              0.4875   \n",
            "\n",
            "    Calciner Pressure ( Pa )  Calciner  velocity (m/s)  Calciner O2 in(vol)  \\\n",
            "11                  0.790168                       1.0                  0.4   \n",
            "25                  0.906285                       1.0                  0.4   \n",
            "\n",
            "    Calciner N2 in(vol)  Calciner top temp (C )  Calciner CO2 out(perc)  ...   \\\n",
            "11                  1.0                0.644995                0.190171  ...    \n",
            "25                  1.0                0.705764                0.242426  ...    \n",
            "\n",
            "    Calciner CO out(ppm)  Calciner CH4 out(ppm)  Carbonator bottom temp (C)  \\\n",
            "11              0.700739               0.511171                    0.694745   \n",
            "25              0.446468               0.269380                    0.689810   \n",
            "\n",
            "    Carbonator mid temp ( C)  Carbonator press (pa)  \\\n",
            "11                  0.895511               0.481568   \n",
            "25                  0.920158               0.543790   \n",
            "\n",
            "    Carbonator velocity (m/s)  Carbonator inlet N2 (vol)  \\\n",
            "11                        1.0                        1.0   \n",
            "25                        1.0                        1.0   \n",
            "\n",
            "    Carbonator outlet CO2 (vol)  Carbonator top temp ( C)  Rank  \n",
            "11                     0.008547                  0.860267   0.0  \n",
            "25                    -0.076923                  0.895999   0.2  \n",
            "\n",
            "[2 rows x 22 columns]\n"
          ],
          "name": "stdout"
        }
      ]
    },
    {
      "metadata": {
        "id": "JVZOcZk2UzEe",
        "colab_type": "code",
        "colab": {
          "base_uri": "https://localhost:8080/",
          "height": 34
        },
        "outputId": "1038fb08-c12b-4f2d-8523-3aab16fa6f41"
      },
      "cell_type": "code",
      "source": [
        "## Splitting the data into features and targets (labels)\n",
        "## split the data into features (X) and targets (y).\n",
        "\n",
        "\n",
        "features = train_data.drop(['Rank'], axis=1)\n",
        "targets = train_data['Rank']\n",
        "features_test = test_data.drop(['Rank'], axis=1)\n",
        "targets_test = test_data['Rank']\n",
        "\n",
        "\n",
        "features_df = pd.DataFrame(data=features)\n",
        "features_t = torch.tensor(features_df.values)\n",
        "\n",
        "trainloader_features = torch.utils.data.DataLoader(features_t, batch_size=18, shuffle=True)\n",
        "\n",
        "targets_df = pd.DataFrame(data=targets)\n",
        "targets_t = torch.tensor(targets_df.values)\n",
        "\n",
        "trainloader_targets = torch.utils.data.DataLoader(targets_t, batch_size=18, shuffle=True)\n",
        "\n",
        "print(trainloader_targets)\n"
      ],
      "execution_count": 170,
      "outputs": [
        {
          "output_type": "stream",
          "text": [
            "<torch.utils.data.dataloader.DataLoader object at 0x7fc8be484da0>\n"
          ],
          "name": "stdout"
        }
      ]
    },
    {
      "metadata": {
        "id": "wTZiKymDMFAj",
        "colab_type": "code",
        "colab": {}
      },
      "cell_type": "code",
      "source": [
        "# Build a feed-forward network\n",
        "model = nn.Sequential(nn.Linear(21, 18),\n",
        "                      nn.ReLU(),\n",
        "                      nn.Linear(18, 12),\n",
        "                      nn.ReLU(),\n",
        "                      nn.Linear(12, 6),\n",
        "                      nn.LogSoftmax(dim=1))\n"
      ],
      "execution_count": 0,
      "outputs": []
    },
    {
      "metadata": {
        "id": "Vb1vULzRMiKt",
        "colab_type": "code",
        "colab": {
          "base_uri": "https://localhost:8080/",
          "height": 34
        },
        "outputId": "d473d9e7-f9c6-45ab-e342-0b6c81241563"
      },
      "cell_type": "code",
      "source": [
        "\n",
        "# Define the loss\n",
        "criterion = nn.NLLLoss()\n",
        "\n",
        "# Get our data\n",
        "\n",
        "images =  next(iter(trainloader_features))\n",
        "labels =  next(iter(trainloader_targets))\n",
        "\n",
        "# Flatten images\n",
        "images = images.view(images.shape[0], -1)\n",
        "images = images.float()\n",
        "\n",
        "# Flatten labels\n",
        "labels = labels/labels.min()\n",
        "labels = labels.squeeze_()\n",
        "labels = labels.to(dtype=torch.long)\n",
        "\n",
        "\n",
        "# Forward pass, get our logps\n",
        "logps = model(images)\n",
        "\n",
        "# Calculate the loss with the logits and the labels\n",
        "loss = criterion(logps, labels)\n",
        "\n",
        "print(loss)"
      ],
      "execution_count": 177,
      "outputs": [
        {
          "output_type": "stream",
          "text": [
            "tensor(2.1433, grad_fn=<NllLossBackward>)\n"
          ],
          "name": "stdout"
        }
      ]
    },
    {
      "metadata": {
        "id": "1ink0-UTyjDA",
        "colab_type": "code",
        "colab": {
          "base_uri": "https://localhost:8080/",
          "height": 986
        },
        "outputId": "4c337d9a-45ab-4963-9cd3-d6de377eb589"
      },
      "cell_type": "code",
      "source": [
        "\n",
        "print('Before backward pass: \\n', model[0].weight.grad)\n",
        "\n",
        "loss.backward()\n",
        "\n",
        "print('After backward pass: \\n', model[0].weight.grad)"
      ],
      "execution_count": 178,
      "outputs": [
        {
          "output_type": "stream",
          "text": [
            "Before backward pass: \n",
            " None\n",
            "After backward pass: \n",
            " tensor([[ 0.0000,  0.0000,  0.0000,  0.0000,  0.0000,  0.0000,  0.0000,  0.0000,\n",
            "          0.0000,  0.0000,  0.0000,  0.0000,  0.0000,  0.0000,  0.0000,  0.0000,\n",
            "          0.0000,  0.0000,  0.0000,  0.0000,  0.0000],\n",
            "        [ 0.0069,  0.0068,  0.0072,  0.0073,  0.0049,  0.0073,  0.0073,  0.0000,\n",
            "          0.0072,  0.0065,  0.0007,  0.0072,  0.0058,  0.0057,  0.0071,  0.0072,\n",
            "          0.0061,  0.0073,  0.0073, -0.0006,  0.0072],\n",
            "        [ 0.0102,  0.0133,  0.0154,  0.0140,  0.0141,  0.0190,  0.0132,  0.0097,\n",
            "          0.0138,  0.0092,  0.0045,  0.0104,  0.0114,  0.0093,  0.0141,  0.0154,\n",
            "          0.0142,  0.0165,  0.0165, -0.0033,  0.0155],\n",
            "        [ 0.0000,  0.0000,  0.0000,  0.0000,  0.0000,  0.0000,  0.0000,  0.0000,\n",
            "          0.0000,  0.0000,  0.0000,  0.0000,  0.0000,  0.0000,  0.0000,  0.0000,\n",
            "          0.0000,  0.0000,  0.0000,  0.0000,  0.0000],\n",
            "        [ 0.0000,  0.0000,  0.0000,  0.0000,  0.0000,  0.0000,  0.0000,  0.0000,\n",
            "          0.0000,  0.0000,  0.0000,  0.0000,  0.0000,  0.0000,  0.0000,  0.0000,\n",
            "          0.0000,  0.0000,  0.0000,  0.0000,  0.0000],\n",
            "        [-0.0219, -0.0412, -0.0486, -0.0193, -0.0514, -0.0395, -0.0158, -0.0395,\n",
            "         -0.0389, -0.0091, -0.0094, -0.0139, -0.0231, -0.0182, -0.0443, -0.0533,\n",
            "         -0.0315, -0.0580, -0.0580, -0.0015, -0.0527],\n",
            "        [ 0.0262,  0.0371,  0.0432,  0.0322,  0.0411,  0.0479,  0.0295,  0.0306,\n",
            "          0.0368,  0.0190,  0.0094,  0.0230,  0.0283,  0.0227,  0.0396,  0.0445,\n",
            "          0.0350,  0.0479,  0.0479, -0.0041,  0.0444],\n",
            "        [ 0.0000,  0.0000,  0.0000,  0.0000,  0.0000,  0.0000,  0.0000,  0.0000,\n",
            "          0.0000,  0.0000,  0.0000,  0.0000,  0.0000,  0.0000,  0.0000,  0.0000,\n",
            "          0.0000,  0.0000,  0.0000,  0.0000,  0.0000],\n",
            "        [ 0.0030,  0.0057,  0.0062, -0.0010,  0.0062, -0.0010, -0.0010,  0.0000,\n",
            "          0.0044, -0.0002, -0.0006, -0.0005, -0.0004, -0.0002,  0.0061,  0.0077,\n",
            "          0.0013,  0.0082,  0.0082,  0.0032,  0.0074],\n",
            "        [ 0.0032,  0.0055,  0.0067,  0.0055,  0.0074,  0.0107,  0.0046,  0.0102,\n",
            "          0.0056,  0.0018,  0.0024,  0.0034,  0.0061,  0.0046,  0.0059,  0.0067,\n",
            "          0.0065,  0.0074,  0.0074, -0.0018,  0.0068],\n",
            "        [ 0.0296,  0.0432,  0.0502,  0.0345,  0.0483,  0.0526,  0.0314,  0.0353,\n",
            "          0.0427,  0.0211,  0.0104,  0.0257,  0.0320,  0.0261,  0.0461,  0.0523,\n",
            "          0.0397,  0.0563,  0.0563, -0.0039,  0.0521],\n",
            "        [ 0.0000,  0.0000,  0.0000,  0.0000,  0.0000,  0.0000,  0.0000,  0.0000,\n",
            "          0.0000,  0.0000,  0.0000,  0.0000,  0.0000,  0.0000,  0.0000,  0.0000,\n",
            "          0.0000,  0.0000,  0.0000,  0.0000,  0.0000],\n",
            "        [ 0.0000,  0.0000,  0.0000,  0.0000,  0.0000,  0.0000,  0.0000,  0.0000,\n",
            "          0.0000,  0.0000,  0.0000,  0.0000,  0.0000,  0.0000,  0.0000,  0.0000,\n",
            "          0.0000,  0.0000,  0.0000,  0.0000,  0.0000],\n",
            "        [ 0.0000,  0.0000,  0.0000,  0.0000,  0.0000,  0.0000,  0.0000,  0.0000,\n",
            "          0.0000,  0.0000,  0.0000,  0.0000,  0.0000,  0.0000,  0.0000,  0.0000,\n",
            "          0.0000,  0.0000,  0.0000,  0.0000,  0.0000],\n",
            "        [ 0.0034,  0.0038,  0.0042,  0.0039,  0.0034,  0.0039,  0.0039,  0.0000,\n",
            "          0.0038,  0.0031,  0.0013,  0.0031,  0.0025,  0.0022,  0.0040,  0.0042,\n",
            "          0.0038,  0.0044,  0.0044, -0.0008,  0.0042],\n",
            "        [ 0.0117,  0.0158,  0.0181,  0.0147,  0.0171,  0.0191,  0.0139,  0.0087,\n",
            "          0.0157,  0.0090,  0.0062,  0.0100,  0.0107,  0.0084,  0.0168,  0.0185,\n",
            "          0.0158,  0.0198,  0.0198, -0.0031,  0.0185],\n",
            "        [-0.0073, -0.0129, -0.0151, -0.0067, -0.0157, -0.0144, -0.0054, -0.0150,\n",
            "         -0.0121, -0.0030, -0.0015, -0.0051, -0.0091, -0.0074, -0.0138, -0.0164,\n",
            "         -0.0100, -0.0178, -0.0178, -0.0009, -0.0162],\n",
            "        [-0.0012, -0.0014, -0.0015, -0.0016, -0.0013, -0.0016, -0.0016,  0.0000,\n",
            "         -0.0013, -0.0009, -0.0007, -0.0008, -0.0006, -0.0003, -0.0014, -0.0015,\n",
            "         -0.0015, -0.0016, -0.0016,  0.0004, -0.0015]])\n"
          ],
          "name": "stdout"
        }
      ]
    },
    {
      "metadata": {
        "id": "SZgedo0vypxi",
        "colab_type": "text"
      },
      "cell_type": "markdown",
      "source": [
        "#Training the NN"
      ]
    },
    {
      "metadata": {
        "id": "GGkeGo55yvQG",
        "colab_type": "code",
        "colab": {}
      },
      "cell_type": "code",
      "source": [
        "# Optimizers require the parameters to optimize and a learning rate\n",
        "optimizer = optim.SGD(model.parameters(), lr=0.01)"
      ],
      "execution_count": 0,
      "outputs": []
    },
    {
      "metadata": {
        "id": "G0Rp0YKKzBFV",
        "colab_type": "code",
        "colab": {
          "base_uri": "https://localhost:8080/",
          "height": 1870
        },
        "outputId": "05120701-1dc7-4577-99e2-5d47b26995ea"
      },
      "cell_type": "code",
      "source": [
        "print('Initial weights - ', model[0].weight)\n",
        "\n",
        "images.resize_(18, 21)\n",
        "\n",
        "# Clear the gradients, do this because gradients are accumulated\n",
        "optimizer.zero_grad()\n",
        "\n",
        "# Forward pass, then backward pass, then update weights\n",
        "output = model(images)\n",
        "loss = criterion(output, labels)\n",
        "loss.backward()\n",
        "print('Gradient -', model[0].weight.grad)"
      ],
      "execution_count": 180,
      "outputs": [
        {
          "output_type": "stream",
          "text": [
            "Initial weights -  Parameter containing:\n",
            "tensor([[ 0.0712, -0.0791, -0.0899, -0.1761, -0.0353,  0.1496, -0.1127, -0.2173,\n",
            "         -0.0080,  0.1393,  0.0391, -0.0635, -0.0627,  0.0219, -0.1273,  0.1595,\n",
            "          0.1964,  0.0758, -0.0676, -0.0929, -0.1335],\n",
            "        [-0.0109,  0.0084,  0.0855,  0.0592, -0.1348,  0.1252,  0.2125, -0.0251,\n",
            "         -0.1038, -0.0146,  0.0420,  0.1410,  0.0476, -0.0791,  0.1413,  0.0694,\n",
            "         -0.0687, -0.1612, -0.1684, -0.0467, -0.0904],\n",
            "        [ 0.1934,  0.2114,  0.0133, -0.1366,  0.1453, -0.1002, -0.0518, -0.0048,\n",
            "         -0.1785,  0.1038,  0.1965,  0.1873, -0.0922,  0.1904, -0.1577,  0.1468,\n",
            "          0.0869, -0.1987,  0.1143,  0.0125,  0.1503],\n",
            "        [ 0.0279,  0.1467,  0.0442, -0.1184, -0.1737, -0.0645,  0.0539,  0.0418,\n",
            "         -0.0334, -0.0740, -0.0012, -0.0887, -0.0535, -0.0179,  0.0022,  0.0933,\n",
            "         -0.1060, -0.1607,  0.1409,  0.1486, -0.1862],\n",
            "        [ 0.1585, -0.1070,  0.1824, -0.1148, -0.1069, -0.2178,  0.1224, -0.0772,\n",
            "          0.0833, -0.0445, -0.2078, -0.0468,  0.1842, -0.0396, -0.1651, -0.1909,\n",
            "         -0.1851,  0.0947, -0.0346,  0.1786, -0.1851],\n",
            "        [-0.1836, -0.0498,  0.2122, -0.2081, -0.0484, -0.1015,  0.0048,  0.2043,\n",
            "          0.1905,  0.0076, -0.1227, -0.0966,  0.0529, -0.2178, -0.0254,  0.1434,\n",
            "          0.1668, -0.0423,  0.0394, -0.0519, -0.0743],\n",
            "        [ 0.0264,  0.0070, -0.0608,  0.1435, -0.1351,  0.0529,  0.0483,  0.1387,\n",
            "          0.1601,  0.1782,  0.1124, -0.1150, -0.0932,  0.1080, -0.1704,  0.0426,\n",
            "          0.1053, -0.1429, -0.0226, -0.0950,  0.0402],\n",
            "        [-0.1278,  0.1537, -0.1904, -0.0080, -0.0465, -0.1207,  0.1469,  0.0948,\n",
            "          0.1545,  0.1342, -0.1166, -0.2065, -0.1020, -0.0697, -0.0078, -0.1016,\n",
            "          0.0203, -0.1156, -0.0246,  0.0639, -0.1807],\n",
            "        [ 0.0689, -0.1564,  0.0429, -0.1177, -0.1278,  0.2025, -0.0143, -0.1801,\n",
            "          0.1000,  0.1354,  0.0895, -0.0839, -0.1923, -0.1299,  0.0680, -0.1310,\n",
            "         -0.1675, -0.0574,  0.0481,  0.1233,  0.1751],\n",
            "        [-0.0603,  0.1193, -0.0494, -0.0368, -0.0148, -0.0236,  0.1385,  0.1670,\n",
            "         -0.0059, -0.1866, -0.1228,  0.0308,  0.1295,  0.0899, -0.0256,  0.0315,\n",
            "          0.1589, -0.1870,  0.1637, -0.1330,  0.1210],\n",
            "        [-0.1106, -0.0099,  0.1262,  0.1443, -0.1921,  0.1942,  0.0231,  0.1651,\n",
            "          0.2008, -0.0605, -0.0886, -0.1298,  0.0677,  0.0929, -0.1112,  0.1346,\n",
            "          0.1390, -0.1044, -0.1073,  0.1944,  0.0615],\n",
            "        [ 0.1242, -0.2174,  0.0631, -0.1546, -0.1118, -0.1269,  0.1946,  0.0144,\n",
            "         -0.1106,  0.2097,  0.1191, -0.0190,  0.1778,  0.0462,  0.0335, -0.1417,\n",
            "         -0.0045,  0.0940, -0.1784, -0.1421,  0.1397],\n",
            "        [-0.0718,  0.0674, -0.1159,  0.1029,  0.1234,  0.1988, -0.1100,  0.0213,\n",
            "         -0.1512,  0.0249, -0.0446, -0.0222, -0.0702, -0.2095, -0.2122,  0.0816,\n",
            "         -0.1270,  0.1836, -0.1327, -0.0041,  0.1139],\n",
            "        [-0.0055,  0.1913,  0.0624, -0.1916, -0.2062,  0.1777,  0.0402, -0.1621,\n",
            "          0.0967, -0.0814, -0.0077,  0.1212, -0.0958, -0.0659, -0.0185,  0.0201,\n",
            "          0.0372,  0.1115, -0.1758,  0.0571, -0.0925],\n",
            "        [-0.1053,  0.1725, -0.2131,  0.0957,  0.1924, -0.1519,  0.1627, -0.1842,\n",
            "          0.0104, -0.0798,  0.0461,  0.2164, -0.1373,  0.0808, -0.0426, -0.1212,\n",
            "          0.0798,  0.0192, -0.0629, -0.1160, -0.0622],\n",
            "        [-0.1717,  0.1289, -0.1017, -0.0439,  0.1692,  0.0082,  0.1244, -0.0476,\n",
            "          0.0318, -0.1051,  0.0872,  0.0242, -0.1896,  0.0476,  0.0406,  0.1671,\n",
            "          0.2145, -0.0404, -0.0402, -0.1783,  0.1640],\n",
            "        [ 0.0123, -0.1188, -0.1269, -0.2090, -0.2059,  0.1072,  0.0657,  0.1431,\n",
            "         -0.0572,  0.0714,  0.0388,  0.0881, -0.1131, -0.0487,  0.1276,  0.1686,\n",
            "          0.1509,  0.1431,  0.2107, -0.1025,  0.1300],\n",
            "        [-0.1685,  0.0415,  0.0045,  0.1382,  0.1222,  0.0388,  0.1859, -0.2129,\n",
            "         -0.1260, -0.2162, -0.1339, -0.0148,  0.1765, -0.0748,  0.0495,  0.1240,\n",
            "          0.1733, -0.1761,  0.1146,  0.0629, -0.1637]], requires_grad=True)\n",
            "Gradient - tensor([[ 0.0000,  0.0000,  0.0000,  0.0000,  0.0000,  0.0000,  0.0000,  0.0000,\n",
            "          0.0000,  0.0000,  0.0000,  0.0000,  0.0000,  0.0000,  0.0000,  0.0000,\n",
            "          0.0000,  0.0000,  0.0000,  0.0000,  0.0000],\n",
            "        [ 0.0069,  0.0068,  0.0072,  0.0073,  0.0049,  0.0073,  0.0073,  0.0000,\n",
            "          0.0072,  0.0065,  0.0007,  0.0072,  0.0058,  0.0057,  0.0071,  0.0072,\n",
            "          0.0061,  0.0073,  0.0073, -0.0006,  0.0072],\n",
            "        [ 0.0102,  0.0133,  0.0154,  0.0140,  0.0141,  0.0190,  0.0132,  0.0097,\n",
            "          0.0138,  0.0092,  0.0045,  0.0104,  0.0114,  0.0093,  0.0141,  0.0154,\n",
            "          0.0142,  0.0165,  0.0165, -0.0033,  0.0155],\n",
            "        [ 0.0000,  0.0000,  0.0000,  0.0000,  0.0000,  0.0000,  0.0000,  0.0000,\n",
            "          0.0000,  0.0000,  0.0000,  0.0000,  0.0000,  0.0000,  0.0000,  0.0000,\n",
            "          0.0000,  0.0000,  0.0000,  0.0000,  0.0000],\n",
            "        [ 0.0000,  0.0000,  0.0000,  0.0000,  0.0000,  0.0000,  0.0000,  0.0000,\n",
            "          0.0000,  0.0000,  0.0000,  0.0000,  0.0000,  0.0000,  0.0000,  0.0000,\n",
            "          0.0000,  0.0000,  0.0000,  0.0000,  0.0000],\n",
            "        [-0.0219, -0.0412, -0.0486, -0.0193, -0.0514, -0.0395, -0.0158, -0.0395,\n",
            "         -0.0389, -0.0091, -0.0094, -0.0139, -0.0231, -0.0182, -0.0443, -0.0533,\n",
            "         -0.0315, -0.0580, -0.0580, -0.0015, -0.0527],\n",
            "        [ 0.0262,  0.0371,  0.0432,  0.0322,  0.0411,  0.0479,  0.0295,  0.0306,\n",
            "          0.0368,  0.0190,  0.0094,  0.0230,  0.0283,  0.0227,  0.0396,  0.0445,\n",
            "          0.0350,  0.0479,  0.0479, -0.0041,  0.0444],\n",
            "        [ 0.0000,  0.0000,  0.0000,  0.0000,  0.0000,  0.0000,  0.0000,  0.0000,\n",
            "          0.0000,  0.0000,  0.0000,  0.0000,  0.0000,  0.0000,  0.0000,  0.0000,\n",
            "          0.0000,  0.0000,  0.0000,  0.0000,  0.0000],\n",
            "        [ 0.0030,  0.0057,  0.0062, -0.0010,  0.0062, -0.0010, -0.0010,  0.0000,\n",
            "          0.0044, -0.0002, -0.0006, -0.0005, -0.0004, -0.0002,  0.0061,  0.0077,\n",
            "          0.0013,  0.0082,  0.0082,  0.0032,  0.0074],\n",
            "        [ 0.0032,  0.0055,  0.0067,  0.0055,  0.0074,  0.0107,  0.0046,  0.0102,\n",
            "          0.0056,  0.0018,  0.0024,  0.0034,  0.0061,  0.0046,  0.0059,  0.0067,\n",
            "          0.0065,  0.0074,  0.0074, -0.0018,  0.0068],\n",
            "        [ 0.0296,  0.0432,  0.0502,  0.0345,  0.0483,  0.0526,  0.0314,  0.0353,\n",
            "          0.0427,  0.0211,  0.0104,  0.0257,  0.0320,  0.0261,  0.0461,  0.0523,\n",
            "          0.0397,  0.0563,  0.0563, -0.0039,  0.0521],\n",
            "        [ 0.0000,  0.0000,  0.0000,  0.0000,  0.0000,  0.0000,  0.0000,  0.0000,\n",
            "          0.0000,  0.0000,  0.0000,  0.0000,  0.0000,  0.0000,  0.0000,  0.0000,\n",
            "          0.0000,  0.0000,  0.0000,  0.0000,  0.0000],\n",
            "        [ 0.0000,  0.0000,  0.0000,  0.0000,  0.0000,  0.0000,  0.0000,  0.0000,\n",
            "          0.0000,  0.0000,  0.0000,  0.0000,  0.0000,  0.0000,  0.0000,  0.0000,\n",
            "          0.0000,  0.0000,  0.0000,  0.0000,  0.0000],\n",
            "        [ 0.0000,  0.0000,  0.0000,  0.0000,  0.0000,  0.0000,  0.0000,  0.0000,\n",
            "          0.0000,  0.0000,  0.0000,  0.0000,  0.0000,  0.0000,  0.0000,  0.0000,\n",
            "          0.0000,  0.0000,  0.0000,  0.0000,  0.0000],\n",
            "        [ 0.0034,  0.0038,  0.0042,  0.0039,  0.0034,  0.0039,  0.0039,  0.0000,\n",
            "          0.0038,  0.0031,  0.0013,  0.0031,  0.0025,  0.0022,  0.0040,  0.0042,\n",
            "          0.0038,  0.0044,  0.0044, -0.0008,  0.0042],\n",
            "        [ 0.0117,  0.0158,  0.0181,  0.0147,  0.0171,  0.0191,  0.0139,  0.0087,\n",
            "          0.0157,  0.0090,  0.0062,  0.0100,  0.0107,  0.0084,  0.0168,  0.0185,\n",
            "          0.0158,  0.0198,  0.0198, -0.0031,  0.0185],\n",
            "        [-0.0073, -0.0129, -0.0151, -0.0067, -0.0157, -0.0144, -0.0054, -0.0150,\n",
            "         -0.0121, -0.0030, -0.0015, -0.0051, -0.0091, -0.0074, -0.0138, -0.0164,\n",
            "         -0.0100, -0.0178, -0.0178, -0.0009, -0.0162],\n",
            "        [-0.0012, -0.0014, -0.0015, -0.0016, -0.0013, -0.0016, -0.0016,  0.0000,\n",
            "         -0.0013, -0.0009, -0.0007, -0.0008, -0.0006, -0.0003, -0.0014, -0.0015,\n",
            "         -0.0015, -0.0016, -0.0016,  0.0004, -0.0015]])\n"
          ],
          "name": "stdout"
        }
      ]
    },
    {
      "metadata": {
        "id": "JVxhBFVn0EwR",
        "colab_type": "code",
        "colab": {
          "base_uri": "https://localhost:8080/",
          "height": 952
        },
        "outputId": "5fabf622-cf06-46ea-fb5e-20a645a1ee94"
      },
      "cell_type": "code",
      "source": [
        "\n",
        "# Take an update step and few the new weights\n",
        "optimizer.step()\n",
        "print('Updated weights - ', model[0].weight)"
      ],
      "execution_count": 181,
      "outputs": [
        {
          "output_type": "stream",
          "text": [
            "Updated weights -  Parameter containing:\n",
            "tensor([[ 0.0712, -0.0791, -0.0899, -0.1761, -0.0353,  0.1496, -0.1127, -0.2173,\n",
            "         -0.0080,  0.1393,  0.0391, -0.0635, -0.0627,  0.0219, -0.1273,  0.1595,\n",
            "          0.1964,  0.0758, -0.0676, -0.0929, -0.1335],\n",
            "        [-0.0110,  0.0083,  0.0854,  0.0592, -0.1348,  0.1251,  0.2124, -0.0251,\n",
            "         -0.1038, -0.0146,  0.0420,  0.1410,  0.0475, -0.0792,  0.1412,  0.0694,\n",
            "         -0.0688, -0.1612, -0.1685, -0.0467, -0.0905],\n",
            "        [ 0.1933,  0.2112,  0.0132, -0.1368,  0.1452, -0.1004, -0.0519, -0.0049,\n",
            "         -0.1787,  0.1037,  0.1965,  0.1872, -0.0923,  0.1903, -0.1578,  0.1467,\n",
            "          0.0868, -0.1988,  0.1142,  0.0125,  0.1502],\n",
            "        [ 0.0279,  0.1467,  0.0442, -0.1184, -0.1737, -0.0645,  0.0539,  0.0418,\n",
            "         -0.0334, -0.0740, -0.0012, -0.0887, -0.0535, -0.0179,  0.0022,  0.0933,\n",
            "         -0.1060, -0.1607,  0.1409,  0.1486, -0.1862],\n",
            "        [ 0.1585, -0.1070,  0.1824, -0.1148, -0.1069, -0.2178,  0.1224, -0.0772,\n",
            "          0.0833, -0.0445, -0.2078, -0.0468,  0.1842, -0.0396, -0.1651, -0.1909,\n",
            "         -0.1851,  0.0947, -0.0346,  0.1786, -0.1851],\n",
            "        [-0.1833, -0.0494,  0.2126, -0.2079, -0.0479, -0.1011,  0.0049,  0.2047,\n",
            "          0.1909,  0.0077, -0.1226, -0.0965,  0.0531, -0.2177, -0.0249,  0.1440,\n",
            "          0.1671, -0.0417,  0.0400, -0.0519, -0.0738],\n",
            "        [ 0.0262,  0.0066, -0.0612,  0.1432, -0.1355,  0.0524,  0.0480,  0.1384,\n",
            "          0.1597,  0.1780,  0.1123, -0.1152, -0.0935,  0.1078, -0.1708,  0.0422,\n",
            "          0.1050, -0.1434, -0.0231, -0.0950,  0.0398],\n",
            "        [-0.1278,  0.1537, -0.1904, -0.0080, -0.0465, -0.1207,  0.1469,  0.0948,\n",
            "          0.1545,  0.1342, -0.1166, -0.2065, -0.1020, -0.0697, -0.0078, -0.1016,\n",
            "          0.0203, -0.1156, -0.0246,  0.0639, -0.1807],\n",
            "        [ 0.0688, -0.1565,  0.0428, -0.1177, -0.1279,  0.2025, -0.0143, -0.1801,\n",
            "          0.0999,  0.1354,  0.0895, -0.0839, -0.1923, -0.1299,  0.0680, -0.1311,\n",
            "         -0.1675, -0.0575,  0.0480,  0.1233,  0.1751],\n",
            "        [-0.0603,  0.1192, -0.0495, -0.0368, -0.0149, -0.0237,  0.1385,  0.1669,\n",
            "         -0.0060, -0.1866, -0.1228,  0.0308,  0.1294,  0.0899, -0.0257,  0.0315,\n",
            "          0.1589, -0.1871,  0.1636, -0.1330,  0.1209],\n",
            "        [-0.1109, -0.0103,  0.1257,  0.1439, -0.1926,  0.1937,  0.0228,  0.1648,\n",
            "          0.2004, -0.0607, -0.0887, -0.1300,  0.0674,  0.0926, -0.1116,  0.1340,\n",
            "          0.1386, -0.1050, -0.1079,  0.1944,  0.0610],\n",
            "        [ 0.1242, -0.2174,  0.0631, -0.1546, -0.1118, -0.1269,  0.1946,  0.0144,\n",
            "         -0.1106,  0.2097,  0.1191, -0.0190,  0.1778,  0.0462,  0.0335, -0.1417,\n",
            "         -0.0045,  0.0940, -0.1784, -0.1421,  0.1397],\n",
            "        [-0.0718,  0.0674, -0.1159,  0.1029,  0.1234,  0.1988, -0.1100,  0.0213,\n",
            "         -0.1512,  0.0249, -0.0446, -0.0222, -0.0702, -0.2095, -0.2122,  0.0816,\n",
            "         -0.1270,  0.1836, -0.1327, -0.0041,  0.1139],\n",
            "        [-0.0055,  0.1913,  0.0624, -0.1916, -0.2062,  0.1777,  0.0402, -0.1621,\n",
            "          0.0967, -0.0814, -0.0077,  0.1212, -0.0958, -0.0659, -0.0185,  0.0201,\n",
            "          0.0372,  0.1115, -0.1758,  0.0571, -0.0925],\n",
            "        [-0.1053,  0.1724, -0.2131,  0.0957,  0.1924, -0.1520,  0.1626, -0.1842,\n",
            "          0.0103, -0.0798,  0.0461,  0.2164, -0.1373,  0.0808, -0.0426, -0.1212,\n",
            "          0.0797,  0.0191, -0.0630, -0.1160, -0.0623],\n",
            "        [-0.1718,  0.1287, -0.1019, -0.0441,  0.1691,  0.0080,  0.1243, -0.0477,\n",
            "          0.0317, -0.1052,  0.0872,  0.0241, -0.1897,  0.0476,  0.0404,  0.1669,\n",
            "          0.2144, -0.0406, -0.0404, -0.1783,  0.1639],\n",
            "        [ 0.0124, -0.1186, -0.1267, -0.2090, -0.2057,  0.1074,  0.0658,  0.1433,\n",
            "         -0.0570,  0.0715,  0.0388,  0.0881, -0.1130, -0.0486,  0.1278,  0.1687,\n",
            "          0.1510,  0.1433,  0.2109, -0.1025,  0.1302],\n",
            "        [-0.1685,  0.0415,  0.0045,  0.1382,  0.1222,  0.0388,  0.1859, -0.2129,\n",
            "         -0.1260, -0.2162, -0.1339, -0.0148,  0.1765, -0.0747,  0.0496,  0.1240,\n",
            "          0.1733, -0.1760,  0.1146,  0.0629, -0.1637]], requires_grad=True)\n"
          ],
          "name": "stdout"
        }
      ]
    },
    {
      "metadata": {
        "id": "Ga4qq3EP0kzh",
        "colab_type": "text"
      },
      "cell_type": "markdown",
      "source": [
        "# Loop Training"
      ]
    },
    {
      "metadata": {
        "id": "7HflMr1i0ojY",
        "colab_type": "code",
        "colab": {}
      },
      "cell_type": "code",
      "source": [
        "# a feed-forward network\n",
        "\n",
        "model = nn.Sequential(nn.Linear(21, 18),\n",
        "                      nn.ReLU(),\n",
        "                      nn.Linear(18, 12),\n",
        "                      nn.ReLU(),\n",
        "                      nn.Linear(12, 6),\n",
        "                      nn.LogSoftmax(dim=1))\n",
        "\n",
        "\n",
        "\n",
        "criterion = nn.NLLLoss()\n",
        "optimizer = optim.SGD(model.parameters(), lr=0.003)\n",
        "\n",
        "epochs = 5\n",
        "for e in range(epochs):\n",
        "    running_loss = 0\n",
        "#    for images, labels in trainloader:\n",
        "    for images in trainloader_features && labels in trainloader_targets:\n",
        "        # Get our data\n",
        "\n",
        "        #images =  next(iter(trainloader_features))\n",
        "        #labels =  next(iter(trainloader_targets))\n",
        "\n",
        "        # Flatten images\n",
        "        images = images.view(images.shape[0], -1)\n",
        "        images = images.float()\n",
        "\n",
        "        # Flatten labels\n",
        "        labels = labels/labels.min()\n",
        "        labels = labels.squeeze_()\n",
        "        labels = labels.to(dtype=torch.long)\n",
        "\n",
        "\n",
        "        # Flatten MNIST images into a 784 long vector\n",
        "        images = images.view(images.shape[0], -1)\n",
        "    \n",
        "        # TODO: Training pass\n",
        "        optimizer.zero_grad()\n",
        "        \n",
        "        output = model(images)\n",
        "        loss = criterion(output, labels)\n",
        "        loss.backward()\n",
        "        optimizer.step()\n",
        "        \n",
        "        running_loss += loss.item()\n",
        "    else:\n",
        "        print(f\"Training loss: {running_loss/len(trainloader)}\")\n"
      ],
      "execution_count": 0,
      "outputs": []
    }
  ]
}