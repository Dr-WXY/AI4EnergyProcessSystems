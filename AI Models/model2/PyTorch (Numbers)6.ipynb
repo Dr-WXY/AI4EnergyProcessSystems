{
  "nbformat": 4,
  "nbformat_minor": 0,
  "metadata": {
    "colab": {
      "name": "Part 3 - Training Neural Networks (Solution).ipynb",
      "version": "0.3.2",
      "provenance": []
    },
    "language_info": {
      "codemirror_mode": {
        "name": "ipython",
        "version": 3
      },
      "file_extension": ".py",
      "mimetype": "text/x-python",
      "name": "python",
      "nbconvert_exporter": "python",
      "pygments_lexer": "ipython3",
      "version": "3.6.7"
    },
    "kernelspec": {
      "display_name": "Python 3",
      "language": "python",
      "name": "python3"
    }
  },
  "cells": [
    {
      "metadata": {
        "id": "1qr4EOFJLAHB",
        "colab_type": "code",
        "colab": {}
      },
      "cell_type": "code",
      "source": [
        "import torch\n",
        "from torch import nn\n",
        "import torch.nn.functional as F\n",
        "from torchvision import datasets, transforms\n",
        "from torch import optim\n",
        "import matplotlib.pyplot as plt\n",
        "import numpy as np\n",
        "from torch import nn, optim\n",
        "from torch.autograd import Variable\n",
        "\n",
        "\n",
        "%matplotlib inline\n",
        "# Define a transform to normalize the data\n",
        "#transform = transforms.Compose([transforms.ToTensor(),\n",
        " #                               transforms.Normalize((0.5,), (0.5,)),\n",
        "  #                            ])\n",
        "# Download and load the training data\n",
        "#trainset = datasets.MNIST('~/.pytorch/MNIST_data/', download=True, train=True, transform=transform)\n",
        "#trainloader = torch.utils.data.DataLoader(trainset, batch_size=64, shuffle=True)"
      ],
      "execution_count": 0,
      "outputs": []
    },
    {
      "metadata": {
        "id": "RH9q991lJIXP",
        "colab_type": "code",
        "colab": {}
      },
      "cell_type": "code",
      "source": [
        "import pandas as pd\n",
        "import numpy as np\n",
        "\n",
        "\n",
        "# Reading the csv file into a pandas DataFrame\n",
        "\n",
        "url = 'https://raw.githubusercontent.com/engrsmukhtar/AI4EnergyProcessSystems/AI4EPS-1/AI%20Models/model2/10.%20tot%20mass%20w%20H2O-hbrcacabo3-duration-c-zero-based-targets.csv'\n",
        "data = pd.read_csv(url)\n",
        "\n",
        "# Printing out some rows from our data\n",
        "#data[:2]"
      ],
      "execution_count": 0,
      "outputs": []
    },
    {
      "metadata": {
        "id": "3NZFM7lKJm6U",
        "colab_type": "code",
        "colab": {}
      },
      "cell_type": "code",
      "source": [
        "# Making a copy of our data\n",
        "processed_data = data[:]\n",
        "\n",
        "\n",
        "col = processed_data.head()\n",
        "clmn = list(col) \n",
        "#print(clmn) # just to see if the list of columns are correct\n",
        "\n",
        "# Scale the columns\n",
        "\n",
        "for c in clmn: \n",
        "    # element of column \n",
        "    processed_data[c]  = processed_data[c]/processed_data[c].max()\n",
        "    \n",
        "#processed_data[:2]\n"
      ],
      "execution_count": 0,
      "outputs": []
    },
    {
      "metadata": {
        "id": "cxJFmwVhsajA",
        "colab_type": "code",
        "colab": {}
      },
      "cell_type": "code",
      "source": [
        "processed_data['Rank']  = data['Rank']        #.to(dtype=torch.long) ##processed_data['Rank']*data['Rank'].max()\n",
        "\n",
        "#labels = labels.squeeze_()\n",
        "#labels = labels.to(dtype=torch.long)\n",
        "\n",
        "#processed_data[:2]"
      ],
      "execution_count": 0,
      "outputs": []
    },
    {
      "metadata": {
        "id": "wEpKBTbNLjye",
        "colab_type": "code",
        "outputId": "76adf478-415d-4666-86fd-05420ea03ce0",
        "colab": {
          "base_uri": "https://localhost:8080/",
          "height": 51
        }
      },
      "cell_type": "code",
      "source": [
        "##Splitting the data into Training and Testing\n",
        "\n",
        "\n",
        "sample = np.random.choice(processed_data.index, size=int(len(processed_data)*0.9), replace=False)\n",
        "train_data, test_data = processed_data.iloc[sample], processed_data.drop(sample)\n",
        "\n",
        "print(\"Number of training samples is\", len(train_data))\n",
        "print(\"Number of testing samples is\", len(test_data))\n",
        "#print(train_data[:2])\n",
        "#print(test_data[:2])"
      ],
      "execution_count": 43,
      "outputs": [
        {
          "output_type": "stream",
          "text": [
            "Number of training samples is 109\n",
            "Number of testing samples is 13\n"
          ],
          "name": "stdout"
        }
      ]
    },
    {
      "metadata": {
        "id": "JVZOcZk2UzEe",
        "colab_type": "code",
        "outputId": "52258b1b-a052-4a9a-fd9e-51e7cea2c6f7",
        "colab": {
          "base_uri": "https://localhost:8080/",
          "height": 34
        }
      },
      "cell_type": "code",
      "source": [
        "## Splitting the data into features and targets (labels)\n",
        "## split the data into features (X) and targets (y).\n",
        "\n",
        "features = train_data.drop(['Rank'], axis=1)\n",
        "targets = train_data['Rank']\n",
        "\n",
        "features_test = test_data.drop(['Rank'], axis=1)\n",
        "targets_test = test_data['Rank']\n",
        "\n",
        "\n",
        "features_df = pd.DataFrame(data=features)\n",
        "features_t = torch.tensor(features_df.values)\n",
        "\n",
        "targets_df = pd.DataFrame(data=targets)\n",
        "targets_t = torch.tensor(targets_df.values)\n",
        "\n",
        "\n",
        "#trainloader_features, trainloader_targets = torch.utils.data.DataLoader(features_t, batch_size=15, shuffle=True), torch.utils.data.DataLoader(targets_t, batch_size=15, shuffle=True)\n",
        "\n",
        "trainloader_features, trainloader_targets = torch.utils.data.DataLoader(features_t, batch_size=15), torch.utils.data.DataLoader(targets_t, batch_size=15)\n",
        "\n",
        "print(trainloader_features, trainloader_targets)\n"
      ],
      "execution_count": 44,
      "outputs": [
        {
          "output_type": "stream",
          "text": [
            "<torch.utils.data.dataloader.DataLoader object at 0x7f526d7b1e48> <torch.utils.data.dataloader.DataLoader object at 0x7f526d7b1e80>\n"
          ],
          "name": "stdout"
        }
      ]
    },
    {
      "metadata": {
        "id": "m6N2DHZA0h0y",
        "colab_type": "code",
        "colab": {}
      },
      "cell_type": "code",
      "source": [
        "# Build a feed-forward network\n",
        "model = nn.Sequential(nn.Linear(21, 15),\n",
        "                      nn.ReLU(),\n",
        "                      nn.Linear(15, 12),\n",
        "                      nn.ReLU(),\n",
        "                      nn.Linear(12, 6),\n",
        "                      nn.LogSoftmax(dim=1))"
      ],
      "execution_count": 0,
      "outputs": []
    },
    {
      "metadata": {
        "id": "ciDKyLnZzi4x",
        "colab_type": "code",
        "outputId": "7ef035cf-7853-45d5-afb2-6559f55cd28c",
        "colab": {
          "base_uri": "https://localhost:8080/",
          "height": 51
        }
      },
      "cell_type": "code",
      "source": [
        "images, labels =  next(iter(trainloader_features)),  (next(iter(trainloader_targets)).squeeze_()).to(dtype=torch.long)\n",
        "\n",
        "\n",
        "# Define the loss\n",
        "criterion = nn.NLLLoss()\n",
        "\n",
        "# Get our data\n",
        "\n",
        "\n",
        "# Flatten images\n",
        "images = images.view(images.shape[0], -1)\n",
        "images = images.float()\n",
        "\n",
        "\n",
        "\n",
        "# Forward pass, get our logps\n",
        "logps = model(images)\n",
        "\n",
        "# Calculate the loss with the logits and the labels\n",
        "loss = criterion(logps, labels)\n",
        "\n",
        "print(loss)\n",
        "\n",
        "#print(images)\n",
        "print(labels)\n"
      ],
      "execution_count": 46,
      "outputs": [
        {
          "output_type": "stream",
          "text": [
            "tensor(1.7584, grad_fn=<NllLossBackward>)\n",
            "tensor([0, 1, 1, 0, 4, 0, 4, 1, 0, 0, 2, 1, 0, 1, 0])\n"
          ],
          "name": "stdout"
        }
      ]
    },
    {
      "metadata": {
        "id": "1ink0-UTyjDA",
        "colab_type": "code",
        "outputId": "2552984b-ca44-40d4-87b5-2da4d7629e3d",
        "colab": {
          "base_uri": "https://localhost:8080/",
          "height": 51
        }
      },
      "cell_type": "code",
      "source": [
        "\n",
        "print('Before backward pass: \\n', model[0].weight.grad)\n",
        "\n",
        "loss.backward()\n",
        "\n",
        "#print('After backward pass: \\n', model[0].weight.grad)"
      ],
      "execution_count": 47,
      "outputs": [
        {
          "output_type": "stream",
          "text": [
            "Before backward pass: \n",
            " None\n"
          ],
          "name": "stdout"
        }
      ]
    },
    {
      "metadata": {
        "id": "SZgedo0vypxi",
        "colab_type": "text"
      },
      "cell_type": "markdown",
      "source": [
        "#Training the NN"
      ]
    },
    {
      "metadata": {
        "id": "Ga4qq3EP0kzh",
        "colab_type": "text"
      },
      "cell_type": "markdown",
      "source": [
        "# Loop Training"
      ]
    },
    {
      "metadata": {
        "id": "7HflMr1i0ojY",
        "colab_type": "code",
        "outputId": "f65eb805-7e49-4628-f646-e34f16624b0d",
        "colab": {
          "base_uri": "https://localhost:8080/",
          "height": 1717
        }
      },
      "cell_type": "code",
      "source": [
        "# a feed-forward network\n",
        "\n",
        "model = nn.Sequential(nn.Linear(21, 15),\n",
        "                      nn.ReLU(),\n",
        "                      nn.Linear(15, 12),\n",
        "                      nn.ReLU(),\n",
        "                      nn.Linear(12, 6),\n",
        "                      nn.LogSoftmax(dim=1))\n",
        "\n",
        "\n",
        "\n",
        "criterion = nn.NLLLoss()\n",
        "optimizer = optim.SGD(model.parameters(), lr=0.3)\n",
        "\n",
        "epochs = 100\n",
        "for e in range(epochs):\n",
        "    running_loss = 0\n",
        "#    for images, labels in trainloader:\n",
        "    for images, labels in zip(trainloader_features, trainloader_targets):\n",
        "        # Get our data\n",
        "\n",
        "        # Flatten images\n",
        "        images = images.view(images.shape[0], -1)\n",
        "        images = images.float()\n",
        "        #print(images)\n",
        "\n",
        "        # Flatten labels\n",
        "        labels = labels.squeeze_()\n",
        "        labels = labels.to(dtype=torch.long)\n",
        "        #print(labels)\n",
        "\n",
        "        # TODO: Training pass\n",
        "        optimizer.zero_grad()\n",
        "        \n",
        "        output = model(images)\n",
        "        #print(output)\n",
        "        loss = criterion(output, labels)\n",
        "        loss.backward()\n",
        "        optimizer.step()\n",
        "        \n",
        "        running_loss += loss.item()\n",
        "    else:\n",
        "        print(f\"Training loss: {running_loss/(len(trainloader_features) + len(trainloader_features))}\")\n"
      ],
      "execution_count": 48,
      "outputs": [
        {
          "output_type": "stream",
          "text": [
            "Training loss: 0.8464039266109467\n",
            "Training loss: 0.7695567980408669\n",
            "Training loss: 0.715690940618515\n",
            "Training loss: 0.6493118479847908\n",
            "Training loss: 0.5454181954264641\n",
            "Training loss: 0.4906071349978447\n",
            "Training loss: 0.41467614844441414\n",
            "Training loss: 0.37711382657289505\n",
            "Training loss: 0.3444548789411783\n",
            "Training loss: 0.3539896123111248\n",
            "Training loss: 0.3521590530872345\n",
            "Training loss: 0.3417347725480795\n",
            "Training loss: 0.33188955672085285\n",
            "Training loss: 0.32003710977733135\n",
            "Training loss: 0.3262748848646879\n",
            "Training loss: 0.28854121919721365\n",
            "Training loss: 0.3158404268324375\n",
            "Training loss: 0.2803252227604389\n",
            "Training loss: 0.26308279763907194\n",
            "Training loss: 0.284148414619267\n",
            "Training loss: 0.3181870151311159\n",
            "Training loss: 0.25728075485676527\n",
            "Training loss: 0.2831250159069896\n",
            "Training loss: 0.24376583378762007\n",
            "Training loss: 0.2735737459734082\n",
            "Training loss: 0.2527006473392248\n",
            "Training loss: 0.253391919657588\n",
            "Training loss: 0.2390547776594758\n",
            "Training loss: 0.2367422915995121\n",
            "Training loss: 0.23211149126291275\n",
            "Training loss: 0.23563150689005852\n",
            "Training loss: 0.25085930433124304\n",
            "Training loss: 0.23689813911914825\n",
            "Training loss: 0.21665578428655863\n",
            "Training loss: 0.2151306252926588\n",
            "Training loss: 0.22428233921527863\n",
            "Training loss: 0.2121378118172288\n",
            "Training loss: 0.21106309723109007\n",
            "Training loss: 0.2125297961756587\n",
            "Training loss: 0.2269078241661191\n",
            "Training loss: 0.20162510313093662\n",
            "Training loss: 0.22018170077353716\n",
            "Training loss: 0.20956374192610383\n",
            "Training loss: 0.21429936354979873\n",
            "Training loss: 0.21022659726440907\n",
            "Training loss: 0.20255189621821046\n",
            "Training loss: 0.24386818427592516\n",
            "Training loss: 0.19507568795233965\n",
            "Training loss: 0.2745902640745044\n",
            "Training loss: 0.19290137337520719\n",
            "Training loss: 0.21126605989411473\n",
            "Training loss: 0.17743403557687998\n",
            "Training loss: 0.18487442377954721\n",
            "Training loss: 0.1974368100054562\n",
            "Training loss: 0.17052179155871272\n",
            "Training loss: 0.18329652585089207\n",
            "Training loss: 0.1981274166610092\n",
            "Training loss: 0.16008902341127396\n",
            "Training loss: 0.2016690168529749\n",
            "Training loss: 0.6918300511315465\n",
            "Training loss: 0.3451074790209532\n",
            "Training loss: 0.37369098514318466\n",
            "Training loss: 0.2942075142636895\n",
            "Training loss: 0.32572055608034134\n",
            "Training loss: 0.25180299393832684\n",
            "Training loss: 0.22896251548081636\n",
            "Training loss: 0.21788722975179553\n",
            "Training loss: 0.20903643406927586\n",
            "Training loss: 0.195312914904207\n",
            "Training loss: 0.2901353556662798\n",
            "Training loss: 0.19461677223443985\n",
            "Training loss: 0.19797764858230948\n",
            "Training loss: 0.18095002695918083\n",
            "Training loss: 0.41683479398489\n",
            "Training loss: 0.2324300380423665\n",
            "Training loss: 0.21700888685882092\n",
            "Training loss: 0.1779780718497932\n",
            "Training loss: 0.17996867699548602\n",
            "Training loss: 0.20727754849940538\n",
            "Training loss: 0.2159016840159893\n",
            "Training loss: 0.18754383898340166\n",
            "Training loss: 0.38794301729649305\n",
            "Training loss: 0.19500540103763342\n",
            "Training loss: 0.17597913602367043\n",
            "Training loss: 0.20346290897578\n",
            "Training loss: 0.17452724021859467\n",
            "Training loss: 0.1786905531771481\n",
            "Training loss: 0.21179881040006876\n",
            "Training loss: 0.20706490240991116\n",
            "Training loss: 0.4256116412580013\n",
            "Training loss: 0.2037795390933752\n",
            "Training loss: 0.20191105641424656\n",
            "Training loss: 0.17456559091806412\n",
            "Training loss: 0.20619447575882077\n",
            "Training loss: 0.17011664900928736\n",
            "Training loss: 0.3163360273465514\n",
            "Training loss: 0.2119522700086236\n",
            "Training loss: 0.1921924282796681\n",
            "Training loss: 0.23191332165151834\n",
            "Training loss: 0.2613484663888812\n"
          ],
          "name": "stdout"
        }
      ]
    },
    {
      "metadata": {
        "id": "IsIrKcwxlvAx",
        "colab_type": "code",
        "outputId": "39af34fa-07a1-410d-8d15-413f84d90de8",
        "colab": {
          "base_uri": "https://localhost:8080/",
          "height": 269
        }
      },
      "cell_type": "code",
      "source": [
        "for images, labels in zip(trainloader_features, trainloader_targets):\n",
        "    # Flatten images\n",
        "    img = images.view(images.shape[0], -1)\n",
        "    img = img.float()\n",
        "    #print(img)\n",
        "\n",
        "    # Flatten labels\n",
        "    #labels = labels.squeeze_()\n",
        "    #labels = labels.to(dtype=torch.long)\n",
        "    #print(labels)\n",
        "\n",
        "    # TODO: Training pass\n",
        "    #optimizer.zero_grad()\n",
        "\n",
        "    logps = model(img)\n",
        "    #print(logps)\n",
        "    #loss = criterion(output, labels)\n",
        "    \n",
        "    ps = torch.exp(logps)\n",
        "    #print(ps)\n",
        "    plt.plot(ps.data.numpy().squeeze()) #this actually worked. .!.\n",
        "    \n"
      ],
      "execution_count": 53,
      "outputs": [
        {
          "output_type": "display_data",
          "data": {
            "image/png": "[encoded data removed]",
            "text/plain": [
              "<Figure size 432x288 with 1 Axes>"
            ]
          },
          "metadata": {
            "tags": []
          }
        }
      ]
    },
    {
      "metadata": {
        "id": "NGUv_BOC-OQA",
        "colab_type": "code",
        "colab": {}
      },
      "cell_type": "code",
      "source": [
        "%matplotlib inline\n",
        "import helper\n",
        "\n",
        "#images, labels = next(iter(trainloader))\n",
        "images, labels =  next(iter(trainloader_features)),  (next(iter(trainloader_targets)).squeeze_()).to(dtype=torch.long)\n",
        "\n",
        "\n",
        "img = images[0].view(1, 21)\n",
        "img = img.float()\n",
        "print(img)\n",
        "# Turn off gradients to speed up this part\n",
        "with torch.no_grad():\n",
        "    logps = model(img)\n",
        "\n",
        "# Output of the network are log-probabilities, need to take exponential for probabilities\n",
        "ps = torch.exp(logps)\n",
        "print(ps)\n",
        "#view_classify(img.view(1, 7, 7), ps)\n",
        "plt.plot(ps.data.numpy().squeeze())"
      ],
      "execution_count": 0,
      "outputs": []
    },
    {
      "metadata": {
        "id": "fN8we86UM25h",
        "colab_type": "code",
        "colab": {}
      },
      "cell_type": "code",
      "source": [
        "import matplotlib.pyplot as plt\n",
        "import numpy as np\n",
        "from torch import nn, optim\n",
        "from torch.autograd import Variable\n",
        "\n",
        "def view_classify(img, ps):\n",
        "    ''' Function for viewing an image and it's predicted classes.\n",
        "    '''\n",
        "    ps = ps.data.numpy().squeeze()\n",
        "    print(ps)\n",
        "\n",
        "    fig, (ax1, ax2) = plt.subplots(figsize=(6,9), ncols=2)\n",
        "    ax1.imshow(img.resize_(1, 21).numpy().squeeze())\n",
        "    print(img.resize_(1, 21).numpy().squeeze())\n",
        "    ax1.axis('off')\n",
        "    ax2.barh(np.arange(10), ps)\n",
        "    ax2.set_aspect(0.1)\n",
        "    ax2.set_yticks(np.arange(6))\n",
        "    ax2.set_yticklabels(np.arange(6))\n",
        "    print(np.arange(6))\n",
        "    \n",
        "    ax2.set_title('Class Probability')\n",
        "    ax2.set_xlim(0, 1.1)\n",
        "\n",
        "    plt.tight_layout()"
      ],
      "execution_count": 0,
      "outputs": []
    },
    {
      "metadata": {
        "id": "UNFPnDbkM89j",
        "colab_type": "code",
        "colab": {}
      },
      "cell_type": "code",
      "source": [
        "%matplotlib inline\n",
        "import helper\n",
        "\n",
        "#images, labels = next(iter(trainloader))\n",
        "images, labels =  next(iter(trainloader_features)),  (next(iter(trainloader_targets)).squeeze_()).to(dtype=torch.long)\n",
        "\n",
        "\n",
        "img = images[0].view(1, 21)\n",
        "print(img)\n",
        "img = img.float()\n",
        "\n",
        "labels = labels.squeeze_()\n",
        "labels = labels.to(dtype=torch.long)\n",
        "#print(labels)\n",
        "\n",
        "# Turn off gradients to speed up this part\n",
        "with torch.no_grad():\n",
        "    logps = model(img)\n",
        "\n",
        "# Output of the network are log-probabilities, need to take exponential for probabilities\n",
        "ps = torch.exp(logps)\n",
        "print(ps)\n",
        "\n",
        "#view_classify(img.view(1, 21), ps)\n",
        "\n",
        "ps = ps.data.numpy().squeeze()\n",
        "#print(ps)\n",
        "\n",
        "fig, ax = plt.subplots()\n",
        "\n",
        "\n",
        "ax.barh(np.arange(6), ps)\n",
        "ax.set_aspect(0.1)\n",
        "ax.set_yticks(np.arange(6))\n",
        "ax.set_yticklabels(np.arange(6))\n",
        "print(np.arange(6))\n",
        "\n",
        "ax.set_title('Class Probability')\n",
        "ax.set_xlim(0, 1.1)\n",
        "\n",
        "print(np.argmax(ps))  # gets the highest probability index\n",
        "\n",
        "#processed_data['Rank']  = data['Rank']   \n",
        "getting_rank  = processed_data['Rank']   \n",
        "\n",
        "\n",
        "plt.tight_layout()\n"
      ],
      "execution_count": 0,
      "outputs": []
    },
    {
      "metadata": {
        "id": "wMudK73noiru",
        "colab_type": "code",
        "colab": {}
      },
      "cell_type": "code",
      "source": [
        "actual_rank  = processed_data['Rank']\n",
        "\n",
        "for images, a_rank in zip(trainloader_features, actual_rank):\n",
        "    # Flatten images\n",
        "    img = images.view(images.shape[0], -1)\n",
        "    img = img.float()\n",
        "    #print(img)\n",
        "\n",
        "\n",
        "    logps = model(img)\n",
        "\n",
        "    ps = torch.exp(logps)\n",
        "    #print(ps)\n",
        "    ps = ps.data.numpy().squeeze() #this actually worked. .!.\n",
        "    predicted_rank = np.argmax(ps)\n",
        "    \n",
        "    print(a_rank)\n",
        "    print(predicted_rank)\n",
        "    \n",
        "    plt.plot(a_rank, predicted_rank)\n",
        "    \n",
        "\n",
        "\n",
        "   \n",
        "\n"
      ],
      "execution_count": 0,
      "outputs": []
    },
    {
      "metadata": {
        "id": "zCejMOZDX61W",
        "colab_type": "code",
        "colab": {}
      },
      "cell_type": "code",
      "source": [
        "for images, labels in zip(trainloader_features, trainloader_targets):\n",
        "    # Flatten images\n",
        "    img = images.view(images.shape[0], -1)\n",
        "    img = img.float()\n",
        "    #print(img)\n",
        "\n",
        "    # Flatten labels\n",
        "    #labels = labels.squeeze_()\n",
        "    #labels = labels.to(dtype=torch.long)\n",
        "    #print(labels)\n",
        "\n",
        "    # TODO: Training pass\n",
        "    #optimizer.zero_grad()\n",
        "\n",
        "    logps = model(img)\n",
        "    #print(logps)\n",
        "    #loss = criterion(output, labels)\n",
        "    \n",
        "    ps = torch.exp(logps)\n",
        "    ps = ps.data.numpy().squeeze()\n",
        "    print(np.argmax(ps))  # gets the highest probability index\n",
        "\n",
        "\n",
        "    #print(ps)\n",
        "    #plt.plot(ps.data.numpy().squeeze()) #this actually worked. .!.\n",
        "    \n"
      ],
      "execution_count": 0,
      "outputs": []
    }
  ]
}