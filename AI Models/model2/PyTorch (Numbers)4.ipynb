{
  "nbformat": 4,
  "nbformat_minor": 0,
  "metadata": {
    "colab": {
      "name": "Part 3 - Training Neural Networks (Solution).ipynb",
      "version": "0.3.2",
      "provenance": []
    },
    "language_info": {
      "codemirror_mode": {
        "name": "ipython",
        "version": 3
      },
      "file_extension": ".py",
      "mimetype": "text/x-python",
      "name": "python",
      "nbconvert_exporter": "python",
      "pygments_lexer": "ipython3",
      "version": "3.6.7"
    },
    "kernelspec": {
      "display_name": "Python 3",
      "language": "python",
      "name": "python3"
    }
  },
  "cells": [
    {
      "metadata": {
        "id": "Ejj7aC6KLAG9",
        "colab_type": "text"
      },
      "cell_type": "markdown",
      "source": [
        "# Training Neural Networks\n",
        "\n",
        "The network we built in the previous part isn't so smart, it doesn't know anything about our handwritten digits. Neural networks with non-linear activations work like universal function approximators. There is some function that maps your input to the output. For example, images of handwritten digits to class probabilities. The power of neural networks is that we can train them to approximate this function, and basically any function given enough data and compute time.\n",
        "\n",
        "<img src=\"https://github.com/engrsmukhtar/deep-learning-v2-pytorch/blob/master/intro-to-pytorch/assets/function_approx.png?raw=1\" width=500px>\n",
        "\n",
        "At first the network is naive, it doesn't know the function mapping the inputs to the outputs. We train the network by showing it examples of real data, then adjusting the network parameters such that it approximates this function.\n",
        "\n",
        "To find these parameters, we need to know how poorly the network is predicting the real outputs. For this we calculate a **loss function** (also called the cost), a measure of our prediction error. For example, the mean squared loss is often used in regression and binary classification problems\n",
        "\n",
        "$$\n",
        "\\large \\ell = \\frac{1}{2n}\\sum_i^n{\\left(y_i - \\hat{y}_i\\right)^2}\n",
        "$$\n",
        "\n",
        "where $n$ is the number of training examples, $y_i$ are the true labels, and $\\hat{y}_i$ are the predicted labels.\n",
        "\n",
        "By minimizing this loss with respect to the network parameters, we can find configurations where the loss is at a minimum and the network is able to predict the correct labels with high accuracy. We find this minimum using a process called **gradient descent**. The gradient is the slope of the loss function and points in the direction of fastest change. To get to the minimum in the least amount of time, we then want to follow the gradient (downwards). You can think of this like descending a mountain by following the steepest slope to the base.\n",
        "\n",
        "<img src='https://github.com/engrsmukhtar/deep-learning-v2-pytorch/blob/master/intro-to-pytorch/assets/gradient_descent.png?raw=1' width=350px>"
      ]
    },
    {
      "metadata": {
        "id": "O066D5RdLAG_",
        "colab_type": "text"
      },
      "cell_type": "markdown",
      "source": [
        "## Backpropagation\n",
        "\n",
        "For single layer networks, gradient descent is straightforward to implement. However, it's more complicated for deeper, multilayer neural networks like the one we've built. Complicated enough that it took about 30 years before researchers figured out how to train multilayer networks.\n",
        "\n",
        "Training multilayer networks is done through **backpropagation** which is really just an application of the chain rule from calculus. It's easiest to understand if we convert a two layer network into a graph representation.\n",
        "\n",
        "<img src='https://github.com/engrsmukhtar/deep-learning-v2-pytorch/blob/master/intro-to-pytorch/assets/backprop_diagram.png?raw=1' width=550px>\n",
        "\n",
        "In the forward pass through the network, our data and operations go from bottom to top here. We pass the input $x$ through a linear transformation $L_1$ with weights $W_1$ and biases $b_1$. The output then goes through the sigmoid operation $S$ and another linear transformation $L_2$. Finally we calculate the loss $\\ell$. We use the loss as a measure of how bad the network's predictions are. The goal then is to adjust the weights and biases to minimize the loss.\n",
        "\n",
        "To train the weights with gradient descent, we propagate the gradient of the loss backwards through the network. Each operation has some gradient between the inputs and outputs. As we send the gradients backwards, we multiply the incoming gradient with the gradient for the operation. Mathematically, this is really just calculating the gradient of the loss with respect to the weights using the chain rule.\n",
        "\n",
        "$$\n",
        "\\large \\frac{\\partial \\ell}{\\partial W_1} = \\frac{\\partial L_1}{\\partial W_1} \\frac{\\partial S}{\\partial L_1} \\frac{\\partial L_2}{\\partial S} \\frac{\\partial \\ell}{\\partial L_2}\n",
        "$$\n",
        "\n",
        "**Note:** I'm glossing over a few details here that require some knowledge of vector calculus, but they aren't necessary to understand what's going on.\n",
        "\n",
        "We update our weights using this gradient with some learning rate $\\alpha$. \n",
        "\n",
        "$$\n",
        "\\large W^\\prime_1 = W_1 - \\alpha \\frac{\\partial \\ell}{\\partial W_1}\n",
        "$$\n",
        "\n",
        "The learning rate $\\alpha$ is set such that the weight update steps are small enough that the iterative method settles in a minimum."
      ]
    },
    {
      "metadata": {
        "id": "Rz0NAQ6RLAHA",
        "colab_type": "text"
      },
      "cell_type": "markdown",
      "source": [
        "## Losses in PyTorch\n",
        "\n",
        "Let's start by seeing how we calculate the loss with PyTorch. Through the `nn` module, PyTorch provides losses such as the cross-entropy loss (`nn.CrossEntropyLoss`). You'll usually see the loss assigned to `criterion`. As noted in the last part, with a classification problem such as MNIST, we're using the softmax function to predict class probabilities. With a softmax output, you want to use cross-entropy as the loss. To actually calculate the loss, you first define the criterion then pass in the output of your network and the correct labels.\n",
        "\n",
        "Something really important to note here. Looking at [the documentation for `nn.CrossEntropyLoss`](https://pytorch.org/docs/stable/nn.html#torch.nn.CrossEntropyLoss),\n",
        "\n",
        "> This criterion combines `nn.LogSoftmax()` and `nn.NLLLoss()` in one single class.\n",
        ">\n",
        "> The input is expected to contain scores for each class.\n",
        "\n",
        "This means we need to pass in the raw output of our network into the loss, not the output of the softmax function. This raw output is usually called the *logits* or *scores*. We use the logits because softmax gives you probabilities which will often be very close to zero or one but floating-point numbers can't accurately represent values near zero or one ([read more here](https://docs.python.org/3/tutorial/floatingpoint.html)). It's usually best to avoid doing calculations with probabilities, typically we use log-probabilities."
      ]
    },
    {
      "metadata": {
        "id": "1qr4EOFJLAHB",
        "colab_type": "code",
        "colab": {}
      },
      "cell_type": "code",
      "source": [
        "import torch\n",
        "from torch import nn\n",
        "import torch.nn.functional as F\n",
        "from torchvision import datasets, transforms\n",
        "from torch import optim\n",
        "import matplotlib.pyplot as plt\n",
        "import numpy as np\n",
        "from torch import nn, optim\n",
        "from torch.autograd import Variable\n",
        "\n",
        "\n",
        "%matplotlib inline\n",
        "# Define a transform to normalize the data\n",
        "transform = transforms.Compose([transforms.ToTensor(),\n",
        "                                transforms.Normalize((0.5,), (0.5,)),\n",
        "                              ])\n",
        "# Download and load the training data\n",
        "trainset = datasets.MNIST('~/.pytorch/MNIST_data/', download=True, train=True, transform=transform)\n",
        "trainloader = torch.utils.data.DataLoader(trainset, batch_size=64, shuffle=True)"
      ],
      "execution_count": 0,
      "outputs": []
    },
    {
      "metadata": {
        "id": "qdLhtZCxLAHF",
        "colab_type": "code",
        "outputId": "9eb82af8-b288-4f8e-ad5b-ae0bc6b577d5",
        "colab": {
          "base_uri": "https://localhost:8080/",
          "height": 34
        }
      },
      "cell_type": "code",
      "source": [
        "# Build a feed-forward network\n",
        "model = nn.Sequential(nn.Linear(784, 128),\n",
        "                      nn.ReLU(),\n",
        "                      nn.Linear(128, 64),\n",
        "                      nn.ReLU(),\n",
        "                      nn.Linear(64, 10))\n",
        "\n",
        "# Define the loss\n",
        "criterion = nn.CrossEntropyLoss()\n",
        "\n",
        "# Get our data\n",
        "images, labels = next(iter(trainloader))\n",
        "# Flatten images\n",
        "images = images.view(images.shape[0], -1)\n",
        "\n",
        "# Forward pass, get our logits\n",
        "logits = model(images)\n",
        "# Calculate the loss with the logits and the labels\n",
        "loss = criterion(logits, labels)\n",
        "\n",
        "print(loss)"
      ],
      "execution_count": 4,
      "outputs": [
        {
          "output_type": "stream",
          "text": [
            "tensor(2.3142, grad_fn=<NllLossBackward>)\n"
          ],
          "name": "stdout"
        }
      ]
    },
    {
      "metadata": {
        "id": "l_YdO91gLAHO",
        "colab_type": "text"
      },
      "cell_type": "markdown",
      "source": [
        "In my experience it's more convenient to build the model with a log-softmax output using `nn.LogSoftmax` or `F.log_softmax` ([documentation](https://pytorch.org/docs/stable/nn.html#torch.nn.LogSoftmax)). Then you can get the actual probabilites by taking the exponential `torch.exp(output)`. With a log-softmax output, you want to use the negative log likelihood loss, `nn.NLLLoss` ([documentation](https://pytorch.org/docs/stable/nn.html#torch.nn.NLLLoss)).\n",
        "\n",
        ">**Exercise:** Build a model that returns the log-softmax as the output and calculate the loss using the negative log likelihood loss."
      ]
    },
    {
      "metadata": {
        "id": "qNTfyLUzLAHP",
        "colab_type": "code",
        "outputId": "5660f821-77fa-4c08-8f3a-2c6275be8258",
        "colab": {
          "base_uri": "https://localhost:8080/",
          "height": 34
        }
      },
      "cell_type": "code",
      "source": [
        "## Solution\n",
        "\n",
        "# Build a feed-forward network\n",
        "model = nn.Sequential(nn.Linear(784, 128),\n",
        "                      nn.ReLU(),\n",
        "                      nn.Linear(128, 64),\n",
        "                      nn.ReLU(),\n",
        "                      nn.Linear(64, 10),\n",
        "                      nn.LogSoftmax(dim=1))\n",
        "\n",
        "# Define the loss\n",
        "criterion = nn.NLLLoss()\n",
        "\n",
        "# Get our data\n",
        "images, labels = next(iter(trainloader))\n",
        "# Flatten images\n",
        "images = images.view(images.shape[0], -1)\n",
        "\n",
        "# Forward pass, get our log-probabilities\n",
        "logps = model(images)\n",
        "# Calculate the loss with the logps and the labels\n",
        "loss = criterion(logps, labels)\n",
        "\n",
        "print(loss)"
      ],
      "execution_count": 5,
      "outputs": [
        {
          "output_type": "stream",
          "text": [
            "tensor(2.3117, grad_fn=<NllLossBackward>)\n"
          ],
          "name": "stdout"
        }
      ]
    },
    {
      "metadata": {
        "id": "9sIAni8TLAHS",
        "colab_type": "text"
      },
      "cell_type": "markdown",
      "source": [
        "## Autograd\n",
        "\n",
        "Now that we know how to calculate a loss, how do we use it to perform backpropagation? Torch provides a module, `autograd`, for automatically calculating the gradients of tensors. We can use it to calculate the gradients of all our parameters with respect to the loss. Autograd works by keeping track of operations performed on tensors, then going backwards through those operations, calculating gradients along the way. To make sure PyTorch keeps track of operations on a tensor and calculates the gradients, you need to set `requires_grad = True` on a tensor. You can do this at creation with the `requires_grad` keyword, or at any time with `x.requires_grad_(True)`.\n",
        "\n",
        "You can turn off gradients for a block of code with the `torch.no_grad()` content:\n",
        "```python\n",
        "x = torch.zeros(1, requires_grad=True)\n",
        ">>> with torch.no_grad():\n",
        "...     y = x * 2\n",
        ">>> y.requires_grad\n",
        "False\n",
        "```\n",
        "\n",
        "Also, you can turn on or off gradients altogether with `torch.set_grad_enabled(True|False)`.\n",
        "\n",
        "The gradients are computed with respect to some variable `z` with `z.backward()`. This does a backward pass through the operations that created `z`."
      ]
    },
    {
      "metadata": {
        "id": "30iCuknTLAHT",
        "colab_type": "code",
        "outputId": "3ac0a064-dc21-434e-f42d-35b43dc9994b",
        "colab": {
          "base_uri": "https://localhost:8080/",
          "height": 51
        }
      },
      "cell_type": "code",
      "source": [
        "x = torch.randn(2,2, requires_grad=True)\n",
        "print(x)"
      ],
      "execution_count": 6,
      "outputs": [
        {
          "output_type": "stream",
          "text": [
            "tensor([[ 1.0504, -1.9575],\n",
            "        [-0.3985, -1.3212]], requires_grad=True)\n"
          ],
          "name": "stdout"
        }
      ]
    },
    {
      "metadata": {
        "id": "0KKyEHE3LAHW",
        "colab_type": "code",
        "outputId": "1e36abf4-b5a2-4627-8613-c8457a031ecf",
        "colab": {
          "base_uri": "https://localhost:8080/",
          "height": 51
        }
      },
      "cell_type": "code",
      "source": [
        "y = x**2\n",
        "print(y)"
      ],
      "execution_count": 7,
      "outputs": [
        {
          "output_type": "stream",
          "text": [
            "tensor([[1.1033, 3.8318],\n",
            "        [0.1588, 1.7455]], grad_fn=<PowBackward0>)\n"
          ],
          "name": "stdout"
        }
      ]
    },
    {
      "metadata": {
        "id": "X_rC0601LAHc",
        "colab_type": "text"
      },
      "cell_type": "markdown",
      "source": [
        "Below we can see the operation that created `y`, a power operation `PowBackward0`."
      ]
    },
    {
      "metadata": {
        "id": "zGnq3BNJLAHd",
        "colab_type": "code",
        "outputId": "6aedb555-2c52-4ce9-b3df-3a79b67fb011",
        "colab": {
          "base_uri": "https://localhost:8080/",
          "height": 34
        }
      },
      "cell_type": "code",
      "source": [
        "## grad_fn shows the function that generated this variable\n",
        "print(y.grad_fn)"
      ],
      "execution_count": 8,
      "outputs": [
        {
          "output_type": "stream",
          "text": [
            "<PowBackward0 object at 0x7fba1d22a5f8>\n"
          ],
          "name": "stdout"
        }
      ]
    },
    {
      "metadata": {
        "id": "4ZhDxiVFLAHg",
        "colab_type": "text"
      },
      "cell_type": "markdown",
      "source": [
        "The autograd module keeps track of these operations and knows how to calculate the gradient for each one. In this way, it's able to calculate the gradients for a chain of operations, with respect to any one tensor. Let's reduce the tensor `y` to a scalar value, the mean."
      ]
    },
    {
      "metadata": {
        "id": "HLSnUknBLAHh",
        "colab_type": "code",
        "outputId": "99fe754a-507c-4a49-a990-c675be73246c",
        "colab": {
          "base_uri": "https://localhost:8080/",
          "height": 34
        }
      },
      "cell_type": "code",
      "source": [
        "z = y.mean()\n",
        "print(z)"
      ],
      "execution_count": 9,
      "outputs": [
        {
          "output_type": "stream",
          "text": [
            "tensor(1.7099, grad_fn=<MeanBackward1>)\n"
          ],
          "name": "stdout"
        }
      ]
    },
    {
      "metadata": {
        "id": "10b7dHkELAHl",
        "colab_type": "text"
      },
      "cell_type": "markdown",
      "source": [
        "You can check the gradients for `x` and `y` but they are empty currently."
      ]
    },
    {
      "metadata": {
        "id": "xltmGeYILAHl",
        "colab_type": "code",
        "outputId": "4a53baac-a029-41b5-f257-93f2ec68d0ad",
        "colab": {
          "base_uri": "https://localhost:8080/",
          "height": 34
        }
      },
      "cell_type": "code",
      "source": [
        "print(x.grad)"
      ],
      "execution_count": 10,
      "outputs": [
        {
          "output_type": "stream",
          "text": [
            "None\n"
          ],
          "name": "stdout"
        }
      ]
    },
    {
      "metadata": {
        "id": "WDAvACAmLAHr",
        "colab_type": "text"
      },
      "cell_type": "markdown",
      "source": [
        "To calculate the gradients, you need to run the `.backward` method on a Variable, `z` for example. This will calculate the gradient for `z` with respect to `x`\n",
        "\n",
        "$$\n",
        "\\frac{\\partial z}{\\partial x} = \\frac{\\partial}{\\partial x}\\left[\\frac{1}{n}\\sum_i^n x_i^2\\right] = \\frac{x}{2}\n",
        "$$"
      ]
    },
    {
      "metadata": {
        "id": "RgskY6q-LAHs",
        "colab_type": "code",
        "outputId": "f99cf4a8-eabc-4d78-a86d-cbcb88610acf",
        "colab": {
          "base_uri": "https://localhost:8080/",
          "height": 85
        }
      },
      "cell_type": "code",
      "source": [
        "z.backward()\n",
        "print(x.grad)\n",
        "print(x/2)"
      ],
      "execution_count": 11,
      "outputs": [
        {
          "output_type": "stream",
          "text": [
            "tensor([[ 0.5252, -0.9787],\n",
            "        [-0.1992, -0.6606]])\n",
            "tensor([[ 0.5252, -0.9787],\n",
            "        [-0.1992, -0.6606]], grad_fn=<DivBackward0>)\n"
          ],
          "name": "stdout"
        }
      ]
    },
    {
      "metadata": {
        "id": "gzQ62QqzLAHw",
        "colab_type": "text"
      },
      "cell_type": "markdown",
      "source": [
        "These gradients calculations are particularly useful for neural networks. For training we need the gradients of the weights with respect to the cost. With PyTorch, we run data forward through the network to calculate the loss, then, go backwards to calculate the gradients with respect to the loss. Once we have the gradients we can make a gradient descent step. "
      ]
    },
    {
      "metadata": {
        "id": "JrQK7-j6LAHw",
        "colab_type": "text"
      },
      "cell_type": "markdown",
      "source": [
        "## Loss and Autograd together\n",
        "\n",
        "When we create a network with PyTorch, all of the parameters are initialized with `requires_grad = True`. This means that when we calculate the loss and call `loss.backward()`, the gradients for the parameters are calculated. These gradients are used to update the weights with gradient descent. Below you can see an example of calculating the gradients using a backwards pass."
      ]
    },
    {
      "metadata": {
        "id": "TrwbKOeFLAHx",
        "colab_type": "code",
        "colab": {}
      },
      "cell_type": "code",
      "source": [
        "# Build a feed-forward network\n",
        "model = nn.Sequential(nn.Linear(784, 128),\n",
        "                      nn.ReLU(),\n",
        "                      nn.Linear(128, 64),\n",
        "                      nn.ReLU(),\n",
        "                      nn.Linear(64, 10),\n",
        "                      nn.LogSoftmax(dim=1))\n",
        "\n",
        "criterion = nn.NLLLoss()\n",
        "images, labels = next(iter(trainloader))\n",
        "images = images.view(images.shape[0], -1)\n",
        "\n",
        "logps = model(images)\n",
        "loss = criterion(logps, labels)"
      ],
      "execution_count": 0,
      "outputs": []
    },
    {
      "metadata": {
        "id": "TOCJV7flLAH3",
        "colab_type": "code",
        "outputId": "8b697731-9f69-478a-a73e-45a2a0dcb523",
        "colab": {
          "base_uri": "https://localhost:8080/",
          "height": 187
        }
      },
      "cell_type": "code",
      "source": [
        "print('Before backward pass: \\n', model[0].weight.grad)\n",
        "\n",
        "loss.backward()\n",
        "\n",
        "print('After backward pass: \\n', model[0].weight.grad)"
      ],
      "execution_count": 13,
      "outputs": [
        {
          "output_type": "stream",
          "text": [
            "Before backward pass: \n",
            " None\n",
            "After backward pass: \n",
            " tensor([[ 0.0000,  0.0000,  0.0000,  ...,  0.0000,  0.0000,  0.0000],\n",
            "        [ 0.0010,  0.0010,  0.0010,  ...,  0.0010,  0.0010,  0.0010],\n",
            "        [ 0.0000,  0.0000,  0.0000,  ...,  0.0000,  0.0000,  0.0000],\n",
            "        ...,\n",
            "        [-0.0021, -0.0021, -0.0021,  ..., -0.0021, -0.0021, -0.0021],\n",
            "        [-0.0003, -0.0003, -0.0003,  ..., -0.0003, -0.0003, -0.0003],\n",
            "        [-0.0006, -0.0006, -0.0006,  ..., -0.0006, -0.0006, -0.0006]])\n"
          ],
          "name": "stdout"
        }
      ]
    },
    {
      "metadata": {
        "id": "bNkm5ZP-LAH-",
        "colab_type": "text"
      },
      "cell_type": "markdown",
      "source": [
        "## Training the network!\n",
        "\n",
        "There's one last piece we need to start training, an optimizer that we'll use to update the weights with the gradients. We get these from PyTorch's [`optim` package](https://pytorch.org/docs/stable/optim.html). For example we can use stochastic gradient descent with `optim.SGD`. You can see how to define an optimizer below."
      ]
    },
    {
      "metadata": {
        "id": "VRAwA64MLAH_",
        "colab_type": "code",
        "colab": {}
      },
      "cell_type": "code",
      "source": [
        "from torch import optim\n",
        "\n",
        "# Optimizers require the parameters to optimize and a learning rate\n",
        "optimizer = optim.SGD(model.parameters(), lr=0.01)"
      ],
      "execution_count": 0,
      "outputs": []
    },
    {
      "metadata": {
        "id": "xYRKNMGlLAID",
        "colab_type": "text"
      },
      "cell_type": "markdown",
      "source": [
        "Now we know how to use all the individual parts so it's time to see how they work together. Let's consider just one learning step before looping through all the data. The general process with PyTorch:\n",
        "\n",
        "* Make a forward pass through the network \n",
        "* Use the network output to calculate the loss\n",
        "* Perform a backward pass through the network with `loss.backward()` to calculate the gradients\n",
        "* Take a step with the optimizer to update the weights\n",
        "\n",
        "Below I'll go through one training step and print out the weights and gradients so you can see how it changes. Note that I have a line of code `optimizer.zero_grad()`. When you do multiple backwards passes with the same parameters, the gradients are accumulated. This means that you need to zero the gradients on each training pass or you'll retain gradients from previous training batches."
      ]
    },
    {
      "metadata": {
        "id": "0ChjYu9SLAIE",
        "colab_type": "code",
        "outputId": "09f61fcd-df3f-445e-c7e6-144012c1fec2",
        "colab": {
          "base_uri": "https://localhost:8080/",
          "height": 289
        }
      },
      "cell_type": "code",
      "source": [
        "print('Initial weights - ', model[0].weight)\n",
        "\n",
        "images, labels = next(iter(trainloader))\n",
        "images.resize_(64, 784)\n",
        "\n",
        "# Clear the gradients, do this because gradients are accumulated\n",
        "optimizer.zero_grad()\n",
        "\n",
        "# Forward pass, then backward pass, then update weights\n",
        "output = model(images)\n",
        "loss = criterion(output, labels)\n",
        "loss.backward()\n",
        "print('Gradient -', model[0].weight.grad)"
      ],
      "execution_count": 15,
      "outputs": [
        {
          "output_type": "stream",
          "text": [
            "Initial weights -  Parameter containing:\n",
            "tensor([[ 0.0347, -0.0282, -0.0051,  ...,  0.0337,  0.0326,  0.0339],\n",
            "        [-0.0082, -0.0158,  0.0076,  ..., -0.0047,  0.0298,  0.0354],\n",
            "        [ 0.0144, -0.0293,  0.0304,  ..., -0.0203,  0.0101,  0.0117],\n",
            "        ...,\n",
            "        [-0.0108,  0.0236, -0.0319,  ..., -0.0233,  0.0245, -0.0133],\n",
            "        [-0.0045, -0.0195, -0.0295,  ..., -0.0356,  0.0203, -0.0029],\n",
            "        [ 0.0039, -0.0106, -0.0084,  ..., -0.0098,  0.0220, -0.0026]],\n",
            "       requires_grad=True)\n",
            "Gradient - tensor([[-0.0004, -0.0004, -0.0004,  ..., -0.0004, -0.0004, -0.0004],\n",
            "        [ 0.0006,  0.0006,  0.0006,  ...,  0.0006,  0.0006,  0.0006],\n",
            "        [ 0.0000,  0.0000,  0.0000,  ...,  0.0000,  0.0000,  0.0000],\n",
            "        ...,\n",
            "        [-0.0002, -0.0002, -0.0002,  ..., -0.0002, -0.0002, -0.0002],\n",
            "        [ 0.0009,  0.0009,  0.0009,  ...,  0.0009,  0.0009,  0.0009],\n",
            "        [-0.0008, -0.0008, -0.0008,  ..., -0.0008, -0.0008, -0.0008]])\n"
          ],
          "name": "stdout"
        }
      ]
    },
    {
      "metadata": {
        "id": "8gULJmzzLAIJ",
        "colab_type": "code",
        "outputId": "b675d5b9-cb97-4ff2-d6c1-f13b89479134",
        "colab": {
          "base_uri": "https://localhost:8080/",
          "height": 170
        }
      },
      "cell_type": "code",
      "source": [
        "# Take an update step and few the new weights\n",
        "optimizer.step()\n",
        "print('Updated weights - ', model[0].weight)"
      ],
      "execution_count": 16,
      "outputs": [
        {
          "output_type": "stream",
          "text": [
            "Updated weights -  Parameter containing:\n",
            "tensor([[ 0.0348, -0.0282, -0.0051,  ...,  0.0337,  0.0326,  0.0339],\n",
            "        [-0.0082, -0.0158,  0.0076,  ..., -0.0047,  0.0298,  0.0353],\n",
            "        [ 0.0144, -0.0293,  0.0304,  ..., -0.0203,  0.0101,  0.0117],\n",
            "        ...,\n",
            "        [-0.0108,  0.0236, -0.0319,  ..., -0.0233,  0.0245, -0.0133],\n",
            "        [-0.0045, -0.0195, -0.0295,  ..., -0.0356,  0.0203, -0.0029],\n",
            "        [ 0.0039, -0.0106, -0.0084,  ..., -0.0098,  0.0220, -0.0026]],\n",
            "       requires_grad=True)\n"
          ],
          "name": "stdout"
        }
      ]
    },
    {
      "metadata": {
        "id": "UqwUMM9MLAIU",
        "colab_type": "text"
      },
      "cell_type": "markdown",
      "source": [
        "### Training for real\n",
        "\n",
        "Now we'll put this algorithm into a loop so we can go through all the images. Some nomenclature, one pass through the entire dataset is called an *epoch*. So here we're going to loop through `trainloader` to get our training batches. For each batch, we'll doing a training pass where we calculate the loss, do a backwards pass, and update the weights.\n",
        "\n",
        "> **Exercise: ** Implement the training pass for our network. If you implemented it correctly, you should see the training loss drop with each epoch."
      ]
    },
    {
      "metadata": {
        "id": "NfZJgezRLAIV",
        "colab_type": "code",
        "outputId": "520a313d-a7f5-4b96-9814-954d8127b2b7",
        "colab": {
          "base_uri": "https://localhost:8080/",
          "height": 102
        }
      },
      "cell_type": "code",
      "source": [
        "model = nn.Sequential(nn.Linear(784, 128),\n",
        "                      nn.ReLU(),\n",
        "                      nn.Linear(128, 64),\n",
        "                      nn.ReLU(),\n",
        "                      nn.Linear(64, 10),\n",
        "                      nn.LogSoftmax(dim=1))\n",
        "\n",
        "criterion = nn.NLLLoss()\n",
        "optimizer = optim.SGD(model.parameters(), lr=0.003)\n",
        "\n",
        "epochs = 5\n",
        "for e in range(epochs):\n",
        "    running_loss = 0\n",
        "    for images, labels in trainloader:\n",
        "        # Flatten MNIST images into a 784 long vector\n",
        "        images = images.view(images.shape[0], -1)\n",
        "        \n",
        "        #print(images.shape)\n",
        "        #print(labels.shape)\n",
        "    \n",
        "        # TODO: Training pass\n",
        "        optimizer.zero_grad()\n",
        "        \n",
        "        output = model(images)\n",
        "        loss = criterion(output, labels)\n",
        "        loss.backward()\n",
        "        optimizer.step()\n",
        "        \n",
        "        running_loss += loss.item()\n",
        "    else:\n",
        "        print(f\"Training loss: {running_loss/len(trainloader)}\")"
      ],
      "execution_count": 17,
      "outputs": [
        {
          "output_type": "stream",
          "text": [
            "Training loss: 1.9276438928616326\n",
            "Training loss: 0.8519874997039848\n",
            "Training loss: 0.5289849822264491\n",
            "Training loss: 0.4310745063589326\n",
            "Training loss: 0.3840997204788204\n"
          ],
          "name": "stdout"
        }
      ]
    },
    {
      "metadata": {
        "id": "BCJ35QjuLAIa",
        "colab_type": "text"
      },
      "cell_type": "markdown",
      "source": [
        "With the network trained, we can check out it's predictions."
      ]
    },
    {
      "metadata": {
        "id": "kiJEP58mLar8",
        "colab_type": "code",
        "colab": {}
      },
      "cell_type": "code",
      "source": [
        "import matplotlib.pyplot as plt\n",
        "import numpy as np\n",
        "from torch import nn, optim\n",
        "from torch.autograd import Variable\n",
        "\n",
        "def view_classify(img, ps, version=\"MNIST\"):\n",
        "    ''' Function for viewing an image and it's predicted classes.\n",
        "    '''\n",
        "    ps = ps.data.numpy().squeeze()\n",
        "\n",
        "    fig, (ax1, ax2) = plt.subplots(figsize=(6,9), ncols=2)\n",
        "    ax1.imshow(img.resize_(1, 28, 28).numpy().squeeze())\n",
        "    ax1.axis('off')\n",
        "    ax2.barh(np.arange(10), ps)\n",
        "    ax2.set_aspect(0.1)\n",
        "    ax2.set_yticks(np.arange(10))\n",
        "    if version == \"MNIST\":\n",
        "        ax2.set_yticklabels(np.arange(10))\n",
        "    elif version == \"Fashion\":\n",
        "        ax2.set_yticklabels(['T-shirt/top',\n",
        "                            'Trouser',\n",
        "                            'Pullover',\n",
        "                            'Dress',\n",
        "                            'Coat',\n",
        "                            'Sandal',\n",
        "                            'Shirt',\n",
        "                            'Sneaker',\n",
        "                            'Bag',\n",
        "                            'Ankle Boot'], size='small');\n",
        "    ax2.set_title('Class Probability')\n",
        "    ax2.set_xlim(0, 1.1)\n",
        "\n",
        "    plt.tight_layout()"
      ],
      "execution_count": 0,
      "outputs": []
    },
    {
      "metadata": {
        "id": "XVgt9vWbLAIb",
        "colab_type": "code",
        "outputId": "0538b61e-c747-45a3-f7ff-f7c8d644565e",
        "colab": {
          "base_uri": "https://localhost:8080/",
          "height": 244
        }
      },
      "cell_type": "code",
      "source": [
        "%matplotlib inline\n",
        "import helper\n",
        "\n",
        "images, labels = next(iter(trainloader))\n",
        "\n",
        "img = images[0].view(1, 784)\n",
        "# Turn off gradients to speed up this part\n",
        "with torch.no_grad():\n",
        "    logps = model(img)\n",
        "\n",
        "# Output of the network are log-probabilities, need to take exponential for probabilities\n",
        "ps = torch.exp(logps)\n",
        "view_classify(img.view(1, 28, 28), ps)"
      ],
      "execution_count": 19,
      "outputs": [
        {
          "output_type": "display_data",
          "data": {
            "image/png": "[encoded data removed]",
            "text/plain": [
              "<Figure size 432x648 with 2 Axes>"
            ]
          },
          "metadata": {
            "tags": []
          }
        }
      ]
    },
    {
      "metadata": {
        "id": "RH9q991lJIXP",
        "colab_type": "code",
        "outputId": "ddb9def0-f101-431a-cc8d-449ffb18185c",
        "colab": {
          "base_uri": "https://localhost:8080/",
          "height": 194
        }
      },
      "cell_type": "code",
      "source": [
        "import pandas as pd\n",
        "import numpy as np\n",
        "\n",
        "\n",
        "# Reading the csv file into a pandas DataFrame\n",
        "\n",
        "url = 'https://raw.githubusercontent.com/engrsmukhtar/AI4EnergyProcessSystems/AI4EPS-1/AI%20Models/model2/10.%20tot%20mass%20w%20H2O-hbrcacabo3-duration-c-zero-based-targets.csv'\n",
        "data = pd.read_csv(url)\n",
        "\n",
        "# Printing out some rows from our data\n",
        "data[:2]"
      ],
      "execution_count": 20,
      "outputs": [
        {
          "output_type": "execute_result",
          "data": {
            "text/html": [
              "<div>\n",
              "<style scoped>\n",
              "    .dataframe tbody tr th:only-of-type {\n",
              "        vertical-align: middle;\n",
              "    }\n",
              "\n",
              "    .dataframe tbody tr th {\n",
              "        vertical-align: top;\n",
              "    }\n",
              "\n",
              "    .dataframe thead th {\n",
              "        text-align: right;\n",
              "    }\n",
              "</style>\n",
              "<table border=\"1\" class=\"dataframe\">\n",
              "  <thead>\n",
              "    <tr style=\"text-align: right;\">\n",
              "      <th></th>\n",
              "      <th>Duration</th>\n",
              "      <th>HBr_CaC03_mass_(g)</th>\n",
              "      <th>Calciner temp [C]</th>\n",
              "      <th>Calciner Heater kW</th>\n",
              "      <th>Calciner Pressure ( Pa )</th>\n",
              "      <th>Calciner  velocity (m/s)</th>\n",
              "      <th>Calciner O2 in(vol)</th>\n",
              "      <th>Calciner N2 in(vol)</th>\n",
              "      <th>Calciner top temp (C )</th>\n",
              "      <th>Calciner CO2 out(perc)</th>\n",
              "      <th>...</th>\n",
              "      <th>Calciner CO out(ppm)</th>\n",
              "      <th>Calciner CH4 out(ppm)</th>\n",
              "      <th>Carbonator bottom temp (C)</th>\n",
              "      <th>Carbonator mid temp ( C)</th>\n",
              "      <th>Carbonator press (pa)</th>\n",
              "      <th>Carbonator velocity (m/s)</th>\n",
              "      <th>Carbonator inlet N2 (vol)</th>\n",
              "      <th>Carbonator outlet CO2 (vol)</th>\n",
              "      <th>Carbonator top temp ( C)</th>\n",
              "      <th>Rank</th>\n",
              "    </tr>\n",
              "  </thead>\n",
              "  <tbody>\n",
              "    <tr>\n",
              "      <th>0</th>\n",
              "      <td>1.0</td>\n",
              "      <td>4200</td>\n",
              "      <td>632.75</td>\n",
              "      <td>7.8</td>\n",
              "      <td>3216.0</td>\n",
              "      <td>0.32</td>\n",
              "      <td>40</td>\n",
              "      <td>60</td>\n",
              "      <td>450.680</td>\n",
              "      <td>0.406479</td>\n",
              "      <td>...</td>\n",
              "      <td>38.097718</td>\n",
              "      <td>0.237199</td>\n",
              "      <td>446.905</td>\n",
              "      <td>560.105</td>\n",
              "      <td>2680.0</td>\n",
              "      <td>2.5</td>\n",
              "      <td>100</td>\n",
              "      <td>0.0714</td>\n",
              "      <td>529.81</td>\n",
              "      <td>0</td>\n",
              "    </tr>\n",
              "    <tr>\n",
              "      <th>1</th>\n",
              "      <td>2.0</td>\n",
              "      <td>4200</td>\n",
              "      <td>634.72</td>\n",
              "      <td>7.8</td>\n",
              "      <td>3190.5</td>\n",
              "      <td>0.32</td>\n",
              "      <td>40</td>\n",
              "      <td>60</td>\n",
              "      <td>451.165</td>\n",
              "      <td>0.372648</td>\n",
              "      <td>...</td>\n",
              "      <td>27.277778</td>\n",
              "      <td>0.089655</td>\n",
              "      <td>446.200</td>\n",
              "      <td>558.915</td>\n",
              "      <td>2905.5</td>\n",
              "      <td>2.5</td>\n",
              "      <td>100</td>\n",
              "      <td>-0.1666</td>\n",
              "      <td>529.27</td>\n",
              "      <td>0</td>\n",
              "    </tr>\n",
              "  </tbody>\n",
              "</table>\n",
              "<p>2 rows × 22 columns</p>\n",
              "</div>"
            ],
            "text/plain": [
              "   Duration  HBr_CaC03_mass_(g)   Calciner temp [C]  Calciner Heater kW  \\\n",
              "0       1.0                 4200             632.75                 7.8   \n",
              "1       2.0                 4200             634.72                 7.8   \n",
              "\n",
              "   Calciner Pressure ( Pa )  Calciner  velocity (m/s)  Calciner O2 in(vol)  \\\n",
              "0                    3216.0                      0.32                   40   \n",
              "1                    3190.5                      0.32                   40   \n",
              "\n",
              "   Calciner N2 in(vol)  Calciner top temp (C )  Calciner CO2 out(perc)  ...   \\\n",
              "0                   60                 450.680                0.406479  ...    \n",
              "1                   60                 451.165                0.372648  ...    \n",
              "\n",
              "   Calciner CO out(ppm)  Calciner CH4 out(ppm)  Carbonator bottom temp (C)  \\\n",
              "0             38.097718               0.237199                     446.905   \n",
              "1             27.277778               0.089655                     446.200   \n",
              "\n",
              "   Carbonator mid temp ( C)  Carbonator press (pa)  Carbonator velocity (m/s)  \\\n",
              "0                   560.105                 2680.0                        2.5   \n",
              "1                   558.915                 2905.5                        2.5   \n",
              "\n",
              "   Carbonator inlet N2 (vol)  Carbonator outlet CO2 (vol)  \\\n",
              "0                        100                       0.0714   \n",
              "1                        100                      -0.1666   \n",
              "\n",
              "   Carbonator top temp ( C)  Rank  \n",
              "0                    529.81     0  \n",
              "1                    529.27     0  \n",
              "\n",
              "[2 rows x 22 columns]"
            ]
          },
          "metadata": {
            "tags": []
          },
          "execution_count": 20
        }
      ]
    },
    {
      "metadata": {
        "id": "3NZFM7lKJm6U",
        "colab_type": "code",
        "outputId": "71ec4e76-0f6a-41d5-90eb-e97f2b432cc6",
        "colab": {
          "base_uri": "https://localhost:8080/",
          "height": 211
        }
      },
      "cell_type": "code",
      "source": [
        "# Making a copy of our data\n",
        "processed_data = data[:]\n",
        "\n",
        "\n",
        "col = processed_data.head()\n",
        "clmn = list(col) \n",
        "print(clmn) # just to see if the list of columns are correct\n",
        "\n",
        "# Scale the columns\n",
        "\n",
        "for c in clmn: \n",
        "    # element of column \n",
        "    processed_data[c]  = processed_data[c]/processed_data[c].max()\n",
        "    \n",
        "processed_data[:2]\n"
      ],
      "execution_count": 21,
      "outputs": [
        {
          "output_type": "stream",
          "text": [
            "['Duration', 'HBr_CaC03_mass_(g) ', 'Calciner temp [C]', 'Calciner Heater kW', 'Calciner Pressure ( Pa )', 'Calciner  velocity (m/s)', 'Calciner O2 in(vol)', 'Calciner N2 in(vol)', 'Calciner top temp (C )', 'Calciner CO2 out(perc)', 'Calciner O2 out(perc)', 'Calciner H2O out(perc)', 'Calciner CO out(ppm)', 'Calciner CH4 out(ppm)', 'Carbonator bottom temp (C)', 'Carbonator mid temp ( C)', 'Carbonator press (pa)', 'Carbonator velocity (m/s)', 'Carbonator inlet N2 (vol)', 'Carbonator outlet CO2 (vol)', 'Carbonator top temp ( C)', 'Rank']\n"
          ],
          "name": "stdout"
        },
        {
          "output_type": "execute_result",
          "data": {
            "text/html": [
              "<div>\n",
              "<style scoped>\n",
              "    .dataframe tbody tr th:only-of-type {\n",
              "        vertical-align: middle;\n",
              "    }\n",
              "\n",
              "    .dataframe tbody tr th {\n",
              "        vertical-align: top;\n",
              "    }\n",
              "\n",
              "    .dataframe thead th {\n",
              "        text-align: right;\n",
              "    }\n",
              "</style>\n",
              "<table border=\"1\" class=\"dataframe\">\n",
              "  <thead>\n",
              "    <tr style=\"text-align: right;\">\n",
              "      <th></th>\n",
              "      <th>Duration</th>\n",
              "      <th>HBr_CaC03_mass_(g)</th>\n",
              "      <th>Calciner temp [C]</th>\n",
              "      <th>Calciner Heater kW</th>\n",
              "      <th>Calciner Pressure ( Pa )</th>\n",
              "      <th>Calciner  velocity (m/s)</th>\n",
              "      <th>Calciner O2 in(vol)</th>\n",
              "      <th>Calciner N2 in(vol)</th>\n",
              "      <th>Calciner top temp (C )</th>\n",
              "      <th>Calciner CO2 out(perc)</th>\n",
              "      <th>...</th>\n",
              "      <th>Calciner CO out(ppm)</th>\n",
              "      <th>Calciner CH4 out(ppm)</th>\n",
              "      <th>Carbonator bottom temp (C)</th>\n",
              "      <th>Carbonator mid temp ( C)</th>\n",
              "      <th>Carbonator press (pa)</th>\n",
              "      <th>Carbonator velocity (m/s)</th>\n",
              "      <th>Carbonator inlet N2 (vol)</th>\n",
              "      <th>Carbonator outlet CO2 (vol)</th>\n",
              "      <th>Carbonator top temp ( C)</th>\n",
              "      <th>Rank</th>\n",
              "    </tr>\n",
              "  </thead>\n",
              "  <tbody>\n",
              "    <tr>\n",
              "      <th>0</th>\n",
              "      <td>0.008187</td>\n",
              "      <td>0.429711</td>\n",
              "      <td>0.713730</td>\n",
              "      <td>0.4875</td>\n",
              "      <td>0.800498</td>\n",
              "      <td>1.0</td>\n",
              "      <td>0.4</td>\n",
              "      <td>1.0</td>\n",
              "      <td>0.536802</td>\n",
              "      <td>0.010972</td>\n",
              "      <td>...</td>\n",
              "      <td>0.004986</td>\n",
              "      <td>0.000062</td>\n",
              "      <td>0.708013</td>\n",
              "      <td>0.902253</td>\n",
              "      <td>0.419504</td>\n",
              "      <td>1.0</td>\n",
              "      <td>1.0</td>\n",
              "      <td>0.051282</td>\n",
              "      <td>0.864051</td>\n",
              "      <td>0.0</td>\n",
              "    </tr>\n",
              "    <tr>\n",
              "      <th>1</th>\n",
              "      <td>0.016373</td>\n",
              "      <td>0.429711</td>\n",
              "      <td>0.715952</td>\n",
              "      <td>0.4875</td>\n",
              "      <td>0.794151</td>\n",
              "      <td>1.0</td>\n",
              "      <td>0.4</td>\n",
              "      <td>1.0</td>\n",
              "      <td>0.537379</td>\n",
              "      <td>0.010059</td>\n",
              "      <td>...</td>\n",
              "      <td>0.003570</td>\n",
              "      <td>0.000024</td>\n",
              "      <td>0.706896</td>\n",
              "      <td>0.900336</td>\n",
              "      <td>0.454802</td>\n",
              "      <td>1.0</td>\n",
              "      <td>1.0</td>\n",
              "      <td>-0.119658</td>\n",
              "      <td>0.863170</td>\n",
              "      <td>0.0</td>\n",
              "    </tr>\n",
              "  </tbody>\n",
              "</table>\n",
              "<p>2 rows × 22 columns</p>\n",
              "</div>"
            ],
            "text/plain": [
              "   Duration  HBr_CaC03_mass_(g)   Calciner temp [C]  Calciner Heater kW  \\\n",
              "0  0.008187             0.429711           0.713730              0.4875   \n",
              "1  0.016373             0.429711           0.715952              0.4875   \n",
              "\n",
              "   Calciner Pressure ( Pa )  Calciner  velocity (m/s)  Calciner O2 in(vol)  \\\n",
              "0                  0.800498                       1.0                  0.4   \n",
              "1                  0.794151                       1.0                  0.4   \n",
              "\n",
              "   Calciner N2 in(vol)  Calciner top temp (C )  Calciner CO2 out(perc)  ...   \\\n",
              "0                  1.0                0.536802                0.010972  ...    \n",
              "1                  1.0                0.537379                0.010059  ...    \n",
              "\n",
              "   Calciner CO out(ppm)  Calciner CH4 out(ppm)  Carbonator bottom temp (C)  \\\n",
              "0              0.004986               0.000062                    0.708013   \n",
              "1              0.003570               0.000024                    0.706896   \n",
              "\n",
              "   Carbonator mid temp ( C)  Carbonator press (pa)  Carbonator velocity (m/s)  \\\n",
              "0                  0.902253               0.419504                        1.0   \n",
              "1                  0.900336               0.454802                        1.0   \n",
              "\n",
              "   Carbonator inlet N2 (vol)  Carbonator outlet CO2 (vol)  \\\n",
              "0                        1.0                     0.051282   \n",
              "1                        1.0                    -0.119658   \n",
              "\n",
              "   Carbonator top temp ( C)  Rank  \n",
              "0                  0.864051   0.0  \n",
              "1                  0.863170   0.0  \n",
              "\n",
              "[2 rows x 22 columns]"
            ]
          },
          "metadata": {
            "tags": []
          },
          "execution_count": 21
        }
      ]
    },
    {
      "metadata": {
        "id": "cxJFmwVhsajA",
        "colab_type": "code",
        "colab": {
          "base_uri": "https://localhost:8080/",
          "height": 194
        },
        "outputId": "ab12a49e-c7af-4efe-c19c-7c27b22ae3aa"
      },
      "cell_type": "code",
      "source": [
        "processed_data['Rank']  = data['Rank']        #.to(dtype=torch.long) ##processed_data['Rank']*data['Rank'].max()\n",
        "\n",
        "#labels = labels.squeeze_()\n",
        "#labels = labels.to(dtype=torch.long)\n",
        "\n",
        "processed_data[:2]"
      ],
      "execution_count": 22,
      "outputs": [
        {
          "output_type": "execute_result",
          "data": {
            "text/html": [
              "<div>\n",
              "<style scoped>\n",
              "    .dataframe tbody tr th:only-of-type {\n",
              "        vertical-align: middle;\n",
              "    }\n",
              "\n",
              "    .dataframe tbody tr th {\n",
              "        vertical-align: top;\n",
              "    }\n",
              "\n",
              "    .dataframe thead th {\n",
              "        text-align: right;\n",
              "    }\n",
              "</style>\n",
              "<table border=\"1\" class=\"dataframe\">\n",
              "  <thead>\n",
              "    <tr style=\"text-align: right;\">\n",
              "      <th></th>\n",
              "      <th>Duration</th>\n",
              "      <th>HBr_CaC03_mass_(g)</th>\n",
              "      <th>Calciner temp [C]</th>\n",
              "      <th>Calciner Heater kW</th>\n",
              "      <th>Calciner Pressure ( Pa )</th>\n",
              "      <th>Calciner  velocity (m/s)</th>\n",
              "      <th>Calciner O2 in(vol)</th>\n",
              "      <th>Calciner N2 in(vol)</th>\n",
              "      <th>Calciner top temp (C )</th>\n",
              "      <th>Calciner CO2 out(perc)</th>\n",
              "      <th>...</th>\n",
              "      <th>Calciner CO out(ppm)</th>\n",
              "      <th>Calciner CH4 out(ppm)</th>\n",
              "      <th>Carbonator bottom temp (C)</th>\n",
              "      <th>Carbonator mid temp ( C)</th>\n",
              "      <th>Carbonator press (pa)</th>\n",
              "      <th>Carbonator velocity (m/s)</th>\n",
              "      <th>Carbonator inlet N2 (vol)</th>\n",
              "      <th>Carbonator outlet CO2 (vol)</th>\n",
              "      <th>Carbonator top temp ( C)</th>\n",
              "      <th>Rank</th>\n",
              "    </tr>\n",
              "  </thead>\n",
              "  <tbody>\n",
              "    <tr>\n",
              "      <th>0</th>\n",
              "      <td>0.008187</td>\n",
              "      <td>0.429711</td>\n",
              "      <td>0.713730</td>\n",
              "      <td>0.4875</td>\n",
              "      <td>0.800498</td>\n",
              "      <td>1.0</td>\n",
              "      <td>0.4</td>\n",
              "      <td>1.0</td>\n",
              "      <td>0.536802</td>\n",
              "      <td>0.010972</td>\n",
              "      <td>...</td>\n",
              "      <td>0.004986</td>\n",
              "      <td>0.000062</td>\n",
              "      <td>0.708013</td>\n",
              "      <td>0.902253</td>\n",
              "      <td>0.419504</td>\n",
              "      <td>1.0</td>\n",
              "      <td>1.0</td>\n",
              "      <td>0.051282</td>\n",
              "      <td>0.864051</td>\n",
              "      <td>0</td>\n",
              "    </tr>\n",
              "    <tr>\n",
              "      <th>1</th>\n",
              "      <td>0.016373</td>\n",
              "      <td>0.429711</td>\n",
              "      <td>0.715952</td>\n",
              "      <td>0.4875</td>\n",
              "      <td>0.794151</td>\n",
              "      <td>1.0</td>\n",
              "      <td>0.4</td>\n",
              "      <td>1.0</td>\n",
              "      <td>0.537379</td>\n",
              "      <td>0.010059</td>\n",
              "      <td>...</td>\n",
              "      <td>0.003570</td>\n",
              "      <td>0.000024</td>\n",
              "      <td>0.706896</td>\n",
              "      <td>0.900336</td>\n",
              "      <td>0.454802</td>\n",
              "      <td>1.0</td>\n",
              "      <td>1.0</td>\n",
              "      <td>-0.119658</td>\n",
              "      <td>0.863170</td>\n",
              "      <td>0</td>\n",
              "    </tr>\n",
              "  </tbody>\n",
              "</table>\n",
              "<p>2 rows × 22 columns</p>\n",
              "</div>"
            ],
            "text/plain": [
              "   Duration  HBr_CaC03_mass_(g)   Calciner temp [C]  Calciner Heater kW  \\\n",
              "0  0.008187             0.429711           0.713730              0.4875   \n",
              "1  0.016373             0.429711           0.715952              0.4875   \n",
              "\n",
              "   Calciner Pressure ( Pa )  Calciner  velocity (m/s)  Calciner O2 in(vol)  \\\n",
              "0                  0.800498                       1.0                  0.4   \n",
              "1                  0.794151                       1.0                  0.4   \n",
              "\n",
              "   Calciner N2 in(vol)  Calciner top temp (C )  Calciner CO2 out(perc)  ...   \\\n",
              "0                  1.0                0.536802                0.010972  ...    \n",
              "1                  1.0                0.537379                0.010059  ...    \n",
              "\n",
              "   Calciner CO out(ppm)  Calciner CH4 out(ppm)  Carbonator bottom temp (C)  \\\n",
              "0              0.004986               0.000062                    0.708013   \n",
              "1              0.003570               0.000024                    0.706896   \n",
              "\n",
              "   Carbonator mid temp ( C)  Carbonator press (pa)  Carbonator velocity (m/s)  \\\n",
              "0                  0.902253               0.419504                        1.0   \n",
              "1                  0.900336               0.454802                        1.0   \n",
              "\n",
              "   Carbonator inlet N2 (vol)  Carbonator outlet CO2 (vol)  \\\n",
              "0                        1.0                     0.051282   \n",
              "1                        1.0                    -0.119658   \n",
              "\n",
              "   Carbonator top temp ( C)  Rank  \n",
              "0                  0.864051     0  \n",
              "1                  0.863170     0  \n",
              "\n",
              "[2 rows x 22 columns]"
            ]
          },
          "metadata": {
            "tags": []
          },
          "execution_count": 22
        }
      ]
    },
    {
      "metadata": {
        "id": "wEpKBTbNLjye",
        "colab_type": "code",
        "outputId": "7b345ff9-647e-440b-a074-899d562e203e",
        "colab": {
          "base_uri": "https://localhost:8080/",
          "height": 1037
        }
      },
      "cell_type": "code",
      "source": [
        "##Splitting the data into Training and Testing\n",
        "\n",
        "\n",
        "sample = np.random.choice(processed_data.index, size=int(len(processed_data)*0.9), replace=False)\n",
        "train_data, test_data = processed_data.iloc[sample], processed_data.drop(sample)\n",
        "\n",
        "print(\"Number of training samples is\", len(train_data))\n",
        "print(\"Number of testing samples is\", len(test_data))\n",
        "print(train_data[:2])\n",
        "print(test_data[:2])"
      ],
      "execution_count": 23,
      "outputs": [
        {
          "output_type": "stream",
          "text": [
            "Number of training samples is 109\n",
            "Number of testing samples is 13\n",
            "    Duration  HBr_CaC03_mass_(g)   Calciner temp [C]  Calciner Heater kW  \\\n",
            "87  0.721326             0.860037           0.937747                 1.0   \n",
            "62  0.516414             0.719664           0.799152                 0.0   \n",
            "\n",
            "    Calciner Pressure ( Pa )  Calciner  velocity (m/s)  Calciner O2 in(vol)  \\\n",
            "87                  0.882638                       1.0                  1.0   \n",
            "62                  0.773367                       0.0                  0.0   \n",
            "\n",
            "    Calciner N2 in(vol)  Calciner top temp (C )  Calciner CO2 out(perc)  ...   \\\n",
            "87                  0.0                0.777444                0.336699  ...    \n",
            "62                  0.0                0.565543                0.042061  ...    \n",
            "\n",
            "    Calciner CO out(ppm)  Calciner CH4 out(ppm)  Carbonator bottom temp (C)  \\\n",
            "87              0.272815               0.085627                    0.891589   \n",
            "62              0.000055               0.000893                    0.743271   \n",
            "\n",
            "    Carbonator mid temp ( C)  Carbonator press (pa)  \\\n",
            "87                  0.935702               0.872036   \n",
            "62                  0.937209               0.252641   \n",
            "\n",
            "    Carbonator velocity (m/s)  Carbonator inlet N2 (vol)  \\\n",
            "87                        1.0                        1.0   \n",
            "62                        1.0                        1.0   \n",
            "\n",
            "    Carbonator outlet CO2 (vol)  Carbonator top temp ( C)  Rank  \n",
            "87                    -0.222222                  0.942259     1  \n",
            "62                     0.316239                  0.911232     0  \n",
            "\n",
            "[2 rows x 22 columns]\n",
            "    Duration  HBr_CaC03_mass_(g)   Calciner temp [C]  Calciner Heater kW  \\\n",
            "8   0.073762             0.501739           0.802107              0.4875   \n",
            "26  0.221285             0.719664           0.819467              0.4875   \n",
            "\n",
            "    Calciner Pressure ( Pa )  Calciner  velocity (m/s)  Calciner O2 in(vol)  \\\n",
            "8                   0.798631                       1.0                  0.4   \n",
            "26                  0.999378                       1.0                  0.4   \n",
            "\n",
            "    Calciner N2 in(vol)  Calciner top temp (C )  Calciner CO2 out(perc)  ...   \\\n",
            "8                   1.0                0.623912                 0.13076  ...    \n",
            "26                  1.0                0.693544                 0.23284  ...    \n",
            "\n",
            "    Calciner CO out(ppm)  Calciner CH4 out(ppm)  Carbonator bottom temp (C)  \\\n",
            "8               0.635114               0.819594                    0.695791   \n",
            "26              0.479810               0.427970                    0.716584   \n",
            "\n",
            "    Carbonator mid temp ( C)  Carbonator press (pa)  \\\n",
            "8                   0.894601               0.474838   \n",
            "26                  0.914077               0.564530   \n",
            "\n",
            "    Carbonator velocity (m/s)  Carbonator inlet N2 (vol)  \\\n",
            "8                         1.0                        1.0   \n",
            "26                        1.0                        1.0   \n",
            "\n",
            "    Carbonator outlet CO2 (vol)  Carbonator top temp ( C)  Rank  \n",
            "8                     -0.017094                  0.859419     0  \n",
            "26                    -0.094017                  0.905956     1  \n",
            "\n",
            "[2 rows x 22 columns]\n"
          ],
          "name": "stdout"
        }
      ]
    },
    {
      "metadata": {
        "id": "JVZOcZk2UzEe",
        "colab_type": "code",
        "outputId": "8857dfd4-6c61-4d0e-9adb-577d3b55d405",
        "colab": {
          "base_uri": "https://localhost:8080/",
          "height": 34
        }
      },
      "cell_type": "code",
      "source": [
        "## Splitting the data into features and targets (labels)\n",
        "## split the data into features (X) and targets (y).\n",
        "\n",
        "features = train_data.drop(['Rank'], axis=1)\n",
        "targets = train_data['Rank']\n",
        "\n",
        "features_test = test_data.drop(['Rank'], axis=1)\n",
        "targets_test = test_data['Rank']\n",
        "\n",
        "\n",
        "features_df = pd.DataFrame(data=features)\n",
        "features_t = torch.tensor(features_df.values)\n",
        "\n",
        "targets_df = pd.DataFrame(data=targets)\n",
        "targets_t = torch.tensor(targets_df.values)\n",
        "\n",
        "\n",
        "#trainloader_features, trainloader_targets = torch.utils.data.DataLoader(features_t, batch_size=15, shuffle=True), torch.utils.data.DataLoader(targets_t, batch_size=15, shuffle=True)\n",
        "\n",
        "trainloader_features, trainloader_targets = torch.utils.data.DataLoader(features_t, batch_size=15), torch.utils.data.DataLoader(targets_t, batch_size=15)\n",
        "\n",
        "print(trainloader_features, trainloader_targets)\n"
      ],
      "execution_count": 27,
      "outputs": [
        {
          "output_type": "stream",
          "text": [
            "<torch.utils.data.dataloader.DataLoader object at 0x7fba1d0c7f98> <torch.utils.data.dataloader.DataLoader object at 0x7fba18f88400>\n"
          ],
          "name": "stdout"
        }
      ]
    },
    {
      "metadata": {
        "id": "m6N2DHZA0h0y",
        "colab_type": "code",
        "colab": {}
      },
      "cell_type": "code",
      "source": [
        "# Build a feed-forward network\n",
        "model = nn.Sequential(nn.Linear(21, 15),\n",
        "                      nn.ReLU(),\n",
        "                      nn.Linear(15, 12),\n",
        "                      nn.ReLU(),\n",
        "                      nn.Linear(12, 6),\n",
        "                      nn.LogSoftmax(dim=1))"
      ],
      "execution_count": 0,
      "outputs": []
    },
    {
      "metadata": {
        "id": "ciDKyLnZzi4x",
        "colab_type": "code",
        "colab": {
          "base_uri": "https://localhost:8080/",
          "height": 34
        },
        "outputId": "7e36d7a1-4ee0-4b14-fcbe-f735dce88f57"
      },
      "cell_type": "code",
      "source": [
        "images, labels =  next(iter(trainloader_features)),  next(iter(trainloader_targets))\n",
        "\n",
        "\n",
        "# Define the loss\n",
        "criterion = nn.NLLLoss()\n",
        "\n",
        "# Get our data\n",
        "\n",
        "\n",
        "# Flatten images\n",
        "images = images.view(images.shape[0], -1)\n",
        "images = images.float()\n",
        "\n",
        "\n",
        "labels = labels.squeeze_()\n",
        "labels = labels.to(dtype=torch.long)\n",
        "\n",
        "# Forward pass, get our logps\n",
        "logps = model(images)\n",
        "\n",
        "# Calculate the loss with the logits and the labels\n",
        "loss = criterion(logps, labels)\n",
        "\n",
        "print(loss)\n",
        "\n",
        "#print(images)\n",
        "#print(labels)\n"
      ],
      "execution_count": 34,
      "outputs": [
        {
          "output_type": "stream",
          "text": [
            "tensor(1.8041, grad_fn=<NllLossBackward>)\n"
          ],
          "name": "stdout"
        }
      ]
    },
    {
      "metadata": {
        "id": "1ink0-UTyjDA",
        "colab_type": "code",
        "outputId": "8e9ef9f5-3aef-478d-efb8-9ad084de0888",
        "colab": {
          "base_uri": "https://localhost:8080/",
          "height": 833
        }
      },
      "cell_type": "code",
      "source": [
        "\n",
        "print('Before backward pass: \\n', model[0].weight.grad)\n",
        "\n",
        "loss.backward()\n",
        "\n",
        "print('After backward pass: \\n', model[0].weight.grad)"
      ],
      "execution_count": 35,
      "outputs": [
        {
          "output_type": "stream",
          "text": [
            "Before backward pass: \n",
            " None\n",
            "After backward pass: \n",
            " tensor([[ 0.0014,  0.0026,  0.0037,  0.0036,  0.0041,  0.0042,  0.0034,  0.0013,\n",
            "          0.0025, -0.0001,  0.0043, -0.0003,  0.0005, -0.0007,  0.0032,  0.0037,\n",
            "          0.0033,  0.0042,  0.0042, -0.0013,  0.0037],\n",
            "        [-0.0158, -0.0193, -0.0204, -0.0160, -0.0180, -0.0134, -0.0164,  0.0051,\n",
            "         -0.0180, -0.0083, -0.0063, -0.0103, -0.0050, -0.0068, -0.0206, -0.0217,\n",
            "         -0.0162, -0.0226, -0.0226,  0.0039, -0.0217],\n",
            "        [ 0.0034,  0.0052,  0.0060,  0.0020,  0.0052,  0.0035,  0.0017,  0.0029,\n",
            "          0.0054,  0.0032, -0.0024,  0.0040,  0.0044,  0.0045,  0.0057,  0.0068,\n",
            "          0.0030,  0.0071,  0.0071,  0.0015,  0.0066],\n",
            "        [ 0.0000,  0.0000,  0.0000,  0.0000,  0.0000,  0.0000,  0.0000,  0.0000,\n",
            "          0.0000,  0.0000,  0.0000,  0.0000,  0.0000,  0.0000,  0.0000,  0.0000,\n",
            "          0.0000,  0.0000,  0.0000,  0.0000,  0.0000],\n",
            "        [ 0.0000,  0.0000,  0.0000,  0.0000,  0.0000,  0.0000,  0.0000,  0.0000,\n",
            "          0.0000,  0.0000,  0.0000,  0.0000,  0.0000,  0.0000,  0.0000,  0.0000,\n",
            "          0.0000,  0.0000,  0.0000,  0.0000,  0.0000],\n",
            "        [ 0.0019,  0.0021,  0.0024, -0.0002,  0.0001, -0.0029,  0.0002, -0.0052,\n",
            "          0.0031,  0.0027, -0.0063,  0.0036, -0.0007,  0.0039,  0.0032,  0.0029,\n",
            "          0.0012,  0.0026,  0.0026, -0.0020,  0.0029],\n",
            "        [ 0.0000,  0.0000,  0.0000,  0.0000,  0.0000,  0.0000,  0.0000,  0.0000,\n",
            "          0.0000,  0.0000,  0.0000,  0.0000,  0.0000,  0.0000,  0.0000,  0.0000,\n",
            "          0.0000,  0.0000,  0.0000,  0.0000,  0.0000],\n",
            "        [ 0.0000,  0.0000,  0.0000,  0.0000,  0.0000,  0.0000,  0.0000,  0.0000,\n",
            "          0.0000,  0.0000,  0.0000,  0.0000,  0.0000,  0.0000,  0.0000,  0.0000,\n",
            "          0.0000,  0.0000,  0.0000,  0.0000,  0.0000],\n",
            "        [ 0.0000,  0.0000,  0.0000,  0.0000,  0.0000,  0.0000,  0.0000,  0.0000,\n",
            "          0.0000,  0.0000,  0.0000,  0.0000,  0.0000,  0.0000,  0.0000,  0.0000,\n",
            "          0.0000,  0.0000,  0.0000,  0.0000,  0.0000],\n",
            "        [ 0.0134,  0.0183,  0.0198,  0.0103,  0.0185,  0.0118,  0.0100,  0.0029,\n",
            "          0.0171,  0.0080,  0.0013,  0.0098,  0.0091,  0.0086,  0.0193,  0.0219,\n",
            "          0.0128,  0.0230,  0.0230,  0.0018,  0.0216],\n",
            "        [ 0.0130,  0.0147,  0.0146,  0.0123,  0.0117,  0.0107,  0.0126, -0.0031,\n",
            "          0.0140,  0.0090,  0.0010,  0.0115,  0.0069,  0.0089,  0.0152,  0.0156,\n",
            "          0.0113,  0.0157,  0.0157, -0.0019,  0.0155],\n",
            "        [ 0.0000,  0.0000,  0.0000,  0.0000,  0.0000,  0.0000,  0.0000,  0.0000,\n",
            "          0.0000,  0.0000,  0.0000,  0.0000,  0.0000,  0.0000,  0.0000,  0.0000,\n",
            "          0.0000,  0.0000,  0.0000,  0.0000,  0.0000],\n",
            "        [-0.0056, -0.0098, -0.0119, -0.0050, -0.0122, -0.0064, -0.0048, -0.0027,\n",
            "         -0.0091, -0.0015, -0.0033, -0.0019, -0.0027, -0.0019, -0.0110, -0.0131,\n",
            "         -0.0076, -0.0142, -0.0142, -0.0003, -0.0129],\n",
            "        [ 0.0017,  0.0030,  0.0045,  0.0043,  0.0046,  0.0033,  0.0045, -0.0021,\n",
            "          0.0030, -0.0009,  0.0056, -0.0012, -0.0023, -0.0022,  0.0041,  0.0044,\n",
            "          0.0045,  0.0050,  0.0050, -0.0033,  0.0045],\n",
            "        [ 0.0063,  0.0084,  0.0083,  0.0042,  0.0084,  0.0057,  0.0039,  0.0030,\n",
            "          0.0072,  0.0035,  0.0010,  0.0044,  0.0050,  0.0037,  0.0081,  0.0093,\n",
            "          0.0050,  0.0098,  0.0098,  0.0025,  0.0092]])\n"
          ],
          "name": "stdout"
        }
      ]
    },
    {
      "metadata": {
        "id": "SZgedo0vypxi",
        "colab_type": "text"
      },
      "cell_type": "markdown",
      "source": [
        "#Training the NN"
      ]
    },
    {
      "metadata": {
        "id": "GGkeGo55yvQG",
        "colab_type": "code",
        "colab": {}
      },
      "cell_type": "code",
      "source": [
        "# Optimizers require the parameters to optimize and a learning rate\n",
        "optimizer = optim.SGD(model.parameters(), lr=0.01)"
      ],
      "execution_count": 0,
      "outputs": []
    },
    {
      "metadata": {
        "id": "G0Rp0YKKzBFV",
        "colab_type": "code",
        "outputId": "1e90d197-bd30-4c39-a8fb-36b3e6b466c7",
        "colab": {
          "base_uri": "https://localhost:8080/",
          "height": 1564
        }
      },
      "cell_type": "code",
      "source": [
        "print('Initial weights - ', model[0].weight)\n",
        "\n",
        "images.resize_(15, 21)\n",
        "\n",
        "# Clear the gradients, do this because gradients are accumulated\n",
        "optimizer.zero_grad()\n",
        "\n",
        "# Forward pass, then backward pass, then update weights\n",
        "output = model(images)\n",
        "loss = criterion(output, labels)\n",
        "loss.backward()\n",
        "print('Gradient -', model[0].weight.grad)"
      ],
      "execution_count": 37,
      "outputs": [
        {
          "output_type": "stream",
          "text": [
            "Initial weights -  Parameter containing:\n",
            "tensor([[-0.0518, -0.0882,  0.1814,  0.0325, -0.0212,  0.1303,  0.1672,  0.0663,\n",
            "         -0.0898,  0.1818,  0.1190,  0.1719,  0.1689,  0.2099,  0.2141, -0.1816,\n",
            "         -0.1190, -0.1651,  0.0606, -0.2075, -0.0205],\n",
            "        [-0.0071,  0.1258,  0.1467, -0.2078, -0.1066,  0.1436,  0.1909,  0.1772,\n",
            "         -0.1478, -0.0440,  0.2103, -0.0844,  0.0182,  0.1259, -0.0628,  0.2146,\n",
            "         -0.0385,  0.2175, -0.0619, -0.0064,  0.1888],\n",
            "        [-0.0336,  0.1887, -0.1754, -0.0774, -0.0480, -0.1402,  0.0309,  0.1249,\n",
            "          0.1949, -0.1590, -0.0767, -0.0600, -0.0183, -0.1199,  0.0623,  0.0796,\n",
            "          0.1190,  0.1276, -0.0840,  0.2088,  0.0391],\n",
            "        [-0.1802, -0.0925, -0.1010, -0.1012,  0.0003,  0.1154, -0.1965,  0.2018,\n",
            "         -0.1888, -0.2002, -0.0778, -0.1914, -0.2090, -0.1499,  0.0995, -0.1005,\n",
            "         -0.0890,  0.1379, -0.1472, -0.0432,  0.1430],\n",
            "        [ 0.0316, -0.1726,  0.0681, -0.2144,  0.1636, -0.0838, -0.0426,  0.0172,\n",
            "         -0.1367,  0.1613, -0.2160,  0.1481, -0.0483,  0.1491, -0.0373, -0.1729,\n",
            "         -0.0825,  0.0698,  0.0390, -0.0120, -0.0359],\n",
            "        [-0.0637, -0.1937, -0.1472,  0.1440,  0.1725, -0.1426, -0.1797,  0.0460,\n",
            "          0.0533,  0.1481,  0.1054, -0.1881, -0.1863,  0.1134,  0.0804,  0.0890,\n",
            "          0.1210,  0.1963,  0.0351, -0.0723,  0.1685],\n",
            "        [ 0.1050,  0.0812, -0.2160, -0.2015, -0.0513,  0.0028,  0.0763,  0.0347,\n",
            "         -0.0643,  0.0059,  0.0965, -0.0028, -0.0116,  0.0033,  0.1692,  0.1604,\n",
            "          0.1027, -0.1716, -0.0817, -0.0959, -0.0287],\n",
            "        [ 0.1268, -0.0782,  0.1812, -0.1275,  0.1883,  0.0768,  0.1994, -0.0338,\n",
            "         -0.1468, -0.0660, -0.1490, -0.1806,  0.1852,  0.1884, -0.0680, -0.1240,\n",
            "         -0.1707,  0.1357, -0.2127,  0.0695, -0.1468],\n",
            "        [-0.2158,  0.0014, -0.1511, -0.0145,  0.1745, -0.1078,  0.0869,  0.1299,\n",
            "         -0.0939, -0.0905, -0.1413, -0.1081, -0.0229,  0.1026, -0.2133,  0.0251,\n",
            "          0.2156, -0.0309, -0.1086, -0.0100, -0.1375],\n",
            "        [-0.0795, -0.0563,  0.1357, -0.0138, -0.0037,  0.0629, -0.1201,  0.1839,\n",
            "         -0.0968,  0.2095, -0.1759,  0.1680, -0.1585,  0.1372, -0.0026,  0.1921,\n",
            "         -0.0665,  0.1854, -0.1537,  0.0185, -0.0283],\n",
            "        [ 0.0034,  0.1549, -0.0679, -0.0486,  0.0533, -0.1108, -0.0029,  0.2117,\n",
            "         -0.1725,  0.1591,  0.1718,  0.1123, -0.1082, -0.1757,  0.0247,  0.2086,\n",
            "         -0.1225,  0.1896, -0.0155,  0.1345, -0.1163],\n",
            "        [ 0.0697,  0.0044,  0.0530, -0.1673, -0.2119, -0.2109,  0.0063,  0.0972,\n",
            "          0.1293, -0.0381, -0.1346, -0.0686, -0.1147,  0.1950,  0.1063,  0.1847,\n",
            "          0.1112, -0.0741, -0.0843,  0.1591, -0.2121],\n",
            "        [-0.2115, -0.1422, -0.0897,  0.0483,  0.1818,  0.0241,  0.0436,  0.0927,\n",
            "         -0.1590, -0.1969,  0.0527, -0.1432,  0.1688, -0.0553, -0.1306,  0.1995,\n",
            "          0.0405,  0.0881, -0.1051, -0.0077,  0.1943],\n",
            "        [-0.0533, -0.1933, -0.0675, -0.1624, -0.1672,  0.0501,  0.1768, -0.1767,\n",
            "          0.0180,  0.1673,  0.1826,  0.0520, -0.0499, -0.1878, -0.0800,  0.0505,\n",
            "          0.2105,  0.1862,  0.1169,  0.0258,  0.2107],\n",
            "        [-0.0277, -0.1621,  0.1258, -0.0238,  0.1818, -0.1069,  0.1326,  0.1311,\n",
            "         -0.0345,  0.0806, -0.1118, -0.1011,  0.1677,  0.0078, -0.0557,  0.1406,\n",
            "         -0.1870, -0.0622,  0.1410, -0.1226, -0.0237]], requires_grad=True)\n",
            "Gradient - tensor([[ 0.0014,  0.0026,  0.0037,  0.0036,  0.0041,  0.0042,  0.0034,  0.0013,\n",
            "          0.0025, -0.0001,  0.0043, -0.0003,  0.0005, -0.0007,  0.0032,  0.0037,\n",
            "          0.0033,  0.0042,  0.0042, -0.0013,  0.0037],\n",
            "        [-0.0158, -0.0193, -0.0204, -0.0160, -0.0180, -0.0134, -0.0164,  0.0051,\n",
            "         -0.0180, -0.0083, -0.0063, -0.0103, -0.0050, -0.0068, -0.0206, -0.0217,\n",
            "         -0.0162, -0.0226, -0.0226,  0.0039, -0.0217],\n",
            "        [ 0.0034,  0.0052,  0.0060,  0.0020,  0.0052,  0.0035,  0.0017,  0.0029,\n",
            "          0.0054,  0.0032, -0.0024,  0.0040,  0.0044,  0.0045,  0.0057,  0.0068,\n",
            "          0.0030,  0.0071,  0.0071,  0.0015,  0.0066],\n",
            "        [ 0.0000,  0.0000,  0.0000,  0.0000,  0.0000,  0.0000,  0.0000,  0.0000,\n",
            "          0.0000,  0.0000,  0.0000,  0.0000,  0.0000,  0.0000,  0.0000,  0.0000,\n",
            "          0.0000,  0.0000,  0.0000,  0.0000,  0.0000],\n",
            "        [ 0.0000,  0.0000,  0.0000,  0.0000,  0.0000,  0.0000,  0.0000,  0.0000,\n",
            "          0.0000,  0.0000,  0.0000,  0.0000,  0.0000,  0.0000,  0.0000,  0.0000,\n",
            "          0.0000,  0.0000,  0.0000,  0.0000,  0.0000],\n",
            "        [ 0.0019,  0.0021,  0.0024, -0.0002,  0.0001, -0.0029,  0.0002, -0.0052,\n",
            "          0.0031,  0.0027, -0.0063,  0.0036, -0.0007,  0.0039,  0.0032,  0.0029,\n",
            "          0.0012,  0.0026,  0.0026, -0.0020,  0.0029],\n",
            "        [ 0.0000,  0.0000,  0.0000,  0.0000,  0.0000,  0.0000,  0.0000,  0.0000,\n",
            "          0.0000,  0.0000,  0.0000,  0.0000,  0.0000,  0.0000,  0.0000,  0.0000,\n",
            "          0.0000,  0.0000,  0.0000,  0.0000,  0.0000],\n",
            "        [ 0.0000,  0.0000,  0.0000,  0.0000,  0.0000,  0.0000,  0.0000,  0.0000,\n",
            "          0.0000,  0.0000,  0.0000,  0.0000,  0.0000,  0.0000,  0.0000,  0.0000,\n",
            "          0.0000,  0.0000,  0.0000,  0.0000,  0.0000],\n",
            "        [ 0.0000,  0.0000,  0.0000,  0.0000,  0.0000,  0.0000,  0.0000,  0.0000,\n",
            "          0.0000,  0.0000,  0.0000,  0.0000,  0.0000,  0.0000,  0.0000,  0.0000,\n",
            "          0.0000,  0.0000,  0.0000,  0.0000,  0.0000],\n",
            "        [ 0.0134,  0.0183,  0.0198,  0.0103,  0.0185,  0.0118,  0.0100,  0.0029,\n",
            "          0.0171,  0.0080,  0.0013,  0.0098,  0.0091,  0.0086,  0.0193,  0.0219,\n",
            "          0.0128,  0.0230,  0.0230,  0.0018,  0.0216],\n",
            "        [ 0.0130,  0.0147,  0.0146,  0.0123,  0.0117,  0.0107,  0.0126, -0.0031,\n",
            "          0.0140,  0.0090,  0.0010,  0.0115,  0.0069,  0.0089,  0.0152,  0.0156,\n",
            "          0.0113,  0.0157,  0.0157, -0.0019,  0.0155],\n",
            "        [ 0.0000,  0.0000,  0.0000,  0.0000,  0.0000,  0.0000,  0.0000,  0.0000,\n",
            "          0.0000,  0.0000,  0.0000,  0.0000,  0.0000,  0.0000,  0.0000,  0.0000,\n",
            "          0.0000,  0.0000,  0.0000,  0.0000,  0.0000],\n",
            "        [-0.0056, -0.0098, -0.0119, -0.0050, -0.0122, -0.0064, -0.0048, -0.0027,\n",
            "         -0.0091, -0.0015, -0.0033, -0.0019, -0.0027, -0.0019, -0.0110, -0.0131,\n",
            "         -0.0076, -0.0142, -0.0142, -0.0003, -0.0129],\n",
            "        [ 0.0017,  0.0030,  0.0045,  0.0043,  0.0046,  0.0033,  0.0045, -0.0021,\n",
            "          0.0030, -0.0009,  0.0056, -0.0012, -0.0023, -0.0022,  0.0041,  0.0044,\n",
            "          0.0045,  0.0050,  0.0050, -0.0033,  0.0045],\n",
            "        [ 0.0063,  0.0084,  0.0083,  0.0042,  0.0084,  0.0057,  0.0039,  0.0030,\n",
            "          0.0072,  0.0035,  0.0010,  0.0044,  0.0050,  0.0037,  0.0081,  0.0093,\n",
            "          0.0050,  0.0098,  0.0098,  0.0025,  0.0092]])\n"
          ],
          "name": "stdout"
        }
      ]
    },
    {
      "metadata": {
        "id": "JVxhBFVn0EwR",
        "colab_type": "code",
        "outputId": "2fb69ba7-64f8-4726-dc92-a8454886b13b",
        "colab": {
          "base_uri": "https://localhost:8080/",
          "height": 799
        }
      },
      "cell_type": "code",
      "source": [
        "\n",
        "# Take an update step and few the new weights\n",
        "optimizer.step()\n",
        "print('Updated weights - ', model[0].weight)"
      ],
      "execution_count": 38,
      "outputs": [
        {
          "output_type": "stream",
          "text": [
            "Updated weights -  Parameter containing:\n",
            "tensor([[-0.0518, -0.0882,  0.1814,  0.0324, -0.0213,  0.1303,  0.1671,  0.0663,\n",
            "         -0.0899,  0.1818,  0.1189,  0.1719,  0.1689,  0.2099,  0.2141, -0.1816,\n",
            "         -0.1190, -0.1652,  0.0606, -0.2075, -0.0205],\n",
            "        [-0.0069,  0.1260,  0.1469, -0.2076, -0.1064,  0.1437,  0.1910,  0.1772,\n",
            "         -0.1476, -0.0439,  0.2103, -0.0843,  0.0182,  0.1259, -0.0626,  0.2148,\n",
            "         -0.0383,  0.2178, -0.0617, -0.0064,  0.1890],\n",
            "        [-0.0336,  0.1886, -0.1754, -0.0774, -0.0480, -0.1403,  0.0309,  0.1249,\n",
            "          0.1948, -0.1590, -0.0767, -0.0601, -0.0184, -0.1199,  0.0623,  0.0795,\n",
            "          0.1190,  0.1275, -0.0840,  0.2088,  0.0390],\n",
            "        [-0.1802, -0.0925, -0.1010, -0.1012,  0.0003,  0.1154, -0.1965,  0.2018,\n",
            "         -0.1888, -0.2002, -0.0778, -0.1914, -0.2090, -0.1499,  0.0995, -0.1005,\n",
            "         -0.0890,  0.1379, -0.1472, -0.0432,  0.1430],\n",
            "        [ 0.0316, -0.1726,  0.0681, -0.2144,  0.1636, -0.0838, -0.0426,  0.0172,\n",
            "         -0.1367,  0.1613, -0.2160,  0.1481, -0.0483,  0.1491, -0.0373, -0.1729,\n",
            "         -0.0825,  0.0698,  0.0390, -0.0120, -0.0359],\n",
            "        [-0.0638, -0.1937, -0.1473,  0.1440,  0.1725, -0.1426, -0.1797,  0.0461,\n",
            "          0.0533,  0.1480,  0.1054, -0.1882, -0.1863,  0.1134,  0.0804,  0.0890,\n",
            "          0.1210,  0.1963,  0.0351, -0.0723,  0.1684],\n",
            "        [ 0.1050,  0.0812, -0.2160, -0.2015, -0.0513,  0.0028,  0.0763,  0.0347,\n",
            "         -0.0643,  0.0059,  0.0965, -0.0028, -0.0116,  0.0033,  0.1692,  0.1604,\n",
            "          0.1027, -0.1716, -0.0817, -0.0959, -0.0287],\n",
            "        [ 0.1268, -0.0782,  0.1812, -0.1275,  0.1883,  0.0768,  0.1994, -0.0338,\n",
            "         -0.1468, -0.0660, -0.1490, -0.1806,  0.1852,  0.1884, -0.0680, -0.1240,\n",
            "         -0.1707,  0.1357, -0.2127,  0.0695, -0.1468],\n",
            "        [-0.2158,  0.0014, -0.1511, -0.0145,  0.1745, -0.1078,  0.0869,  0.1299,\n",
            "         -0.0939, -0.0905, -0.1413, -0.1081, -0.0229,  0.1026, -0.2133,  0.0251,\n",
            "          0.2156, -0.0309, -0.1086, -0.0100, -0.1375],\n",
            "        [-0.0796, -0.0565,  0.1355, -0.0139, -0.0038,  0.0628, -0.1202,  0.1839,\n",
            "         -0.0970,  0.2094, -0.1759,  0.1679, -0.1586,  0.1371, -0.0028,  0.1918,\n",
            "         -0.0666,  0.1852, -0.1539,  0.0185, -0.0285],\n",
            "        [ 0.0033,  0.1548, -0.0680, -0.0487,  0.0532, -0.1109, -0.0031,  0.2117,\n",
            "         -0.1726,  0.1590,  0.1718,  0.1122, -0.1082, -0.1758,  0.0245,  0.2084,\n",
            "         -0.1226,  0.1894, -0.0156,  0.1345, -0.1164],\n",
            "        [ 0.0697,  0.0044,  0.0530, -0.1673, -0.2119, -0.2109,  0.0063,  0.0972,\n",
            "          0.1293, -0.0381, -0.1346, -0.0686, -0.1147,  0.1950,  0.1063,  0.1847,\n",
            "          0.1112, -0.0741, -0.0843,  0.1591, -0.2121],\n",
            "        [-0.2115, -0.1421, -0.0896,  0.0484,  0.1819,  0.0242,  0.0436,  0.0927,\n",
            "         -0.1589, -0.1969,  0.0527, -0.1432,  0.1689, -0.0552, -0.1305,  0.1996,\n",
            "          0.0406,  0.0883, -0.1050, -0.0077,  0.1944],\n",
            "        [-0.0533, -0.1933, -0.0675, -0.1625, -0.1673,  0.0500,  0.1767, -0.1766,\n",
            "          0.0180,  0.1674,  0.1826,  0.0520, -0.0499, -0.1878, -0.0800,  0.0505,\n",
            "          0.2104,  0.1862,  0.1169,  0.0258,  0.2107],\n",
            "        [-0.0278, -0.1622,  0.1257, -0.0238,  0.1817, -0.1070,  0.1325,  0.1311,\n",
            "         -0.0346,  0.0806, -0.1118, -0.1011,  0.1676,  0.0078, -0.0557,  0.1405,\n",
            "         -0.1871, -0.0623,  0.1409, -0.1226, -0.0238]], requires_grad=True)\n"
          ],
          "name": "stdout"
        }
      ]
    },
    {
      "metadata": {
        "id": "Ga4qq3EP0kzh",
        "colab_type": "text"
      },
      "cell_type": "markdown",
      "source": [
        "# Loop Training"
      ]
    },
    {
      "metadata": {
        "id": "7HflMr1i0ojY",
        "colab_type": "code",
        "colab": {
          "base_uri": "https://localhost:8080/",
          "height": 867
        },
        "outputId": "fd89a030-a877-4e87-be54-11c4d59d50e0"
      },
      "cell_type": "code",
      "source": [
        "# a feed-forward network\n",
        "\n",
        "model = nn.Sequential(nn.Linear(21, 15),\n",
        "                      nn.ReLU(),\n",
        "                      nn.Linear(15, 12),\n",
        "                      nn.ReLU(),\n",
        "                      nn.Linear(12, 6),\n",
        "                      nn.LogSoftmax(dim=1))\n",
        "\n",
        "\n",
        "\n",
        "criterion = nn.NLLLoss()\n",
        "optimizer = optim.SGD(model.parameters(), lr=0.003)\n",
        "\n",
        "epochs = 50\n",
        "for e in range(epochs):\n",
        "    running_loss = 0\n",
        "#    for images, labels in trainloader:\n",
        "    for images, labels in zip(trainloader_features, trainloader_targets):\n",
        "        # Get our data\n",
        "\n",
        "        # Flatten images\n",
        "        images = images.view(images.shape[0], -1)\n",
        "        images = images.float()\n",
        "        #print(images.shape)\n",
        "\n",
        "        # Flatten labels\n",
        "        labels = labels.squeeze_()\n",
        "        labels = labels.to(dtype=torch.long)\n",
        "        #print(labels)\n",
        "    \n",
        "        # TODO: Training pass\n",
        "        optimizer.zero_grad()\n",
        "        \n",
        "        output = model(images)\n",
        "        loss = criterion(output, labels)\n",
        "        loss.backward()\n",
        "        optimizer.step()\n",
        "        \n",
        "        running_loss += loss.item()\n",
        "    else:\n",
        "        print(f\"Training loss: {running_loss/len(trainloader)}\")\n"
      ],
      "execution_count": 41,
      "outputs": [
        {
          "output_type": "stream",
          "text": [
            "Training loss: 1.5575096209843953\n",
            "Training loss: 1.5518719487720065\n",
            "Training loss: 1.5464095671971638\n",
            "Training loss: 1.541141390800476\n",
            "Training loss: 1.5359483295016818\n",
            "Training loss: 1.5307183663050334\n",
            "Training loss: 1.525505092408922\n",
            "Training loss: 1.5204294522603352\n",
            "Training loss: 1.5154462258021038\n",
            "Training loss: 1.5105636914571126\n",
            "Training loss: 1.5058065917756822\n",
            "Training loss: 1.5011737611558702\n",
            "Training loss: 1.4966632922490437\n",
            "Training loss: 1.4922793706258137\n",
            "Training loss: 1.4879800611072116\n",
            "Training loss: 1.483780927128262\n",
            "Training loss: 1.4796964724858601\n",
            "Training loss: 1.475734578238593\n",
            "Training loss: 1.471895111931695\n",
            "Training loss: 1.46811134285397\n",
            "Training loss: 1.464386608865526\n",
            "Training loss: 1.4607293208440144\n",
            "Training loss: 1.4571254783206515\n",
            "Training loss: 1.4535802337858412\n",
            "Training loss: 1.450086408191257\n",
            "Training loss: 1.4466455777486165\n",
            "Training loss: 1.4432539410061307\n",
            "Training loss: 1.4399067295922174\n",
            "Training loss: 1.4366039170159235\n",
            "Training loss: 1.4333460066053603\n",
            "Training loss: 1.4301311704847548\n",
            "Training loss: 1.426958481470744\n",
            "Training loss: 1.4238301383124456\n",
            "Training loss: 1.420740630891588\n",
            "Training loss: 1.4176926612854004\n",
            "Training loss: 1.4146857923931546\n",
            "Training loss: 1.4117197725507948\n",
            "Training loss: 1.4087941646575928\n",
            "Training loss: 1.405908809767829\n",
            "Training loss: 1.403062449561225\n",
            "Training loss: 1.4002532296710544\n",
            "Training loss: 1.3974828455183241\n",
            "Training loss: 1.3947529792785645\n",
            "Training loss: 1.392063233587477\n",
            "Training loss: 1.3894109593497381\n",
            "Training loss: 1.3867972426944308\n",
            "Training loss: 1.3842267857657538\n",
            "Training loss: 1.3816956281661987\n",
            "Training loss: 1.3792000081804063\n",
            "Training loss: 1.3767522308561537\n"
          ],
          "name": "stdout"
        }
      ]
    },
    {
      "metadata": {
        "id": "0fm92qC61ykd",
        "colab_type": "code",
        "colab": {}
      },
      "cell_type": "code",
      "source": [
        ""
      ],
      "execution_count": 0,
      "outputs": []
    }
  ]
}