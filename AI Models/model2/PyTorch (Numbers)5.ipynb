{
  "nbformat": 4,
  "nbformat_minor": 0,
  "metadata": {
    "colab": {
      "name": "Part 3 - Training Neural Networks (Solution).ipynb",
      "version": "0.3.2",
      "provenance": []
    },
    "language_info": {
      "codemirror_mode": {
        "name": "ipython",
        "version": 3
      },
      "file_extension": ".py",
      "mimetype": "text/x-python",
      "name": "python",
      "nbconvert_exporter": "python",
      "pygments_lexer": "ipython3",
      "version": "3.6.7"
    },
    "kernelspec": {
      "display_name": "Python 3",
      "language": "python",
      "name": "python3"
    }
  },
  "cells": [
    {
      "metadata": {
        "id": "Ejj7aC6KLAG9",
        "colab_type": "text"
      },
      "cell_type": "markdown",
      "source": [
        "# Training Neural Networks\n",
        "\n",
        "The network we built in the previous part isn't so smart, it doesn't know anything about our handwritten digits. Neural networks with non-linear activations work like universal function approximators. There is some function that maps your input to the output. For example, images of handwritten digits to class probabilities. The power of neural networks is that we can train them to approximate this function, and basically any function given enough data and compute time.\n",
        "\n",
        "<img src=\"https://github.com/engrsmukhtar/deep-learning-v2-pytorch/blob/master/intro-to-pytorch/assets/function_approx.png?raw=1\" width=500px>\n",
        "\n",
        "At first the network is naive, it doesn't know the function mapping the inputs to the outputs. We train the network by showing it examples of real data, then adjusting the network parameters such that it approximates this function.\n",
        "\n",
        "To find these parameters, we need to know how poorly the network is predicting the real outputs. For this we calculate a **loss function** (also called the cost), a measure of our prediction error. For example, the mean squared loss is often used in regression and binary classification problems\n",
        "\n",
        "$$\n",
        "\\large \\ell = \\frac{1}{2n}\\sum_i^n{\\left(y_i - \\hat{y}_i\\right)^2}\n",
        "$$\n",
        "\n",
        "where $n$ is the number of training examples, $y_i$ are the true labels, and $\\hat{y}_i$ are the predicted labels.\n",
        "\n",
        "By minimizing this loss with respect to the network parameters, we can find configurations where the loss is at a minimum and the network is able to predict the correct labels with high accuracy. We find this minimum using a process called **gradient descent**. The gradient is the slope of the loss function and points in the direction of fastest change. To get to the minimum in the least amount of time, we then want to follow the gradient (downwards). You can think of this like descending a mountain by following the steepest slope to the base.\n",
        "\n",
        "<img src='https://github.com/engrsmukhtar/deep-learning-v2-pytorch/blob/master/intro-to-pytorch/assets/gradient_descent.png?raw=1' width=350px>"
      ]
    },
    {
      "metadata": {
        "id": "O066D5RdLAG_",
        "colab_type": "text"
      },
      "cell_type": "markdown",
      "source": [
        "## Backpropagation\n",
        "\n",
        "For single layer networks, gradient descent is straightforward to implement. However, it's more complicated for deeper, multilayer neural networks like the one we've built. Complicated enough that it took about 30 years before researchers figured out how to train multilayer networks.\n",
        "\n",
        "Training multilayer networks is done through **backpropagation** which is really just an application of the chain rule from calculus. It's easiest to understand if we convert a two layer network into a graph representation.\n",
        "\n",
        "<img src='https://github.com/engrsmukhtar/deep-learning-v2-pytorch/blob/master/intro-to-pytorch/assets/backprop_diagram.png?raw=1' width=550px>\n",
        "\n",
        "In the forward pass through the network, our data and operations go from bottom to top here. We pass the input $x$ through a linear transformation $L_1$ with weights $W_1$ and biases $b_1$. The output then goes through the sigmoid operation $S$ and another linear transformation $L_2$. Finally we calculate the loss $\\ell$. We use the loss as a measure of how bad the network's predictions are. The goal then is to adjust the weights and biases to minimize the loss.\n",
        "\n",
        "To train the weights with gradient descent, we propagate the gradient of the loss backwards through the network. Each operation has some gradient between the inputs and outputs. As we send the gradients backwards, we multiply the incoming gradient with the gradient for the operation. Mathematically, this is really just calculating the gradient of the loss with respect to the weights using the chain rule.\n",
        "\n",
        "$$\n",
        "\\large \\frac{\\partial \\ell}{\\partial W_1} = \\frac{\\partial L_1}{\\partial W_1} \\frac{\\partial S}{\\partial L_1} \\frac{\\partial L_2}{\\partial S} \\frac{\\partial \\ell}{\\partial L_2}\n",
        "$$\n",
        "\n",
        "**Note:** I'm glossing over a few details here that require some knowledge of vector calculus, but they aren't necessary to understand what's going on.\n",
        "\n",
        "We update our weights using this gradient with some learning rate $\\alpha$. \n",
        "\n",
        "$$\n",
        "\\large W^\\prime_1 = W_1 - \\alpha \\frac{\\partial \\ell}{\\partial W_1}\n",
        "$$\n",
        "\n",
        "The learning rate $\\alpha$ is set such that the weight update steps are small enough that the iterative method settles in a minimum."
      ]
    },
    {
      "metadata": {
        "id": "Rz0NAQ6RLAHA",
        "colab_type": "text"
      },
      "cell_type": "markdown",
      "source": [
        "## Losses in PyTorch\n",
        "\n",
        "Let's start by seeing how we calculate the loss with PyTorch. Through the `nn` module, PyTorch provides losses such as the cross-entropy loss (`nn.CrossEntropyLoss`). You'll usually see the loss assigned to `criterion`. As noted in the last part, with a classification problem such as MNIST, we're using the softmax function to predict class probabilities. With a softmax output, you want to use cross-entropy as the loss. To actually calculate the loss, you first define the criterion then pass in the output of your network and the correct labels.\n",
        "\n",
        "Something really important to note here. Looking at [the documentation for `nn.CrossEntropyLoss`](https://pytorch.org/docs/stable/nn.html#torch.nn.CrossEntropyLoss),\n",
        "\n",
        "> This criterion combines `nn.LogSoftmax()` and `nn.NLLLoss()` in one single class.\n",
        ">\n",
        "> The input is expected to contain scores for each class.\n",
        "\n",
        "This means we need to pass in the raw output of our network into the loss, not the output of the softmax function. This raw output is usually called the *logits* or *scores*. We use the logits because softmax gives you probabilities which will often be very close to zero or one but floating-point numbers can't accurately represent values near zero or one ([read more here](https://docs.python.org/3/tutorial/floatingpoint.html)). It's usually best to avoid doing calculations with probabilities, typically we use log-probabilities."
      ]
    },
    {
      "metadata": {
        "id": "1qr4EOFJLAHB",
        "colab_type": "code",
        "colab": {
          "base_uri": "https://localhost:8080/",
          "height": 275
        },
        "outputId": "2054b81e-a9e4-4cfe-eb89-6943833c30dc"
      },
      "cell_type": "code",
      "source": [
        "import torch\n",
        "from torch import nn\n",
        "import torch.nn.functional as F\n",
        "from torchvision import datasets, transforms\n",
        "from torch import optim\n",
        "import matplotlib.pyplot as plt\n",
        "import numpy as np\n",
        "from torch import nn, optim\n",
        "from torch.autograd import Variable\n",
        "\n",
        "\n",
        "%matplotlib inline\n",
        "# Define a transform to normalize the data\n",
        "transform = transforms.Compose([transforms.ToTensor(),\n",
        "                                transforms.Normalize((0.5,), (0.5,)),\n",
        "                              ])\n",
        "# Download and load the training data\n",
        "trainset = datasets.MNIST('~/.pytorch/MNIST_data/', download=True, train=True, transform=transform)\n",
        "trainloader = torch.utils.data.DataLoader(trainset, batch_size=64, shuffle=True)"
      ],
      "execution_count": 10,
      "outputs": [
        {
          "output_type": "stream",
          "text": [
            "  0%|          | 0/9912422 [00:00<?, ?it/s]"
          ],
          "name": "stderr"
        },
        {
          "output_type": "stream",
          "text": [
            "Downloading http://yann.lecun.com/exdb/mnist/train-images-idx3-ubyte.gz to /root/.pytorch/MNIST_data/MNIST/raw/train-images-idx3-ubyte.gz\n"
          ],
          "name": "stdout"
        },
        {
          "output_type": "stream",
          "text": [
            "9920512it [00:00, 23752033.25it/s]                            \n"
          ],
          "name": "stderr"
        },
        {
          "output_type": "stream",
          "text": [
            "Extracting /root/.pytorch/MNIST_data/MNIST/raw/train-images-idx3-ubyte.gz\n"
          ],
          "name": "stdout"
        },
        {
          "output_type": "stream",
          "text": [
            "32768it [00:00, 454148.48it/s]\n",
            "  1%|          | 16384/1648877 [00:00<00:11, 144539.00it/s]"
          ],
          "name": "stderr"
        },
        {
          "output_type": "stream",
          "text": [
            "Downloading http://yann.lecun.com/exdb/mnist/train-labels-idx1-ubyte.gz to /root/.pytorch/MNIST_data/MNIST/raw/train-labels-idx1-ubyte.gz\n",
            "Extracting /root/.pytorch/MNIST_data/MNIST/raw/train-labels-idx1-ubyte.gz\n",
            "Downloading http://yann.lecun.com/exdb/mnist/t10k-images-idx3-ubyte.gz to /root/.pytorch/MNIST_data/MNIST/raw/t10k-images-idx3-ubyte.gz\n"
          ],
          "name": "stdout"
        },
        {
          "output_type": "stream",
          "text": [
            "1654784it [00:00, 7645295.84it/s]                            \n",
            "8192it [00:00, 173769.23it/s]\n"
          ],
          "name": "stderr"
        },
        {
          "output_type": "stream",
          "text": [
            "Extracting /root/.pytorch/MNIST_data/MNIST/raw/t10k-images-idx3-ubyte.gz\n",
            "Downloading http://yann.lecun.com/exdb/mnist/t10k-labels-idx1-ubyte.gz to /root/.pytorch/MNIST_data/MNIST/raw/t10k-labels-idx1-ubyte.gz\n",
            "Extracting /root/.pytorch/MNIST_data/MNIST/raw/t10k-labels-idx1-ubyte.gz\n",
            "Processing...\n",
            "Done!\n"
          ],
          "name": "stdout"
        }
      ]
    },
    {
      "metadata": {
        "id": "qdLhtZCxLAHF",
        "colab_type": "code",
        "outputId": "00f344d9-ee45-469e-91ba-e7b04c6add7f",
        "colab": {
          "base_uri": "https://localhost:8080/",
          "height": 34
        }
      },
      "cell_type": "code",
      "source": [
        "# Build a feed-forward network\n",
        "model = nn.Sequential(nn.Linear(784, 128),\n",
        "                      nn.ReLU(),\n",
        "                      nn.Linear(128, 64),\n",
        "                      nn.ReLU(),\n",
        "                      nn.Linear(64, 10))\n",
        "\n",
        "# Define the loss\n",
        "criterion = nn.CrossEntropyLoss()\n",
        "\n",
        "# Get our data\n",
        "images, labels = next(iter(trainloader))\n",
        "# Flatten images\n",
        "images = images.view(images.shape[0], -1)\n",
        "\n",
        "# Forward pass, get our logits\n",
        "logits = model(images)\n",
        "# Calculate the loss with the logits and the labels\n",
        "loss = criterion(logits, labels)\n",
        "\n",
        "print(loss)"
      ],
      "execution_count": 11,
      "outputs": [
        {
          "output_type": "stream",
          "text": [
            "tensor(2.3154, grad_fn=<NllLossBackward>)\n"
          ],
          "name": "stdout"
        }
      ]
    },
    {
      "metadata": {
        "id": "l_YdO91gLAHO",
        "colab_type": "text"
      },
      "cell_type": "markdown",
      "source": [
        "In my experience it's more convenient to build the model with a log-softmax output using `nn.LogSoftmax` or `F.log_softmax` ([documentation](https://pytorch.org/docs/stable/nn.html#torch.nn.LogSoftmax)). Then you can get the actual probabilites by taking the exponential `torch.exp(output)`. With a log-softmax output, you want to use the negative log likelihood loss, `nn.NLLLoss` ([documentation](https://pytorch.org/docs/stable/nn.html#torch.nn.NLLLoss)).\n",
        "\n",
        ">**Exercise:** Build a model that returns the log-softmax as the output and calculate the loss using the negative log likelihood loss."
      ]
    },
    {
      "metadata": {
        "id": "qNTfyLUzLAHP",
        "colab_type": "code",
        "outputId": "67d7af38-5f42-4af8-e0bb-7e279d5c3c94",
        "colab": {
          "base_uri": "https://localhost:8080/",
          "height": 34
        }
      },
      "cell_type": "code",
      "source": [
        "## Solution\n",
        "\n",
        "# Build a feed-forward network\n",
        "model = nn.Sequential(nn.Linear(784, 128),\n",
        "                      nn.ReLU(),\n",
        "                      nn.Linear(128, 64),\n",
        "                      nn.ReLU(),\n",
        "                      nn.Linear(64, 10),\n",
        "                      nn.LogSoftmax(dim=1))\n",
        "\n",
        "# Define the loss\n",
        "criterion = nn.NLLLoss()\n",
        "\n",
        "# Get our data\n",
        "images, labels = next(iter(trainloader))\n",
        "# Flatten images\n",
        "images = images.view(images.shape[0], -1)\n",
        "\n",
        "# Forward pass, get our log-probabilities\n",
        "logps = model(images)\n",
        "# Calculate the loss with the logps and the labels\n",
        "loss = criterion(logps, labels)\n",
        "\n",
        "print(loss)"
      ],
      "execution_count": 12,
      "outputs": [
        {
          "output_type": "stream",
          "text": [
            "tensor(2.2951, grad_fn=<NllLossBackward>)\n"
          ],
          "name": "stdout"
        }
      ]
    },
    {
      "metadata": {
        "id": "9sIAni8TLAHS",
        "colab_type": "text"
      },
      "cell_type": "markdown",
      "source": [
        "## Autograd\n",
        "\n",
        "Now that we know how to calculate a loss, how do we use it to perform backpropagation? Torch provides a module, `autograd`, for automatically calculating the gradients of tensors. We can use it to calculate the gradients of all our parameters with respect to the loss. Autograd works by keeping track of operations performed on tensors, then going backwards through those operations, calculating gradients along the way. To make sure PyTorch keeps track of operations on a tensor and calculates the gradients, you need to set `requires_grad = True` on a tensor. You can do this at creation with the `requires_grad` keyword, or at any time with `x.requires_grad_(True)`.\n",
        "\n",
        "You can turn off gradients for a block of code with the `torch.no_grad()` content:\n",
        "```python\n",
        "x = torch.zeros(1, requires_grad=True)\n",
        ">>> with torch.no_grad():\n",
        "...     y = x * 2\n",
        ">>> y.requires_grad\n",
        "False\n",
        "```\n",
        "\n",
        "Also, you can turn on or off gradients altogether with `torch.set_grad_enabled(True|False)`.\n",
        "\n",
        "The gradients are computed with respect to some variable `z` with `z.backward()`. This does a backward pass through the operations that created `z`."
      ]
    },
    {
      "metadata": {
        "id": "30iCuknTLAHT",
        "colab_type": "code",
        "outputId": "ad6b9bbe-6675-4fa4-fa0a-d79a3a453a71",
        "colab": {
          "base_uri": "https://localhost:8080/",
          "height": 51
        }
      },
      "cell_type": "code",
      "source": [
        "x = torch.randn(2,2, requires_grad=True)\n",
        "print(x)"
      ],
      "execution_count": 13,
      "outputs": [
        {
          "output_type": "stream",
          "text": [
            "tensor([[-0.0203, -1.9844],\n",
            "        [-0.0700, -0.5702]], requires_grad=True)\n"
          ],
          "name": "stdout"
        }
      ]
    },
    {
      "metadata": {
        "id": "0KKyEHE3LAHW",
        "colab_type": "code",
        "outputId": "38a2b839-d6e8-497b-8319-5c549131b901",
        "colab": {
          "base_uri": "https://localhost:8080/",
          "height": 51
        }
      },
      "cell_type": "code",
      "source": [
        "y = x**2\n",
        "print(y)"
      ],
      "execution_count": 14,
      "outputs": [
        {
          "output_type": "stream",
          "text": [
            "tensor([[4.1345e-04, 3.9378e+00],\n",
            "        [4.9012e-03, 3.2517e-01]], grad_fn=<PowBackward0>)\n"
          ],
          "name": "stdout"
        }
      ]
    },
    {
      "metadata": {
        "id": "X_rC0601LAHc",
        "colab_type": "text"
      },
      "cell_type": "markdown",
      "source": [
        "Below we can see the operation that created `y`, a power operation `PowBackward0`."
      ]
    },
    {
      "metadata": {
        "id": "zGnq3BNJLAHd",
        "colab_type": "code",
        "outputId": "987dd6d9-c29f-440c-a8c4-5becc90af9df",
        "colab": {
          "base_uri": "https://localhost:8080/",
          "height": 34
        }
      },
      "cell_type": "code",
      "source": [
        "## grad_fn shows the function that generated this variable\n",
        "print(y.grad_fn)"
      ],
      "execution_count": 15,
      "outputs": [
        {
          "output_type": "stream",
          "text": [
            "<PowBackward0 object at 0x7f7b8ac350f0>\n"
          ],
          "name": "stdout"
        }
      ]
    },
    {
      "metadata": {
        "id": "4ZhDxiVFLAHg",
        "colab_type": "text"
      },
      "cell_type": "markdown",
      "source": [
        "The autograd module keeps track of these operations and knows how to calculate the gradient for each one. In this way, it's able to calculate the gradients for a chain of operations, with respect to any one tensor. Let's reduce the tensor `y` to a scalar value, the mean."
      ]
    },
    {
      "metadata": {
        "id": "HLSnUknBLAHh",
        "colab_type": "code",
        "outputId": "37753b98-c899-4956-9734-95438ec8ca20",
        "colab": {
          "base_uri": "https://localhost:8080/",
          "height": 34
        }
      },
      "cell_type": "code",
      "source": [
        "z = y.mean()\n",
        "print(z)"
      ],
      "execution_count": 16,
      "outputs": [
        {
          "output_type": "stream",
          "text": [
            "tensor(1.0671, grad_fn=<MeanBackward1>)\n"
          ],
          "name": "stdout"
        }
      ]
    },
    {
      "metadata": {
        "id": "10b7dHkELAHl",
        "colab_type": "text"
      },
      "cell_type": "markdown",
      "source": [
        "You can check the gradients for `x` and `y` but they are empty currently."
      ]
    },
    {
      "metadata": {
        "id": "xltmGeYILAHl",
        "colab_type": "code",
        "outputId": "6f4cdc9a-2bfa-4e9c-a5a8-310e073cb7c2",
        "colab": {
          "base_uri": "https://localhost:8080/",
          "height": 34
        }
      },
      "cell_type": "code",
      "source": [
        "print(x.grad)"
      ],
      "execution_count": 17,
      "outputs": [
        {
          "output_type": "stream",
          "text": [
            "None\n"
          ],
          "name": "stdout"
        }
      ]
    },
    {
      "metadata": {
        "id": "WDAvACAmLAHr",
        "colab_type": "text"
      },
      "cell_type": "markdown",
      "source": [
        "To calculate the gradients, you need to run the `.backward` method on a Variable, `z` for example. This will calculate the gradient for `z` with respect to `x`\n",
        "\n",
        "$$\n",
        "\\frac{\\partial z}{\\partial x} = \\frac{\\partial}{\\partial x}\\left[\\frac{1}{n}\\sum_i^n x_i^2\\right] = \\frac{x}{2}\n",
        "$$"
      ]
    },
    {
      "metadata": {
        "id": "RgskY6q-LAHs",
        "colab_type": "code",
        "outputId": "4b0834c6-b571-47d3-962d-532159ee1cb3",
        "colab": {
          "base_uri": "https://localhost:8080/",
          "height": 85
        }
      },
      "cell_type": "code",
      "source": [
        "z.backward()\n",
        "print(x.grad)\n",
        "print(x/2)"
      ],
      "execution_count": 18,
      "outputs": [
        {
          "output_type": "stream",
          "text": [
            "tensor([[-0.0102, -0.9922],\n",
            "        [-0.0350, -0.2851]])\n",
            "tensor([[-0.0102, -0.9922],\n",
            "        [-0.0350, -0.2851]], grad_fn=<DivBackward0>)\n"
          ],
          "name": "stdout"
        }
      ]
    },
    {
      "metadata": {
        "id": "gzQ62QqzLAHw",
        "colab_type": "text"
      },
      "cell_type": "markdown",
      "source": [
        "These gradients calculations are particularly useful for neural networks. For training we need the gradients of the weights with respect to the cost. With PyTorch, we run data forward through the network to calculate the loss, then, go backwards to calculate the gradients with respect to the loss. Once we have the gradients we can make a gradient descent step. "
      ]
    },
    {
      "metadata": {
        "id": "JrQK7-j6LAHw",
        "colab_type": "text"
      },
      "cell_type": "markdown",
      "source": [
        "## Loss and Autograd together\n",
        "\n",
        "When we create a network with PyTorch, all of the parameters are initialized with `requires_grad = True`. This means that when we calculate the loss and call `loss.backward()`, the gradients for the parameters are calculated. These gradients are used to update the weights with gradient descent. Below you can see an example of calculating the gradients using a backwards pass."
      ]
    },
    {
      "metadata": {
        "id": "TrwbKOeFLAHx",
        "colab_type": "code",
        "colab": {}
      },
      "cell_type": "code",
      "source": [
        "# Build a feed-forward network\n",
        "model = nn.Sequential(nn.Linear(784, 128),\n",
        "                      nn.ReLU(),\n",
        "                      nn.Linear(128, 64),\n",
        "                      nn.ReLU(),\n",
        "                      nn.Linear(64, 10),\n",
        "                      nn.LogSoftmax(dim=1))\n",
        "\n",
        "criterion = nn.NLLLoss()\n",
        "images, labels = next(iter(trainloader))\n",
        "images = images.view(images.shape[0], -1)\n",
        "\n",
        "logps = model(images)\n",
        "loss = criterion(logps, labels)"
      ],
      "execution_count": 0,
      "outputs": []
    },
    {
      "metadata": {
        "id": "TOCJV7flLAH3",
        "colab_type": "code",
        "outputId": "8ce8ed8e-e635-419b-b9c2-a743a32e9c56",
        "colab": {
          "base_uri": "https://localhost:8080/",
          "height": 187
        }
      },
      "cell_type": "code",
      "source": [
        "print('Before backward pass: \\n', model[0].weight.grad)\n",
        "\n",
        "loss.backward()\n",
        "\n",
        "print('After backward pass: \\n', model[0].weight.grad)"
      ],
      "execution_count": 20,
      "outputs": [
        {
          "output_type": "stream",
          "text": [
            "Before backward pass: \n",
            " None\n",
            "After backward pass: \n",
            " tensor([[-0.0041, -0.0041, -0.0041,  ..., -0.0041, -0.0041, -0.0041],\n",
            "        [ 0.0014,  0.0014,  0.0014,  ...,  0.0014,  0.0014,  0.0014],\n",
            "        [ 0.0002,  0.0002,  0.0002,  ...,  0.0002,  0.0002,  0.0002],\n",
            "        ...,\n",
            "        [ 0.0020,  0.0020,  0.0020,  ...,  0.0020,  0.0020,  0.0020],\n",
            "        [ 0.0004,  0.0004,  0.0004,  ...,  0.0004,  0.0004,  0.0004],\n",
            "        [-0.0024, -0.0024, -0.0024,  ..., -0.0024, -0.0024, -0.0024]])\n"
          ],
          "name": "stdout"
        }
      ]
    },
    {
      "metadata": {
        "id": "bNkm5ZP-LAH-",
        "colab_type": "text"
      },
      "cell_type": "markdown",
      "source": [
        "## Training the network!\n",
        "\n",
        "There's one last piece we need to start training, an optimizer that we'll use to update the weights with the gradients. We get these from PyTorch's [`optim` package](https://pytorch.org/docs/stable/optim.html). For example we can use stochastic gradient descent with `optim.SGD`. You can see how to define an optimizer below."
      ]
    },
    {
      "metadata": {
        "id": "VRAwA64MLAH_",
        "colab_type": "code",
        "colab": {}
      },
      "cell_type": "code",
      "source": [
        "from torch import optim\n",
        "\n",
        "# Optimizers require the parameters to optimize and a learning rate\n",
        "optimizer = optim.SGD(model.parameters(), lr=0.01)"
      ],
      "execution_count": 0,
      "outputs": []
    },
    {
      "metadata": {
        "id": "xYRKNMGlLAID",
        "colab_type": "text"
      },
      "cell_type": "markdown",
      "source": [
        "Now we know how to use all the individual parts so it's time to see how they work together. Let's consider just one learning step before looping through all the data. The general process with PyTorch:\n",
        "\n",
        "* Make a forward pass through the network \n",
        "* Use the network output to calculate the loss\n",
        "* Perform a backward pass through the network with `loss.backward()` to calculate the gradients\n",
        "* Take a step with the optimizer to update the weights\n",
        "\n",
        "Below I'll go through one training step and print out the weights and gradients so you can see how it changes. Note that I have a line of code `optimizer.zero_grad()`. When you do multiple backwards passes with the same parameters, the gradients are accumulated. This means that you need to zero the gradients on each training pass or you'll retain gradients from previous training batches."
      ]
    },
    {
      "metadata": {
        "id": "0ChjYu9SLAIE",
        "colab_type": "code",
        "outputId": "5ef22a89-dae2-47e4-9f8c-3237c8b377df",
        "colab": {
          "base_uri": "https://localhost:8080/",
          "height": 391
        }
      },
      "cell_type": "code",
      "source": [
        "print('Initial weights - ', model[0].weight)\n",
        "\n",
        "images, labels = next(iter(trainloader))\n",
        "images.resize_(64, 784)\n",
        "\n",
        "# Clear the gradients, do this because gradients are accumulated\n",
        "optimizer.zero_grad()\n",
        "\n",
        "# Forward pass, then backward pass, then update weights\n",
        "output = model(images)\n",
        "loss = criterion(output, labels)\n",
        "loss.backward()\n",
        "print('Gradient -', model[0].weight.grad)"
      ],
      "execution_count": 22,
      "outputs": [
        {
          "output_type": "stream",
          "text": [
            "Initial weights -  Parameter containing:\n",
            "tensor([[ 0.0271,  0.0339, -0.0277,  ...,  0.0237,  0.0021, -0.0256],\n",
            "        [-0.0142,  0.0146,  0.0141,  ..., -0.0012,  0.0194,  0.0032],\n",
            "        [ 0.0080, -0.0138, -0.0289,  ...,  0.0053, -0.0154,  0.0138],\n",
            "        ...,\n",
            "        [-0.0188, -0.0154,  0.0017,  ...,  0.0291, -0.0256, -0.0201],\n",
            "        [ 0.0167,  0.0232,  0.0060,  ..., -0.0145,  0.0349, -0.0286],\n",
            "        [-0.0008, -0.0209,  0.0043,  ...,  0.0087, -0.0243, -0.0113]],\n",
            "       requires_grad=True)\n",
            "Gradient - tensor([[-2.0079e-03, -2.0079e-03, -2.0079e-03,  ..., -2.0079e-03,\n",
            "         -2.0079e-03, -2.0079e-03],\n",
            "        [-9.6402e-05, -9.6402e-05, -9.6402e-05,  ..., -9.6402e-05,\n",
            "         -9.6402e-05, -9.6402e-05],\n",
            "        [ 1.1999e-04,  1.1999e-04,  1.1999e-04,  ...,  1.1999e-04,\n",
            "          1.1999e-04,  1.1999e-04],\n",
            "        ...,\n",
            "        [ 5.2000e-04,  5.2000e-04,  5.2000e-04,  ...,  5.2000e-04,\n",
            "          5.2000e-04,  5.2000e-04],\n",
            "        [-7.4469e-04, -7.4469e-04, -7.4469e-04,  ..., -7.4469e-04,\n",
            "         -7.4469e-04, -7.4469e-04],\n",
            "        [ 2.9131e-05,  2.9131e-05,  2.9131e-05,  ...,  2.9131e-05,\n",
            "          2.9131e-05,  2.9131e-05]])\n"
          ],
          "name": "stdout"
        }
      ]
    },
    {
      "metadata": {
        "id": "8gULJmzzLAIJ",
        "colab_type": "code",
        "outputId": "50f031f3-1500-4e3d-a089-98e153667653",
        "colab": {
          "base_uri": "https://localhost:8080/",
          "height": 170
        }
      },
      "cell_type": "code",
      "source": [
        "# Take an update step and few the new weights\n",
        "optimizer.step()\n",
        "print('Updated weights - ', model[0].weight)"
      ],
      "execution_count": 23,
      "outputs": [
        {
          "output_type": "stream",
          "text": [
            "Updated weights -  Parameter containing:\n",
            "tensor([[ 0.0271,  0.0339, -0.0277,  ...,  0.0237,  0.0021, -0.0256],\n",
            "        [-0.0142,  0.0146,  0.0141,  ..., -0.0012,  0.0194,  0.0032],\n",
            "        [ 0.0080, -0.0138, -0.0289,  ...,  0.0053, -0.0154,  0.0138],\n",
            "        ...,\n",
            "        [-0.0188, -0.0154,  0.0017,  ...,  0.0291, -0.0256, -0.0201],\n",
            "        [ 0.0167,  0.0232,  0.0060,  ..., -0.0145,  0.0349, -0.0286],\n",
            "        [-0.0008, -0.0209,  0.0043,  ...,  0.0087, -0.0243, -0.0113]],\n",
            "       requires_grad=True)\n"
          ],
          "name": "stdout"
        }
      ]
    },
    {
      "metadata": {
        "id": "UqwUMM9MLAIU",
        "colab_type": "text"
      },
      "cell_type": "markdown",
      "source": [
        "### Training for real\n",
        "\n",
        "Now we'll put this algorithm into a loop so we can go through all the images. Some nomenclature, one pass through the entire dataset is called an *epoch*. So here we're going to loop through `trainloader` to get our training batches. For each batch, we'll doing a training pass where we calculate the loss, do a backwards pass, and update the weights.\n",
        "\n",
        "> **Exercise: ** Implement the training pass for our network. If you implemented it correctly, you should see the training loss drop with each epoch."
      ]
    },
    {
      "metadata": {
        "id": "NfZJgezRLAIV",
        "colab_type": "code",
        "outputId": "09861e8c-eb80-40d5-d06a-5e275119e3fe",
        "colab": {
          "base_uri": "https://localhost:8080/",
          "height": 102
        }
      },
      "cell_type": "code",
      "source": [
        "model = nn.Sequential(nn.Linear(784, 128),\n",
        "                      nn.ReLU(),\n",
        "                      nn.Linear(128, 64),\n",
        "                      nn.ReLU(),\n",
        "                      nn.Linear(64, 10),\n",
        "                      nn.LogSoftmax(dim=1))\n",
        "\n",
        "criterion = nn.NLLLoss()\n",
        "optimizer = optim.SGD(model.parameters(), lr=0.003)\n",
        "\n",
        "epochs = 5\n",
        "for e in range(epochs):\n",
        "    running_loss = 0\n",
        "    for images, labels in trainloader:\n",
        "        # Flatten MNIST images into a 784 long vector\n",
        "        images = images.view(images.shape[0], -1)\n",
        "        \n",
        "        #print(images.shape)\n",
        "        #print(labels.shape)\n",
        "    \n",
        "        # TODO: Training pass\n",
        "        optimizer.zero_grad()\n",
        "        \n",
        "        output = model(images)\n",
        "        loss = criterion(output, labels)\n",
        "        loss.backward()\n",
        "        optimizer.step()\n",
        "        \n",
        "        running_loss += loss.item()\n",
        "    else:\n",
        "        print(f\"Training loss: {running_loss/len(trainloader)}\")"
      ],
      "execution_count": 24,
      "outputs": [
        {
          "output_type": "stream",
          "text": [
            "Training loss: 1.835568634050487\n",
            "Training loss: 0.7799808666078266\n",
            "Training loss: 0.4962021243025753\n",
            "Training loss: 0.4142305781560412\n",
            "Training loss: 0.3764544058996223\n"
          ],
          "name": "stdout"
        }
      ]
    },
    {
      "metadata": {
        "id": "BCJ35QjuLAIa",
        "colab_type": "text"
      },
      "cell_type": "markdown",
      "source": [
        "With the network trained, we can check out it's predictions."
      ]
    },
    {
      "metadata": {
        "id": "kiJEP58mLar8",
        "colab_type": "code",
        "colab": {}
      },
      "cell_type": "code",
      "source": [
        "import matplotlib.pyplot as plt\n",
        "import numpy as np\n",
        "from torch import nn, optim\n",
        "from torch.autograd import Variable\n",
        "\n",
        "def view_classify(img, ps, version=\"MNIST\"):\n",
        "    ''' Function for viewing an image and it's predicted classes.\n",
        "    '''\n",
        "    ps = ps.data.numpy().squeeze()\n",
        "    print(ps)\n",
        "\n",
        "    fig, (ax1, ax2) = plt.subplots(figsize=(6,9), ncols=2)\n",
        "    ax1.imshow(img.resize_(1, 28, 28).numpy().squeeze())\n",
        "    print(img.resize_(1, 28, 28).numpy().squeeze())\n",
        "    ax1.axis('off')\n",
        "    ax2.barh(np.arange(10), ps)\n",
        "    ax2.set_aspect(0.1)\n",
        "    ax2.set_yticks(np.arange(10))\n",
        "    if version == \"MNIST\":\n",
        "        ax2.set_yticklabels(np.arange(10))\n",
        "        print(np.arange(10))\n",
        "    elif version == \"Fashion\":\n",
        "        ax2.set_yticklabels(['T-shirt/top',\n",
        "                            'Trouser',\n",
        "                            'Pullover',\n",
        "                            'Dress',\n",
        "                            'Coat',\n",
        "                            'Sandal',\n",
        "                            'Shirt',\n",
        "                            'Sneaker',\n",
        "                            'Bag',\n",
        "                            'Ankle Boot'], size='small');\n",
        "    ax2.set_title('Class Probability')\n",
        "    ax2.set_xlim(0, 1.1)\n",
        "\n",
        "    plt.tight_layout()"
      ],
      "execution_count": 0,
      "outputs": []
    },
    {
      "metadata": {
        "id": "XVgt9vWbLAIb",
        "colab_type": "code",
        "outputId": "4d3bfb13-664a-4da6-bc86-8446e469a8d8",
        "colab": {
          "base_uri": "https://localhost:8080/",
          "height": 4341
        }
      },
      "cell_type": "code",
      "source": [
        "%matplotlib inline\n",
        "import helper\n",
        "\n",
        "images, labels = next(iter(trainloader))\n",
        "\n",
        "img = images[0].view(1, 784)\n",
        "print(img)\n",
        "# Turn off gradients to speed up this part\n",
        "with torch.no_grad():\n",
        "    logps = model(img)\n",
        "\n",
        "# Output of the network are log-probabilities, need to take exponential for probabilities\n",
        "ps = torch.exp(logps)\n",
        "view_classify(img.view(1, 28, 28), ps)"
      ],
      "execution_count": 26,
      "outputs": [
        {
          "output_type": "stream",
          "text": [
            "tensor([[-1.0000, -1.0000, -1.0000, -1.0000, -1.0000, -1.0000, -1.0000, -1.0000,\n",
            "         -1.0000, -1.0000, -1.0000, -1.0000, -1.0000, -1.0000, -1.0000, -1.0000,\n",
            "         -1.0000, -1.0000, -1.0000, -1.0000, -1.0000, -1.0000, -1.0000, -1.0000,\n",
            "         -1.0000, -1.0000, -1.0000, -1.0000, -1.0000, -1.0000, -1.0000, -1.0000,\n",
            "         -1.0000, -1.0000, -1.0000, -1.0000, -1.0000, -1.0000, -1.0000, -1.0000,\n",
            "         -1.0000, -1.0000, -1.0000, -1.0000, -1.0000, -1.0000, -1.0000, -1.0000,\n",
            "         -1.0000, -1.0000, -1.0000, -1.0000, -1.0000, -1.0000, -1.0000, -1.0000,\n",
            "         -1.0000, -1.0000, -1.0000, -1.0000, -1.0000, -1.0000, -1.0000, -1.0000,\n",
            "         -1.0000, -1.0000, -1.0000, -1.0000, -1.0000, -1.0000, -1.0000, -1.0000,\n",
            "         -1.0000, -1.0000, -1.0000, -1.0000, -1.0000, -1.0000, -1.0000, -1.0000,\n",
            "         -1.0000, -1.0000, -1.0000, -1.0000, -1.0000, -1.0000, -1.0000, -1.0000,\n",
            "         -1.0000, -1.0000, -1.0000, -1.0000, -1.0000, -1.0000, -1.0000, -1.0000,\n",
            "         -1.0000, -1.0000, -1.0000, -1.0000, -1.0000, -1.0000, -1.0000, -1.0000,\n",
            "         -1.0000, -1.0000, -1.0000, -1.0000, -1.0000, -1.0000, -1.0000, -1.0000,\n",
            "         -1.0000, -1.0000, -1.0000, -1.0000, -1.0000, -1.0000, -1.0000, -1.0000,\n",
            "         -1.0000, -1.0000, -1.0000, -1.0000, -1.0000, -1.0000, -1.0000, -1.0000,\n",
            "         -1.0000, -1.0000, -0.1137,  0.9843, -0.8353, -1.0000, -1.0000, -1.0000,\n",
            "         -1.0000, -1.0000, -1.0000, -1.0000, -1.0000, -1.0000, -1.0000, -1.0000,\n",
            "         -1.0000, -1.0000, -1.0000, -1.0000, -1.0000, -1.0000, -1.0000, -1.0000,\n",
            "         -1.0000, -1.0000, -1.0000, -1.0000, -1.0000, -1.0000,  0.5137,  0.9765,\n",
            "          0.4353, -1.0000, -1.0000, -1.0000, -1.0000, -1.0000, -1.0000, -1.0000,\n",
            "         -1.0000, -1.0000, -1.0000, -1.0000, -1.0000, -1.0000, -1.0000, -1.0000,\n",
            "         -1.0000, -1.0000, -1.0000, -1.0000, -1.0000, -1.0000, -1.0000, -1.0000,\n",
            "         -1.0000, -0.5137,  0.9922,  0.9843,  0.5922, -1.0000, -1.0000, -1.0000,\n",
            "         -1.0000, -1.0000, -1.0000, -1.0000, -1.0000, -1.0000, -1.0000, -1.0000,\n",
            "         -1.0000, -1.0000, -1.0000, -1.0000, -1.0000, -1.0000, -1.0000, -1.0000,\n",
            "         -1.0000, -1.0000, -1.0000, -1.0000, -0.8353,  0.5922,  0.9843,  0.9765,\n",
            "         -0.3647, -1.0000, -1.0000, -1.0000, -1.0000, -1.0000, -1.0000, -1.0000,\n",
            "         -1.0000, -1.0000, -1.0000, -1.0000, -1.0000, -1.0000, -1.0000, -1.0000,\n",
            "         -1.0000, -1.0000, -1.0000, -1.0000, -1.0000, -1.0000, -1.0000, -1.0000,\n",
            "          0.0353,  0.9843,  0.9922,  0.6706, -1.0000, -1.0000, -1.0000, -1.0000,\n",
            "         -1.0000, -1.0000, -1.0000, -1.0000, -1.0000, -1.0000, -1.0000, -1.0000,\n",
            "         -1.0000, -1.0000, -1.0000, -1.0000, -1.0000, -1.0000, -1.0000, -1.0000,\n",
            "         -1.0000, -1.0000, -1.0000, -0.6784,  0.6706,  0.9765,  0.8275, -0.7647,\n",
            "         -1.0000, -1.0000, -1.0000, -1.0000, -1.0000, -1.0000, -1.0000, -1.0000,\n",
            "         -1.0000, -1.0000, -1.0000, -1.0000, -1.0000, -1.0000, -1.0000, -1.0000,\n",
            "         -1.0000, -1.0000, -1.0000, -1.0000, -1.0000, -1.0000, -0.9137,  0.6706,\n",
            "          0.9922,  0.9843, -0.0353, -1.0000, -1.0000, -1.0000, -1.0000, -1.0000,\n",
            "         -1.0000, -1.0000, -1.0000, -1.0000, -1.0000, -1.0000, -1.0000, -1.0000,\n",
            "         -1.0000, -1.0000, -1.0000, -1.0000, -1.0000, -1.0000, -1.0000, -1.0000,\n",
            "         -1.0000, -1.0000, -0.9216,  0.6627,  0.9843,  0.9765, -0.6784, -1.0000,\n",
            "         -1.0000, -1.0000, -1.0000, -1.0000, -1.0000, -1.0000, -1.0000, -1.0000,\n",
            "         -1.0000, -1.0000, -1.0000, -1.0000, -1.0000, -1.0000, -1.0000, -1.0000,\n",
            "         -1.0000, -1.0000, -1.0000, -1.0000, -1.0000, -0.8353,  0.3569,  0.9843,\n",
            "          0.9922,  0.0275, -1.0000, -1.0000, -1.0000, -1.0000, -1.0000, -1.0000,\n",
            "         -1.0000, -1.0000, -1.0000, -1.0000, -1.0000, -1.0000, -1.0000, -1.0000,\n",
            "         -1.0000, -1.0000, -1.0000, -1.0000, -1.0000, -1.0000, -1.0000, -1.0000,\n",
            "         -1.0000,  0.1137,  0.9843,  0.9765,  0.6706, -0.9216, -1.0000, -1.0000,\n",
            "         -1.0000, -1.0000, -1.0000, -1.0000, -1.0000, -1.0000, -1.0000, -1.0000,\n",
            "         -1.0000, -1.0000, -1.0000, -1.0000, -1.0000, -1.0000, -1.0000, -1.0000,\n",
            "         -1.0000, -1.0000, -1.0000, -1.0000, -0.7569,  0.8275,  0.9922,  0.9843,\n",
            "         -0.0353, -1.0000, -1.0000, -1.0000, -1.0000, -1.0000, -1.0000, -1.0000,\n",
            "         -1.0000, -1.0000, -1.0000, -1.0000, -1.0000, -1.0000, -1.0000, -1.0000,\n",
            "         -1.0000, -1.0000, -1.0000, -1.0000, -1.0000, -1.0000, -1.0000, -1.0000,\n",
            "          0.0353,  0.9765,  0.9843,  0.3412, -1.0000, -1.0000, -1.0000, -1.0000,\n",
            "         -1.0000, -1.0000, -1.0000, -1.0000, -1.0000, -1.0000, -1.0000, -1.0000,\n",
            "         -1.0000, -1.0000, -1.0000, -1.0000, -1.0000, -1.0000, -1.0000, -1.0000,\n",
            "         -1.0000, -1.0000, -1.0000, -0.3569,  0.9922,  0.9843,  0.9137, -0.3647,\n",
            "         -1.0000, -1.0000, -1.0000, -1.0000, -1.0000, -1.0000, -1.0000, -1.0000,\n",
            "         -1.0000, -1.0000, -1.0000, -1.0000, -1.0000, -1.0000, -1.0000, -1.0000,\n",
            "         -1.0000, -1.0000, -1.0000, -1.0000, -1.0000, -1.0000, -0.3569,  0.9059,\n",
            "          0.9843,  0.9765, -0.3647, -1.0000, -1.0000, -1.0000, -1.0000, -1.0000,\n",
            "         -1.0000, -1.0000, -1.0000, -1.0000, -1.0000, -1.0000, -1.0000, -1.0000,\n",
            "         -1.0000, -1.0000, -1.0000, -1.0000, -1.0000, -1.0000, -1.0000, -1.0000,\n",
            "         -1.0000, -0.8353,  0.3569,  0.9843,  0.9922,  0.3490, -1.0000, -1.0000,\n",
            "         -1.0000, -1.0000, -1.0000, -1.0000, -1.0000, -1.0000, -1.0000, -1.0000,\n",
            "         -1.0000, -1.0000, -1.0000, -1.0000, -1.0000, -1.0000, -1.0000, -1.0000,\n",
            "         -1.0000, -1.0000, -1.0000, -1.0000, -1.0000,  0.1137,  0.9843,  0.9765,\n",
            "          0.8275, -0.7647, -1.0000, -1.0000, -1.0000, -1.0000, -1.0000, -1.0000,\n",
            "         -1.0000, -1.0000, -1.0000, -1.0000, -1.0000, -1.0000, -1.0000, -1.0000,\n",
            "         -1.0000, -1.0000, -1.0000, -1.0000, -1.0000, -1.0000, -1.0000, -1.0000,\n",
            "         -0.5922,  0.9843,  0.9922,  0.6706, -0.6784, -1.0000, -1.0000, -1.0000,\n",
            "         -1.0000, -1.0000, -1.0000, -1.0000, -1.0000, -1.0000, -1.0000, -1.0000,\n",
            "         -1.0000, -1.0000, -1.0000, -1.0000, -1.0000, -1.0000, -1.0000, -1.0000,\n",
            "         -1.0000, -1.0000, -1.0000, -1.0000,  0.6706,  0.9765,  0.9843,  0.0196,\n",
            "         -1.0000, -1.0000, -1.0000, -1.0000, -1.0000, -1.0000, -1.0000, -1.0000,\n",
            "         -1.0000, -1.0000, -1.0000, -1.0000, -1.0000, -1.0000, -1.0000, -1.0000,\n",
            "         -1.0000, -1.0000, -1.0000, -1.0000, -1.0000, -1.0000, -1.0000, -0.3569,\n",
            "          1.0000,  0.9843,  0.1137, -0.8431, -1.0000, -1.0000, -1.0000, -1.0000,\n",
            "         -1.0000, -1.0000, -1.0000, -1.0000, -1.0000, -1.0000, -1.0000, -1.0000,\n",
            "         -1.0000, -1.0000, -1.0000, -1.0000, -1.0000, -1.0000, -1.0000, -1.0000,\n",
            "         -1.0000, -1.0000, -1.0000, -0.0431,  0.9843,  0.0196, -1.0000, -1.0000,\n",
            "         -1.0000, -1.0000, -1.0000, -1.0000, -1.0000, -1.0000, -1.0000, -1.0000,\n",
            "         -1.0000, -1.0000, -1.0000, -1.0000, -1.0000, -1.0000, -1.0000, -1.0000,\n",
            "         -1.0000, -1.0000, -1.0000, -1.0000, -1.0000, -1.0000, -1.0000, -1.0000,\n",
            "         -1.0000, -1.0000, -1.0000, -1.0000, -1.0000, -1.0000, -1.0000, -1.0000,\n",
            "         -1.0000, -1.0000, -1.0000, -1.0000, -1.0000, -1.0000, -1.0000, -1.0000,\n",
            "         -1.0000, -1.0000, -1.0000, -1.0000, -1.0000, -1.0000, -1.0000, -1.0000,\n",
            "         -1.0000, -1.0000, -1.0000, -1.0000, -1.0000, -1.0000, -1.0000, -1.0000,\n",
            "         -1.0000, -1.0000, -1.0000, -1.0000, -1.0000, -1.0000, -1.0000, -1.0000,\n",
            "         -1.0000, -1.0000, -1.0000, -1.0000, -1.0000, -1.0000, -1.0000, -1.0000,\n",
            "         -1.0000, -1.0000, -1.0000, -1.0000, -1.0000, -1.0000, -1.0000, -1.0000,\n",
            "         -1.0000, -1.0000, -1.0000, -1.0000, -1.0000, -1.0000, -1.0000, -1.0000,\n",
            "         -1.0000, -1.0000, -1.0000, -1.0000, -1.0000, -1.0000, -1.0000, -1.0000,\n",
            "         -1.0000, -1.0000, -1.0000, -1.0000, -1.0000, -1.0000, -1.0000, -1.0000,\n",
            "         -1.0000, -1.0000, -1.0000, -1.0000, -1.0000, -1.0000, -1.0000, -1.0000,\n",
            "         -1.0000, -1.0000, -1.0000, -1.0000, -1.0000, -1.0000, -1.0000, -1.0000,\n",
            "         -1.0000, -1.0000, -1.0000, -1.0000, -1.0000, -1.0000, -1.0000, -1.0000]])\n",
            "[1.0853788e-06 9.8104179e-01 1.1475710e-02 1.9628357e-03 8.0580081e-05\n",
            " 3.1865694e-04 1.5784806e-04 5.1635946e-04 4.3388065e-03 1.0618905e-04]\n",
            "[[-1.         -1.         -1.         -1.         -1.         -1.\n",
            "  -1.         -1.         -1.         -1.         -1.         -1.\n",
            "  -1.         -1.         -1.         -1.         -1.         -1.\n",
            "  -1.         -1.         -1.         -1.         -1.         -1.\n",
            "  -1.         -1.         -1.         -1.        ]\n",
            " [-1.         -1.         -1.         -1.         -1.         -1.\n",
            "  -1.         -1.         -1.         -1.         -1.         -1.\n",
            "  -1.         -1.         -1.         -1.         -1.         -1.\n",
            "  -1.         -1.         -1.         -1.         -1.         -1.\n",
            "  -1.         -1.         -1.         -1.        ]\n",
            " [-1.         -1.         -1.         -1.         -1.         -1.\n",
            "  -1.         -1.         -1.         -1.         -1.         -1.\n",
            "  -1.         -1.         -1.         -1.         -1.         -1.\n",
            "  -1.         -1.         -1.         -1.         -1.         -1.\n",
            "  -1.         -1.         -1.         -1.        ]\n",
            " [-1.         -1.         -1.         -1.         -1.         -1.\n",
            "  -1.         -1.         -1.         -1.         -1.         -1.\n",
            "  -1.         -1.         -1.         -1.         -1.         -1.\n",
            "  -1.         -1.         -1.         -1.         -1.         -1.\n",
            "  -1.         -1.         -1.         -1.        ]\n",
            " [-1.         -1.         -1.         -1.         -1.         -1.\n",
            "  -1.         -1.         -1.         -1.         -1.         -1.\n",
            "  -1.         -1.         -1.         -1.         -1.         -1.\n",
            "  -0.11372548  0.9843137  -0.8352941  -1.         -1.         -1.\n",
            "  -1.         -1.         -1.         -1.        ]\n",
            " [-1.         -1.         -1.         -1.         -1.         -1.\n",
            "  -1.         -1.         -1.         -1.         -1.         -1.\n",
            "  -1.         -1.         -1.         -1.         -1.         -1.\n",
            "   0.5137255   0.9764706   0.43529415 -1.         -1.         -1.\n",
            "  -1.         -1.         -1.         -1.        ]\n",
            " [-1.         -1.         -1.         -1.         -1.         -1.\n",
            "  -1.         -1.         -1.         -1.         -1.         -1.\n",
            "  -1.         -1.         -1.         -1.         -1.         -0.5137255\n",
            "   0.99215686  0.9843137   0.5921569  -1.         -1.         -1.\n",
            "  -1.         -1.         -1.         -1.        ]\n",
            " [-1.         -1.         -1.         -1.         -1.         -1.\n",
            "  -1.         -1.         -1.         -1.         -1.         -1.\n",
            "  -1.         -1.         -1.         -1.         -0.8352941   0.5921569\n",
            "   0.9843137   0.9764706  -0.36470586 -1.         -1.         -1.\n",
            "  -1.         -1.         -1.         -1.        ]\n",
            " [-1.         -1.         -1.         -1.         -1.         -1.\n",
            "  -1.         -1.         -1.         -1.         -1.         -1.\n",
            "  -1.         -1.         -1.         -1.          0.03529418  0.9843137\n",
            "   0.99215686  0.67058825 -1.         -1.         -1.         -1.\n",
            "  -1.         -1.         -1.         -1.        ]\n",
            " [-1.         -1.         -1.         -1.         -1.         -1.\n",
            "  -1.         -1.         -1.         -1.         -1.         -1.\n",
            "  -1.         -1.         -1.         -0.6784314   0.67058825  0.9764706\n",
            "   0.827451   -0.7647059  -1.         -1.         -1.         -1.\n",
            "  -1.         -1.         -1.         -1.        ]\n",
            " [-1.         -1.         -1.         -1.         -1.         -1.\n",
            "  -1.         -1.         -1.         -1.         -1.         -1.\n",
            "  -1.         -1.         -0.9137255   0.67058825  0.99215686  0.9843137\n",
            "  -0.03529412 -1.         -1.         -1.         -1.         -1.\n",
            "  -1.         -1.         -1.         -1.        ]\n",
            " [-1.         -1.         -1.         -1.         -1.         -1.\n",
            "  -1.         -1.         -1.         -1.         -1.         -1.\n",
            "  -1.         -1.         -0.92156863  0.6627451   0.9843137   0.9764706\n",
            "  -0.6784314  -1.         -1.         -1.         -1.         -1.\n",
            "  -1.         -1.         -1.         -1.        ]\n",
            " [-1.         -1.         -1.         -1.         -1.         -1.\n",
            "  -1.         -1.         -1.         -1.         -1.         -1.\n",
            "  -1.         -0.8352941   0.35686278  0.9843137   0.99215686  0.02745104\n",
            "  -1.         -1.         -1.         -1.         -1.         -1.\n",
            "  -1.         -1.         -1.         -1.        ]\n",
            " [-1.         -1.         -1.         -1.         -1.         -1.\n",
            "  -1.         -1.         -1.         -1.         -1.         -1.\n",
            "  -1.          0.11372554  0.9843137   0.9764706   0.67058825 -0.92156863\n",
            "  -1.         -1.         -1.         -1.         -1.         -1.\n",
            "  -1.         -1.         -1.         -1.        ]\n",
            " [-1.         -1.         -1.         -1.         -1.         -1.\n",
            "  -1.         -1.         -1.         -1.         -1.         -1.\n",
            "  -0.75686276  0.827451    0.99215686  0.9843137  -0.03529412 -1.\n",
            "  -1.         -1.         -1.         -1.         -1.         -1.\n",
            "  -1.         -1.         -1.         -1.        ]\n",
            " [-1.         -1.         -1.         -1.         -1.         -1.\n",
            "  -1.         -1.         -1.         -1.         -1.         -1.\n",
            "   0.03529418  0.9764706   0.9843137   0.3411765  -1.         -1.\n",
            "  -1.         -1.         -1.         -1.         -1.         -1.\n",
            "  -1.         -1.         -1.         -1.        ]\n",
            " [-1.         -1.         -1.         -1.         -1.         -1.\n",
            "  -1.         -1.         -1.         -1.         -1.         -0.35686272\n",
            "   0.99215686  0.9843137   0.9137255  -0.36470586 -1.         -1.\n",
            "  -1.         -1.         -1.         -1.         -1.         -1.\n",
            "  -1.         -1.         -1.         -1.        ]\n",
            " [-1.         -1.         -1.         -1.         -1.         -1.\n",
            "  -1.         -1.         -1.         -1.         -0.35686272  0.90588236\n",
            "   0.9843137   0.9764706  -0.36470586 -1.         -1.         -1.\n",
            "  -1.         -1.         -1.         -1.         -1.         -1.\n",
            "  -1.         -1.         -1.         -1.        ]\n",
            " [-1.         -1.         -1.         -1.         -1.         -1.\n",
            "  -1.         -1.         -1.         -0.8352941   0.35686278  0.9843137\n",
            "   0.99215686  0.34901965 -1.         -1.         -1.         -1.\n",
            "  -1.         -1.         -1.         -1.         -1.         -1.\n",
            "  -1.         -1.         -1.         -1.        ]\n",
            " [-1.         -1.         -1.         -1.         -1.         -1.\n",
            "  -1.         -1.         -1.          0.11372554  0.9843137   0.9764706\n",
            "   0.827451   -0.7647059  -1.         -1.         -1.         -1.\n",
            "  -1.         -1.         -1.         -1.         -1.         -1.\n",
            "  -1.         -1.         -1.         -1.        ]\n",
            " [-1.         -1.         -1.         -1.         -1.         -1.\n",
            "  -1.         -1.         -0.5921569   0.9843137   0.99215686  0.67058825\n",
            "  -0.6784314  -1.         -1.         -1.         -1.         -1.\n",
            "  -1.         -1.         -1.         -1.         -1.         -1.\n",
            "  -1.         -1.         -1.         -1.        ]\n",
            " [-1.         -1.         -1.         -1.         -1.         -1.\n",
            "  -1.         -1.          0.67058825  0.9764706   0.9843137   0.0196079\n",
            "  -1.         -1.         -1.         -1.         -1.         -1.\n",
            "  -1.         -1.         -1.         -1.         -1.         -1.\n",
            "  -1.         -1.         -1.         -1.        ]\n",
            " [-1.         -1.         -1.         -1.         -1.         -1.\n",
            "  -1.         -0.35686272  1.          0.9843137   0.11372554 -0.84313726\n",
            "  -1.         -1.         -1.         -1.         -1.         -1.\n",
            "  -1.         -1.         -1.         -1.         -1.         -1.\n",
            "  -1.         -1.         -1.         -1.        ]\n",
            " [-1.         -1.         -1.         -1.         -1.         -1.\n",
            "  -1.         -0.04313725  0.9843137   0.0196079  -1.         -1.\n",
            "  -1.         -1.         -1.         -1.         -1.         -1.\n",
            "  -1.         -1.         -1.         -1.         -1.         -1.\n",
            "  -1.         -1.         -1.         -1.        ]\n",
            " [-1.         -1.         -1.         -1.         -1.         -1.\n",
            "  -1.         -1.         -1.         -1.         -1.         -1.\n",
            "  -1.         -1.         -1.         -1.         -1.         -1.\n",
            "  -1.         -1.         -1.         -1.         -1.         -1.\n",
            "  -1.         -1.         -1.         -1.        ]\n",
            " [-1.         -1.         -1.         -1.         -1.         -1.\n",
            "  -1.         -1.         -1.         -1.         -1.         -1.\n",
            "  -1.         -1.         -1.         -1.         -1.         -1.\n",
            "  -1.         -1.         -1.         -1.         -1.         -1.\n",
            "  -1.         -1.         -1.         -1.        ]\n",
            " [-1.         -1.         -1.         -1.         -1.         -1.\n",
            "  -1.         -1.         -1.         -1.         -1.         -1.\n",
            "  -1.         -1.         -1.         -1.         -1.         -1.\n",
            "  -1.         -1.         -1.         -1.         -1.         -1.\n",
            "  -1.         -1.         -1.         -1.        ]\n",
            " [-1.         -1.         -1.         -1.         -1.         -1.\n",
            "  -1.         -1.         -1.         -1.         -1.         -1.\n",
            "  -1.         -1.         -1.         -1.         -1.         -1.\n",
            "  -1.         -1.         -1.         -1.         -1.         -1.\n",
            "  -1.         -1.         -1.         -1.        ]]\n",
            "[0 1 2 3 4 5 6 7 8 9]\n"
          ],
          "name": "stdout"
        },
        {
          "output_type": "display_data",
          "data": {
            "image/png": "[encoded data removed]",
            "text/plain": [
              "<Figure size 432x648 with 2 Axes>"
            ]
          },
          "metadata": {
            "tags": []
          }
        }
      ]
    },
    {
      "metadata": {
        "id": "RH9q991lJIXP",
        "colab_type": "code",
        "outputId": "900ac2c6-7553-460a-81ca-b8b9d5933b87",
        "colab": {
          "base_uri": "https://localhost:8080/",
          "height": 194
        }
      },
      "cell_type": "code",
      "source": [
        "import pandas as pd\n",
        "import numpy as np\n",
        "\n",
        "\n",
        "# Reading the csv file into a pandas DataFrame\n",
        "\n",
        "url = 'https://raw.githubusercontent.com/engrsmukhtar/AI4EnergyProcessSystems/AI4EPS-1/AI%20Models/model2/10.%20tot%20mass%20w%20H2O-hbrcacabo3-duration-c-zero-based-targets.csv'\n",
        "data = pd.read_csv(url)\n",
        "\n",
        "# Printing out some rows from our data\n",
        "#data[:2]"
      ],
      "execution_count": 27,
      "outputs": [
        {
          "output_type": "execute_result",
          "data": {
            "text/html": [
              "<div>\n",
              "<style scoped>\n",
              "    .dataframe tbody tr th:only-of-type {\n",
              "        vertical-align: middle;\n",
              "    }\n",
              "\n",
              "    .dataframe tbody tr th {\n",
              "        vertical-align: top;\n",
              "    }\n",
              "\n",
              "    .dataframe thead th {\n",
              "        text-align: right;\n",
              "    }\n",
              "</style>\n",
              "<table border=\"1\" class=\"dataframe\">\n",
              "  <thead>\n",
              "    <tr style=\"text-align: right;\">\n",
              "      <th></th>\n",
              "      <th>Duration</th>\n",
              "      <th>HBr_CaC03_mass_(g)</th>\n",
              "      <th>Calciner temp [C]</th>\n",
              "      <th>Calciner Heater kW</th>\n",
              "      <th>Calciner Pressure ( Pa )</th>\n",
              "      <th>Calciner  velocity (m/s)</th>\n",
              "      <th>Calciner O2 in(vol)</th>\n",
              "      <th>Calciner N2 in(vol)</th>\n",
              "      <th>Calciner top temp (C )</th>\n",
              "      <th>Calciner CO2 out(perc)</th>\n",
              "      <th>...</th>\n",
              "      <th>Calciner CO out(ppm)</th>\n",
              "      <th>Calciner CH4 out(ppm)</th>\n",
              "      <th>Carbonator bottom temp (C)</th>\n",
              "      <th>Carbonator mid temp ( C)</th>\n",
              "      <th>Carbonator press (pa)</th>\n",
              "      <th>Carbonator velocity (m/s)</th>\n",
              "      <th>Carbonator inlet N2 (vol)</th>\n",
              "      <th>Carbonator outlet CO2 (vol)</th>\n",
              "      <th>Carbonator top temp ( C)</th>\n",
              "      <th>Rank</th>\n",
              "    </tr>\n",
              "  </thead>\n",
              "  <tbody>\n",
              "    <tr>\n",
              "      <th>0</th>\n",
              "      <td>1.0</td>\n",
              "      <td>4200</td>\n",
              "      <td>632.75</td>\n",
              "      <td>7.8</td>\n",
              "      <td>3216.0</td>\n",
              "      <td>0.32</td>\n",
              "      <td>40</td>\n",
              "      <td>60</td>\n",
              "      <td>450.680</td>\n",
              "      <td>0.406479</td>\n",
              "      <td>...</td>\n",
              "      <td>38.097718</td>\n",
              "      <td>0.237199</td>\n",
              "      <td>446.905</td>\n",
              "      <td>560.105</td>\n",
              "      <td>2680.0</td>\n",
              "      <td>2.5</td>\n",
              "      <td>100</td>\n",
              "      <td>0.0714</td>\n",
              "      <td>529.81</td>\n",
              "      <td>0</td>\n",
              "    </tr>\n",
              "    <tr>\n",
              "      <th>1</th>\n",
              "      <td>2.0</td>\n",
              "      <td>4200</td>\n",
              "      <td>634.72</td>\n",
              "      <td>7.8</td>\n",
              "      <td>3190.5</td>\n",
              "      <td>0.32</td>\n",
              "      <td>40</td>\n",
              "      <td>60</td>\n",
              "      <td>451.165</td>\n",
              "      <td>0.372648</td>\n",
              "      <td>...</td>\n",
              "      <td>27.277778</td>\n",
              "      <td>0.089655</td>\n",
              "      <td>446.200</td>\n",
              "      <td>558.915</td>\n",
              "      <td>2905.5</td>\n",
              "      <td>2.5</td>\n",
              "      <td>100</td>\n",
              "      <td>-0.1666</td>\n",
              "      <td>529.27</td>\n",
              "      <td>0</td>\n",
              "    </tr>\n",
              "  </tbody>\n",
              "</table>\n",
              "<p>2 rows × 22 columns</p>\n",
              "</div>"
            ],
            "text/plain": [
              "   Duration  HBr_CaC03_mass_(g)   Calciner temp [C]  Calciner Heater kW  \\\n",
              "0       1.0                 4200             632.75                 7.8   \n",
              "1       2.0                 4200             634.72                 7.8   \n",
              "\n",
              "   Calciner Pressure ( Pa )  Calciner  velocity (m/s)  Calciner O2 in(vol)  \\\n",
              "0                    3216.0                      0.32                   40   \n",
              "1                    3190.5                      0.32                   40   \n",
              "\n",
              "   Calciner N2 in(vol)  Calciner top temp (C )  Calciner CO2 out(perc)  ...   \\\n",
              "0                   60                 450.680                0.406479  ...    \n",
              "1                   60                 451.165                0.372648  ...    \n",
              "\n",
              "   Calciner CO out(ppm)  Calciner CH4 out(ppm)  Carbonator bottom temp (C)  \\\n",
              "0             38.097718               0.237199                     446.905   \n",
              "1             27.277778               0.089655                     446.200   \n",
              "\n",
              "   Carbonator mid temp ( C)  Carbonator press (pa)  Carbonator velocity (m/s)  \\\n",
              "0                   560.105                 2680.0                        2.5   \n",
              "1                   558.915                 2905.5                        2.5   \n",
              "\n",
              "   Carbonator inlet N2 (vol)  Carbonator outlet CO2 (vol)  \\\n",
              "0                        100                       0.0714   \n",
              "1                        100                      -0.1666   \n",
              "\n",
              "   Carbonator top temp ( C)  Rank  \n",
              "0                    529.81     0  \n",
              "1                    529.27     0  \n",
              "\n",
              "[2 rows x 22 columns]"
            ]
          },
          "metadata": {
            "tags": []
          },
          "execution_count": 27
        }
      ]
    },
    {
      "metadata": {
        "id": "3NZFM7lKJm6U",
        "colab_type": "code",
        "outputId": "64a8b4c6-4d0a-4496-c5bd-6b9b18857227",
        "colab": {
          "base_uri": "https://localhost:8080/",
          "height": 211
        }
      },
      "cell_type": "code",
      "source": [
        "# Making a copy of our data\n",
        "processed_data = data[:]\n",
        "\n",
        "\n",
        "col = processed_data.head()\n",
        "clmn = list(col) \n",
        "print(clmn) # just to see if the list of columns are correct\n",
        "\n",
        "# Scale the columns\n",
        "\n",
        "for c in clmn: \n",
        "    # element of column \n",
        "    processed_data[c]  = processed_data[c]/processed_data[c].max()\n",
        "    \n",
        "#processed_data[:2]\n"
      ],
      "execution_count": 28,
      "outputs": [
        {
          "output_type": "stream",
          "text": [
            "['Duration', 'HBr_CaC03_mass_(g) ', 'Calciner temp [C]', 'Calciner Heater kW', 'Calciner Pressure ( Pa )', 'Calciner  velocity (m/s)', 'Calciner O2 in(vol)', 'Calciner N2 in(vol)', 'Calciner top temp (C )', 'Calciner CO2 out(perc)', 'Calciner O2 out(perc)', 'Calciner H2O out(perc)', 'Calciner CO out(ppm)', 'Calciner CH4 out(ppm)', 'Carbonator bottom temp (C)', 'Carbonator mid temp ( C)', 'Carbonator press (pa)', 'Carbonator velocity (m/s)', 'Carbonator inlet N2 (vol)', 'Carbonator outlet CO2 (vol)', 'Carbonator top temp ( C)', 'Rank']\n"
          ],
          "name": "stdout"
        },
        {
          "output_type": "execute_result",
          "data": {
            "text/html": [
              "<div>\n",
              "<style scoped>\n",
              "    .dataframe tbody tr th:only-of-type {\n",
              "        vertical-align: middle;\n",
              "    }\n",
              "\n",
              "    .dataframe tbody tr th {\n",
              "        vertical-align: top;\n",
              "    }\n",
              "\n",
              "    .dataframe thead th {\n",
              "        text-align: right;\n",
              "    }\n",
              "</style>\n",
              "<table border=\"1\" class=\"dataframe\">\n",
              "  <thead>\n",
              "    <tr style=\"text-align: right;\">\n",
              "      <th></th>\n",
              "      <th>Duration</th>\n",
              "      <th>HBr_CaC03_mass_(g)</th>\n",
              "      <th>Calciner temp [C]</th>\n",
              "      <th>Calciner Heater kW</th>\n",
              "      <th>Calciner Pressure ( Pa )</th>\n",
              "      <th>Calciner  velocity (m/s)</th>\n",
              "      <th>Calciner O2 in(vol)</th>\n",
              "      <th>Calciner N2 in(vol)</th>\n",
              "      <th>Calciner top temp (C )</th>\n",
              "      <th>Calciner CO2 out(perc)</th>\n",
              "      <th>...</th>\n",
              "      <th>Calciner CO out(ppm)</th>\n",
              "      <th>Calciner CH4 out(ppm)</th>\n",
              "      <th>Carbonator bottom temp (C)</th>\n",
              "      <th>Carbonator mid temp ( C)</th>\n",
              "      <th>Carbonator press (pa)</th>\n",
              "      <th>Carbonator velocity (m/s)</th>\n",
              "      <th>Carbonator inlet N2 (vol)</th>\n",
              "      <th>Carbonator outlet CO2 (vol)</th>\n",
              "      <th>Carbonator top temp ( C)</th>\n",
              "      <th>Rank</th>\n",
              "    </tr>\n",
              "  </thead>\n",
              "  <tbody>\n",
              "    <tr>\n",
              "      <th>0</th>\n",
              "      <td>0.008187</td>\n",
              "      <td>0.429711</td>\n",
              "      <td>0.713730</td>\n",
              "      <td>0.4875</td>\n",
              "      <td>0.800498</td>\n",
              "      <td>1.0</td>\n",
              "      <td>0.4</td>\n",
              "      <td>1.0</td>\n",
              "      <td>0.536802</td>\n",
              "      <td>0.010972</td>\n",
              "      <td>...</td>\n",
              "      <td>0.004986</td>\n",
              "      <td>0.000062</td>\n",
              "      <td>0.708013</td>\n",
              "      <td>0.902253</td>\n",
              "      <td>0.419504</td>\n",
              "      <td>1.0</td>\n",
              "      <td>1.0</td>\n",
              "      <td>0.051282</td>\n",
              "      <td>0.864051</td>\n",
              "      <td>0.0</td>\n",
              "    </tr>\n",
              "    <tr>\n",
              "      <th>1</th>\n",
              "      <td>0.016373</td>\n",
              "      <td>0.429711</td>\n",
              "      <td>0.715952</td>\n",
              "      <td>0.4875</td>\n",
              "      <td>0.794151</td>\n",
              "      <td>1.0</td>\n",
              "      <td>0.4</td>\n",
              "      <td>1.0</td>\n",
              "      <td>0.537379</td>\n",
              "      <td>0.010059</td>\n",
              "      <td>...</td>\n",
              "      <td>0.003570</td>\n",
              "      <td>0.000024</td>\n",
              "      <td>0.706896</td>\n",
              "      <td>0.900336</td>\n",
              "      <td>0.454802</td>\n",
              "      <td>1.0</td>\n",
              "      <td>1.0</td>\n",
              "      <td>-0.119658</td>\n",
              "      <td>0.863170</td>\n",
              "      <td>0.0</td>\n",
              "    </tr>\n",
              "  </tbody>\n",
              "</table>\n",
              "<p>2 rows × 22 columns</p>\n",
              "</div>"
            ],
            "text/plain": [
              "   Duration  HBr_CaC03_mass_(g)   Calciner temp [C]  Calciner Heater kW  \\\n",
              "0  0.008187             0.429711           0.713730              0.4875   \n",
              "1  0.016373             0.429711           0.715952              0.4875   \n",
              "\n",
              "   Calciner Pressure ( Pa )  Calciner  velocity (m/s)  Calciner O2 in(vol)  \\\n",
              "0                  0.800498                       1.0                  0.4   \n",
              "1                  0.794151                       1.0                  0.4   \n",
              "\n",
              "   Calciner N2 in(vol)  Calciner top temp (C )  Calciner CO2 out(perc)  ...   \\\n",
              "0                  1.0                0.536802                0.010972  ...    \n",
              "1                  1.0                0.537379                0.010059  ...    \n",
              "\n",
              "   Calciner CO out(ppm)  Calciner CH4 out(ppm)  Carbonator bottom temp (C)  \\\n",
              "0              0.004986               0.000062                    0.708013   \n",
              "1              0.003570               0.000024                    0.706896   \n",
              "\n",
              "   Carbonator mid temp ( C)  Carbonator press (pa)  Carbonator velocity (m/s)  \\\n",
              "0                  0.902253               0.419504                        1.0   \n",
              "1                  0.900336               0.454802                        1.0   \n",
              "\n",
              "   Carbonator inlet N2 (vol)  Carbonator outlet CO2 (vol)  \\\n",
              "0                        1.0                     0.051282   \n",
              "1                        1.0                    -0.119658   \n",
              "\n",
              "   Carbonator top temp ( C)  Rank  \n",
              "0                  0.864051   0.0  \n",
              "1                  0.863170   0.0  \n",
              "\n",
              "[2 rows x 22 columns]"
            ]
          },
          "metadata": {
            "tags": []
          },
          "execution_count": 28
        }
      ]
    },
    {
      "metadata": {
        "id": "cxJFmwVhsajA",
        "colab_type": "code",
        "colab": {
          "base_uri": "https://localhost:8080/",
          "height": 194
        },
        "outputId": "dbc215ef-1e80-4734-c0da-78777dc19bc9"
      },
      "cell_type": "code",
      "source": [
        "processed_data['Rank']  = data['Rank']        #.to(dtype=torch.long) ##processed_data['Rank']*data['Rank'].max()\n",
        "\n",
        "#labels = labels.squeeze_()\n",
        "#labels = labels.to(dtype=torch.long)\n",
        "\n",
        "#processed_data[:2]"
      ],
      "execution_count": 29,
      "outputs": [
        {
          "output_type": "execute_result",
          "data": {
            "text/html": [
              "<div>\n",
              "<style scoped>\n",
              "    .dataframe tbody tr th:only-of-type {\n",
              "        vertical-align: middle;\n",
              "    }\n",
              "\n",
              "    .dataframe tbody tr th {\n",
              "        vertical-align: top;\n",
              "    }\n",
              "\n",
              "    .dataframe thead th {\n",
              "        text-align: right;\n",
              "    }\n",
              "</style>\n",
              "<table border=\"1\" class=\"dataframe\">\n",
              "  <thead>\n",
              "    <tr style=\"text-align: right;\">\n",
              "      <th></th>\n",
              "      <th>Duration</th>\n",
              "      <th>HBr_CaC03_mass_(g)</th>\n",
              "      <th>Calciner temp [C]</th>\n",
              "      <th>Calciner Heater kW</th>\n",
              "      <th>Calciner Pressure ( Pa )</th>\n",
              "      <th>Calciner  velocity (m/s)</th>\n",
              "      <th>Calciner O2 in(vol)</th>\n",
              "      <th>Calciner N2 in(vol)</th>\n",
              "      <th>Calciner top temp (C )</th>\n",
              "      <th>Calciner CO2 out(perc)</th>\n",
              "      <th>...</th>\n",
              "      <th>Calciner CO out(ppm)</th>\n",
              "      <th>Calciner CH4 out(ppm)</th>\n",
              "      <th>Carbonator bottom temp (C)</th>\n",
              "      <th>Carbonator mid temp ( C)</th>\n",
              "      <th>Carbonator press (pa)</th>\n",
              "      <th>Carbonator velocity (m/s)</th>\n",
              "      <th>Carbonator inlet N2 (vol)</th>\n",
              "      <th>Carbonator outlet CO2 (vol)</th>\n",
              "      <th>Carbonator top temp ( C)</th>\n",
              "      <th>Rank</th>\n",
              "    </tr>\n",
              "  </thead>\n",
              "  <tbody>\n",
              "    <tr>\n",
              "      <th>0</th>\n",
              "      <td>0.008187</td>\n",
              "      <td>0.429711</td>\n",
              "      <td>0.713730</td>\n",
              "      <td>0.4875</td>\n",
              "      <td>0.800498</td>\n",
              "      <td>1.0</td>\n",
              "      <td>0.4</td>\n",
              "      <td>1.0</td>\n",
              "      <td>0.536802</td>\n",
              "      <td>0.010972</td>\n",
              "      <td>...</td>\n",
              "      <td>0.004986</td>\n",
              "      <td>0.000062</td>\n",
              "      <td>0.708013</td>\n",
              "      <td>0.902253</td>\n",
              "      <td>0.419504</td>\n",
              "      <td>1.0</td>\n",
              "      <td>1.0</td>\n",
              "      <td>0.051282</td>\n",
              "      <td>0.864051</td>\n",
              "      <td>0</td>\n",
              "    </tr>\n",
              "    <tr>\n",
              "      <th>1</th>\n",
              "      <td>0.016373</td>\n",
              "      <td>0.429711</td>\n",
              "      <td>0.715952</td>\n",
              "      <td>0.4875</td>\n",
              "      <td>0.794151</td>\n",
              "      <td>1.0</td>\n",
              "      <td>0.4</td>\n",
              "      <td>1.0</td>\n",
              "      <td>0.537379</td>\n",
              "      <td>0.010059</td>\n",
              "      <td>...</td>\n",
              "      <td>0.003570</td>\n",
              "      <td>0.000024</td>\n",
              "      <td>0.706896</td>\n",
              "      <td>0.900336</td>\n",
              "      <td>0.454802</td>\n",
              "      <td>1.0</td>\n",
              "      <td>1.0</td>\n",
              "      <td>-0.119658</td>\n",
              "      <td>0.863170</td>\n",
              "      <td>0</td>\n",
              "    </tr>\n",
              "  </tbody>\n",
              "</table>\n",
              "<p>2 rows × 22 columns</p>\n",
              "</div>"
            ],
            "text/plain": [
              "   Duration  HBr_CaC03_mass_(g)   Calciner temp [C]  Calciner Heater kW  \\\n",
              "0  0.008187             0.429711           0.713730              0.4875   \n",
              "1  0.016373             0.429711           0.715952              0.4875   \n",
              "\n",
              "   Calciner Pressure ( Pa )  Calciner  velocity (m/s)  Calciner O2 in(vol)  \\\n",
              "0                  0.800498                       1.0                  0.4   \n",
              "1                  0.794151                       1.0                  0.4   \n",
              "\n",
              "   Calciner N2 in(vol)  Calciner top temp (C )  Calciner CO2 out(perc)  ...   \\\n",
              "0                  1.0                0.536802                0.010972  ...    \n",
              "1                  1.0                0.537379                0.010059  ...    \n",
              "\n",
              "   Calciner CO out(ppm)  Calciner CH4 out(ppm)  Carbonator bottom temp (C)  \\\n",
              "0              0.004986               0.000062                    0.708013   \n",
              "1              0.003570               0.000024                    0.706896   \n",
              "\n",
              "   Carbonator mid temp ( C)  Carbonator press (pa)  Carbonator velocity (m/s)  \\\n",
              "0                  0.902253               0.419504                        1.0   \n",
              "1                  0.900336               0.454802                        1.0   \n",
              "\n",
              "   Carbonator inlet N2 (vol)  Carbonator outlet CO2 (vol)  \\\n",
              "0                        1.0                     0.051282   \n",
              "1                        1.0                    -0.119658   \n",
              "\n",
              "   Carbonator top temp ( C)  Rank  \n",
              "0                  0.864051     0  \n",
              "1                  0.863170     0  \n",
              "\n",
              "[2 rows x 22 columns]"
            ]
          },
          "metadata": {
            "tags": []
          },
          "execution_count": 29
        }
      ]
    },
    {
      "metadata": {
        "id": "wEpKBTbNLjye",
        "colab_type": "code",
        "outputId": "a1bdaa52-f340-42bc-9808-7fec72ac754b",
        "colab": {
          "base_uri": "https://localhost:8080/",
          "height": 1037
        }
      },
      "cell_type": "code",
      "source": [
        "##Splitting the data into Training and Testing\n",
        "\n",
        "\n",
        "sample = np.random.choice(processed_data.index, size=int(len(processed_data)*0.9), replace=False)\n",
        "train_data, test_data = processed_data.iloc[sample], processed_data.drop(sample)\n",
        "\n",
        "print(\"Number of training samples is\", len(train_data))\n",
        "print(\"Number of testing samples is\", len(test_data))\n",
        "print(train_data[:2])\n",
        "print(test_data[:2])"
      ],
      "execution_count": 30,
      "outputs": [
        {
          "output_type": "stream",
          "text": [
            "Number of training samples is 109\n",
            "Number of testing samples is 13\n",
            "    Duration  HBr_CaC03_mass_(g)   Calciner temp [C]  Calciner Heater kW  \\\n",
            "35  0.295047             0.719664           0.773614                 0.0   \n",
            "55  0.459026             0.719664           0.793061                 0.0   \n",
            "\n",
            "    Calciner Pressure ( Pa )  Calciner  velocity (m/s)  Calciner O2 in(vol)  \\\n",
            "35                  0.974611                       0.0                  0.0   \n",
            "55                  0.776353                       0.0                  0.0   \n",
            "\n",
            "    Calciner N2 in(vol)  Calciner top temp (C )  Calciner CO2 out(perc)  ...   \\\n",
            "35                  0.0                0.635728                0.018387  ...    \n",
            "55                  0.0                0.565859                0.036395  ...    \n",
            "\n",
            "    Calciner CO out(ppm)  Calciner CH4 out(ppm)  Carbonator bottom temp (C)  \\\n",
            "35              0.000569               0.003547                    0.769166   \n",
            "55              0.000171               0.001773                    0.748911   \n",
            "\n",
            "    Carbonator mid temp ( C)  Carbonator press (pa)  \\\n",
            "35                  0.924740               0.572591   \n",
            "55                  0.940462               0.253737   \n",
            "\n",
            "    Carbonator velocity (m/s)  Carbonator inlet N2 (vol)  \\\n",
            "35                        1.0                        1.0   \n",
            "55                        1.0                        1.0   \n",
            "\n",
            "    Carbonator outlet CO2 (vol)  Carbonator top temp ( C)  Rank  \n",
            "35                    -0.153846                  0.919419     0  \n",
            "55                     0.358974                  0.911737     0  \n",
            "\n",
            "[2 rows x 22 columns]\n",
            "    Duration  HBr_CaC03_mass_(g)   Calciner temp [C]  Calciner Heater kW  \\\n",
            "5   0.049120             0.429711           0.728958              0.4875   \n",
            "11  0.098322             0.501739           0.854231              0.4875   \n",
            "\n",
            "    Calciner Pressure ( Pa )  Calciner  velocity (m/s)  Calciner O2 in(vol)  \\\n",
            "5                   0.803983                       1.0                  0.4   \n",
            "11                  0.790168                       1.0                  0.4   \n",
            "\n",
            "    Calciner N2 in(vol)  Calciner top temp (C )  Calciner CO2 out(perc)  ...   \\\n",
            "5                   1.0                0.571480                0.012459  ...    \n",
            "11                  1.0                0.644995                0.190171  ...    \n",
            "\n",
            "    Calciner CO out(ppm)  Calciner CH4 out(ppm)  Carbonator bottom temp (C)  \\\n",
            "5               0.183110               0.684015                    0.700575   \n",
            "11              0.700739               0.511171                    0.694745   \n",
            "\n",
            "    Carbonator mid temp ( C)  Carbonator press (pa)  \\\n",
            "5                   0.898177               0.464741   \n",
            "11                  0.895511               0.481568   \n",
            "\n",
            "    Carbonator velocity (m/s)  Carbonator inlet N2 (vol)  \\\n",
            "5                         1.0                        1.0   \n",
            "11                        1.0                        1.0   \n",
            "\n",
            "    Carbonator outlet CO2 (vol)  Carbonator top temp ( C)  Rank  \n",
            "5                     -0.153846                  0.861759     0  \n",
            "11                     0.008547                  0.860267     0  \n",
            "\n",
            "[2 rows x 22 columns]\n"
          ],
          "name": "stdout"
        }
      ]
    },
    {
      "metadata": {
        "id": "JVZOcZk2UzEe",
        "colab_type": "code",
        "outputId": "537d99de-a26e-4295-aabe-56ae220aac4f",
        "colab": {
          "base_uri": "https://localhost:8080/",
          "height": 34
        }
      },
      "cell_type": "code",
      "source": [
        "## Splitting the data into features and targets (labels)\n",
        "## split the data into features (X) and targets (y).\n",
        "\n",
        "features = train_data.drop(['Rank'], axis=1)\n",
        "targets = train_data['Rank']\n",
        "\n",
        "features_test = test_data.drop(['Rank'], axis=1)\n",
        "targets_test = test_data['Rank']\n",
        "\n",
        "\n",
        "features_df = pd.DataFrame(data=features)\n",
        "features_t = torch.tensor(features_df.values)\n",
        "\n",
        "targets_df = pd.DataFrame(data=targets)\n",
        "targets_t = torch.tensor(targets_df.values)\n",
        "\n",
        "\n",
        "#trainloader_features, trainloader_targets = torch.utils.data.DataLoader(features_t, batch_size=15, shuffle=True), torch.utils.data.DataLoader(targets_t, batch_size=15, shuffle=True)\n",
        "\n",
        "trainloader_features, trainloader_targets = torch.utils.data.DataLoader(features_t, batch_size=15), torch.utils.data.DataLoader(targets_t, batch_size=15)\n",
        "\n",
        "print(trainloader_features, trainloader_targets)\n"
      ],
      "execution_count": 31,
      "outputs": [
        {
          "output_type": "stream",
          "text": [
            "<torch.utils.data.dataloader.DataLoader object at 0x7f7b8a213860> <torch.utils.data.dataloader.DataLoader object at 0x7f7b8a2137b8>\n"
          ],
          "name": "stdout"
        }
      ]
    },
    {
      "metadata": {
        "id": "m6N2DHZA0h0y",
        "colab_type": "code",
        "colab": {}
      },
      "cell_type": "code",
      "source": [
        "# Build a feed-forward network\n",
        "model = nn.Sequential(nn.Linear(21, 15),\n",
        "                      nn.ReLU(),\n",
        "                      nn.Linear(15, 12),\n",
        "                      nn.ReLU(),\n",
        "                      nn.Linear(12, 6),\n",
        "                      nn.LogSoftmax(dim=1))"
      ],
      "execution_count": 0,
      "outputs": []
    },
    {
      "metadata": {
        "id": "ciDKyLnZzi4x",
        "colab_type": "code",
        "colab": {
          "base_uri": "https://localhost:8080/",
          "height": 51
        },
        "outputId": "d0e80ae4-e39a-497e-ff77-f9c8b37f3182"
      },
      "cell_type": "code",
      "source": [
        "images, labels =  next(iter(trainloader_features)),  (next(iter(trainloader_targets)).squeeze_()).to(dtype=torch.long)\n",
        "\n",
        "\n",
        "# Define the loss\n",
        "criterion = nn.NLLLoss()\n",
        "\n",
        "# Get our data\n",
        "\n",
        "\n",
        "# Flatten images\n",
        "images = images.view(images.shape[0], -1)\n",
        "images = images.float()\n",
        "\n",
        "\n",
        "\n",
        "# Forward pass, get our logps\n",
        "logps = model(images)\n",
        "\n",
        "# Calculate the loss with the logits and the labels\n",
        "loss = criterion(logps, labels)\n",
        "\n",
        "print(loss)\n",
        "\n",
        "#print(images)\n",
        "print(labels)\n"
      ],
      "execution_count": 33,
      "outputs": [
        {
          "output_type": "stream",
          "text": [
            "tensor(1.8368, grad_fn=<NllLossBackward>)\n",
            "tensor([0, 0, 1, 0, 0, 1, 1, 0, 1, 0, 5, 1, 4, 1, 0])\n"
          ],
          "name": "stdout"
        }
      ]
    },
    {
      "metadata": {
        "id": "1ink0-UTyjDA",
        "colab_type": "code",
        "outputId": "b3cb021a-7c25-4b00-e821-bae65ae78908",
        "colab": {
          "base_uri": "https://localhost:8080/",
          "height": 51
        }
      },
      "cell_type": "code",
      "source": [
        "\n",
        "print('Before backward pass: \\n', model[0].weight.grad)\n",
        "\n",
        "loss.backward()\n",
        "\n",
        "#print('After backward pass: \\n', model[0].weight.grad)"
      ],
      "execution_count": 34,
      "outputs": [
        {
          "output_type": "stream",
          "text": [
            "Before backward pass: \n",
            " None\n"
          ],
          "name": "stdout"
        }
      ]
    },
    {
      "metadata": {
        "id": "SZgedo0vypxi",
        "colab_type": "text"
      },
      "cell_type": "markdown",
      "source": [
        "#Training the NN"
      ]
    },
    {
      "metadata": {
        "id": "Ga4qq3EP0kzh",
        "colab_type": "text"
      },
      "cell_type": "markdown",
      "source": [
        "# Loop Training"
      ]
    },
    {
      "metadata": {
        "id": "7HflMr1i0ojY",
        "colab_type": "code",
        "colab": {
          "base_uri": "https://localhost:8080/",
          "height": 867
        },
        "outputId": "c315d1ab-4fe3-4946-c26e-e37d1a16cc48"
      },
      "cell_type": "code",
      "source": [
        "# a feed-forward network\n",
        "\n",
        "model = nn.Sequential(nn.Linear(21, 15),\n",
        "                      nn.ReLU(),\n",
        "                      nn.Linear(15, 12),\n",
        "                      nn.ReLU(),\n",
        "                      nn.Linear(12, 6),\n",
        "                      nn.LogSoftmax(dim=1))\n",
        "\n",
        "\n",
        "\n",
        "criterion = nn.NLLLoss()\n",
        "optimizer = optim.SGD(model.parameters(), lr=0.003)\n",
        "\n",
        "epochs = 50\n",
        "for e in range(epochs):\n",
        "    running_loss = 0\n",
        "#    for images, labels in trainloader:\n",
        "    for images, labels in zip(trainloader_features, trainloader_targets):\n",
        "        # Get our data\n",
        "\n",
        "        # Flatten images\n",
        "        images = images.view(images.shape[0], -1)\n",
        "        images = images.float()\n",
        "        #print(images)\n",
        "\n",
        "        # Flatten labels\n",
        "        labels = labels.squeeze_()\n",
        "        labels = labels.to(dtype=torch.long)\n",
        "        #print(labels)\n",
        "    \n",
        "        # TODO: Training pass\n",
        "        optimizer.zero_grad()\n",
        "        \n",
        "        output = model(images)\n",
        "        #print(output)\n",
        "        loss = criterion(output, labels)\n",
        "        loss.backward()\n",
        "        optimizer.step()\n",
        "        \n",
        "        running_loss += loss.item()\n",
        "    else:\n",
        "        print(f\"Training loss: {running_loss/len(trainloader)}\")\n"
      ],
      "execution_count": 38,
      "outputs": [
        {
          "output_type": "stream",
          "text": [
            "Training loss: 0.015068486174032378\n",
            "Training loss: 0.015031610978945995\n",
            "Training loss: 0.014995381394937349\n",
            "Training loss: 0.01495979793036162\n",
            "Training loss: 0.014924914089601431\n",
            "Training loss: 0.014890735337474962\n",
            "Training loss: 0.014857101160834338\n",
            "Training loss: 0.014823975593550627\n",
            "Training loss: 0.014791361558666108\n",
            "Training loss: 0.01475924329717022\n",
            "Training loss: 0.014727560823151806\n",
            "Training loss: 0.014696249067147912\n",
            "Training loss: 0.014665413131591861\n",
            "Training loss: 0.0146351699381749\n",
            "Training loss: 0.014605287931112846\n",
            "Training loss: 0.014576018873308259\n",
            "Training loss: 0.014547244318004356\n",
            "Training loss: 0.014518935670222301\n",
            "Training loss: 0.014491067639291921\n",
            "Training loss: 0.01446373439801019\n",
            "Training loss: 0.014436686979428029\n",
            "Training loss: 0.0144099116579556\n",
            "Training loss: 0.01438345621897976\n",
            "Training loss: 0.014357346715703448\n",
            "Training loss: 0.0143315060052282\n",
            "Training loss: 0.014305914134613231\n",
            "Training loss: 0.014280558140801468\n",
            "Training loss: 0.01425539595740182\n",
            "Training loss: 0.014230480453352939\n",
            "Training loss: 0.01420576473288953\n",
            "Training loss: 0.01418126239451264\n",
            "Training loss: 0.014156955137435815\n",
            "Training loss: 0.014132860499912742\n",
            "Training loss: 0.014108971237882115\n",
            "Training loss: 0.014085273752842884\n",
            "Training loss: 0.014061769315683002\n",
            "Training loss: 0.014038449919808394\n",
            "Training loss: 0.014015252783354411\n",
            "Training loss: 0.013992222133221656\n",
            "Training loss: 0.013969355046367848\n",
            "Training loss: 0.013946604372850105\n",
            "Training loss: 0.013923975577486604\n",
            "Training loss: 0.013901348434277434\n",
            "Training loss: 0.013878895148539594\n",
            "Training loss: 0.013856559165759381\n",
            "Training loss: 0.013834121511943305\n",
            "Training loss: 0.013811547491850375\n",
            "Training loss: 0.013788739628374957\n",
            "Training loss: 0.013765824247779114\n",
            "Training loss: 0.013742736534777481\n"
          ],
          "name": "stdout"
        }
      ]
    },
    {
      "metadata": {
        "id": "IsIrKcwxlvAx",
        "colab_type": "code",
        "colab": {
          "base_uri": "https://localhost:8080/",
          "height": 269
        },
        "outputId": "d70a0022-fcca-47ae-f11d-d05d525de6d9"
      },
      "cell_type": "code",
      "source": [
        "for images, labels in zip(trainloader_features, trainloader_targets):\n",
        "    # Flatten images\n",
        "    img = images.view(images.shape[0], -1)\n",
        "    img = img.float()\n",
        "    #print(img)\n",
        "\n",
        "    # Flatten labels\n",
        "    #labels = labels.squeeze_()\n",
        "    #labels = labels.to(dtype=torch.long)\n",
        "    #print(labels)\n",
        "\n",
        "    # TODO: Training pass\n",
        "    #optimizer.zero_grad()\n",
        "\n",
        "    logps = model(img)\n",
        "    #print(logps)\n",
        "    #loss = criterion(output, labels)\n",
        "    \n",
        "    ps = torch.exp(logps)\n",
        "    #print(ps)\n",
        "    plt.plot(ps.data.numpy().squeeze()) #this actually worked. .!.\n",
        "    \n"
      ],
      "execution_count": 41,
      "outputs": [
        {
          "output_type": "display_data",
          "data": {
            "image/png": "[encoded data removed]",
            "text/plain": [
              "<Figure size 432x288 with 1 Axes>"
            ]
          },
          "metadata": {
            "tags": []
          }
        }
      ]
    },
    {
      "metadata": {
        "id": "NGUv_BOC-OQA",
        "colab_type": "code",
        "colab": {
          "base_uri": "https://localhost:8080/",
          "height": 388
        },
        "outputId": "b15060d8-a244-4c9f-c02d-e5114fa981c9"
      },
      "cell_type": "code",
      "source": [
        "%matplotlib inline\n",
        "import helper\n",
        "\n",
        "#images, labels = next(iter(trainloader))\n",
        "images, labels =  next(iter(trainloader_features)),  (next(iter(trainloader_targets)).squeeze_()).to(dtype=torch.long)\n",
        "\n",
        "\n",
        "img = images[0].view(1, 21)\n",
        "img = img.float()\n",
        "print(img)\n",
        "# Turn off gradients to speed up this part\n",
        "with torch.no_grad():\n",
        "    logps = model(img)\n",
        "\n",
        "# Output of the network are log-probabilities, need to take exponential for probabilities\n",
        "ps = torch.exp(logps)\n",
        "print(ps)\n",
        "#view_classify(img.view(1, 7, 7), ps)\n",
        "plt.plot(ps.data.numpy().squeeze())"
      ],
      "execution_count": 51,
      "outputs": [
        {
          "output_type": "stream",
          "text": [
            "tensor([[ 2.9505e-01,  7.1966e-01,  7.7361e-01,  0.0000e+00,  9.7461e-01,\n",
            "          0.0000e+00,  0.0000e+00,  0.0000e+00,  6.3573e-01,  1.8387e-02,\n",
            "          6.2913e-01,  3.3218e-03,  5.6892e-04,  3.5473e-03,  7.6917e-01,\n",
            "          9.2474e-01,  5.7259e-01,  1.0000e+00,  1.0000e+00, -1.5385e-01,\n",
            "          9.1942e-01]])\n",
            "tensor([[0.2711, 0.1630, 0.1576, 0.1111, 0.1496, 0.1476]])\n"
          ],
          "name": "stdout"
        },
        {
          "output_type": "execute_result",
          "data": {
            "text/plain": [
              "[<matplotlib.lines.Line2D at 0x7f7b868baba8>]"
            ]
          },
          "metadata": {
            "tags": []
          },
          "execution_count": 51
        },
        {
          "output_type": "display_data",
          "data": {
            "image/png": "[encoded data removed]",
            "text/plain": [
              "<Figure size 432x288 with 1 Axes>"
            ]
          },
          "metadata": {
            "tags": []
          }
        }
      ]
    },
    {
      "metadata": {
        "id": "fN8we86UM25h",
        "colab_type": "code",
        "colab": {}
      },
      "cell_type": "code",
      "source": [
        "import matplotlib.pyplot as plt\n",
        "import numpy as np\n",
        "from torch import nn, optim\n",
        "from torch.autograd import Variable\n",
        "\n",
        "def view_classify(img, ps):\n",
        "    ''' Function for viewing an image and it's predicted classes.\n",
        "    '''\n",
        "    ps = ps.data.numpy().squeeze()\n",
        "    print(ps)\n",
        "\n",
        "    fig, (ax1, ax2) = plt.subplots(figsize=(6,9), ncols=2)\n",
        "    ax1.imshow(img.resize_(1, 21).numpy().squeeze())\n",
        "    print(img.resize_(1, 21).numpy().squeeze())\n",
        "    ax1.axis('off')\n",
        "    ax2.barh(np.arange(10), ps)\n",
        "    ax2.set_aspect(0.1)\n",
        "    ax2.set_yticks(np.arange(6))\n",
        "    ax2.set_yticklabels(np.arange(6))\n",
        "    print(np.arange(6))\n",
        "    \n",
        "    ax2.set_title('Class Probability')\n",
        "    ax2.set_xlim(0, 1.1)\n",
        "\n",
        "    plt.tight_layout()"
      ],
      "execution_count": 0,
      "outputs": []
    },
    {
      "metadata": {
        "id": "UNFPnDbkM89j",
        "colab_type": "code",
        "colab": {
          "base_uri": "https://localhost:8080/",
          "height": 428
        },
        "outputId": "1518016d-58ea-4226-b305-b79079292ac0"
      },
      "cell_type": "code",
      "source": [
        "%matplotlib inline\n",
        "import helper\n",
        "\n",
        "#images, labels = next(iter(trainloader))\n",
        "images, labels =  next(iter(trainloader_features)),  (next(iter(trainloader_targets)).squeeze_()).to(dtype=torch.long)\n",
        "\n",
        "\n",
        "img = images[0].view(1, 21)\n",
        "img = img.float()\n",
        "print(img)\n",
        "# Turn off gradients to speed up this part\n",
        "with torch.no_grad():\n",
        "    logps = model(img)\n",
        "\n",
        "# Output of the network are log-probabilities, need to take exponential for probabilities\n",
        "ps = torch.exp(logps)\n",
        "print(ps)\n",
        "\n",
        "#view_classify(img.view(1, 21), ps)\n",
        "\n",
        "ps = ps.data.numpy().squeeze()\n",
        "print(ps)\n",
        "\n",
        "fig, ax = plt.subplots()\n",
        "#ax1.imshow(img.resize_(1, 21).numpy().squeeze())\n",
        "#print(img.resize_(1, 21).numpy().squeeze())\n",
        "#ax1.axis('off')\n",
        "ax.barh(np.arange(6), ps)\n",
        "ax.set_aspect(0.1)\n",
        "ax.set_yticks(np.arange(6))\n",
        "ax.set_yticklabels(np.arange(6))\n",
        "print(np.arange(6))\n",
        "\n",
        "ax.set_title('Class Probability')\n",
        "ax.set_xlim(0, 1.1)\n",
        "\n",
        "plt.tight_layout()\n"
      ],
      "execution_count": 71,
      "outputs": [
        {
          "output_type": "stream",
          "text": [
            "tensor([[ 2.9505e-01,  7.1966e-01,  7.7361e-01,  0.0000e+00,  9.7461e-01,\n",
            "          0.0000e+00,  0.0000e+00,  0.0000e+00,  6.3573e-01,  1.8387e-02,\n",
            "          6.2913e-01,  3.3218e-03,  5.6892e-04,  3.5473e-03,  7.6917e-01,\n",
            "          9.2474e-01,  5.7259e-01,  1.0000e+00,  1.0000e+00, -1.5385e-01,\n",
            "          9.1942e-01]])\n",
            "tensor([[0.2711, 0.1630, 0.1576, 0.1111, 0.1496, 0.1476]])\n",
            "[0.27109772 0.16300176 0.1575734  0.11111659 0.14957413 0.14763658]\n",
            "[0 1 2 3 4 5]\n"
          ],
          "name": "stdout"
        },
        {
          "output_type": "display_data",
          "data": {
            "image/png": "[encoded data removed]",
            "text/plain": [
              "<Figure size 432x288 with 1 Axes>"
            ]
          },
          "metadata": {
            "tags": []
          }
        }
      ]
    }
  ]
}