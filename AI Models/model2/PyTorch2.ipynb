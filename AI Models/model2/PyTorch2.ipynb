{
  "nbformat": 4,
  "nbformat_minor": 0,
  "metadata": {
    "colab": {
      "name": "StudentAdmissions.ipynb",
      "version": "0.3.2",
      "provenance": [],
      "include_colab_link": true
    },
    "kernelspec": {
      "display_name": "Python [default]",
      "language": "python",
      "name": "python3"
    }
  },
  "cells": [
    {
      "cell_type": "markdown",
      "metadata": {
        "id": "view-in-github",
        "colab_type": "text"
      },
      "source": [
        "<a href=\"https://colab.research.google.com/github/engrsmukhtar/AI4EnergyProcessSystems/blob/AI4EPS-1/AI%20Models/model2/PyTorch2.ipynb\" target=\"_parent\"><img src=\"https://colab.research.google.com/assets/colab-badge.svg\" alt=\"Open In Colab\"/></a>"
      ]
    },
    {
      "metadata": {
        "id": "ifF0gWwxQxrX",
        "colab_type": "text"
      },
      "cell_type": "markdown",
      "source": [
        "# Predicting Carbon Capture and Release with Neural Networks\n",
        "In this notebook, we predict carbon capture and release through the conversion of CO2"
      ]
    },
    {
      "metadata": {
        "id": "MsQ9Um9wQxrb",
        "colab_type": "code",
        "outputId": "edd93b25-0910-4d68-9011-32087e15b6c2",
        "colab": {
          "base_uri": "https://localhost:8080/",
          "height": 242
        }
      },
      "cell_type": "code",
      "source": [
        "# Importing pandas and numpy\n",
        "import pandas as pd\n",
        "import numpy as np\n",
        "\n",
        "# Reading the csv file into a pandas DataFrame\n",
        "\n",
        "url=\"https://raw.githubusercontent.com/engrsmukhtar/AI4EnergyProcessSystems/AI4EPS-1/AI%20Models/Model%201/rankprediction/tot%20mass%20w%20H2O%20-hbrcacabo3%20-%20duration.csv\"\n",
        "data = pd.read_csv(url)\n",
        "\n",
        "# Printing out some rows from our data\n",
        "data[:3]"
      ],
      "execution_count": 0,
      "outputs": [
        {
          "output_type": "execute_result",
          "data": {
            "text/html": [
              "<div>\n",
              "<style scoped>\n",
              "    .dataframe tbody tr th:only-of-type {\n",
              "        vertical-align: middle;\n",
              "    }\n",
              "\n",
              "    .dataframe tbody tr th {\n",
              "        vertical-align: top;\n",
              "    }\n",
              "\n",
              "    .dataframe thead th {\n",
              "        text-align: right;\n",
              "    }\n",
              "</style>\n",
              "<table border=\"1\" class=\"dataframe\">\n",
              "  <thead>\n",
              "    <tr style=\"text-align: right;\">\n",
              "      <th></th>\n",
              "      <th>Duration</th>\n",
              "      <th>HBr_CaC03_mass_(g)</th>\n",
              "      <th>Calciner temp [C]</th>\n",
              "      <th>Calciner Heater kW</th>\n",
              "      <th>Calciner Pressure ( Pa )</th>\n",
              "      <th>Calciner  velocity (m/s)</th>\n",
              "      <th>Calciner O2 in(perc-vol)</th>\n",
              "      <th>Calciner N2 in(perc-vol)</th>\n",
              "      <th>Calciner top temp ( C )</th>\n",
              "      <th>Calciner CO2 out(perc)</th>\n",
              "      <th>...</th>\n",
              "      <th>Run status</th>\n",
              "      <th>Carbonator bottom temp (C)</th>\n",
              "      <th>Carbonator mid temp (C)</th>\n",
              "      <th>Carbonator press (pa)</th>\n",
              "      <th>Carbonator velocity (m/s)</th>\n",
              "      <th>Carbonator inlet CO2 (vol)</th>\n",
              "      <th>Carbonator inlet N2 (vol)</th>\n",
              "      <th>Carbonator outlet CO2 (vol)</th>\n",
              "      <th>Carbonator top temp (C)</th>\n",
              "      <th>Rank</th>\n",
              "    </tr>\n",
              "  </thead>\n",
              "  <tbody>\n",
              "    <tr>\n",
              "      <th>0</th>\n",
              "      <td>1.0</td>\n",
              "      <td>4200</td>\n",
              "      <td>632.75</td>\n",
              "      <td>7.8</td>\n",
              "      <td>3216.0</td>\n",
              "      <td>0.32</td>\n",
              "      <td>40</td>\n",
              "      <td>60</td>\n",
              "      <td>450.680</td>\n",
              "      <td>0.406479</td>\n",
              "      <td>...</td>\n",
              "      <td>0</td>\n",
              "      <td>446.905</td>\n",
              "      <td>560.105</td>\n",
              "      <td>2680.0</td>\n",
              "      <td>2.5</td>\n",
              "      <td>0</td>\n",
              "      <td>100</td>\n",
              "      <td>0.0714</td>\n",
              "      <td>529.81</td>\n",
              "      <td>1</td>\n",
              "    </tr>\n",
              "    <tr>\n",
              "      <th>1</th>\n",
              "      <td>2.0</td>\n",
              "      <td>4200</td>\n",
              "      <td>634.72</td>\n",
              "      <td>7.8</td>\n",
              "      <td>3190.5</td>\n",
              "      <td>0.32</td>\n",
              "      <td>40</td>\n",
              "      <td>60</td>\n",
              "      <td>451.165</td>\n",
              "      <td>0.372648</td>\n",
              "      <td>...</td>\n",
              "      <td>0</td>\n",
              "      <td>446.200</td>\n",
              "      <td>558.915</td>\n",
              "      <td>2905.5</td>\n",
              "      <td>2.5</td>\n",
              "      <td>0</td>\n",
              "      <td>100</td>\n",
              "      <td>-0.1666</td>\n",
              "      <td>529.27</td>\n",
              "      <td>1</td>\n",
              "    </tr>\n",
              "    <tr>\n",
              "      <th>2</th>\n",
              "      <td>3.0</td>\n",
              "      <td>4200</td>\n",
              "      <td>636.50</td>\n",
              "      <td>7.8</td>\n",
              "      <td>3191.5</td>\n",
              "      <td>0.32</td>\n",
              "      <td>40</td>\n",
              "      <td>60</td>\n",
              "      <td>451.365</td>\n",
              "      <td>0.358011</td>\n",
              "      <td>...</td>\n",
              "      <td>0</td>\n",
              "      <td>445.035</td>\n",
              "      <td>558.565</td>\n",
              "      <td>2912.5</td>\n",
              "      <td>2.5</td>\n",
              "      <td>0</td>\n",
              "      <td>100</td>\n",
              "      <td>-0.2023</td>\n",
              "      <td>529.06</td>\n",
              "      <td>1</td>\n",
              "    </tr>\n",
              "  </tbody>\n",
              "</table>\n",
              "<p>3 rows × 24 columns</p>\n",
              "</div>"
            ],
            "text/plain": [
              "   Duration  HBr_CaC03_mass_(g)   Calciner temp [C]  Calciner Heater kW  \\\n",
              "0       1.0                 4200             632.75                 7.8   \n",
              "1       2.0                 4200             634.72                 7.8   \n",
              "2       3.0                 4200             636.50                 7.8   \n",
              "\n",
              "   Calciner Pressure ( Pa )  Calciner  velocity (m/s)  \\\n",
              "0                    3216.0                      0.32   \n",
              "1                    3190.5                      0.32   \n",
              "2                    3191.5                      0.32   \n",
              "\n",
              "   Calciner O2 in(perc-vol)  Calciner N2 in(perc-vol)  \\\n",
              "0                        40                        60   \n",
              "1                        40                        60   \n",
              "2                        40                        60   \n",
              "\n",
              "   Calciner top temp ( C )  Calciner CO2 out(perc)  ...   Run status  \\\n",
              "0                  450.680                0.406479  ...            0   \n",
              "1                  451.165                0.372648  ...            0   \n",
              "2                  451.365                0.358011  ...            0   \n",
              "\n",
              "   Carbonator bottom temp (C)  Carbonator mid temp (C)  Carbonator press (pa)  \\\n",
              "0                     446.905                  560.105                 2680.0   \n",
              "1                     446.200                  558.915                 2905.5   \n",
              "2                     445.035                  558.565                 2912.5   \n",
              "\n",
              "   Carbonator velocity (m/s)  Carbonator inlet CO2 (vol)  \\\n",
              "0                        2.5                           0   \n",
              "1                        2.5                           0   \n",
              "2                        2.5                           0   \n",
              "\n",
              "   Carbonator inlet N2 (vol)  Carbonator outlet CO2 (vol)  \\\n",
              "0                        100                       0.0714   \n",
              "1                        100                      -0.1666   \n",
              "2                        100                      -0.2023   \n",
              "\n",
              "   Carbonator top temp (C)  Rank  \n",
              "0                   529.81     1  \n",
              "1                   529.27     1  \n",
              "2                   529.06     1  \n",
              "\n",
              "[3 rows x 24 columns]"
            ]
          },
          "metadata": {
            "tags": []
          },
          "execution_count": 77
        }
      ]
    },
    {
      "metadata": {
        "id": "IID-Zy_TQxrp",
        "colab_type": "text"
      },
      "cell_type": "markdown",
      "source": [
        "## Plotting the data\n",
        "\n",
        "a plot of our data to see how it looks."
      ]
    },
    {
      "metadata": {
        "id": "CaQ4xHM-Qxrs",
        "colab_type": "code",
        "outputId": "9c9f42b1-5bd5-441f-8a93-866abd6d0bbd",
        "colab": {
          "base_uri": "https://localhost:8080/",
          "height": 283
        }
      },
      "cell_type": "code",
      "source": [
        "# Importing matplotlib\n",
        "import matplotlib.pyplot as plt\n",
        "%matplotlib inline\n",
        "\n",
        "# Function to help us plot\n",
        "def plot_points(data):\n",
        "    X = np.array(data[[\"Calciner temp [C]\",\"HBr_CaC03_mass_(g) \"]])\n",
        "    y = np.array(data[\"Rank\"])\n",
        "    cal = X[np.argwhere(y<=3)]\n",
        "    cc = X[np.argwhere(y>3)]\n",
        "    plt.scatter([s[0][0] for s in cc], [s[0][1] for s in cc], s = 25, color = 'red', edgecolor = 'k')\n",
        "    plt.scatter([s[0][0] for s in cal], [s[0][1] for s in cal], s = 25, color = 'cyan', edgecolor = 'k')\n",
        "    plt.xlabel('(Calciner temp [C])')\n",
        "    plt.ylabel('(HBr_CaC03_mass_(g) )')\n",
        "    \n",
        "# Plotting the points\n",
        "plot_points(data)\n",
        "plt.show()"
      ],
      "execution_count": 0,
      "outputs": [
        {
          "output_type": "display_data",
          "data": {
            "image/png": "[encoded data removed]",
            "text/plain": [
              "<Figure size 432x288 with 1 Axes>"
            ]
          },
          "metadata": {
            "tags": []
          }
        }
      ]
    },
    {
      "metadata": {
        "id": "qCn8eeEjQxsJ",
        "colab_type": "text"
      },
      "cell_type": "markdown",
      "source": [
        "\n",
        "\n",
        "## One-hot encoding the rank\n",
        "processing the rank data"
      ]
    },
    {
      "metadata": {
        "id": "AmJfRKOWQxsK",
        "colab_type": "code",
        "outputId": "6bef1ba9-ca60-4930-9d4d-ff809de8bd5a",
        "colab": {
          "base_uri": "https://localhost:8080/",
          "height": 211
        }
      },
      "cell_type": "code",
      "source": [
        "# Dummy variables for rank and concat existing columns\n",
        "one_hot_data = pd.concat([data, pd.get_dummies(data['Run status'], prefix='Run status')], axis=1)\n",
        "\n",
        "# Drop the previous rank column\n",
        "one_hot_data = one_hot_data.drop(['Duration', 'Run status'], axis=1)\n",
        "# one_hot_data = one_hot_data.drop('Calciner_CO2_in', axis=1)\n",
        "\n",
        "# Print the first 10 rows of our data\n",
        "one_hot_data[:2]"
      ],
      "execution_count": 0,
      "outputs": [
        {
          "output_type": "execute_result",
          "data": {
            "text/html": [
              "<div>\n",
              "<style scoped>\n",
              "    .dataframe tbody tr th:only-of-type {\n",
              "        vertical-align: middle;\n",
              "    }\n",
              "\n",
              "    .dataframe tbody tr th {\n",
              "        vertical-align: top;\n",
              "    }\n",
              "\n",
              "    .dataframe thead th {\n",
              "        text-align: right;\n",
              "    }\n",
              "</style>\n",
              "<table border=\"1\" class=\"dataframe\">\n",
              "  <thead>\n",
              "    <tr style=\"text-align: right;\">\n",
              "      <th></th>\n",
              "      <th>HBr_CaC03_mass_(g)</th>\n",
              "      <th>Calciner temp [C]</th>\n",
              "      <th>Calciner Heater kW</th>\n",
              "      <th>Calciner Pressure ( Pa )</th>\n",
              "      <th>Calciner  velocity (m/s)</th>\n",
              "      <th>Calciner O2 in(perc-vol)</th>\n",
              "      <th>Calciner N2 in(perc-vol)</th>\n",
              "      <th>Calciner top temp ( C )</th>\n",
              "      <th>Calciner CO2 out(perc)</th>\n",
              "      <th>Calciner O2 out(perc)</th>\n",
              "      <th>...</th>\n",
              "      <th>Carbonator mid temp (C)</th>\n",
              "      <th>Carbonator press (pa)</th>\n",
              "      <th>Carbonator velocity (m/s)</th>\n",
              "      <th>Carbonator inlet CO2 (vol)</th>\n",
              "      <th>Carbonator inlet N2 (vol)</th>\n",
              "      <th>Carbonator outlet CO2 (vol)</th>\n",
              "      <th>Carbonator top temp (C)</th>\n",
              "      <th>Rank</th>\n",
              "      <th>Run status_0</th>\n",
              "      <th>Run status_1</th>\n",
              "    </tr>\n",
              "  </thead>\n",
              "  <tbody>\n",
              "    <tr>\n",
              "      <th>0</th>\n",
              "      <td>4200</td>\n",
              "      <td>632.75</td>\n",
              "      <td>7.8</td>\n",
              "      <td>3216.0</td>\n",
              "      <td>0.32</td>\n",
              "      <td>40</td>\n",
              "      <td>60</td>\n",
              "      <td>450.680</td>\n",
              "      <td>0.406479</td>\n",
              "      <td>4.078414</td>\n",
              "      <td>...</td>\n",
              "      <td>560.105</td>\n",
              "      <td>2680.0</td>\n",
              "      <td>2.5</td>\n",
              "      <td>0</td>\n",
              "      <td>100</td>\n",
              "      <td>0.0714</td>\n",
              "      <td>529.81</td>\n",
              "      <td>1</td>\n",
              "      <td>1</td>\n",
              "      <td>0</td>\n",
              "    </tr>\n",
              "    <tr>\n",
              "      <th>1</th>\n",
              "      <td>4200</td>\n",
              "      <td>634.72</td>\n",
              "      <td>7.8</td>\n",
              "      <td>3190.5</td>\n",
              "      <td>0.32</td>\n",
              "      <td>40</td>\n",
              "      <td>60</td>\n",
              "      <td>451.165</td>\n",
              "      <td>0.372648</td>\n",
              "      <td>12.279849</td>\n",
              "      <td>...</td>\n",
              "      <td>558.915</td>\n",
              "      <td>2905.5</td>\n",
              "      <td>2.5</td>\n",
              "      <td>0</td>\n",
              "      <td>100</td>\n",
              "      <td>-0.1666</td>\n",
              "      <td>529.27</td>\n",
              "      <td>1</td>\n",
              "      <td>1</td>\n",
              "      <td>0</td>\n",
              "    </tr>\n",
              "  </tbody>\n",
              "</table>\n",
              "<p>2 rows × 24 columns</p>\n",
              "</div>"
            ],
            "text/plain": [
              "   HBr_CaC03_mass_(g)   Calciner temp [C]  Calciner Heater kW  \\\n",
              "0                 4200             632.75                 7.8   \n",
              "1                 4200             634.72                 7.8   \n",
              "\n",
              "   Calciner Pressure ( Pa )  Calciner  velocity (m/s)  \\\n",
              "0                    3216.0                      0.32   \n",
              "1                    3190.5                      0.32   \n",
              "\n",
              "   Calciner O2 in(perc-vol)  Calciner N2 in(perc-vol)  \\\n",
              "0                        40                        60   \n",
              "1                        40                        60   \n",
              "\n",
              "   Calciner top temp ( C )  Calciner CO2 out(perc)  Calciner O2 out(perc)  \\\n",
              "0                  450.680                0.406479               4.078414   \n",
              "1                  451.165                0.372648              12.279849   \n",
              "\n",
              "       ...       Carbonator mid temp (C)  Carbonator press (pa)  \\\n",
              "0      ...                       560.105                 2680.0   \n",
              "1      ...                       558.915                 2905.5   \n",
              "\n",
              "   Carbonator velocity (m/s)  Carbonator inlet CO2 (vol)  \\\n",
              "0                        2.5                           0   \n",
              "1                        2.5                           0   \n",
              "\n",
              "   Carbonator inlet N2 (vol)  Carbonator outlet CO2 (vol)  \\\n",
              "0                        100                       0.0714   \n",
              "1                        100                      -0.1666   \n",
              "\n",
              "   Carbonator top temp (C)  Rank  Run status_0  Run status_1  \n",
              "0                   529.81     1             1             0  \n",
              "1                   529.27     1             1             0  \n",
              "\n",
              "[2 rows x 24 columns]"
            ]
          },
          "metadata": {
            "tags": []
          },
          "execution_count": 79
        }
      ]
    },
    {
      "metadata": {
        "id": "NujWYs8fQxsN",
        "colab_type": "text"
      },
      "cell_type": "markdown",
      "source": [
        "## Scaling the data\n",
        "By dividing Each Column with it's max value"
      ]
    },
    {
      "metadata": {
        "id": "7U0jU_DyQxsO",
        "colab_type": "code",
        "outputId": "e0ddee50-4951-48fb-8dc6-c3ebaa60c6f0",
        "colab": {
          "base_uri": "https://localhost:8080/",
          "height": 228
        }
      },
      "cell_type": "code",
      "source": [
        "# Making a copy of our data\n",
        "processed_data = one_hot_data[:]\n",
        "\n",
        "# Scale the columns\n",
        "\n",
        "col = processed_data.head()\n",
        "clmn = list(col) \n",
        "\n",
        "for c in clmn: \n",
        "    # element of column \n",
        "    processed_data[c]  = processed_data[c]/processed_data[c].max()\n",
        "print(clmn) # just to see if the list of columns are currect\n",
        "\n",
        "# Printing the first 10 rows of our procesed data\n",
        "processed_data[:2]"
      ],
      "execution_count": 0,
      "outputs": [
        {
          "output_type": "stream",
          "text": [
            "['HBr_CaC03_mass_(g) ', 'Calciner temp [C]', 'Calciner Heater kW', 'Calciner Pressure ( Pa )', 'Calciner  velocity (m/s)', 'Calciner O2 in(perc-vol)', 'Calciner N2 in(perc-vol)', 'Calciner top temp ( C )', 'Calciner CO2 out(perc)', 'Calciner O2 out(perc)', 'Calciner H2O out(perc)', 'Calciner CO out(ppm)', 'Calciner CH4 out(ppm)', 'Carbonator bottom temp (C)', 'Carbonator mid temp (C)', 'Carbonator press (pa)', 'Carbonator velocity (m/s)', 'Carbonator inlet CO2 (vol)', 'Carbonator inlet N2 (vol)', 'Carbonator outlet CO2 (vol)', 'Carbonator top temp (C)', 'Rank', 'Run status_0', 'Run status_1']\n"
          ],
          "name": "stdout"
        },
        {
          "output_type": "execute_result",
          "data": {
            "text/html": [
              "<div>\n",
              "<style scoped>\n",
              "    .dataframe tbody tr th:only-of-type {\n",
              "        vertical-align: middle;\n",
              "    }\n",
              "\n",
              "    .dataframe tbody tr th {\n",
              "        vertical-align: top;\n",
              "    }\n",
              "\n",
              "    .dataframe thead th {\n",
              "        text-align: right;\n",
              "    }\n",
              "</style>\n",
              "<table border=\"1\" class=\"dataframe\">\n",
              "  <thead>\n",
              "    <tr style=\"text-align: right;\">\n",
              "      <th></th>\n",
              "      <th>HBr_CaC03_mass_(g)</th>\n",
              "      <th>Calciner temp [C]</th>\n",
              "      <th>Calciner Heater kW</th>\n",
              "      <th>Calciner Pressure ( Pa )</th>\n",
              "      <th>Calciner  velocity (m/s)</th>\n",
              "      <th>Calciner O2 in(perc-vol)</th>\n",
              "      <th>Calciner N2 in(perc-vol)</th>\n",
              "      <th>Calciner top temp ( C )</th>\n",
              "      <th>Calciner CO2 out(perc)</th>\n",
              "      <th>Calciner O2 out(perc)</th>\n",
              "      <th>...</th>\n",
              "      <th>Carbonator mid temp (C)</th>\n",
              "      <th>Carbonator press (pa)</th>\n",
              "      <th>Carbonator velocity (m/s)</th>\n",
              "      <th>Carbonator inlet CO2 (vol)</th>\n",
              "      <th>Carbonator inlet N2 (vol)</th>\n",
              "      <th>Carbonator outlet CO2 (vol)</th>\n",
              "      <th>Carbonator top temp (C)</th>\n",
              "      <th>Rank</th>\n",
              "      <th>Run status_0</th>\n",
              "      <th>Run status_1</th>\n",
              "    </tr>\n",
              "  </thead>\n",
              "  <tbody>\n",
              "    <tr>\n",
              "      <th>0</th>\n",
              "      <td>0.315008</td>\n",
              "      <td>0.651514</td>\n",
              "      <td>0.371429</td>\n",
              "      <td>0.800498</td>\n",
              "      <td>0.8</td>\n",
              "      <td>0.4</td>\n",
              "      <td>1.0</td>\n",
              "      <td>0.508467</td>\n",
              "      <td>0.010167</td>\n",
              "      <td>0.173908</td>\n",
              "      <td>...</td>\n",
              "      <td>0.813793</td>\n",
              "      <td>0.300533</td>\n",
              "      <td>1.0</td>\n",
              "      <td>0.0</td>\n",
              "      <td>1.0</td>\n",
              "      <td>0.003597</td>\n",
              "      <td>0.768052</td>\n",
              "      <td>0.166667</td>\n",
              "      <td>1.0</td>\n",
              "      <td>0.0</td>\n",
              "    </tr>\n",
              "    <tr>\n",
              "      <th>1</th>\n",
              "      <td>0.315008</td>\n",
              "      <td>0.653542</td>\n",
              "      <td>0.371429</td>\n",
              "      <td>0.794151</td>\n",
              "      <td>0.8</td>\n",
              "      <td>0.4</td>\n",
              "      <td>1.0</td>\n",
              "      <td>0.509014</td>\n",
              "      <td>0.009321</td>\n",
              "      <td>0.523627</td>\n",
              "      <td>...</td>\n",
              "      <td>0.812064</td>\n",
              "      <td>0.325820</td>\n",
              "      <td>1.0</td>\n",
              "      <td>0.0</td>\n",
              "      <td>1.0</td>\n",
              "      <td>-0.008393</td>\n",
              "      <td>0.767269</td>\n",
              "      <td>0.166667</td>\n",
              "      <td>1.0</td>\n",
              "      <td>0.0</td>\n",
              "    </tr>\n",
              "  </tbody>\n",
              "</table>\n",
              "<p>2 rows × 24 columns</p>\n",
              "</div>"
            ],
            "text/plain": [
              "   HBr_CaC03_mass_(g)   Calciner temp [C]  Calciner Heater kW  \\\n",
              "0             0.315008           0.651514            0.371429   \n",
              "1             0.315008           0.653542            0.371429   \n",
              "\n",
              "   Calciner Pressure ( Pa )  Calciner  velocity (m/s)  \\\n",
              "0                  0.800498                       0.8   \n",
              "1                  0.794151                       0.8   \n",
              "\n",
              "   Calciner O2 in(perc-vol)  Calciner N2 in(perc-vol)  \\\n",
              "0                       0.4                       1.0   \n",
              "1                       0.4                       1.0   \n",
              "\n",
              "   Calciner top temp ( C )  Calciner CO2 out(perc)  Calciner O2 out(perc)  \\\n",
              "0                 0.508467                0.010167               0.173908   \n",
              "1                 0.509014                0.009321               0.523627   \n",
              "\n",
              "       ...       Carbonator mid temp (C)  Carbonator press (pa)  \\\n",
              "0      ...                      0.813793               0.300533   \n",
              "1      ...                      0.812064               0.325820   \n",
              "\n",
              "   Carbonator velocity (m/s)  Carbonator inlet CO2 (vol)  \\\n",
              "0                        1.0                         0.0   \n",
              "1                        1.0                         0.0   \n",
              "\n",
              "   Carbonator inlet N2 (vol)  Carbonator outlet CO2 (vol)  \\\n",
              "0                        1.0                     0.003597   \n",
              "1                        1.0                    -0.008393   \n",
              "\n",
              "   Carbonator top temp (C)      Rank  Run status_0  Run status_1  \n",
              "0                 0.768052  0.166667           1.0           0.0  \n",
              "1                 0.767269  0.166667           1.0           0.0  \n",
              "\n",
              "[2 rows x 24 columns]"
            ]
          },
          "metadata": {
            "tags": []
          },
          "execution_count": 80
        }
      ]
    },
    {
      "metadata": {
        "id": "_AdtR66zQxsS",
        "colab_type": "text"
      },
      "cell_type": "markdown",
      "source": [
        "## Splitting the data into Training and Testing"
      ]
    },
    {
      "metadata": {
        "id": "Kw7Lr4V5QxsT",
        "colab_type": "text"
      },
      "cell_type": "markdown",
      "source": [
        "In order to test our algorithm, we'll split the data into a Training and a Testing set. The size of the testing set will be 10% of the total data."
      ]
    },
    {
      "metadata": {
        "id": "GAtJqgOxQxsV",
        "colab_type": "code",
        "outputId": "da7f8c65-a1c3-47e0-c660-e8d8256187a2",
        "colab": {
          "base_uri": "https://localhost:8080/",
          "height": 1173
        }
      },
      "cell_type": "code",
      "source": [
        "sample = np.random.choice(processed_data.index, size=int(len(processed_data)*0.9), replace=False)\n",
        "train_data, test_data = processed_data.iloc[sample], processed_data.drop(sample)\n",
        "\n",
        "print(\"Number of training samples is\", len(train_data))\n",
        "print(\"Number of testing samples is\", len(test_data))\n",
        "print(train_data[:2])\n",
        "print(test_data[:2])"
      ],
      "execution_count": 0,
      "outputs": [
        {
          "output_type": "stream",
          "text": [
            "Number of training samples is 301\n",
            "Number of testing samples is 34\n",
            "     HBr_CaC03_mass_(g)   Calciner temp [C]  Calciner Heater kW  \\\n",
            "329             1.000000           0.879036                 1.0   \n",
            "33              0.527563           0.710873                 0.0   \n",
            "\n",
            "     Calciner Pressure ( Pa )  Calciner  velocity (m/s)  \\\n",
            "329                  0.792408                       1.0   \n",
            "33                   0.968015                       0.0   \n",
            "\n",
            "     Calciner O2 in(perc-vol)  Calciner N2 in(perc-vol)  \\\n",
            "329                       1.0                       0.0   \n",
            "33                        0.0                       0.0   \n",
            "\n",
            "     Calciner top temp ( C )  Calciner CO2 out(perc)  Calciner O2 out(perc)  \\\n",
            "329                 0.984267                0.887129               0.351513   \n",
            "33                  0.604338                0.020583               0.627676   \n",
            "\n",
            "         ...       Carbonator mid temp (C)  Carbonator press (pa)  \\\n",
            "329      ...                      0.999426               0.727502   \n",
            "33       ...                      0.832463               0.415531   \n",
            "\n",
            "     Carbonator velocity (m/s)  Carbonator inlet CO2 (vol)  \\\n",
            "329                        1.0                         1.0   \n",
            "33                         1.0                         0.0   \n",
            "\n",
            "     Carbonator inlet N2 (vol)  Carbonator outlet CO2 (vol)  \\\n",
            "329                        0.7                     0.236882   \n",
            "33                         1.0                    -0.011991   \n",
            "\n",
            "     Carbonator top temp (C)      Rank  Run status_0  Run status_1  \n",
            "329                 1.000000  1.000000           0.0           1.0  \n",
            "33                  0.814485  0.166667           1.0           0.0  \n",
            "\n",
            "[2 rows x 24 columns]\n",
            "    HBr_CaC03_mass_(g)   Calciner temp [C]  Calciner Heater kW  \\\n",
            "1              0.315008           0.653542            0.371429   \n",
            "13             0.367809           0.791680            0.371429   \n",
            "\n",
            "    Calciner Pressure ( Pa )  Calciner  velocity (m/s)  \\\n",
            "1                   0.794151                       0.8   \n",
            "13                  0.827505                       0.8   \n",
            "\n",
            "    Calciner O2 in(perc-vol)  Calciner N2 in(perc-vol)  \\\n",
            "1                        0.4                       1.0   \n",
            "13                       0.4                       1.0   \n",
            "\n",
            "    Calciner top temp ( C )  Calciner CO2 out(perc)  Calciner O2 out(perc)  \\\n",
            "1                  0.509014                0.009321               0.523627   \n",
            "13                 0.618119                0.200307               0.104136   \n",
            "\n",
            "        ...       Carbonator mid temp (C)  Carbonator press (pa)  \\\n",
            "1       ...                      0.812064               0.325820   \n",
            "13      ...                      0.804211               0.344772   \n",
            "\n",
            "    Carbonator velocity (m/s)  Carbonator inlet CO2 (vol)  \\\n",
            "1                         1.0                         0.0   \n",
            "13                        1.0                         0.0   \n",
            "\n",
            "    Carbonator inlet N2 (vol)  Carbonator outlet CO2 (vol)  \\\n",
            "1                         1.0                    -0.008393   \n",
            "13                        1.0                     0.001199   \n",
            "\n",
            "    Carbonator top temp (C)      Rank  Run status_0  Run status_1  \n",
            "1                  0.767269  0.166667           1.0           0.0  \n",
            "13                 0.762210  0.333333           1.0           0.0  \n",
            "\n",
            "[2 rows x 24 columns]\n"
          ],
          "name": "stdout"
        }
      ]
    },
    {
      "metadata": {
        "id": "PT4POZ0DQxsb",
        "colab_type": "text"
      },
      "cell_type": "markdown",
      "source": [
        "## Splitting the data into features and targets (labels)\n",
        " split the data into features (X) and targets (y)."
      ]
    },
    {
      "metadata": {
        "id": "lhV_vfgEQxsd",
        "colab_type": "code",
        "outputId": "974d7265-11ec-41ad-e7db-86405a13dbe1",
        "colab": {
          "base_uri": "https://localhost:8080/",
          "height": 697
        }
      },
      "cell_type": "code",
      "source": [
        "features = train_data.drop(['Rank'], axis=1)\n",
        "targets = train_data['Rank']\n",
        "features_test = test_data.drop(['Rank'], axis=1)\n",
        "targets_test = test_data['Rank']\n",
        "\n",
        "print(features[:2])\n",
        "print(targets[:2])"
      ],
      "execution_count": 0,
      "outputs": [
        {
          "output_type": "stream",
          "text": [
            "     HBr_CaC03_mass_(g)   Calciner temp [C]  Calciner Heater kW  \\\n",
            "329             1.000000           0.879036                 1.0   \n",
            "33              0.527563           0.710873                 0.0   \n",
            "\n",
            "     Calciner Pressure ( Pa )  Calciner  velocity (m/s)  \\\n",
            "329                  0.792408                       1.0   \n",
            "33                   0.968015                       0.0   \n",
            "\n",
            "     Calciner O2 in(perc-vol)  Calciner N2 in(perc-vol)  \\\n",
            "329                       1.0                       0.0   \n",
            "33                        0.0                       0.0   \n",
            "\n",
            "     Calciner top temp ( C )  Calciner CO2 out(perc)  Calciner O2 out(perc)  \\\n",
            "329                 0.984267                0.887129               0.351513   \n",
            "33                  0.604338                0.020583               0.627676   \n",
            "\n",
            "         ...       Carbonator bottom temp (C)  Carbonator mid temp (C)  \\\n",
            "329      ...                         1.000000                 0.999426   \n",
            "33       ...                         0.700632                 0.832463   \n",
            "\n",
            "     Carbonator press (pa)  Carbonator velocity (m/s)  \\\n",
            "329               0.727502                        1.0   \n",
            "33                0.415531                        1.0   \n",
            "\n",
            "     Carbonator inlet CO2 (vol)  Carbonator inlet N2 (vol)  \\\n",
            "329                         1.0                        0.7   \n",
            "33                          0.0                        1.0   \n",
            "\n",
            "     Carbonator outlet CO2 (vol)  Carbonator top temp (C)  Run status_0  \\\n",
            "329                     0.236882                 1.000000           0.0   \n",
            "33                     -0.011991                 0.814485           1.0   \n",
            "\n",
            "     Run status_1  \n",
            "329           1.0  \n",
            "33            0.0  \n",
            "\n",
            "[2 rows x 23 columns]\n",
            "329    1.000000\n",
            "33     0.166667\n",
            "Name: Rank, dtype: float64\n"
          ],
          "name": "stdout"
        }
      ]
    },
    {
      "metadata": {
        "id": "w5kKgRj0Qxsk",
        "colab_type": "text"
      },
      "cell_type": "markdown",
      "source": [
        "## Training the 2-layer Neural Network\n",
        "The following function trains the 2-layer neural network. First, we'll write some helper functions."
      ]
    },
    {
      "metadata": {
        "id": "_npQlt3gQxsm",
        "colab_type": "code",
        "colab": {}
      },
      "cell_type": "code",
      "source": [
        "# Activation (sigmoid) function\n",
        "def sigmoid(x):\n",
        "    return 1 / (1 + np.exp(-x))\n",
        "def sigmoid_prime(x):\n",
        "    return sigmoid(x) * (1-sigmoid(x))\n",
        "def error_formula(y, output):\n",
        "    return - y*np.log(output) - (1 - y) * np.log(1-output)"
      ],
      "execution_count": 0,
      "outputs": []
    },
    {
      "metadata": {
        "id": "Mp7nxljqQxsp",
        "colab_type": "text"
      },
      "cell_type": "markdown",
      "source": [
        "# Backpropagating the error\n",
        "The error term is given by the equation:\n",
        "\n",
        "$$ (y-\\hat{y}) \\sigma'(x) $$"
      ]
    },
    {
      "metadata": {
        "id": "Ky6XQ3h_Qxsp",
        "colab_type": "code",
        "colab": {}
      },
      "cell_type": "code",
      "source": [
        "# TODO: Write the error term formula\n",
        "def error_term_formula(x, y, output):\n",
        "  \n",
        "    return (y - output)*sigmoid_prime(x)"
      ],
      "execution_count": 0,
      "outputs": []
    },
    {
      "metadata": {
        "id": "bbwcBVKJQxss",
        "colab_type": "code",
        "outputId": "18d02be9-f39a-445c-f2a4-d4a58f505ead",
        "colab": {
          "base_uri": "https://localhost:8080/",
          "height": 544
        }
      },
      "cell_type": "code",
      "source": [
        "# Neural Network hyperparameters\n",
        "epochs = 5000\n",
        "learnrate = 0.2\n",
        "\n",
        "# Training function\n",
        "def train_nn(features, targets, epochs, learnrate):\n",
        "    \n",
        "    # Use to same seed to make debugging easier\n",
        "    np.random.seed(42)\n",
        "\n",
        "    n_records, n_features = features.shape\n",
        "    last_loss = None\n",
        "\n",
        "    # Initialize weights\n",
        "    weights = np.random.normal(scale=1 / n_features**.5, size=n_features)\n",
        "\n",
        "    for e in range(epochs):\n",
        "        del_w = np.zeros(weights.shape)\n",
        "        for x, y in zip(features.values, targets):\n",
        "            # Loop through all records, x is the input, y is the target\n",
        "\n",
        "            # Activation of the output unit\n",
        "            #   Notice we multiply the inputs and the weights here \n",
        "            #   rather than storing h as a separate variable \n",
        "            output = sigmoid(np.dot(x, weights))\n",
        "\n",
        "            # The error, the target minus the network output\n",
        "            error = error_formula(y, output)\n",
        "\n",
        "            # The error term\n",
        "            error_term = error_term_formula(x, y, output)\n",
        "\n",
        "            # The gradient descent step, the error times the gradient times the inputs\n",
        "            del_w += error_term * x\n",
        "\n",
        "        # Update the weights here. The learning rate times the \n",
        "        # change in weights, divided by the number of records to average\n",
        "        weights += learnrate * del_w / n_records\n",
        "\n",
        "        # Printing out the mean square error on the training set\n",
        "        if e % (epochs / 10) == 0:\n",
        "            out = sigmoid(np.dot(features, weights))\n",
        "            loss = np.mean((out - targets) ** 2)\n",
        "            print(\"Epoch:\", e)\n",
        "            if last_loss and last_loss < loss:\n",
        "                print(\"Train loss: \", loss, \"  WARNING - Loss Increasing\")\n",
        "            else:\n",
        "                print(\"Train loss: \", loss)\n",
        "            last_loss = loss\n",
        "            print(\"=========\")\n",
        "    print(\"Finished training!\")\n",
        "    return weights\n",
        "    \n",
        "weights = train_nn(features, targets, epochs, learnrate)"
      ],
      "execution_count": 0,
      "outputs": [
        {
          "output_type": "stream",
          "text": [
            "Epoch: 0\n",
            "Train loss:  0.20481498002434767\n",
            "=========\n",
            "Epoch: 500\n",
            "Train loss:  0.014242868656184756\n",
            "=========\n",
            "Epoch: 1000\n",
            "Train loss:  0.01010375641101326\n",
            "=========\n",
            "Epoch: 1500\n",
            "Train loss:  0.008482220227130305\n",
            "=========\n",
            "Epoch: 2000\n",
            "Train loss:  0.007633558797949578\n",
            "=========\n",
            "Epoch: 2500\n",
            "Train loss:  0.007109327359538324\n",
            "=========\n",
            "Epoch: 3000\n",
            "Train loss:  0.00674414251114273\n",
            "=========\n",
            "Epoch: 3500\n",
            "Train loss:  0.006466859186949835\n",
            "=========\n",
            "Epoch: 4000\n",
            "Train loss:  0.00624313846085275\n",
            "=========\n",
            "Epoch: 4500\n",
            "Train loss:  0.00605479889687456\n",
            "=========\n",
            "Finished training!\n"
          ],
          "name": "stdout"
        }
      ]
    },
    {
      "metadata": {
        "id": "MrOw_DKEQxsv",
        "colab_type": "text"
      },
      "cell_type": "markdown",
      "source": [
        "## Calculating the Accuracy on the Test Data"
      ]
    },
    {
      "metadata": {
        "id": "FkC3b9PYQxsw",
        "colab_type": "code",
        "outputId": "afecda4e-91e6-48fa-831d-cfb993800758",
        "colab": {
          "base_uri": "https://localhost:8080/",
          "height": 34
        }
      },
      "cell_type": "code",
      "source": [
        "# Calculate accuracy on test data\n",
        "test_out = sigmoid(np.dot(features_test, weights))\n",
        "#test_out = sigmoid(np.dot(features, weights))\n",
        "predictions = test_out > 0.5\n",
        "accuracy = np.mean(predictions == targets_test)\n",
        "#accuracy = np.mean(predictions == targets)\n",
        "print(\"Prediction accuracy: {:.3f}\".format(accuracy))"
      ],
      "execution_count": 0,
      "outputs": [
        {
          "output_type": "stream",
          "text": [
            "Prediction accuracy: 0.235\n"
          ],
          "name": "stdout"
        }
      ]
    }
  ]
}